{
  "nbformat": 4,
  "nbformat_minor": 0,
  "metadata": {
    "colab": {
      "name": "Session4.ipynb",
      "provenance": [],
      "collapsed_sections": []
    },
    "kernelspec": {
      "name": "python3",
      "display_name": "Python 3"
    },
    "language_info": {
      "name": "python"
    }
  },
  "cells": [
    {
      "cell_type": "markdown",
      "metadata": {
        "id": "-Xekh25bFz4F"
      },
      "source": [
        "<center>\n",
        "<img src=\"https://www.techrepublic.com/a/hub/i/r/2021/06/03/1130ef3e-48cf-4d60-8b86-ca6a6d9bf51f/resize/1200x/526f97f4e170b0a301a7e2a494c727b0/python-code-developer-programming.jpg\" width=\"700\" height=\"200\" />>\n",
        "    \n",
        "##  Workshop Python 2021-I ( 20 Agosto )\n",
        "\n",
        "Autor: [Josimar Chire](https://github.com/jecs89).\\\n",
        "Institución: Research4Tech\\\n",
        "Correo: jecs89@gmail.com\n",
        "    \n",
        "Este material está sujeto a los términos y condiciones de la licencia [Creative Commons CC BY-NC-SA 4.0](https://creativecommons.org/licenses/by-nc-sa/4.0/). Se permite el uso gratuito para cualquier propósito no comercial.\n",
        "    "
      ]
    },
    {
      "cell_type": "code",
      "metadata": {
        "id": "LQcRIHUV55p8"
      },
      "source": [
        "import pandas as pd\n",
        "import numpy as np\n",
        "import matplotlib.pyplot as plt\n",
        "# import sklearn "
      ],
      "execution_count": null,
      "outputs": []
    },
    {
      "cell_type": "code",
      "metadata": {
        "id": "VWNXZxHKBVNH"
      },
      "source": [
        "df = pd.read_csv('./sample_data/california_housing_train.csv')"
      ],
      "execution_count": null,
      "outputs": []
    },
    {
      "cell_type": "code",
      "metadata": {
        "id": "Sx9GaH3NEq9B"
      },
      "source": [
        "df1 = pd.read_csv('./sample_data/california_housing_test.csv')"
      ],
      "execution_count": null,
      "outputs": []
    },
    {
      "cell_type": "code",
      "metadata": {
        "colab": {
          "base_uri": "https://localhost:8080/"
        },
        "id": "HoQ8cD98EwoI",
        "outputId": "3f070475-84be-4637-ef0f-2ec2804cbfae"
      },
      "source": [
        "df.columns"
      ],
      "execution_count": null,
      "outputs": [
        {
          "output_type": "execute_result",
          "data": {
            "text/plain": [
              "Index(['longitude', 'latitude', 'housing_median_age', 'total_rooms',\n",
              "       'total_bedrooms', 'population', 'households', 'median_income',\n",
              "       'median_house_value'],\n",
              "      dtype='object')"
            ]
          },
          "metadata": {},
          "execution_count": 52
        }
      ]
    },
    {
      "cell_type": "code",
      "metadata": {
        "colab": {
          "base_uri": "https://localhost:8080/"
        },
        "id": "lnBtXlY1EyDI",
        "outputId": "2bbf4be9-9ceb-45d9-e83e-34a340d16f2f"
      },
      "source": [
        "df1.columns"
      ],
      "execution_count": null,
      "outputs": [
        {
          "output_type": "execute_result",
          "data": {
            "text/plain": [
              "Index(['longitude', 'latitude', 'housing_median_age', 'total_rooms',\n",
              "       'total_bedrooms', 'population', 'households', 'median_income',\n",
              "       'median_house_value'],\n",
              "      dtype='object')"
            ]
          },
          "metadata": {},
          "execution_count": 53
        }
      ]
    },
    {
      "cell_type": "code",
      "metadata": {
        "colab": {
          "base_uri": "https://localhost:8080/",
          "height": 206
        },
        "id": "GMCYE25_B7GH",
        "outputId": "cd29d9b8-29f3-4ebf-cba7-442518a206f9"
      },
      "source": [
        "df1.head()"
      ],
      "execution_count": null,
      "outputs": [
        {
          "output_type": "execute_result",
          "data": {
            "text/html": [
              "<div>\n",
              "<style scoped>\n",
              "    .dataframe tbody tr th:only-of-type {\n",
              "        vertical-align: middle;\n",
              "    }\n",
              "\n",
              "    .dataframe tbody tr th {\n",
              "        vertical-align: top;\n",
              "    }\n",
              "\n",
              "    .dataframe thead th {\n",
              "        text-align: right;\n",
              "    }\n",
              "</style>\n",
              "<table border=\"1\" class=\"dataframe\">\n",
              "  <thead>\n",
              "    <tr style=\"text-align: right;\">\n",
              "      <th></th>\n",
              "      <th>longitude</th>\n",
              "      <th>latitude</th>\n",
              "      <th>housing_median_age</th>\n",
              "      <th>total_rooms</th>\n",
              "      <th>total_bedrooms</th>\n",
              "      <th>population</th>\n",
              "      <th>households</th>\n",
              "      <th>median_income</th>\n",
              "      <th>median_house_value</th>\n",
              "    </tr>\n",
              "  </thead>\n",
              "  <tbody>\n",
              "    <tr>\n",
              "      <th>0</th>\n",
              "      <td>-122.05</td>\n",
              "      <td>37.37</td>\n",
              "      <td>27.0</td>\n",
              "      <td>3885.0</td>\n",
              "      <td>661.0</td>\n",
              "      <td>1537.0</td>\n",
              "      <td>606.0</td>\n",
              "      <td>6.6085</td>\n",
              "      <td>344700.0</td>\n",
              "    </tr>\n",
              "    <tr>\n",
              "      <th>1</th>\n",
              "      <td>-118.30</td>\n",
              "      <td>34.26</td>\n",
              "      <td>43.0</td>\n",
              "      <td>1510.0</td>\n",
              "      <td>310.0</td>\n",
              "      <td>809.0</td>\n",
              "      <td>277.0</td>\n",
              "      <td>3.5990</td>\n",
              "      <td>176500.0</td>\n",
              "    </tr>\n",
              "    <tr>\n",
              "      <th>2</th>\n",
              "      <td>-117.81</td>\n",
              "      <td>33.78</td>\n",
              "      <td>27.0</td>\n",
              "      <td>3589.0</td>\n",
              "      <td>507.0</td>\n",
              "      <td>1484.0</td>\n",
              "      <td>495.0</td>\n",
              "      <td>5.7934</td>\n",
              "      <td>270500.0</td>\n",
              "    </tr>\n",
              "    <tr>\n",
              "      <th>3</th>\n",
              "      <td>-118.36</td>\n",
              "      <td>33.82</td>\n",
              "      <td>28.0</td>\n",
              "      <td>67.0</td>\n",
              "      <td>15.0</td>\n",
              "      <td>49.0</td>\n",
              "      <td>11.0</td>\n",
              "      <td>6.1359</td>\n",
              "      <td>330000.0</td>\n",
              "    </tr>\n",
              "    <tr>\n",
              "      <th>4</th>\n",
              "      <td>-119.67</td>\n",
              "      <td>36.33</td>\n",
              "      <td>19.0</td>\n",
              "      <td>1241.0</td>\n",
              "      <td>244.0</td>\n",
              "      <td>850.0</td>\n",
              "      <td>237.0</td>\n",
              "      <td>2.9375</td>\n",
              "      <td>81700.0</td>\n",
              "    </tr>\n",
              "  </tbody>\n",
              "</table>\n",
              "</div>"
            ],
            "text/plain": [
              "   longitude  latitude  ...  median_income  median_house_value\n",
              "0    -122.05     37.37  ...         6.6085            344700.0\n",
              "1    -118.30     34.26  ...         3.5990            176500.0\n",
              "2    -117.81     33.78  ...         5.7934            270500.0\n",
              "3    -118.36     33.82  ...         6.1359            330000.0\n",
              "4    -119.67     36.33  ...         2.9375             81700.0\n",
              "\n",
              "[5 rows x 9 columns]"
            ]
          },
          "metadata": {},
          "execution_count": 54
        }
      ]
    },
    {
      "cell_type": "code",
      "metadata": {
        "colab": {
          "base_uri": "https://localhost:8080/"
        },
        "id": "zAkICBM-B7rf",
        "outputId": "3f7e4e66-841f-4769-da29-1177e94cf5de"
      },
      "source": [
        "df.info()"
      ],
      "execution_count": null,
      "outputs": [
        {
          "output_type": "stream",
          "text": [
            "<class 'pandas.core.frame.DataFrame'>\n",
            "RangeIndex: 17000 entries, 0 to 16999\n",
            "Data columns (total 9 columns):\n",
            " #   Column              Non-Null Count  Dtype  \n",
            "---  ------              --------------  -----  \n",
            " 0   longitude           17000 non-null  float64\n",
            " 1   latitude            17000 non-null  float64\n",
            " 2   housing_median_age  17000 non-null  float64\n",
            " 3   total_rooms         17000 non-null  float64\n",
            " 4   total_bedrooms      17000 non-null  float64\n",
            " 5   population          17000 non-null  float64\n",
            " 6   households          17000 non-null  float64\n",
            " 7   median_income       17000 non-null  float64\n",
            " 8   median_house_value  17000 non-null  float64\n",
            "dtypes: float64(9)\n",
            "memory usage: 1.2 MB\n"
          ],
          "name": "stdout"
        }
      ]
    },
    {
      "cell_type": "code",
      "metadata": {
        "colab": {
          "base_uri": "https://localhost:8080/",
          "height": 300
        },
        "id": "dl71LSGiCPRA",
        "outputId": "95d6feb6-7577-4a77-fbfe-cc013a6c689d"
      },
      "source": [
        "df.describe()"
      ],
      "execution_count": null,
      "outputs": [
        {
          "output_type": "execute_result",
          "data": {
            "text/html": [
              "<div>\n",
              "<style scoped>\n",
              "    .dataframe tbody tr th:only-of-type {\n",
              "        vertical-align: middle;\n",
              "    }\n",
              "\n",
              "    .dataframe tbody tr th {\n",
              "        vertical-align: top;\n",
              "    }\n",
              "\n",
              "    .dataframe thead th {\n",
              "        text-align: right;\n",
              "    }\n",
              "</style>\n",
              "<table border=\"1\" class=\"dataframe\">\n",
              "  <thead>\n",
              "    <tr style=\"text-align: right;\">\n",
              "      <th></th>\n",
              "      <th>longitude</th>\n",
              "      <th>latitude</th>\n",
              "      <th>housing_median_age</th>\n",
              "      <th>total_rooms</th>\n",
              "      <th>total_bedrooms</th>\n",
              "      <th>population</th>\n",
              "      <th>households</th>\n",
              "      <th>median_income</th>\n",
              "      <th>median_house_value</th>\n",
              "    </tr>\n",
              "  </thead>\n",
              "  <tbody>\n",
              "    <tr>\n",
              "      <th>count</th>\n",
              "      <td>17000.000000</td>\n",
              "      <td>17000.000000</td>\n",
              "      <td>17000.000000</td>\n",
              "      <td>17000.000000</td>\n",
              "      <td>17000.000000</td>\n",
              "      <td>17000.000000</td>\n",
              "      <td>17000.000000</td>\n",
              "      <td>17000.000000</td>\n",
              "      <td>17000.000000</td>\n",
              "    </tr>\n",
              "    <tr>\n",
              "      <th>mean</th>\n",
              "      <td>-119.562108</td>\n",
              "      <td>35.625225</td>\n",
              "      <td>28.589353</td>\n",
              "      <td>2643.664412</td>\n",
              "      <td>539.410824</td>\n",
              "      <td>1429.573941</td>\n",
              "      <td>501.221941</td>\n",
              "      <td>3.883578</td>\n",
              "      <td>207300.912353</td>\n",
              "    </tr>\n",
              "    <tr>\n",
              "      <th>std</th>\n",
              "      <td>2.005166</td>\n",
              "      <td>2.137340</td>\n",
              "      <td>12.586937</td>\n",
              "      <td>2179.947071</td>\n",
              "      <td>421.499452</td>\n",
              "      <td>1147.852959</td>\n",
              "      <td>384.520841</td>\n",
              "      <td>1.908157</td>\n",
              "      <td>115983.764387</td>\n",
              "    </tr>\n",
              "    <tr>\n",
              "      <th>min</th>\n",
              "      <td>-124.350000</td>\n",
              "      <td>32.540000</td>\n",
              "      <td>1.000000</td>\n",
              "      <td>2.000000</td>\n",
              "      <td>1.000000</td>\n",
              "      <td>3.000000</td>\n",
              "      <td>1.000000</td>\n",
              "      <td>0.499900</td>\n",
              "      <td>14999.000000</td>\n",
              "    </tr>\n",
              "    <tr>\n",
              "      <th>25%</th>\n",
              "      <td>-121.790000</td>\n",
              "      <td>33.930000</td>\n",
              "      <td>18.000000</td>\n",
              "      <td>1462.000000</td>\n",
              "      <td>297.000000</td>\n",
              "      <td>790.000000</td>\n",
              "      <td>282.000000</td>\n",
              "      <td>2.566375</td>\n",
              "      <td>119400.000000</td>\n",
              "    </tr>\n",
              "    <tr>\n",
              "      <th>50%</th>\n",
              "      <td>-118.490000</td>\n",
              "      <td>34.250000</td>\n",
              "      <td>29.000000</td>\n",
              "      <td>2127.000000</td>\n",
              "      <td>434.000000</td>\n",
              "      <td>1167.000000</td>\n",
              "      <td>409.000000</td>\n",
              "      <td>3.544600</td>\n",
              "      <td>180400.000000</td>\n",
              "    </tr>\n",
              "    <tr>\n",
              "      <th>75%</th>\n",
              "      <td>-118.000000</td>\n",
              "      <td>37.720000</td>\n",
              "      <td>37.000000</td>\n",
              "      <td>3151.250000</td>\n",
              "      <td>648.250000</td>\n",
              "      <td>1721.000000</td>\n",
              "      <td>605.250000</td>\n",
              "      <td>4.767000</td>\n",
              "      <td>265000.000000</td>\n",
              "    </tr>\n",
              "    <tr>\n",
              "      <th>max</th>\n",
              "      <td>-114.310000</td>\n",
              "      <td>41.950000</td>\n",
              "      <td>52.000000</td>\n",
              "      <td>37937.000000</td>\n",
              "      <td>6445.000000</td>\n",
              "      <td>35682.000000</td>\n",
              "      <td>6082.000000</td>\n",
              "      <td>15.000100</td>\n",
              "      <td>500001.000000</td>\n",
              "    </tr>\n",
              "  </tbody>\n",
              "</table>\n",
              "</div>"
            ],
            "text/plain": [
              "          longitude      latitude  ...  median_income  median_house_value\n",
              "count  17000.000000  17000.000000  ...   17000.000000        17000.000000\n",
              "mean    -119.562108     35.625225  ...       3.883578       207300.912353\n",
              "std        2.005166      2.137340  ...       1.908157       115983.764387\n",
              "min     -124.350000     32.540000  ...       0.499900        14999.000000\n",
              "25%     -121.790000     33.930000  ...       2.566375       119400.000000\n",
              "50%     -118.490000     34.250000  ...       3.544600       180400.000000\n",
              "75%     -118.000000     37.720000  ...       4.767000       265000.000000\n",
              "max     -114.310000     41.950000  ...      15.000100       500001.000000\n",
              "\n",
              "[8 rows x 9 columns]"
            ]
          },
          "metadata": {},
          "execution_count": 56
        }
      ]
    },
    {
      "cell_type": "code",
      "metadata": {
        "id": "SKlZSI5aCWiI"
      },
      "source": [
        "df = df.drop(['longitude','latitude'], axis=1)\n",
        "df1 = df1.drop(['longitude','latitude'], axis=1)"
      ],
      "execution_count": null,
      "outputs": []
    },
    {
      "cell_type": "code",
      "metadata": {
        "id": "JQJK2RqlGaMc"
      },
      "source": [
        ""
      ],
      "execution_count": null,
      "outputs": []
    },
    {
      "cell_type": "code",
      "metadata": {
        "colab": {
          "base_uri": "https://localhost:8080/",
          "height": 282
        },
        "id": "CxlntEIdCiQs",
        "outputId": "b029c54d-820d-48fc-de6e-16a66b892b71"
      },
      "source": [
        "plt.plot(df['housing_median_age'].value_counts().sort_index())\n",
        "# df['housing_median_age'].value_counts()"
      ],
      "execution_count": null,
      "outputs": [
        {
          "output_type": "execute_result",
          "data": {
            "text/plain": [
              "[<matplotlib.lines.Line2D at 0x7f72af53b710>]"
            ]
          },
          "metadata": {},
          "execution_count": 58
        },
        {
          "output_type": "display_data",
          "data": {
            "image/png": "[encoded data removed]",
            "text/plain": [
              "<Figure size 432x288 with 1 Axes>"
            ]
          },
          "metadata": {
            "needs_background": "light"
          }
        }
      ]
    },
    {
      "cell_type": "code",
      "metadata": {
        "id": "zd0AnMGRC9d5"
      },
      "source": [
        "X_train = df.drop(['median_house_value'], axis=1)\n",
        "y_train = df['median_house_value']\n",
        "\n",
        "X_test = df1.drop(['median_house_value'], axis=1)\n",
        "y_test = df1['median_house_value']"
      ],
      "execution_count": null,
      "outputs": []
    },
    {
      "cell_type": "code",
      "metadata": {
        "id": "m7MkYU7dHjDR"
      },
      "source": [
        "from sklearn import preprocessing\n",
        "\n",
        "scaler = preprocessing.StandardScaler().fit(X_train)\n",
        "X_scaled = scaler.transform(X_train)\n",
        "X_train = X_scaled\n",
        "\n",
        "scaler = preprocessing.StandardScaler().fit(X_test)\n",
        "X_scaled = scaler.transform(X_test)\n",
        "X_test =  X_scaled"
      ],
      "execution_count": null,
      "outputs": []
    },
    {
      "cell_type": "code",
      "metadata": {
        "colab": {
          "base_uri": "https://localhost:8080/"
        },
        "id": "Y2DVzD0aE55o",
        "outputId": "1655649d-a5a8-43e5-9024-a8b37a9dcace"
      },
      "source": [
        "from sklearn.neural_network import MLPRegressor\n",
        "regr = MLPRegressor(max_iter=500).fit(X_train, y_train)\n",
        "# >>> regr.predict(X_test[:2])\n",
        "# array([-0.9..., -7.1...])\n",
        "# >>> regr.score(X_test, y_test)\n",
        "# 0.4..."
      ],
      "execution_count": null,
      "outputs": [
        {
          "output_type": "stream",
          "text": [
            "/usr/local/lib/python3.7/dist-packages/sklearn/neural_network/_multilayer_perceptron.py:571: ConvergenceWarning: Stochastic Optimizer: Maximum iterations (500) reached and the optimization hasn't converged yet.\n",
            "  % self.max_iter, ConvergenceWarning)\n"
          ],
          "name": "stderr"
        }
      ]
    },
    {
      "cell_type": "markdown",
      "metadata": {
        "id": "OCIrg4P8IA9k"
      },
      "source": [
        ""
      ]
    },
    {
      "cell_type": "code",
      "metadata": {
        "colab": {
          "base_uri": "https://localhost:8080/"
        },
        "id": "UWjCv1rnFNig",
        "outputId": "d6f1fad6-cdeb-44d4-b4d5-cdd5369cd92b"
      },
      "source": [
        "regr.score(X_test, y_test)"
      ],
      "execution_count": null,
      "outputs": [
        {
          "output_type": "execute_result",
          "data": {
            "text/plain": [
              "0.1870059502565088"
            ]
          },
          "metadata": {},
          "execution_count": 69
        }
      ]
    },
    {
      "cell_type": "code",
      "metadata": {
        "id": "2hRWlZXkIEFn"
      },
      "source": [
        "paciente = pd.read_csv('einstein_full_dataset_paciente.csv', sep='|')"
      ],
      "execution_count": null,
      "outputs": []
    },
    {
      "cell_type": "code",
      "metadata": {
        "colab": {
          "base_uri": "https://localhost:8080/"
        },
        "id": "crkan9fTMX4N",
        "outputId": "33e68d0f-e0d6-4983-a822-0ea77d1bb0dd"
      },
      "source": [
        "paciente.info()"
      ],
      "execution_count": null,
      "outputs": [
        {
          "output_type": "stream",
          "text": [
            "<class 'pandas.core.frame.DataFrame'>\n",
            "RangeIndex: 43562 entries, 0 to 43561\n",
            "Data columns (total 7 columns):\n",
            " #   Column         Non-Null Count  Dtype \n",
            "---  ------         --------------  ----- \n",
            " 0   id_paciente    43562 non-null  object\n",
            " 1   ic_sexo        43562 non-null  object\n",
            " 2   aa_nascimento  43562 non-null  object\n",
            " 3   cd_pais        43562 non-null  object\n",
            " 4   cd_uf          43562 non-null  object\n",
            " 5   cd_municipio   43562 non-null  object\n",
            " 6   cd_cep         43562 non-null  object\n",
            "dtypes: object(7)\n",
            "memory usage: 2.3+ MB\n"
          ],
          "name": "stdout"
        }
      ]
    },
    {
      "cell_type": "code",
      "metadata": {
        "colab": {
          "base_uri": "https://localhost:8080/"
        },
        "id": "x07k3Z2mIHOh",
        "outputId": "42e35e0d-38bb-46ae-b63f-389c08df8523"
      },
      "source": [
        "paciente['ic_sexo'].value_counts()"
      ],
      "execution_count": null,
      "outputs": [
        {
          "output_type": "execute_result",
          "data": {
            "text/plain": [
              "F    22906\n",
              "M    20656\n",
              "Name: ic_sexo, dtype: int64"
            ]
          },
          "metadata": {},
          "execution_count": 78
        }
      ]
    },
    {
      "cell_type": "code",
      "metadata": {
        "id": "mAhDKZrkMwO4"
      },
      "source": [
        "paciente = paciente[paciente['aa_nascimento'] != 'AAAA']"
      ],
      "execution_count": null,
      "outputs": []
    },
    {
      "cell_type": "code",
      "metadata": {
        "colab": {
          "base_uri": "https://localhost:8080/"
        },
        "id": "YJbdgxZ7Lxmv",
        "outputId": "9e54e5b6-0102-430b-fbe5-b8de37b88fd5"
      },
      "source": [
        "paciente['idade'] = 2020 - paciente['aa_nascimento'].astype('int')"
      ],
      "execution_count": null,
      "outputs": [
        {
          "output_type": "stream",
          "text": [
            "/usr/local/lib/python3.7/dist-packages/ipykernel_launcher.py:1: SettingWithCopyWarning: \n",
            "A value is trying to be set on a copy of a slice from a DataFrame.\n",
            "Try using .loc[row_indexer,col_indexer] = value instead\n",
            "\n",
            "See the caveats in the documentation: https://pandas.pydata.org/pandas-docs/stable/user_guide/indexing.html#returning-a-view-versus-a-copy\n",
            "  \"\"\"Entry point for launching an IPython kernel.\n"
          ],
          "name": "stderr"
        }
      ]
    },
    {
      "cell_type": "code",
      "metadata": {
        "colab": {
          "base_uri": "https://localhost:8080/",
          "height": 431
        },
        "id": "fP42yHoEMI_l",
        "outputId": "4026d6e0-bcce-4c2c-b9d0-4ca0d019bfac"
      },
      "source": [
        "fig = plt.figure(figsize=(20,7))\n",
        "paciente['idade'].value_counts().sort_index().plot(kind='bar')\n",
        "plt.show()"
      ],
      "execution_count": null,
      "outputs": [
        {
          "output_type": "display_data",
          "data": {
            "image/png": "[encoded data removed]",
            "text/plain": [
              "<Figure size 1440x504 with 1 Axes>"
            ]
          },
          "metadata": {
            "needs_background": "light"
          }
        }
      ]
    },
    {
      "cell_type": "code",
      "metadata": {
        "colab": {
          "base_uri": "https://localhost:8080/",
          "height": 424
        },
        "id": "CxMXlw8iMnaB",
        "outputId": "5916c107-ec9c-4558-f126-8b76e55cd422"
      },
      "source": [
        "paciente"
      ],
      "execution_count": null,
      "outputs": [
        {
          "output_type": "execute_result",
          "data": {
            "text/html": [
              "<div>\n",
              "<style scoped>\n",
              "    .dataframe tbody tr th:only-of-type {\n",
              "        vertical-align: middle;\n",
              "    }\n",
              "\n",
              "    .dataframe tbody tr th {\n",
              "        vertical-align: top;\n",
              "    }\n",
              "\n",
              "    .dataframe thead th {\n",
              "        text-align: right;\n",
              "    }\n",
              "</style>\n",
              "<table border=\"1\" class=\"dataframe\">\n",
              "  <thead>\n",
              "    <tr style=\"text-align: right;\">\n",
              "      <th></th>\n",
              "      <th>id_paciente</th>\n",
              "      <th>ic_sexo</th>\n",
              "      <th>aa_nascimento</th>\n",
              "      <th>cd_pais</th>\n",
              "      <th>cd_uf</th>\n",
              "      <th>cd_municipio</th>\n",
              "      <th>cd_cep</th>\n",
              "      <th>idade</th>\n",
              "    </tr>\n",
              "  </thead>\n",
              "  <tbody>\n",
              "    <tr>\n",
              "      <th>0</th>\n",
              "      <td>1e5b27a1ca443075160da7be8a93f977038f277a</td>\n",
              "      <td>M</td>\n",
              "      <td>1978</td>\n",
              "      <td>BR</td>\n",
              "      <td>SP</td>\n",
              "      <td>SAO PAULO</td>\n",
              "      <td>CCCC</td>\n",
              "      <td>42</td>\n",
              "    </tr>\n",
              "    <tr>\n",
              "      <th>1</th>\n",
              "      <td>17435b27462b2e3824596f0b72c9646e15fba829</td>\n",
              "      <td>M</td>\n",
              "      <td>1982</td>\n",
              "      <td>BR</td>\n",
              "      <td>SP</td>\n",
              "      <td>MMMM</td>\n",
              "      <td>CCCC</td>\n",
              "      <td>38</td>\n",
              "    </tr>\n",
              "    <tr>\n",
              "      <th>2</th>\n",
              "      <td>8b09117dc5e21e8b790296a8a4f5aa599ffe6eb8</td>\n",
              "      <td>F</td>\n",
              "      <td>1988</td>\n",
              "      <td>BR</td>\n",
              "      <td>SP</td>\n",
              "      <td>BARUERI</td>\n",
              "      <td>CCCC</td>\n",
              "      <td>32</td>\n",
              "    </tr>\n",
              "    <tr>\n",
              "      <th>3</th>\n",
              "      <td>0c275fa49e292b2f9a9bf9f7cbd83d1351fdd80f</td>\n",
              "      <td>M</td>\n",
              "      <td>1985</td>\n",
              "      <td>BR</td>\n",
              "      <td>SP</td>\n",
              "      <td>SAO PAULO</td>\n",
              "      <td>CCCC</td>\n",
              "      <td>35</td>\n",
              "    </tr>\n",
              "    <tr>\n",
              "      <th>4</th>\n",
              "      <td>b08928a65064fb16e2b2ce347949a485fc52cd75</td>\n",
              "      <td>M</td>\n",
              "      <td>1973</td>\n",
              "      <td>BR</td>\n",
              "      <td>SP</td>\n",
              "      <td>SAO PAULO</td>\n",
              "      <td>CCCC</td>\n",
              "      <td>47</td>\n",
              "    </tr>\n",
              "    <tr>\n",
              "      <th>...</th>\n",
              "      <td>...</td>\n",
              "      <td>...</td>\n",
              "      <td>...</td>\n",
              "      <td>...</td>\n",
              "      <td>...</td>\n",
              "      <td>...</td>\n",
              "      <td>...</td>\n",
              "      <td>...</td>\n",
              "    </tr>\n",
              "    <tr>\n",
              "      <th>43557</th>\n",
              "      <td>28983f343252ea5945216610498abe1da616455b</td>\n",
              "      <td>M</td>\n",
              "      <td>1988</td>\n",
              "      <td>BR</td>\n",
              "      <td>SP</td>\n",
              "      <td>SAO PAULO</td>\n",
              "      <td>04794</td>\n",
              "      <td>32</td>\n",
              "    </tr>\n",
              "    <tr>\n",
              "      <th>43558</th>\n",
              "      <td>3d92a06f3fd796a7aa99a9360c4b7ad6317f9430</td>\n",
              "      <td>F</td>\n",
              "      <td>1984</td>\n",
              "      <td>BR</td>\n",
              "      <td>SP</td>\n",
              "      <td>TABOAO DA SERRA</td>\n",
              "      <td>CCCC</td>\n",
              "      <td>36</td>\n",
              "    </tr>\n",
              "    <tr>\n",
              "      <th>43559</th>\n",
              "      <td>b60f48794838868a019bad04eca612b87d722d8c</td>\n",
              "      <td>M</td>\n",
              "      <td>1993</td>\n",
              "      <td>BR</td>\n",
              "      <td>SP</td>\n",
              "      <td>MMMM</td>\n",
              "      <td>CCCC</td>\n",
              "      <td>27</td>\n",
              "    </tr>\n",
              "    <tr>\n",
              "      <th>43560</th>\n",
              "      <td>7fce5621f2fd33d3dc151f31d147a8f5053829fc</td>\n",
              "      <td>M</td>\n",
              "      <td>1964</td>\n",
              "      <td>BR</td>\n",
              "      <td>SP</td>\n",
              "      <td>SAO PAULO</td>\n",
              "      <td>CCCC</td>\n",
              "      <td>56</td>\n",
              "    </tr>\n",
              "    <tr>\n",
              "      <th>43561</th>\n",
              "      <td>33821ab8a76c387dfc29688b13d2f001a7556571</td>\n",
              "      <td>F</td>\n",
              "      <td>1993</td>\n",
              "      <td>BR</td>\n",
              "      <td>SP</td>\n",
              "      <td>SAO PAULO</td>\n",
              "      <td>CCCC</td>\n",
              "      <td>27</td>\n",
              "    </tr>\n",
              "  </tbody>\n",
              "</table>\n",
              "<p>43182 rows × 8 columns</p>\n",
              "</div>"
            ],
            "text/plain": [
              "                                    id_paciente ic_sexo  ... cd_cep idade\n",
              "0      1e5b27a1ca443075160da7be8a93f977038f277a       M  ...   CCCC    42\n",
              "1      17435b27462b2e3824596f0b72c9646e15fba829       M  ...   CCCC    38\n",
              "2      8b09117dc5e21e8b790296a8a4f5aa599ffe6eb8       F  ...   CCCC    32\n",
              "3      0c275fa49e292b2f9a9bf9f7cbd83d1351fdd80f       M  ...   CCCC    35\n",
              "4      b08928a65064fb16e2b2ce347949a485fc52cd75       M  ...   CCCC    47\n",
              "...                                         ...     ...  ...    ...   ...\n",
              "43557  28983f343252ea5945216610498abe1da616455b       M  ...  04794    32\n",
              "43558  3d92a06f3fd796a7aa99a9360c4b7ad6317f9430       F  ...   CCCC    36\n",
              "43559  b60f48794838868a019bad04eca612b87d722d8c       M  ...   CCCC    27\n",
              "43560  7fce5621f2fd33d3dc151f31d147a8f5053829fc       M  ...   CCCC    56\n",
              "43561  33821ab8a76c387dfc29688b13d2f001a7556571       F  ...   CCCC    27\n",
              "\n",
              "[43182 rows x 8 columns]"
            ]
          },
          "metadata": {},
          "execution_count": 95
        }
      ]
    },
    {
      "cell_type": "code",
      "metadata": {
        "id": "FZueq3uFNMcb"
      },
      "source": [
        ""
      ],
      "execution_count": null,
      "outputs": []
    }
  ]
}