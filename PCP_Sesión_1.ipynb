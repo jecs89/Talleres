<!DOCTYPE html>
<html>
<head><meta charset="utf-8" />

<title>PCP_Sesión_1</title>

<script src="https://cdnjs.cloudflare.com/ajax/libs/require.js/2.1.10/require.min.js"></script>
<script src="https://cdnjs.cloudflare.com/ajax/libs/jquery/2.0.3/jquery.min.js"></script>



<style type="text/css">
    /*!
*
* Twitter Bootstrap
*
*/
/*!
 * Bootstrap v3.3.7 (http://getbootstrap.com)
 * Copyright 2011-2016 Twitter, Inc.
 * Licensed under MIT (https://github.com/twbs/bootstrap/blob/master/LICENSE)
 */
/*! normalize.css v3.0.3 | MIT License | github.com/necolas/normalize.css */
html {
  font-family: sans-serif;
  -ms-text-size-adjust: 100%;
  -webkit-text-size-adjust: 100%;
}
body {
  margin: 0;
}
article,
aside,
details,
figcaption,
figure,
footer,
header,
hgroup,
main,
menu,
nav,
section,
summary {
  display: block;
}
audio,
canvas,
progress,
video {
  display: inline-block;
  vertical-align: baseline;
}
audio:not([controls]) {
  display: none;
  height: 0;
}
[hidden],
template {
  display: none;
}
a {
  background-color: transparent;
}
a:active,
a:hover {
  outline: 0;
}
abbr[title] {
  border-bottom: 1px dotted;
}
b,
strong {
  font-weight: bold;
}
dfn {
  font-style: italic;
}
h1 {
  font-size: 2em;
  margin: 0.67em 0;
}
mark {
  background: #ff0;
  color: #000;
}
small {
  font-size: 80%;
}
sub,
sup {
  font-size: 75%;
  line-height: 0;
  position: relative;
  vertical-align: baseline;
}
sup {
  top: -0.5em;
}
sub {
  bottom: -0.25em;
}
img {
  border: 0;
}
svg:not(:root) {
  overflow: hidden;
}
figure {
  margin: 1em 40px;
}
hr {
  box-sizing: content-box;
  height: 0;
}
pre {
  overflow: auto;
}
code,
kbd,
pre,
samp {
  font-family: monospace, monospace;
  font-size: 1em;
}
button,
input,
optgroup,
select,
textarea {
  color: inherit;
  font: inherit;
  margin: 0;
}
button {
  overflow: visible;
}
button,
select {
  text-transform: none;
}
button,
html input[type="button"],
input[type="reset"],
input[type="submit"] {
  -webkit-appearance: button;
  cursor: pointer;
}
button[disabled],
html input[disabled] {
  cursor: default;
}
button::-moz-focus-inner,
input::-moz-focus-inner {
  border: 0;
  padding: 0;
}
input {
  line-height: normal;
}
input[type="checkbox"],
input[type="radio"] {
  box-sizing: border-box;
  padding: 0;
}
input[type="number"]::-webkit-inner-spin-button,
input[type="number"]::-webkit-outer-spin-button {
  height: auto;
}
input[type="search"] {
  -webkit-appearance: textfield;
  box-sizing: content-box;
}
input[type="search"]::-webkit-search-cancel-button,
input[type="search"]::-webkit-search-decoration {
  -webkit-appearance: none;
}
fieldset {
  border: 1px solid #c0c0c0;
  margin: 0 2px;
  padding: 0.35em 0.625em 0.75em;
}
legend {
  border: 0;
  padding: 0;
}
textarea {
  overflow: auto;
}
optgroup {
  font-weight: bold;
}
table {
  border-collapse: collapse;
  border-spacing: 0;
}
td,
th {
  padding: 0;
}
/*! Source: https://github.com/h5bp/html5-boilerplate/blob/master/src/css/main.css */
@media print {
  *,
  *:before,
  *:after {
    background: transparent !important;
    box-shadow: none !important;
    text-shadow: none !important;
  }
  a,
  a:visited {
    text-decoration: underline;
  }
  a[href]:after {
    content: " (" attr(href) ")";
  }
  abbr[title]:after {
    content: " (" attr(title) ")";
  }
  a[href^="#"]:after,
  a[href^="javascript:"]:after {
    content: "";
  }
  pre,
  blockquote {
    border: 1px solid #999;
    page-break-inside: avoid;
  }
  thead {
    display: table-header-group;
  }
  tr,
  img {
    page-break-inside: avoid;
  }
  img {
    max-width: 100% !important;
  }
  p,
  h2,
  h3 {
    orphans: 3;
    widows: 3;
  }
  h2,
  h3 {
    page-break-after: avoid;
  }
  .navbar {
    display: none;
  }
  .btn > .caret,
  .dropup > .btn > .caret {
    border-top-color: #000 !important;
  }
  .label {
    border: 1px solid #000;
  }
  .table {
    border-collapse: collapse !important;
  }
  .table td,
  .table th {
    background-color: #fff !important;
  }
  .table-bordered th,
  .table-bordered td {
    border: 1px solid #ddd !important;
  }
}
@font-face {
  font-family: 'Glyphicons Halflings';
  src: url('../components/bootstrap/fonts/glyphicons-halflings-regular.eot');
  src: url('../components/bootstrap/fonts/glyphicons-halflings-regular.eot?#iefix') format('embedded-opentype'), url('../components/bootstrap/fonts/glyphicons-halflings-regular.woff2') format('woff2'), url('../components/bootstrap/fonts/glyphicons-halflings-regular.woff') format('woff'), url('../components/bootstrap/fonts/glyphicons-halflings-regular.ttf') format('truetype'), url('../components/bootstrap/fonts/glyphicons-halflings-regular.svg#glyphicons_halflingsregular') format('svg');
}
.glyphicon {
  position: relative;
  top: 1px;
  display: inline-block;
  font-family: 'Glyphicons Halflings';
  font-style: normal;
  font-weight: normal;
  line-height: 1;
  -webkit-font-smoothing: antialiased;
  -moz-osx-font-smoothing: grayscale;
}
.glyphicon-asterisk:before {
  content: "\002a";
}
.glyphicon-plus:before {
  content: "\002b";
}
.glyphicon-euro:before,
.glyphicon-eur:before {
  content: "\20ac";
}
.glyphicon-minus:before {
  content: "\2212";
}
.glyphicon-cloud:before {
  content: "\2601";
}
.glyphicon-envelope:before {
  content: "\2709";
}
.glyphicon-pencil:before {
  content: "\270f";
}
.glyphicon-glass:before {
  content: "\e001";
}
.glyphicon-music:before {
  content: "\e002";
}
.glyphicon-search:before {
  content: "\e003";
}
.glyphicon-heart:before {
  content: "\e005";
}
.glyphicon-star:before {
  content: "\e006";
}
.glyphicon-star-empty:before {
  content: "\e007";
}
.glyphicon-user:before {
  content: "\e008";
}
.glyphicon-film:before {
  content: "\e009";
}
.glyphicon-th-large:before {
  content: "\e010";
}
.glyphicon-th:before {
  content: "\e011";
}
.glyphicon-th-list:before {
  content: "\e012";
}
.glyphicon-ok:before {
  content: "\e013";
}
.glyphicon-remove:before {
  content: "\e014";
}
.glyphicon-zoom-in:before {
  content: "\e015";
}
.glyphicon-zoom-out:before {
  content: "\e016";
}
.glyphicon-off:before {
  content: "\e017";
}
.glyphicon-signal:before {
  content: "\e018";
}
.glyphicon-cog:before {
  content: "\e019";
}
.glyphicon-trash:before {
  content: "\e020";
}
.glyphicon-home:before {
  content: "\e021";
}
.glyphicon-file:before {
  content: "\e022";
}
.glyphicon-time:before {
  content: "\e023";
}
.glyphicon-road:before {
  content: "\e024";
}
.glyphicon-download-alt:before {
  content: "\e025";
}
.glyphicon-download:before {
  content: "\e026";
}
.glyphicon-upload:before {
  content: "\e027";
}
.glyphicon-inbox:before {
  content: "\e028";
}
.glyphicon-play-circle:before {
  content: "\e029";
}
.glyphicon-repeat:before {
  content: "\e030";
}
.glyphicon-refresh:before {
  content: "\e031";
}
.glyphicon-list-alt:before {
  content: "\e032";
}
.glyphicon-lock:before {
  content: "\e033";
}
.glyphicon-flag:before {
  content: "\e034";
}
.glyphicon-headphones:before {
  content: "\e035";
}
.glyphicon-volume-off:before {
  content: "\e036";
}
.glyphicon-volume-down:before {
  content: "\e037";
}
.glyphicon-volume-up:before {
  content: "\e038";
}
.glyphicon-qrcode:before {
  content: "\e039";
}
.glyphicon-barcode:before {
  content: "\e040";
}
.glyphicon-tag:before {
  content: "\e041";
}
.glyphicon-tags:before {
  content: "\e042";
}
.glyphicon-book:before {
  content: "\e043";
}
.glyphicon-bookmark:before {
  content: "\e044";
}
.glyphicon-print:before {
  content: "\e045";
}
.glyphicon-camera:before {
  content: "\e046";
}
.glyphicon-font:before {
  content: "\e047";
}
.glyphicon-bold:before {
  content: "\e048";
}
.glyphicon-italic:before {
  content: "\e049";
}
.glyphicon-text-height:before {
  content: "\e050";
}
.glyphicon-text-width:before {
  content: "\e051";
}
.glyphicon-align-left:before {
  content: "\e052";
}
.glyphicon-align-center:before {
  content: "\e053";
}
.glyphicon-align-right:before {
  content: "\e054";
}
.glyphicon-align-justify:before {
  content: "\e055";
}
.glyphicon-list:before {
  content: "\e056";
}
.glyphicon-indent-left:before {
  content: "\e057";
}
.glyphicon-indent-right:before {
  content: "\e058";
}
.glyphicon-facetime-video:before {
  content: "\e059";
}
.glyphicon-picture:before {
  content: "\e060";
}
.glyphicon-map-marker:before {
  content: "\e062";
}
.glyphicon-adjust:before {
  content: "\e063";
}
.glyphicon-tint:before {
  content: "\e064";
}
.glyphicon-edit:before {
  content: "\e065";
}
.glyphicon-share:before {
  content: "\e066";
}
.glyphicon-check:before {
  content: "\e067";
}
.glyphicon-move:before {
  content: "\e068";
}
.glyphicon-step-backward:before {
  content: "\e069";
}
.glyphicon-fast-backward:before {
  content: "\e070";
}
.glyphicon-backward:before {
  content: "\e071";
}
.glyphicon-play:before {
  content: "\e072";
}
.glyphicon-pause:before {
  content: "\e073";
}
.glyphicon-stop:before {
  content: "\e074";
}
.glyphicon-forward:before {
  content: "\e075";
}
.glyphicon-fast-forward:before {
  content: "\e076";
}
.glyphicon-step-forward:before {
  content: "\e077";
}
.glyphicon-eject:before {
  content: "\e078";
}
.glyphicon-chevron-left:before {
  content: "\e079";
}
.glyphicon-chevron-right:before {
  content: "\e080";
}
.glyphicon-plus-sign:before {
  content: "\e081";
}
.glyphicon-minus-sign:before {
  content: "\e082";
}
.glyphicon-remove-sign:before {
  content: "\e083";
}
.glyphicon-ok-sign:before {
  content: "\e084";
}
.glyphicon-question-sign:before {
  content: "\e085";
}
.glyphicon-info-sign:before {
  content: "\e086";
}
.glyphicon-screenshot:before {
  content: "\e087";
}
.glyphicon-remove-circle:before {
  content: "\e088";
}
.glyphicon-ok-circle:before {
  content: "\e089";
}
.glyphicon-ban-circle:before {
  content: "\e090";
}
.glyphicon-arrow-left:before {
  content: "\e091";
}
.glyphicon-arrow-right:before {
  content: "\e092";
}
.glyphicon-arrow-up:before {
  content: "\e093";
}
.glyphicon-arrow-down:before {
  content: "\e094";
}
.glyphicon-share-alt:before {
  content: "\e095";
}
.glyphicon-resize-full:before {
  content: "\e096";
}
.glyphicon-resize-small:before {
  content: "\e097";
}
.glyphicon-exclamation-sign:before {
  content: "\e101";
}
.glyphicon-gift:before {
  content: "\e102";
}
.glyphicon-leaf:before {
  content: "\e103";
}
.glyphicon-fire:before {
  content: "\e104";
}
.glyphicon-eye-open:before {
  content: "\e105";
}
.glyphicon-eye-close:before {
  content: "\e106";
}
.glyphicon-warning-sign:before {
  content: "\e107";
}
.glyphicon-plane:before {
  content: "\e108";
}
.glyphicon-calendar:before {
  content: "\e109";
}
.glyphicon-random:before {
  content: "\e110";
}
.glyphicon-comment:before {
  content: "\e111";
}
.glyphicon-magnet:before {
  content: "\e112";
}
.glyphicon-chevron-up:before {
  content: "\e113";
}
.glyphicon-chevron-down:before {
  content: "\e114";
}
.glyphicon-retweet:before {
  content: "\e115";
}
.glyphicon-shopping-cart:before {
  content: "\e116";
}
.glyphicon-folder-close:before {
  content: "\e117";
}
.glyphicon-folder-open:before {
  content: "\e118";
}
.glyphicon-resize-vertical:before {
  content: "\e119";
}
.glyphicon-resize-horizontal:before {
  content: "\e120";
}
.glyphicon-hdd:before {
  content: "\e121";
}
.glyphicon-bullhorn:before {
  content: "\e122";
}
.glyphicon-bell:before {
  content: "\e123";
}
.glyphicon-certificate:before {
  content: "\e124";
}
.glyphicon-thumbs-up:before {
  content: "\e125";
}
.glyphicon-thumbs-down:before {
  content: "\e126";
}
.glyphicon-hand-right:before {
  content: "\e127";
}
.glyphicon-hand-left:before {
  content: "\e128";
}
.glyphicon-hand-up:before {
  content: "\e129";
}
.glyphicon-hand-down:before {
  content: "\e130";
}
.glyphicon-circle-arrow-right:before {
  content: "\e131";
}
.glyphicon-circle-arrow-left:before {
  content: "\e132";
}
.glyphicon-circle-arrow-up:before {
  content: "\e133";
}
.glyphicon-circle-arrow-down:before {
  content: "\e134";
}
.glyphicon-globe:before {
  content: "\e135";
}
.glyphicon-wrench:before {
  content: "\e136";
}
.glyphicon-tasks:before {
  content: "\e137";
}
.glyphicon-filter:before {
  content: "\e138";
}
.glyphicon-briefcase:before {
  content: "\e139";
}
.glyphicon-fullscreen:before {
  content: "\e140";
}
.glyphicon-dashboard:before {
  content: "\e141";
}
.glyphicon-paperclip:before {
  content: "\e142";
}
.glyphicon-heart-empty:before {
  content: "\e143";
}
.glyphicon-link:before {
  content: "\e144";
}
.glyphicon-phone:before {
  content: "\e145";
}
.glyphicon-pushpin:before {
  content: "\e146";
}
.glyphicon-usd:before {
  content: "\e148";
}
.glyphicon-gbp:before {
  content: "\e149";
}
.glyphicon-sort:before {
  content: "\e150";
}
.glyphicon-sort-by-alphabet:before {
  content: "\e151";
}
.glyphicon-sort-by-alphabet-alt:before {
  content: "\e152";
}
.glyphicon-sort-by-order:before {
  content: "\e153";
}
.glyphicon-sort-by-order-alt:before {
  content: "\e154";
}
.glyphicon-sort-by-attributes:before {
  content: "\e155";
}
.glyphicon-sort-by-attributes-alt:before {
  content: "\e156";
}
.glyphicon-unchecked:before {
  content: "\e157";
}
.glyphicon-expand:before {
  content: "\e158";
}
.glyphicon-collapse-down:before {
  content: "\e159";
}
.glyphicon-collapse-up:before {
  content: "\e160";
}
.glyphicon-log-in:before {
  content: "\e161";
}
.glyphicon-flash:before {
  content: "\e162";
}
.glyphicon-log-out:before {
  content: "\e163";
}
.glyphicon-new-window:before {
  content: "\e164";
}
.glyphicon-record:before {
  content: "\e165";
}
.glyphicon-save:before {
  content: "\e166";
}
.glyphicon-open:before {
  content: "\e167";
}
.glyphicon-saved:before {
  content: "\e168";
}
.glyphicon-import:before {
  content: "\e169";
}
.glyphicon-export:before {
  content: "\e170";
}
.glyphicon-send:before {
  content: "\e171";
}
.glyphicon-floppy-disk:before {
  content: "\e172";
}
.glyphicon-floppy-saved:before {
  content: "\e173";
}
.glyphicon-floppy-remove:before {
  content: "\e174";
}
.glyphicon-floppy-save:before {
  content: "\e175";
}
.glyphicon-floppy-open:before {
  content: "\e176";
}
.glyphicon-credit-card:before {
  content: "\e177";
}
.glyphicon-transfer:before {
  content: "\e178";
}
.glyphicon-cutlery:before {
  content: "\e179";
}
.glyphicon-header:before {
  content: "\e180";
}
.glyphicon-compressed:before {
  content: "\e181";
}
.glyphicon-earphone:before {
  content: "\e182";
}
.glyphicon-phone-alt:before {
  content: "\e183";
}
.glyphicon-tower:before {
  content: "\e184";
}
.glyphicon-stats:before {
  content: "\e185";
}
.glyphicon-sd-video:before {
  content: "\e186";
}
.glyphicon-hd-video:before {
  content: "\e187";
}
.glyphicon-subtitles:before {
  content: "\e188";
}
.glyphicon-sound-stereo:before {
  content: "\e189";
}
.glyphicon-sound-dolby:before {
  content: "\e190";
}
.glyphicon-sound-5-1:before {
  content: "\e191";
}
.glyphicon-sound-6-1:before {
  content: "\e192";
}
.glyphicon-sound-7-1:before {
  content: "\e193";
}
.glyphicon-copyright-mark:before {
  content: "\e194";
}
.glyphicon-registration-mark:before {
  content: "\e195";
}
.glyphicon-cloud-download:before {
  content: "\e197";
}
.glyphicon-cloud-upload:before {
  content: "\e198";
}
.glyphicon-tree-conifer:before {
  content: "\e199";
}
.glyphicon-tree-deciduous:before {
  content: "\e200";
}
.glyphicon-cd:before {
  content: "\e201";
}
.glyphicon-save-file:before {
  content: "\e202";
}
.glyphicon-open-file:before {
  content: "\e203";
}
.glyphicon-level-up:before {
  content: "\e204";
}
.glyphicon-copy:before {
  content: "\e205";
}
.glyphicon-paste:before {
  content: "\e206";
}
.glyphicon-alert:before {
  content: "\e209";
}
.glyphicon-equalizer:before {
  content: "\e210";
}
.glyphicon-king:before {
  content: "\e211";
}
.glyphicon-queen:before {
  content: "\e212";
}
.glyphicon-pawn:before {
  content: "\e213";
}
.glyphicon-bishop:before {
  content: "\e214";
}
.glyphicon-knight:before {
  content: "\e215";
}
.glyphicon-baby-formula:before {
  content: "\e216";
}
.glyphicon-tent:before {
  content: "\26fa";
}
.glyphicon-blackboard:before {
  content: "\e218";
}
.glyphicon-bed:before {
  content: "\e219";
}
.glyphicon-apple:before {
  content: "\f8ff";
}
.glyphicon-erase:before {
  content: "\e221";
}
.glyphicon-hourglass:before {
  content: "\231b";
}
.glyphicon-lamp:before {
  content: "\e223";
}
.glyphicon-duplicate:before {
  content: "\e224";
}
.glyphicon-piggy-bank:before {
  content: "\e225";
}
.glyphicon-scissors:before {
  content: "\e226";
}
.glyphicon-bitcoin:before {
  content: "\e227";
}
.glyphicon-btc:before {
  content: "\e227";
}
.glyphicon-xbt:before {
  content: "\e227";
}
.glyphicon-yen:before {
  content: "\00a5";
}
.glyphicon-jpy:before {
  content: "\00a5";
}
.glyphicon-ruble:before {
  content: "\20bd";
}
.glyphicon-rub:before {
  content: "\20bd";
}
.glyphicon-scale:before {
  content: "\e230";
}
.glyphicon-ice-lolly:before {
  content: "\e231";
}
.glyphicon-ice-lolly-tasted:before {
  content: "\e232";
}
.glyphicon-education:before {
  content: "\e233";
}
.glyphicon-option-horizontal:before {
  content: "\e234";
}
.glyphicon-option-vertical:before {
  content: "\e235";
}
.glyphicon-menu-hamburger:before {
  content: "\e236";
}
.glyphicon-modal-window:before {
  content: "\e237";
}
.glyphicon-oil:before {
  content: "\e238";
}
.glyphicon-grain:before {
  content: "\e239";
}
.glyphicon-sunglasses:before {
  content: "\e240";
}
.glyphicon-text-size:before {
  content: "\e241";
}
.glyphicon-text-color:before {
  content: "\e242";
}
.glyphicon-text-background:before {
  content: "\e243";
}
.glyphicon-object-align-top:before {
  content: "\e244";
}
.glyphicon-object-align-bottom:before {
  content: "\e245";
}
.glyphicon-object-align-horizontal:before {
  content: "\e246";
}
.glyphicon-object-align-left:before {
  content: "\e247";
}
.glyphicon-object-align-vertical:before {
  content: "\e248";
}
.glyphicon-object-align-right:before {
  content: "\e249";
}
.glyphicon-triangle-right:before {
  content: "\e250";
}
.glyphicon-triangle-left:before {
  content: "\e251";
}
.glyphicon-triangle-bottom:before {
  content: "\e252";
}
.glyphicon-triangle-top:before {
  content: "\e253";
}
.glyphicon-console:before {
  content: "\e254";
}
.glyphicon-superscript:before {
  content: "\e255";
}
.glyphicon-subscript:before {
  content: "\e256";
}
.glyphicon-menu-left:before {
  content: "\e257";
}
.glyphicon-menu-right:before {
  content: "\e258";
}
.glyphicon-menu-down:before {
  content: "\e259";
}
.glyphicon-menu-up:before {
  content: "\e260";
}
* {
  -webkit-box-sizing: border-box;
  -moz-box-sizing: border-box;
  box-sizing: border-box;
}
*:before,
*:after {
  -webkit-box-sizing: border-box;
  -moz-box-sizing: border-box;
  box-sizing: border-box;
}
html {
  font-size: 10px;
  -webkit-tap-highlight-color: rgba(0, 0, 0, 0);
}
body {
  font-family: "Helvetica Neue", Helvetica, Arial, sans-serif;
  font-size: 13px;
  line-height: 1.42857143;
  color: #000;
  background-color: #fff;
}
input,
button,
select,
textarea {
  font-family: inherit;
  font-size: inherit;
  line-height: inherit;
}
a {
  color: #337ab7;
  text-decoration: none;
}
a:hover,
a:focus {
  color: #23527c;
  text-decoration: underline;
}
a:focus {
  outline: 5px auto -webkit-focus-ring-color;
  outline-offset: -2px;
}
figure {
  margin: 0;
}
img {
  vertical-align: middle;
}
.img-responsive,
.thumbnail > img,
.thumbnail a > img,
.carousel-inner > .item > img,
.carousel-inner > .item > a > img {
  display: block;
  max-width: 100%;
  height: auto;
}
.img-rounded {
  border-radius: 3px;
}
.img-thumbnail {
  padding: 4px;
  line-height: 1.42857143;
  background-color: #fff;
  border: 1px solid #ddd;
  border-radius: 2px;
  -webkit-transition: all 0.2s ease-in-out;
  -o-transition: all 0.2s ease-in-out;
  transition: all 0.2s ease-in-out;
  display: inline-block;
  max-width: 100%;
  height: auto;
}
.img-circle {
  border-radius: 50%;
}
hr {
  margin-top: 18px;
  margin-bottom: 18px;
  border: 0;
  border-top: 1px solid #eeeeee;
}
.sr-only {
  position: absolute;
  width: 1px;
  height: 1px;
  margin: -1px;
  padding: 0;
  overflow: hidden;
  clip: rect(0, 0, 0, 0);
  border: 0;
}
.sr-only-focusable:active,
.sr-only-focusable:focus {
  position: static;
  width: auto;
  height: auto;
  margin: 0;
  overflow: visible;
  clip: auto;
}
[role="button"] {
  cursor: pointer;
}
h1,
h2,
h3,
h4,
h5,
h6,
.h1,
.h2,
.h3,
.h4,
.h5,
.h6 {
  font-family: inherit;
  font-weight: 500;
  line-height: 1.1;
  color: inherit;
}
h1 small,
h2 small,
h3 small,
h4 small,
h5 small,
h6 small,
.h1 small,
.h2 small,
.h3 small,
.h4 small,
.h5 small,
.h6 small,
h1 .small,
h2 .small,
h3 .small,
h4 .small,
h5 .small,
h6 .small,
.h1 .small,
.h2 .small,
.h3 .small,
.h4 .small,
.h5 .small,
.h6 .small {
  font-weight: normal;
  line-height: 1;
  color: #777777;
}
h1,
.h1,
h2,
.h2,
h3,
.h3 {
  margin-top: 18px;
  margin-bottom: 9px;
}
h1 small,
.h1 small,
h2 small,
.h2 small,
h3 small,
.h3 small,
h1 .small,
.h1 .small,
h2 .small,
.h2 .small,
h3 .small,
.h3 .small {
  font-size: 65%;
}
h4,
.h4,
h5,
.h5,
h6,
.h6 {
  margin-top: 9px;
  margin-bottom: 9px;
}
h4 small,
.h4 small,
h5 small,
.h5 small,
h6 small,
.h6 small,
h4 .small,
.h4 .small,
h5 .small,
.h5 .small,
h6 .small,
.h6 .small {
  font-size: 75%;
}
h1,
.h1 {
  font-size: 33px;
}
h2,
.h2 {
  font-size: 27px;
}
h3,
.h3 {
  font-size: 23px;
}
h4,
.h4 {
  font-size: 17px;
}
h5,
.h5 {
  font-size: 13px;
}
h6,
.h6 {
  font-size: 12px;
}
p {
  margin: 0 0 9px;
}
.lead {
  margin-bottom: 18px;
  font-size: 14px;
  font-weight: 300;
  line-height: 1.4;
}
@media (min-width: 768px) {
  .lead {
    font-size: 19.5px;
  }
}
small,
.small {
  font-size: 92%;
}
mark,
.mark {
  background-color: #fcf8e3;
  padding: .2em;
}
.text-left {
  text-align: left;
}
.text-right {
  text-align: right;
}
.text-center {
  text-align: center;
}
.text-justify {
  text-align: justify;
}
.text-nowrap {
  white-space: nowrap;
}
.text-lowercase {
  text-transform: lowercase;
}
.text-uppercase {
  text-transform: uppercase;
}
.text-capitalize {
  text-transform: capitalize;
}
.text-muted {
  color: #777777;
}
.text-primary {
  color: #337ab7;
}
a.text-primary:hover,
a.text-primary:focus {
  color: #286090;
}
.text-success {
  color: #3c763d;
}
a.text-success:hover,
a.text-success:focus {
  color: #2b542c;
}
.text-info {
  color: #31708f;
}
a.text-info:hover,
a.text-info:focus {
  color: #245269;
}
.text-warning {
  color: #8a6d3b;
}
a.text-warning:hover,
a.text-warning:focus {
  color: #66512c;
}
.text-danger {
  color: #a94442;
}
a.text-danger:hover,
a.text-danger:focus {
  color: #843534;
}
.bg-primary {
  color: #fff;
  background-color: #337ab7;
}
a.bg-primary:hover,
a.bg-primary:focus {
  background-color: #286090;
}
.bg-success {
  background-color: #dff0d8;
}
a.bg-success:hover,
a.bg-success:focus {
  background-color: #c1e2b3;
}
.bg-info {
  background-color: #d9edf7;
}
a.bg-info:hover,
a.bg-info:focus {
  background-color: #afd9ee;
}
.bg-warning {
  background-color: #fcf8e3;
}
a.bg-warning:hover,
a.bg-warning:focus {
  background-color: #f7ecb5;
}
.bg-danger {
  background-color: #f2dede;
}
a.bg-danger:hover,
a.bg-danger:focus {
  background-color: #e4b9b9;
}
.page-header {
  padding-bottom: 8px;
  margin: 36px 0 18px;
  border-bottom: 1px solid #eeeeee;
}
ul,
ol {
  margin-top: 0;
  margin-bottom: 9px;
}
ul ul,
ol ul,
ul ol,
ol ol {
  margin-bottom: 0;
}
.list-unstyled {
  padding-left: 0;
  list-style: none;
}
.list-inline {
  padding-left: 0;
  list-style: none;
  margin-left: -5px;
}
.list-inline > li {
  display: inline-block;
  padding-left: 5px;
  padding-right: 5px;
}
dl {
  margin-top: 0;
  margin-bottom: 18px;
}
dt,
dd {
  line-height: 1.42857143;
}
dt {
  font-weight: bold;
}
dd {
  margin-left: 0;
}
@media (min-width: 541px) {
  .dl-horizontal dt {
    float: left;
    width: 160px;
    clear: left;
    text-align: right;
    overflow: hidden;
    text-overflow: ellipsis;
    white-space: nowrap;
  }
  .dl-horizontal dd {
    margin-left: 180px;
  }
}
abbr[title],
abbr[data-original-title] {
  cursor: help;
  border-bottom: 1px dotted #777777;
}
.initialism {
  font-size: 90%;
  text-transform: uppercase;
}
blockquote {
  padding: 9px 18px;
  margin: 0 0 18px;
  font-size: inherit;
  border-left: 5px solid #eeeeee;
}
blockquote p:last-child,
blockquote ul:last-child,
blockquote ol:last-child {
  margin-bottom: 0;
}
blockquote footer,
blockquote small,
blockquote .small {
  display: block;
  font-size: 80%;
  line-height: 1.42857143;
  color: #777777;
}
blockquote footer:before,
blockquote small:before,
blockquote .small:before {
  content: '\2014 \00A0';
}
.blockquote-reverse,
blockquote.pull-right {
  padding-right: 15px;
  padding-left: 0;
  border-right: 5px solid #eeeeee;
  border-left: 0;
  text-align: right;
}
.blockquote-reverse footer:before,
blockquote.pull-right footer:before,
.blockquote-reverse small:before,
blockquote.pull-right small:before,
.blockquote-reverse .small:before,
blockquote.pull-right .small:before {
  content: '';
}
.blockquote-reverse footer:after,
blockquote.pull-right footer:after,
.blockquote-reverse small:after,
blockquote.pull-right small:after,
.blockquote-reverse .small:after,
blockquote.pull-right .small:after {
  content: '\00A0 \2014';
}
address {
  margin-bottom: 18px;
  font-style: normal;
  line-height: 1.42857143;
}
code,
kbd,
pre,
samp {
  font-family: monospace;
}
code {
  padding: 2px 4px;
  font-size: 90%;
  color: #c7254e;
  background-color: #f9f2f4;
  border-radius: 2px;
}
kbd {
  padding: 2px 4px;
  font-size: 90%;
  color: #888;
  background-color: transparent;
  border-radius: 1px;
  box-shadow: inset 0 -1px 0 rgba(0, 0, 0, 0.25);
}
kbd kbd {
  padding: 0;
  font-size: 100%;
  font-weight: bold;
  box-shadow: none;
}
pre {
  display: block;
  padding: 8.5px;
  margin: 0 0 9px;
  font-size: 12px;
  line-height: 1.42857143;
  word-break: break-all;
  word-wrap: break-word;
  color: #333333;
  background-color: #f5f5f5;
  border: 1px solid #ccc;
  border-radius: 2px;
}
pre code {
  padding: 0;
  font-size: inherit;
  color: inherit;
  white-space: pre-wrap;
  background-color: transparent;
  border-radius: 0;
}
.pre-scrollable {
  max-height: 340px;
  overflow-y: scroll;
}
.container {
  margin-right: auto;
  margin-left: auto;
  padding-left: 0px;
  padding-right: 0px;
}
@media (min-width: 768px) {
  .container {
    width: 768px;
  }
}
@media (min-width: 992px) {
  .container {
    width: 940px;
  }
}
@media (min-width: 1200px) {
  .container {
    width: 1140px;
  }
}
.container-fluid {
  margin-right: auto;
  margin-left: auto;
  padding-left: 0px;
  padding-right: 0px;
}
.row {
  margin-left: 0px;
  margin-right: 0px;
}
.col-xs-1, .col-sm-1, .col-md-1, .col-lg-1, .col-xs-2, .col-sm-2, .col-md-2, .col-lg-2, .col-xs-3, .col-sm-3, .col-md-3, .col-lg-3, .col-xs-4, .col-sm-4, .col-md-4, .col-lg-4, .col-xs-5, .col-sm-5, .col-md-5, .col-lg-5, .col-xs-6, .col-sm-6, .col-md-6, .col-lg-6, .col-xs-7, .col-sm-7, .col-md-7, .col-lg-7, .col-xs-8, .col-sm-8, .col-md-8, .col-lg-8, .col-xs-9, .col-sm-9, .col-md-9, .col-lg-9, .col-xs-10, .col-sm-10, .col-md-10, .col-lg-10, .col-xs-11, .col-sm-11, .col-md-11, .col-lg-11, .col-xs-12, .col-sm-12, .col-md-12, .col-lg-12 {
  position: relative;
  min-height: 1px;
  padding-left: 0px;
  padding-right: 0px;
}
.col-xs-1, .col-xs-2, .col-xs-3, .col-xs-4, .col-xs-5, .col-xs-6, .col-xs-7, .col-xs-8, .col-xs-9, .col-xs-10, .col-xs-11, .col-xs-12 {
  float: left;
}
.col-xs-12 {
  width: 100%;
}
.col-xs-11 {
  width: 91.66666667%;
}
.col-xs-10 {
  width: 83.33333333%;
}
.col-xs-9 {
  width: 75%;
}
.col-xs-8 {
  width: 66.66666667%;
}
.col-xs-7 {
  width: 58.33333333%;
}
.col-xs-6 {
  width: 50%;
}
.col-xs-5 {
  width: 41.66666667%;
}
.col-xs-4 {
  width: 33.33333333%;
}
.col-xs-3 {
  width: 25%;
}
.col-xs-2 {
  width: 16.66666667%;
}
.col-xs-1 {
  width: 8.33333333%;
}
.col-xs-pull-12 {
  right: 100%;
}
.col-xs-pull-11 {
  right: 91.66666667%;
}
.col-xs-pull-10 {
  right: 83.33333333%;
}
.col-xs-pull-9 {
  right: 75%;
}
.col-xs-pull-8 {
  right: 66.66666667%;
}
.col-xs-pull-7 {
  right: 58.33333333%;
}
.col-xs-pull-6 {
  right: 50%;
}
.col-xs-pull-5 {
  right: 41.66666667%;
}
.col-xs-pull-4 {
  right: 33.33333333%;
}
.col-xs-pull-3 {
  right: 25%;
}
.col-xs-pull-2 {
  right: 16.66666667%;
}
.col-xs-pull-1 {
  right: 8.33333333%;
}
.col-xs-pull-0 {
  right: auto;
}
.col-xs-push-12 {
  left: 100%;
}
.col-xs-push-11 {
  left: 91.66666667%;
}
.col-xs-push-10 {
  left: 83.33333333%;
}
.col-xs-push-9 {
  left: 75%;
}
.col-xs-push-8 {
  left: 66.66666667%;
}
.col-xs-push-7 {
  left: 58.33333333%;
}
.col-xs-push-6 {
  left: 50%;
}
.col-xs-push-5 {
  left: 41.66666667%;
}
.col-xs-push-4 {
  left: 33.33333333%;
}
.col-xs-push-3 {
  left: 25%;
}
.col-xs-push-2 {
  left: 16.66666667%;
}
.col-xs-push-1 {
  left: 8.33333333%;
}
.col-xs-push-0 {
  left: auto;
}
.col-xs-offset-12 {
  margin-left: 100%;
}
.col-xs-offset-11 {
  margin-left: 91.66666667%;
}
.col-xs-offset-10 {
  margin-left: 83.33333333%;
}
.col-xs-offset-9 {
  margin-left: 75%;
}
.col-xs-offset-8 {
  margin-left: 66.66666667%;
}
.col-xs-offset-7 {
  margin-left: 58.33333333%;
}
.col-xs-offset-6 {
  margin-left: 50%;
}
.col-xs-offset-5 {
  margin-left: 41.66666667%;
}
.col-xs-offset-4 {
  margin-left: 33.33333333%;
}
.col-xs-offset-3 {
  margin-left: 25%;
}
.col-xs-offset-2 {
  margin-left: 16.66666667%;
}
.col-xs-offset-1 {
  margin-left: 8.33333333%;
}
.col-xs-offset-0 {
  margin-left: 0%;
}
@media (min-width: 768px) {
  .col-sm-1, .col-sm-2, .col-sm-3, .col-sm-4, .col-sm-5, .col-sm-6, .col-sm-7, .col-sm-8, .col-sm-9, .col-sm-10, .col-sm-11, .col-sm-12 {
    float: left;
  }
  .col-sm-12 {
    width: 100%;
  }
  .col-sm-11 {
    width: 91.66666667%;
  }
  .col-sm-10 {
    width: 83.33333333%;
  }
  .col-sm-9 {
    width: 75%;
  }
  .col-sm-8 {
    width: 66.66666667%;
  }
  .col-sm-7 {
    width: 58.33333333%;
  }
  .col-sm-6 {
    width: 50%;
  }
  .col-sm-5 {
    width: 41.66666667%;
  }
  .col-sm-4 {
    width: 33.33333333%;
  }
  .col-sm-3 {
    width: 25%;
  }
  .col-sm-2 {
    width: 16.66666667%;
  }
  .col-sm-1 {
    width: 8.33333333%;
  }
  .col-sm-pull-12 {
    right: 100%;
  }
  .col-sm-pull-11 {
    right: 91.66666667%;
  }
  .col-sm-pull-10 {
    right: 83.33333333%;
  }
  .col-sm-pull-9 {
    right: 75%;
  }
  .col-sm-pull-8 {
    right: 66.66666667%;
  }
  .col-sm-pull-7 {
    right: 58.33333333%;
  }
  .col-sm-pull-6 {
    right: 50%;
  }
  .col-sm-pull-5 {
    right: 41.66666667%;
  }
  .col-sm-pull-4 {
    right: 33.33333333%;
  }
  .col-sm-pull-3 {
    right: 25%;
  }
  .col-sm-pull-2 {
    right: 16.66666667%;
  }
  .col-sm-pull-1 {
    right: 8.33333333%;
  }
  .col-sm-pull-0 {
    right: auto;
  }
  .col-sm-push-12 {
    left: 100%;
  }
  .col-sm-push-11 {
    left: 91.66666667%;
  }
  .col-sm-push-10 {
    left: 83.33333333%;
  }
  .col-sm-push-9 {
    left: 75%;
  }
  .col-sm-push-8 {
    left: 66.66666667%;
  }
  .col-sm-push-7 {
    left: 58.33333333%;
  }
  .col-sm-push-6 {
    left: 50%;
  }
  .col-sm-push-5 {
    left: 41.66666667%;
  }
  .col-sm-push-4 {
    left: 33.33333333%;
  }
  .col-sm-push-3 {
    left: 25%;
  }
  .col-sm-push-2 {
    left: 16.66666667%;
  }
  .col-sm-push-1 {
    left: 8.33333333%;
  }
  .col-sm-push-0 {
    left: auto;
  }
  .col-sm-offset-12 {
    margin-left: 100%;
  }
  .col-sm-offset-11 {
    margin-left: 91.66666667%;
  }
  .col-sm-offset-10 {
    margin-left: 83.33333333%;
  }
  .col-sm-offset-9 {
    margin-left: 75%;
  }
  .col-sm-offset-8 {
    margin-left: 66.66666667%;
  }
  .col-sm-offset-7 {
    margin-left: 58.33333333%;
  }
  .col-sm-offset-6 {
    margin-left: 50%;
  }
  .col-sm-offset-5 {
    margin-left: 41.66666667%;
  }
  .col-sm-offset-4 {
    margin-left: 33.33333333%;
  }
  .col-sm-offset-3 {
    margin-left: 25%;
  }
  .col-sm-offset-2 {
    margin-left: 16.66666667%;
  }
  .col-sm-offset-1 {
    margin-left: 8.33333333%;
  }
  .col-sm-offset-0 {
    margin-left: 0%;
  }
}
@media (min-width: 992px) {
  .col-md-1, .col-md-2, .col-md-3, .col-md-4, .col-md-5, .col-md-6, .col-md-7, .col-md-8, .col-md-9, .col-md-10, .col-md-11, .col-md-12 {
    float: left;
  }
  .col-md-12 {
    width: 100%;
  }
  .col-md-11 {
    width: 91.66666667%;
  }
  .col-md-10 {
    width: 83.33333333%;
  }
  .col-md-9 {
    width: 75%;
  }
  .col-md-8 {
    width: 66.66666667%;
  }
  .col-md-7 {
    width: 58.33333333%;
  }
  .col-md-6 {
    width: 50%;
  }
  .col-md-5 {
    width: 41.66666667%;
  }
  .col-md-4 {
    width: 33.33333333%;
  }
  .col-md-3 {
    width: 25%;
  }
  .col-md-2 {
    width: 16.66666667%;
  }
  .col-md-1 {
    width: 8.33333333%;
  }
  .col-md-pull-12 {
    right: 100%;
  }
  .col-md-pull-11 {
    right: 91.66666667%;
  }
  .col-md-pull-10 {
    right: 83.33333333%;
  }
  .col-md-pull-9 {
    right: 75%;
  }
  .col-md-pull-8 {
    right: 66.66666667%;
  }
  .col-md-pull-7 {
    right: 58.33333333%;
  }
  .col-md-pull-6 {
    right: 50%;
  }
  .col-md-pull-5 {
    right: 41.66666667%;
  }
  .col-md-pull-4 {
    right: 33.33333333%;
  }
  .col-md-pull-3 {
    right: 25%;
  }
  .col-md-pull-2 {
    right: 16.66666667%;
  }
  .col-md-pull-1 {
    right: 8.33333333%;
  }
  .col-md-pull-0 {
    right: auto;
  }
  .col-md-push-12 {
    left: 100%;
  }
  .col-md-push-11 {
    left: 91.66666667%;
  }
  .col-md-push-10 {
    left: 83.33333333%;
  }
  .col-md-push-9 {
    left: 75%;
  }
  .col-md-push-8 {
    left: 66.66666667%;
  }
  .col-md-push-7 {
    left: 58.33333333%;
  }
  .col-md-push-6 {
    left: 50%;
  }
  .col-md-push-5 {
    left: 41.66666667%;
  }
  .col-md-push-4 {
    left: 33.33333333%;
  }
  .col-md-push-3 {
    left: 25%;
  }
  .col-md-push-2 {
    left: 16.66666667%;
  }
  .col-md-push-1 {
    left: 8.33333333%;
  }
  .col-md-push-0 {
    left: auto;
  }
  .col-md-offset-12 {
    margin-left: 100%;
  }
  .col-md-offset-11 {
    margin-left: 91.66666667%;
  }
  .col-md-offset-10 {
    margin-left: 83.33333333%;
  }
  .col-md-offset-9 {
    margin-left: 75%;
  }
  .col-md-offset-8 {
    margin-left: 66.66666667%;
  }
  .col-md-offset-7 {
    margin-left: 58.33333333%;
  }
  .col-md-offset-6 {
    margin-left: 50%;
  }
  .col-md-offset-5 {
    margin-left: 41.66666667%;
  }
  .col-md-offset-4 {
    margin-left: 33.33333333%;
  }
  .col-md-offset-3 {
    margin-left: 25%;
  }
  .col-md-offset-2 {
    margin-left: 16.66666667%;
  }
  .col-md-offset-1 {
    margin-left: 8.33333333%;
  }
  .col-md-offset-0 {
    margin-left: 0%;
  }
}
@media (min-width: 1200px) {
  .col-lg-1, .col-lg-2, .col-lg-3, .col-lg-4, .col-lg-5, .col-lg-6, .col-lg-7, .col-lg-8, .col-lg-9, .col-lg-10, .col-lg-11, .col-lg-12 {
    float: left;
  }
  .col-lg-12 {
    width: 100%;
  }
  .col-lg-11 {
    width: 91.66666667%;
  }
  .col-lg-10 {
    width: 83.33333333%;
  }
  .col-lg-9 {
    width: 75%;
  }
  .col-lg-8 {
    width: 66.66666667%;
  }
  .col-lg-7 {
    width: 58.33333333%;
  }
  .col-lg-6 {
    width: 50%;
  }
  .col-lg-5 {
    width: 41.66666667%;
  }
  .col-lg-4 {
    width: 33.33333333%;
  }
  .col-lg-3 {
    width: 25%;
  }
  .col-lg-2 {
    width: 16.66666667%;
  }
  .col-lg-1 {
    width: 8.33333333%;
  }
  .col-lg-pull-12 {
    right: 100%;
  }
  .col-lg-pull-11 {
    right: 91.66666667%;
  }
  .col-lg-pull-10 {
    right: 83.33333333%;
  }
  .col-lg-pull-9 {
    right: 75%;
  }
  .col-lg-pull-8 {
    right: 66.66666667%;
  }
  .col-lg-pull-7 {
    right: 58.33333333%;
  }
  .col-lg-pull-6 {
    right: 50%;
  }
  .col-lg-pull-5 {
    right: 41.66666667%;
  }
  .col-lg-pull-4 {
    right: 33.33333333%;
  }
  .col-lg-pull-3 {
    right: 25%;
  }
  .col-lg-pull-2 {
    right: 16.66666667%;
  }
  .col-lg-pull-1 {
    right: 8.33333333%;
  }
  .col-lg-pull-0 {
    right: auto;
  }
  .col-lg-push-12 {
    left: 100%;
  }
  .col-lg-push-11 {
    left: 91.66666667%;
  }
  .col-lg-push-10 {
    left: 83.33333333%;
  }
  .col-lg-push-9 {
    left: 75%;
  }
  .col-lg-push-8 {
    left: 66.66666667%;
  }
  .col-lg-push-7 {
    left: 58.33333333%;
  }
  .col-lg-push-6 {
    left: 50%;
  }
  .col-lg-push-5 {
    left: 41.66666667%;
  }
  .col-lg-push-4 {
    left: 33.33333333%;
  }
  .col-lg-push-3 {
    left: 25%;
  }
  .col-lg-push-2 {
    left: 16.66666667%;
  }
  .col-lg-push-1 {
    left: 8.33333333%;
  }
  .col-lg-push-0 {
    left: auto;
  }
  .col-lg-offset-12 {
    margin-left: 100%;
  }
  .col-lg-offset-11 {
    margin-left: 91.66666667%;
  }
  .col-lg-offset-10 {
    margin-left: 83.33333333%;
  }
  .col-lg-offset-9 {
    margin-left: 75%;
  }
  .col-lg-offset-8 {
    margin-left: 66.66666667%;
  }
  .col-lg-offset-7 {
    margin-left: 58.33333333%;
  }
  .col-lg-offset-6 {
    margin-left: 50%;
  }
  .col-lg-offset-5 {
    margin-left: 41.66666667%;
  }
  .col-lg-offset-4 {
    margin-left: 33.33333333%;
  }
  .col-lg-offset-3 {
    margin-left: 25%;
  }
  .col-lg-offset-2 {
    margin-left: 16.66666667%;
  }
  .col-lg-offset-1 {
    margin-left: 8.33333333%;
  }
  .col-lg-offset-0 {
    margin-left: 0%;
  }
}
table {
  background-color: transparent;
}
caption {
  padding-top: 8px;
  padding-bottom: 8px;
  color: #777777;
  text-align: left;
}
th {
  text-align: left;
}
.table {
  width: 100%;
  max-width: 100%;
  margin-bottom: 18px;
}
.table > thead > tr > th,
.table > tbody > tr > th,
.table > tfoot > tr > th,
.table > thead > tr > td,
.table > tbody > tr > td,
.table > tfoot > tr > td {
  padding: 8px;
  line-height: 1.42857143;
  vertical-align: top;
  border-top: 1px solid #ddd;
}
.table > thead > tr > th {
  vertical-align: bottom;
  border-bottom: 2px solid #ddd;
}
.table > caption + thead > tr:first-child > th,
.table > colgroup + thead > tr:first-child > th,
.table > thead:first-child > tr:first-child > th,
.table > caption + thead > tr:first-child > td,
.table > colgroup + thead > tr:first-child > td,
.table > thead:first-child > tr:first-child > td {
  border-top: 0;
}
.table > tbody + tbody {
  border-top: 2px solid #ddd;
}
.table .table {
  background-color: #fff;
}
.table-condensed > thead > tr > th,
.table-condensed > tbody > tr > th,
.table-condensed > tfoot > tr > th,
.table-condensed > thead > tr > td,
.table-condensed > tbody > tr > td,
.table-condensed > tfoot > tr > td {
  padding: 5px;
}
.table-bordered {
  border: 1px solid #ddd;
}
.table-bordered > thead > tr > th,
.table-bordered > tbody > tr > th,
.table-bordered > tfoot > tr > th,
.table-bordered > thead > tr > td,
.table-bordered > tbody > tr > td,
.table-bordered > tfoot > tr > td {
  border: 1px solid #ddd;
}
.table-bordered > thead > tr > th,
.table-bordered > thead > tr > td {
  border-bottom-width: 2px;
}
.table-striped > tbody > tr:nth-of-type(odd) {
  background-color: #f9f9f9;
}
.table-hover > tbody > tr:hover {
  background-color: #f5f5f5;
}
table col[class*="col-"] {
  position: static;
  float: none;
  display: table-column;
}
table td[class*="col-"],
table th[class*="col-"] {
  position: static;
  float: none;
  display: table-cell;
}
.table > thead > tr > td.active,
.table > tbody > tr > td.active,
.table > tfoot > tr > td.active,
.table > thead > tr > th.active,
.table > tbody > tr > th.active,
.table > tfoot > tr > th.active,
.table > thead > tr.active > td,
.table > tbody > tr.active > td,
.table > tfoot > tr.active > td,
.table > thead > tr.active > th,
.table > tbody > tr.active > th,
.table > tfoot > tr.active > th {
  background-color: #f5f5f5;
}
.table-hover > tbody > tr > td.active:hover,
.table-hover > tbody > tr > th.active:hover,
.table-hover > tbody > tr.active:hover > td,
.table-hover > tbody > tr:hover > .active,
.table-hover > tbody > tr.active:hover > th {
  background-color: #e8e8e8;
}
.table > thead > tr > td.success,
.table > tbody > tr > td.success,
.table > tfoot > tr > td.success,
.table > thead > tr > th.success,
.table > tbody > tr > th.success,
.table > tfoot > tr > th.success,
.table > thead > tr.success > td,
.table > tbody > tr.success > td,
.table > tfoot > tr.success > td,
.table > thead > tr.success > th,
.table > tbody > tr.success > th,
.table > tfoot > tr.success > th {
  background-color: #dff0d8;
}
.table-hover > tbody > tr > td.success:hover,
.table-hover > tbody > tr > th.success:hover,
.table-hover > tbody > tr.success:hover > td,
.table-hover > tbody > tr:hover > .success,
.table-hover > tbody > tr.success:hover > th {
  background-color: #d0e9c6;
}
.table > thead > tr > td.info,
.table > tbody > tr > td.info,
.table > tfoot > tr > td.info,
.table > thead > tr > th.info,
.table > tbody > tr > th.info,
.table > tfoot > tr > th.info,
.table > thead > tr.info > td,
.table > tbody > tr.info > td,
.table > tfoot > tr.info > td,
.table > thead > tr.info > th,
.table > tbody > tr.info > th,
.table > tfoot > tr.info > th {
  background-color: #d9edf7;
}
.table-hover > tbody > tr > td.info:hover,
.table-hover > tbody > tr > th.info:hover,
.table-hover > tbody > tr.info:hover > td,
.table-hover > tbody > tr:hover > .info,
.table-hover > tbody > tr.info:hover > th {
  background-color: #c4e3f3;
}
.table > thead > tr > td.warning,
.table > tbody > tr > td.warning,
.table > tfoot > tr > td.warning,
.table > thead > tr > th.warning,
.table > tbody > tr > th.warning,
.table > tfoot > tr > th.warning,
.table > thead > tr.warning > td,
.table > tbody > tr.warning > td,
.table > tfoot > tr.warning > td,
.table > thead > tr.warning > th,
.table > tbody > tr.warning > th,
.table > tfoot > tr.warning > th {
  background-color: #fcf8e3;
}
.table-hover > tbody > tr > td.warning:hover,
.table-hover > tbody > tr > th.warning:hover,
.table-hover > tbody > tr.warning:hover > td,
.table-hover > tbody > tr:hover > .warning,
.table-hover > tbody > tr.warning:hover > th {
  background-color: #faf2cc;
}
.table > thead > tr > td.danger,
.table > tbody > tr > td.danger,
.table > tfoot > tr > td.danger,
.table > thead > tr > th.danger,
.table > tbody > tr > th.danger,
.table > tfoot > tr > th.danger,
.table > thead > tr.danger > td,
.table > tbody > tr.danger > td,
.table > tfoot > tr.danger > td,
.table > thead > tr.danger > th,
.table > tbody > tr.danger > th,
.table > tfoot > tr.danger > th {
  background-color: #f2dede;
}
.table-hover > tbody > tr > td.danger:hover,
.table-hover > tbody > tr > th.danger:hover,
.table-hover > tbody > tr.danger:hover > td,
.table-hover > tbody > tr:hover > .danger,
.table-hover > tbody > tr.danger:hover > th {
  background-color: #ebcccc;
}
.table-responsive {
  overflow-x: auto;
  min-height: 0.01%;
}
@media screen and (max-width: 767px) {
  .table-responsive {
    width: 100%;
    margin-bottom: 13.5px;
    overflow-y: hidden;
    -ms-overflow-style: -ms-autohiding-scrollbar;
    border: 1px solid #ddd;
  }
  .table-responsive > .table {
    margin-bottom: 0;
  }
  .table-responsive > .table > thead > tr > th,
  .table-responsive > .table > tbody > tr > th,
  .table-responsive > .table > tfoot > tr > th,
  .table-responsive > .table > thead > tr > td,
  .table-responsive > .table > tbody > tr > td,
  .table-responsive > .table > tfoot > tr > td {
    white-space: nowrap;
  }
  .table-responsive > .table-bordered {
    border: 0;
  }
  .table-responsive > .table-bordered > thead > tr > th:first-child,
  .table-responsive > .table-bordered > tbody > tr > th:first-child,
  .table-responsive > .table-bordered > tfoot > tr > th:first-child,
  .table-responsive > .table-bordered > thead > tr > td:first-child,
  .table-responsive > .table-bordered > tbody > tr > td:first-child,
  .table-responsive > .table-bordered > tfoot > tr > td:first-child {
    border-left: 0;
  }
  .table-responsive > .table-bordered > thead > tr > th:last-child,
  .table-responsive > .table-bordered > tbody > tr > th:last-child,
  .table-responsive > .table-bordered > tfoot > tr > th:last-child,
  .table-responsive > .table-bordered > thead > tr > td:last-child,
  .table-responsive > .table-bordered > tbody > tr > td:last-child,
  .table-responsive > .table-bordered > tfoot > tr > td:last-child {
    border-right: 0;
  }
  .table-responsive > .table-bordered > tbody > tr:last-child > th,
  .table-responsive > .table-bordered > tfoot > tr:last-child > th,
  .table-responsive > .table-bordered > tbody > tr:last-child > td,
  .table-responsive > .table-bordered > tfoot > tr:last-child > td {
    border-bottom: 0;
  }
}
fieldset {
  padding: 0;
  margin: 0;
  border: 0;
  min-width: 0;
}
legend {
  display: block;
  width: 100%;
  padding: 0;
  margin-bottom: 18px;
  font-size: 19.5px;
  line-height: inherit;
  color: #333333;
  border: 0;
  border-bottom: 1px solid #e5e5e5;
}
label {
  display: inline-block;
  max-width: 100%;
  margin-bottom: 5px;
  font-weight: bold;
}
input[type="search"] {
  -webkit-box-sizing: border-box;
  -moz-box-sizing: border-box;
  box-sizing: border-box;
}
input[type="radio"],
input[type="checkbox"] {
  margin: 4px 0 0;
  margin-top: 1px \9;
  line-height: normal;
}
input[type="file"] {
  display: block;
}
input[type="range"] {
  display: block;
  width: 100%;
}
select[multiple],
select[size] {
  height: auto;
}
input[type="file"]:focus,
input[type="radio"]:focus,
input[type="checkbox"]:focus {
  outline: 5px auto -webkit-focus-ring-color;
  outline-offset: -2px;
}
output {
  display: block;
  padding-top: 7px;
  font-size: 13px;
  line-height: 1.42857143;
  color: #555555;
}
.form-control {
  display: block;
  width: 100%;
  height: 32px;
  padding: 6px 12px;
  font-size: 13px;
  line-height: 1.42857143;
  color: #555555;
  background-color: #fff;
  background-image: none;
  border: 1px solid #ccc;
  border-radius: 2px;
  -webkit-box-shadow: inset 0 1px 1px rgba(0, 0, 0, 0.075);
  box-shadow: inset 0 1px 1px rgba(0, 0, 0, 0.075);
  -webkit-transition: border-color ease-in-out .15s, box-shadow ease-in-out .15s;
  -o-transition: border-color ease-in-out .15s, box-shadow ease-in-out .15s;
  transition: border-color ease-in-out .15s, box-shadow ease-in-out .15s;
}
.form-control:focus {
  border-color: #66afe9;
  outline: 0;
  -webkit-box-shadow: inset 0 1px 1px rgba(0,0,0,.075), 0 0 8px rgba(102, 175, 233, 0.6);
  box-shadow: inset 0 1px 1px rgba(0,0,0,.075), 0 0 8px rgba(102, 175, 233, 0.6);
}
.form-control::-moz-placeholder {
  color: #999;
  opacity: 1;
}
.form-control:-ms-input-placeholder {
  color: #999;
}
.form-control::-webkit-input-placeholder {
  color: #999;
}
.form-control::-ms-expand {
  border: 0;
  background-color: transparent;
}
.form-control[disabled],
.form-control[readonly],
fieldset[disabled] .form-control {
  background-color: #eeeeee;
  opacity: 1;
}
.form-control[disabled],
fieldset[disabled] .form-control {
  cursor: not-allowed;
}
textarea.form-control {
  height: auto;
}
input[type="search"] {
  -webkit-appearance: none;
}
@media screen and (-webkit-min-device-pixel-ratio: 0) {
  input[type="date"].form-control,
  input[type="time"].form-control,
  input[type="datetime-local"].form-control,
  input[type="month"].form-control {
    line-height: 32px;
  }
  input[type="date"].input-sm,
  input[type="time"].input-sm,
  input[type="datetime-local"].input-sm,
  input[type="month"].input-sm,
  .input-group-sm input[type="date"],
  .input-group-sm input[type="time"],
  .input-group-sm input[type="datetime-local"],
  .input-group-sm input[type="month"] {
    line-height: 30px;
  }
  input[type="date"].input-lg,
  input[type="time"].input-lg,
  input[type="datetime-local"].input-lg,
  input[type="month"].input-lg,
  .input-group-lg input[type="date"],
  .input-group-lg input[type="time"],
  .input-group-lg input[type="datetime-local"],
  .input-group-lg input[type="month"] {
    line-height: 45px;
  }
}
.form-group {
  margin-bottom: 15px;
}
.radio,
.checkbox {
  position: relative;
  display: block;
  margin-top: 10px;
  margin-bottom: 10px;
}
.radio label,
.checkbox label {
  min-height: 18px;
  padding-left: 20px;
  margin-bottom: 0;
  font-weight: normal;
  cursor: pointer;
}
.radio input[type="radio"],
.radio-inline input[type="radio"],
.checkbox input[type="checkbox"],
.checkbox-inline input[type="checkbox"] {
  position: absolute;
  margin-left: -20px;
  margin-top: 4px \9;
}
.radio + .radio,
.checkbox + .checkbox {
  margin-top: -5px;
}
.radio-inline,
.checkbox-inline {
  position: relative;
  display: inline-block;
  padding-left: 20px;
  margin-bottom: 0;
  vertical-align: middle;
  font-weight: normal;
  cursor: pointer;
}
.radio-inline + .radio-inline,
.checkbox-inline + .checkbox-inline {
  margin-top: 0;
  margin-left: 10px;
}
input[type="radio"][disabled],
input[type="checkbox"][disabled],
input[type="radio"].disabled,
input[type="checkbox"].disabled,
fieldset[disabled] input[type="radio"],
fieldset[disabled] input[type="checkbox"] {
  cursor: not-allowed;
}
.radio-inline.disabled,
.checkbox-inline.disabled,
fieldset[disabled] .radio-inline,
fieldset[disabled] .checkbox-inline {
  cursor: not-allowed;
}
.radio.disabled label,
.checkbox.disabled label,
fieldset[disabled] .radio label,
fieldset[disabled] .checkbox label {
  cursor: not-allowed;
}
.form-control-static {
  padding-top: 7px;
  padding-bottom: 7px;
  margin-bottom: 0;
  min-height: 31px;
}
.form-control-static.input-lg,
.form-control-static.input-sm {
  padding-left: 0;
  padding-right: 0;
}
.input-sm {
  height: 30px;
  padding: 5px 10px;
  font-size: 12px;
  line-height: 1.5;
  border-radius: 1px;
}
select.input-sm {
  height: 30px;
  line-height: 30px;
}
textarea.input-sm,
select[multiple].input-sm {
  height: auto;
}
.form-group-sm .form-control {
  height: 30px;
  padding: 5px 10px;
  font-size: 12px;
  line-height: 1.5;
  border-radius: 1px;
}
.form-group-sm select.form-control {
  height: 30px;
  line-height: 30px;
}
.form-group-sm textarea.form-control,
.form-group-sm select[multiple].form-control {
  height: auto;
}
.form-group-sm .form-control-static {
  height: 30px;
  min-height: 30px;
  padding: 6px 10px;
  font-size: 12px;
  line-height: 1.5;
}
.input-lg {
  height: 45px;
  padding: 10px 16px;
  font-size: 17px;
  line-height: 1.3333333;
  border-radius: 3px;
}
select.input-lg {
  height: 45px;
  line-height: 45px;
}
textarea.input-lg,
select[multiple].input-lg {
  height: auto;
}
.form-group-lg .form-control {
  height: 45px;
  padding: 10px 16px;
  font-size: 17px;
  line-height: 1.3333333;
  border-radius: 3px;
}
.form-group-lg select.form-control {
  height: 45px;
  line-height: 45px;
}
.form-group-lg textarea.form-control,
.form-group-lg select[multiple].form-control {
  height: auto;
}
.form-group-lg .form-control-static {
  height: 45px;
  min-height: 35px;
  padding: 11px 16px;
  font-size: 17px;
  line-height: 1.3333333;
}
.has-feedback {
  position: relative;
}
.has-feedback .form-control {
  padding-right: 40px;
}
.form-control-feedback {
  position: absolute;
  top: 0;
  right: 0;
  z-index: 2;
  display: block;
  width: 32px;
  height: 32px;
  line-height: 32px;
  text-align: center;
  pointer-events: none;
}
.input-lg + .form-control-feedback,
.input-group-lg + .form-control-feedback,
.form-group-lg .form-control + .form-control-feedback {
  width: 45px;
  height: 45px;
  line-height: 45px;
}
.input-sm + .form-control-feedback,
.input-group-sm + .form-control-feedback,
.form-group-sm .form-control + .form-control-feedback {
  width: 30px;
  height: 30px;
  line-height: 30px;
}
.has-success .help-block,
.has-success .control-label,
.has-success .radio,
.has-success .checkbox,
.has-success .radio-inline,
.has-success .checkbox-inline,
.has-success.radio label,
.has-success.checkbox label,
.has-success.radio-inline label,
.has-success.checkbox-inline label {
  color: #3c763d;
}
.has-success .form-control {
  border-color: #3c763d;
  -webkit-box-shadow: inset 0 1px 1px rgba(0, 0, 0, 0.075);
  box-shadow: inset 0 1px 1px rgba(0, 0, 0, 0.075);
}
.has-success .form-control:focus {
  border-color: #2b542c;
  -webkit-box-shadow: inset 0 1px 1px rgba(0, 0, 0, 0.075), 0 0 6px #67b168;
  box-shadow: inset 0 1px 1px rgba(0, 0, 0, 0.075), 0 0 6px #67b168;
}
.has-success .input-group-addon {
  color: #3c763d;
  border-color: #3c763d;
  background-color: #dff0d8;
}
.has-success .form-control-feedback {
  color: #3c763d;
}
.has-warning .help-block,
.has-warning .control-label,
.has-warning .radio,
.has-warning .checkbox,
.has-warning .radio-inline,
.has-warning .checkbox-inline,
.has-warning.radio label,
.has-warning.checkbox label,
.has-warning.radio-inline label,
.has-warning.checkbox-inline label {
  color: #8a6d3b;
}
.has-warning .form-control {
  border-color: #8a6d3b;
  -webkit-box-shadow: inset 0 1px 1px rgba(0, 0, 0, 0.075);
  box-shadow: inset 0 1px 1px rgba(0, 0, 0, 0.075);
}
.has-warning .form-control:focus {
  border-color: #66512c;
  -webkit-box-shadow: inset 0 1px 1px rgba(0, 0, 0, 0.075), 0 0 6px #c0a16b;
  box-shadow: inset 0 1px 1px rgba(0, 0, 0, 0.075), 0 0 6px #c0a16b;
}
.has-warning .input-group-addon {
  color: #8a6d3b;
  border-color: #8a6d3b;
  background-color: #fcf8e3;
}
.has-warning .form-control-feedback {
  color: #8a6d3b;
}
.has-error .help-block,
.has-error .control-label,
.has-error .radio,
.has-error .checkbox,
.has-error .radio-inline,
.has-error .checkbox-inline,
.has-error.radio label,
.has-error.checkbox label,
.has-error.radio-inline label,
.has-error.checkbox-inline label {
  color: #a94442;
}
.has-error .form-control {
  border-color: #a94442;
  -webkit-box-shadow: inset 0 1px 1px rgba(0, 0, 0, 0.075);
  box-shadow: inset 0 1px 1px rgba(0, 0, 0, 0.075);
}
.has-error .form-control:focus {
  border-color: #843534;
  -webkit-box-shadow: inset 0 1px 1px rgba(0, 0, 0, 0.075), 0 0 6px #ce8483;
  box-shadow: inset 0 1px 1px rgba(0, 0, 0, 0.075), 0 0 6px #ce8483;
}
.has-error .input-group-addon {
  color: #a94442;
  border-color: #a94442;
  background-color: #f2dede;
}
.has-error .form-control-feedback {
  color: #a94442;
}
.has-feedback label ~ .form-control-feedback {
  top: 23px;
}
.has-feedback label.sr-only ~ .form-control-feedback {
  top: 0;
}
.help-block {
  display: block;
  margin-top: 5px;
  margin-bottom: 10px;
  color: #404040;
}
@media (min-width: 768px) {
  .form-inline .form-group {
    display: inline-block;
    margin-bottom: 0;
    vertical-align: middle;
  }
  .form-inline .form-control {
    display: inline-block;
    width: auto;
    vertical-align: middle;
  }
  .form-inline .form-control-static {
    display: inline-block;
  }
  .form-inline .input-group {
    display: inline-table;
    vertical-align: middle;
  }
  .form-inline .input-group .input-group-addon,
  .form-inline .input-group .input-group-btn,
  .form-inline .input-group .form-control {
    width: auto;
  }
  .form-inline .input-group > .form-control {
    width: 100%;
  }
  .form-inline .control-label {
    margin-bottom: 0;
    vertical-align: middle;
  }
  .form-inline .radio,
  .form-inline .checkbox {
    display: inline-block;
    margin-top: 0;
    margin-bottom: 0;
    vertical-align: middle;
  }
  .form-inline .radio label,
  .form-inline .checkbox label {
    padding-left: 0;
  }
  .form-inline .radio input[type="radio"],
  .form-inline .checkbox input[type="checkbox"] {
    position: relative;
    margin-left: 0;
  }
  .form-inline .has-feedback .form-control-feedback {
    top: 0;
  }
}
.form-horizontal .radio,
.form-horizontal .checkbox,
.form-horizontal .radio-inline,
.form-horizontal .checkbox-inline {
  margin-top: 0;
  margin-bottom: 0;
  padding-top: 7px;
}
.form-horizontal .radio,
.form-horizontal .checkbox {
  min-height: 25px;
}
.form-horizontal .form-group {
  margin-left: 0px;
  margin-right: 0px;
}
@media (min-width: 768px) {
  .form-horizontal .control-label {
    text-align: right;
    margin-bottom: 0;
    padding-top: 7px;
  }
}
.form-horizontal .has-feedback .form-control-feedback {
  right: 0px;
}
@media (min-width: 768px) {
  .form-horizontal .form-group-lg .control-label {
    padding-top: 11px;
    font-size: 17px;
  }
}
@media (min-width: 768px) {
  .form-horizontal .form-group-sm .control-label {
    padding-top: 6px;
    font-size: 12px;
  }
}
.btn {
  display: inline-block;
  margin-bottom: 0;
  font-weight: normal;
  text-align: center;
  vertical-align: middle;
  touch-action: manipulation;
  cursor: pointer;
  background-image: none;
  border: 1px solid transparent;
  white-space: nowrap;
  padding: 6px 12px;
  font-size: 13px;
  line-height: 1.42857143;
  border-radius: 2px;
  -webkit-user-select: none;
  -moz-user-select: none;
  -ms-user-select: none;
  user-select: none;
}
.btn:focus,
.btn:active:focus,
.btn.active:focus,
.btn.focus,
.btn:active.focus,
.btn.active.focus {
  outline: 5px auto -webkit-focus-ring-color;
  outline-offset: -2px;
}
.btn:hover,
.btn:focus,
.btn.focus {
  color: #333;
  text-decoration: none;
}
.btn:active,
.btn.active {
  outline: 0;
  background-image: none;
  -webkit-box-shadow: inset 0 3px 5px rgba(0, 0, 0, 0.125);
  box-shadow: inset 0 3px 5px rgba(0, 0, 0, 0.125);
}
.btn.disabled,
.btn[disabled],
fieldset[disabled] .btn {
  cursor: not-allowed;
  opacity: 0.65;
  filter: alpha(opacity=65);
  -webkit-box-shadow: none;
  box-shadow: none;
}
a.btn.disabled,
fieldset[disabled] a.btn {
  pointer-events: none;
}
.btn-default {
  color: #333;
  background-color: #fff;
  border-color: #ccc;
}
.btn-default:focus,
.btn-default.focus {
  color: #333;
  background-color: #e6e6e6;
  border-color: #8c8c8c;
}
.btn-default:hover {
  color: #333;
  background-color: #e6e6e6;
  border-color: #adadad;
}
.btn-default:active,
.btn-default.active,
.open > .dropdown-toggle.btn-default {
  color: #333;
  background-color: #e6e6e6;
  border-color: #adadad;
}
.btn-default:active:hover,
.btn-default.active:hover,
.open > .dropdown-toggle.btn-default:hover,
.btn-default:active:focus,
.btn-default.active:focus,
.open > .dropdown-toggle.btn-default:focus,
.btn-default:active.focus,
.btn-default.active.focus,
.open > .dropdown-toggle.btn-default.focus {
  color: #333;
  background-color: #d4d4d4;
  border-color: #8c8c8c;
}
.btn-default:active,
.btn-default.active,
.open > .dropdown-toggle.btn-default {
  background-image: none;
}
.btn-default.disabled:hover,
.btn-default[disabled]:hover,
fieldset[disabled] .btn-default:hover,
.btn-default.disabled:focus,
.btn-default[disabled]:focus,
fieldset[disabled] .btn-default:focus,
.btn-default.disabled.focus,
.btn-default[disabled].focus,
fieldset[disabled] .btn-default.focus {
  background-color: #fff;
  border-color: #ccc;
}
.btn-default .badge {
  color: #fff;
  background-color: #333;
}
.btn-primary {
  color: #fff;
  background-color: #337ab7;
  border-color: #2e6da4;
}
.btn-primary:focus,
.btn-primary.focus {
  color: #fff;
  background-color: #286090;
  border-color: #122b40;
}
.btn-primary:hover {
  color: #fff;
  background-color: #286090;
  border-color: #204d74;
}
.btn-primary:active,
.btn-primary.active,
.open > .dropdown-toggle.btn-primary {
  color: #fff;
  background-color: #286090;
  border-color: #204d74;
}
.btn-primary:active:hover,
.btn-primary.active:hover,
.open > .dropdown-toggle.btn-primary:hover,
.btn-primary:active:focus,
.btn-primary.active:focus,
.open > .dropdown-toggle.btn-primary:focus,
.btn-primary:active.focus,
.btn-primary.active.focus,
.open > .dropdown-toggle.btn-primary.focus {
  color: #fff;
  background-color: #204d74;
  border-color: #122b40;
}
.btn-primary:active,
.btn-primary.active,
.open > .dropdown-toggle.btn-primary {
  background-image: none;
}
.btn-primary.disabled:hover,
.btn-primary[disabled]:hover,
fieldset[disabled] .btn-primary:hover,
.btn-primary.disabled:focus,
.btn-primary[disabled]:focus,
fieldset[disabled] .btn-primary:focus,
.btn-primary.disabled.focus,
.btn-primary[disabled].focus,
fieldset[disabled] .btn-primary.focus {
  background-color: #337ab7;
  border-color: #2e6da4;
}
.btn-primary .badge {
  color: #337ab7;
  background-color: #fff;
}
.btn-success {
  color: #fff;
  background-color: #5cb85c;
  border-color: #4cae4c;
}
.btn-success:focus,
.btn-success.focus {
  color: #fff;
  background-color: #449d44;
  border-color: #255625;
}
.btn-success:hover {
  color: #fff;
  background-color: #449d44;
  border-color: #398439;
}
.btn-success:active,
.btn-success.active,
.open > .dropdown-toggle.btn-success {
  color: #fff;
  background-color: #449d44;
  border-color: #398439;
}
.btn-success:active:hover,
.btn-success.active:hover,
.open > .dropdown-toggle.btn-success:hover,
.btn-success:active:focus,
.btn-success.active:focus,
.open > .dropdown-toggle.btn-success:focus,
.btn-success:active.focus,
.btn-success.active.focus,
.open > .dropdown-toggle.btn-success.focus {
  color: #fff;
  background-color: #398439;
  border-color: #255625;
}
.btn-success:active,
.btn-success.active,
.open > .dropdown-toggle.btn-success {
  background-image: none;
}
.btn-success.disabled:hover,
.btn-success[disabled]:hover,
fieldset[disabled] .btn-success:hover,
.btn-success.disabled:focus,
.btn-success[disabled]:focus,
fieldset[disabled] .btn-success:focus,
.btn-success.disabled.focus,
.btn-success[disabled].focus,
fieldset[disabled] .btn-success.focus {
  background-color: #5cb85c;
  border-color: #4cae4c;
}
.btn-success .badge {
  color: #5cb85c;
  background-color: #fff;
}
.btn-info {
  color: #fff;
  background-color: #5bc0de;
  border-color: #46b8da;
}
.btn-info:focus,
.btn-info.focus {
  color: #fff;
  background-color: #31b0d5;
  border-color: #1b6d85;
}
.btn-info:hover {
  color: #fff;
  background-color: #31b0d5;
  border-color: #269abc;
}
.btn-info:active,
.btn-info.active,
.open > .dropdown-toggle.btn-info {
  color: #fff;
  background-color: #31b0d5;
  border-color: #269abc;
}
.btn-info:active:hover,
.btn-info.active:hover,
.open > .dropdown-toggle.btn-info:hover,
.btn-info:active:focus,
.btn-info.active:focus,
.open > .dropdown-toggle.btn-info:focus,
.btn-info:active.focus,
.btn-info.active.focus,
.open > .dropdown-toggle.btn-info.focus {
  color: #fff;
  background-color: #269abc;
  border-color: #1b6d85;
}
.btn-info:active,
.btn-info.active,
.open > .dropdown-toggle.btn-info {
  background-image: none;
}
.btn-info.disabled:hover,
.btn-info[disabled]:hover,
fieldset[disabled] .btn-info:hover,
.btn-info.disabled:focus,
.btn-info[disabled]:focus,
fieldset[disabled] .btn-info:focus,
.btn-info.disabled.focus,
.btn-info[disabled].focus,
fieldset[disabled] .btn-info.focus {
  background-color: #5bc0de;
  border-color: #46b8da;
}
.btn-info .badge {
  color: #5bc0de;
  background-color: #fff;
}
.btn-warning {
  color: #fff;
  background-color: #f0ad4e;
  border-color: #eea236;
}
.btn-warning:focus,
.btn-warning.focus {
  color: #fff;
  background-color: #ec971f;
  border-color: #985f0d;
}
.btn-warning:hover {
  color: #fff;
  background-color: #ec971f;
  border-color: #d58512;
}
.btn-warning:active,
.btn-warning.active,
.open > .dropdown-toggle.btn-warning {
  color: #fff;
  background-color: #ec971f;
  border-color: #d58512;
}
.btn-warning:active:hover,
.btn-warning.active:hover,
.open > .dropdown-toggle.btn-warning:hover,
.btn-warning:active:focus,
.btn-warning.active:focus,
.open > .dropdown-toggle.btn-warning:focus,
.btn-warning:active.focus,
.btn-warning.active.focus,
.open > .dropdown-toggle.btn-warning.focus {
  color: #fff;
  background-color: #d58512;
  border-color: #985f0d;
}
.btn-warning:active,
.btn-warning.active,
.open > .dropdown-toggle.btn-warning {
  background-image: none;
}
.btn-warning.disabled:hover,
.btn-warning[disabled]:hover,
fieldset[disabled] .btn-warning:hover,
.btn-warning.disabled:focus,
.btn-warning[disabled]:focus,
fieldset[disabled] .btn-warning:focus,
.btn-warning.disabled.focus,
.btn-warning[disabled].focus,
fieldset[disabled] .btn-warning.focus {
  background-color: #f0ad4e;
  border-color: #eea236;
}
.btn-warning .badge {
  color: #f0ad4e;
  background-color: #fff;
}
.btn-danger {
  color: #fff;
  background-color: #d9534f;
  border-color: #d43f3a;
}
.btn-danger:focus,
.btn-danger.focus {
  color: #fff;
  background-color: #c9302c;
  border-color: #761c19;
}
.btn-danger:hover {
  color: #fff;
  background-color: #c9302c;
  border-color: #ac2925;
}
.btn-danger:active,
.btn-danger.active,
.open > .dropdown-toggle.btn-danger {
  color: #fff;
  background-color: #c9302c;
  border-color: #ac2925;
}
.btn-danger:active:hover,
.btn-danger.active:hover,
.open > .dropdown-toggle.btn-danger:hover,
.btn-danger:active:focus,
.btn-danger.active:focus,
.open > .dropdown-toggle.btn-danger:focus,
.btn-danger:active.focus,
.btn-danger.active.focus,
.open > .dropdown-toggle.btn-danger.focus {
  color: #fff;
  background-color: #ac2925;
  border-color: #761c19;
}
.btn-danger:active,
.btn-danger.active,
.open > .dropdown-toggle.btn-danger {
  background-image: none;
}
.btn-danger.disabled:hover,
.btn-danger[disabled]:hover,
fieldset[disabled] .btn-danger:hover,
.btn-danger.disabled:focus,
.btn-danger[disabled]:focus,
fieldset[disabled] .btn-danger:focus,
.btn-danger.disabled.focus,
.btn-danger[disabled].focus,
fieldset[disabled] .btn-danger.focus {
  background-color: #d9534f;
  border-color: #d43f3a;
}
.btn-danger .badge {
  color: #d9534f;
  background-color: #fff;
}
.btn-link {
  color: #337ab7;
  font-weight: normal;
  border-radius: 0;
}
.btn-link,
.btn-link:active,
.btn-link.active,
.btn-link[disabled],
fieldset[disabled] .btn-link {
  background-color: transparent;
  -webkit-box-shadow: none;
  box-shadow: none;
}
.btn-link,
.btn-link:hover,
.btn-link:focus,
.btn-link:active {
  border-color: transparent;
}
.btn-link:hover,
.btn-link:focus {
  color: #23527c;
  text-decoration: underline;
  background-color: transparent;
}
.btn-link[disabled]:hover,
fieldset[disabled] .btn-link:hover,
.btn-link[disabled]:focus,
fieldset[disabled] .btn-link:focus {
  color: #777777;
  text-decoration: none;
}
.btn-lg,
.btn-group-lg > .btn {
  padding: 10px 16px;
  font-size: 17px;
  line-height: 1.3333333;
  border-radius: 3px;
}
.btn-sm,
.btn-group-sm > .btn {
  padding: 5px 10px;
  font-size: 12px;
  line-height: 1.5;
  border-radius: 1px;
}
.btn-xs,
.btn-group-xs > .btn {
  padding: 1px 5px;
  font-size: 12px;
  line-height: 1.5;
  border-radius: 1px;
}
.btn-block {
  display: block;
  width: 100%;
}
.btn-block + .btn-block {
  margin-top: 5px;
}
input[type="submit"].btn-block,
input[type="reset"].btn-block,
input[type="button"].btn-block {
  width: 100%;
}
.fade {
  opacity: 0;
  -webkit-transition: opacity 0.15s linear;
  -o-transition: opacity 0.15s linear;
  transition: opacity 0.15s linear;
}
.fade.in {
  opacity: 1;
}
.collapse {
  display: none;
}
.collapse.in {
  display: block;
}
tr.collapse.in {
  display: table-row;
}
tbody.collapse.in {
  display: table-row-group;
}
.collapsing {
  position: relative;
  height: 0;
  overflow: hidden;
  -webkit-transition-property: height, visibility;
  transition-property: height, visibility;
  -webkit-transition-duration: 0.35s;
  transition-duration: 0.35s;
  -webkit-transition-timing-function: ease;
  transition-timing-function: ease;
}
.caret {
  display: inline-block;
  width: 0;
  height: 0;
  margin-left: 2px;
  vertical-align: middle;
  border-top: 4px dashed;
  border-top: 4px solid \9;
  border-right: 4px solid transparent;
  border-left: 4px solid transparent;
}
.dropup,
.dropdown {
  position: relative;
}
.dropdown-toggle:focus {
  outline: 0;
}
.dropdown-menu {
  position: absolute;
  top: 100%;
  left: 0;
  z-index: 1000;
  display: none;
  float: left;
  min-width: 160px;
  padding: 5px 0;
  margin: 2px 0 0;
  list-style: none;
  font-size: 13px;
  text-align: left;
  background-color: #fff;
  border: 1px solid #ccc;
  border: 1px solid rgba(0, 0, 0, 0.15);
  border-radius: 2px;
  -webkit-box-shadow: 0 6px 12px rgba(0, 0, 0, 0.175);
  box-shadow: 0 6px 12px rgba(0, 0, 0, 0.175);
  background-clip: padding-box;
}
.dropdown-menu.pull-right {
  right: 0;
  left: auto;
}
.dropdown-menu .divider {
  height: 1px;
  margin: 8px 0;
  overflow: hidden;
  background-color: #e5e5e5;
}
.dropdown-menu > li > a {
  display: block;
  padding: 3px 20px;
  clear: both;
  font-weight: normal;
  line-height: 1.42857143;
  color: #333333;
  white-space: nowrap;
}
.dropdown-menu > li > a:hover,
.dropdown-menu > li > a:focus {
  text-decoration: none;
  color: #262626;
  background-color: #f5f5f5;
}
.dropdown-menu > .active > a,
.dropdown-menu > .active > a:hover,
.dropdown-menu > .active > a:focus {
  color: #fff;
  text-decoration: none;
  outline: 0;
  background-color: #337ab7;
}
.dropdown-menu > .disabled > a,
.dropdown-menu > .disabled > a:hover,
.dropdown-menu > .disabled > a:focus {
  color: #777777;
}
.dropdown-menu > .disabled > a:hover,
.dropdown-menu > .disabled > a:focus {
  text-decoration: none;
  background-color: transparent;
  background-image: none;
  filter: progid:DXImageTransform.Microsoft.gradient(enabled = false);
  cursor: not-allowed;
}
.open > .dropdown-menu {
  display: block;
}
.open > a {
  outline: 0;
}
.dropdown-menu-right {
  left: auto;
  right: 0;
}
.dropdown-menu-left {
  left: 0;
  right: auto;
}
.dropdown-header {
  display: block;
  padding: 3px 20px;
  font-size: 12px;
  line-height: 1.42857143;
  color: #777777;
  white-space: nowrap;
}
.dropdown-backdrop {
  position: fixed;
  left: 0;
  right: 0;
  bottom: 0;
  top: 0;
  z-index: 990;
}
.pull-right > .dropdown-menu {
  right: 0;
  left: auto;
}
.dropup .caret,
.navbar-fixed-bottom .dropdown .caret {
  border-top: 0;
  border-bottom: 4px dashed;
  border-bottom: 4px solid \9;
  content: "";
}
.dropup .dropdown-menu,
.navbar-fixed-bottom .dropdown .dropdown-menu {
  top: auto;
  bottom: 100%;
  margin-bottom: 2px;
}
@media (min-width: 541px) {
  .navbar-right .dropdown-menu {
    left: auto;
    right: 0;
  }
  .navbar-right .dropdown-menu-left {
    left: 0;
    right: auto;
  }
}
.btn-group,
.btn-group-vertical {
  position: relative;
  display: inline-block;
  vertical-align: middle;
}
.btn-group > .btn,
.btn-group-vertical > .btn {
  position: relative;
  float: left;
}
.btn-group > .btn:hover,
.btn-group-vertical > .btn:hover,
.btn-group > .btn:focus,
.btn-group-vertical > .btn:focus,
.btn-group > .btn:active,
.btn-group-vertical > .btn:active,
.btn-group > .btn.active,
.btn-group-vertical > .btn.active {
  z-index: 2;
}
.btn-group .btn + .btn,
.btn-group .btn + .btn-group,
.btn-group .btn-group + .btn,
.btn-group .btn-group + .btn-group {
  margin-left: -1px;
}
.btn-toolbar {
  margin-left: -5px;
}
.btn-toolbar .btn,
.btn-toolbar .btn-group,
.btn-toolbar .input-group {
  float: left;
}
.btn-toolbar > .btn,
.btn-toolbar > .btn-group,
.btn-toolbar > .input-group {
  margin-left: 5px;
}
.btn-group > .btn:not(:first-child):not(:last-child):not(.dropdown-toggle) {
  border-radius: 0;
}
.btn-group > .btn:first-child {
  margin-left: 0;
}
.btn-group > .btn:first-child:not(:last-child):not(.dropdown-toggle) {
  border-bottom-right-radius: 0;
  border-top-right-radius: 0;
}
.btn-group > .btn:last-child:not(:first-child),
.btn-group > .dropdown-toggle:not(:first-child) {
  border-bottom-left-radius: 0;
  border-top-left-radius: 0;
}
.btn-group > .btn-group {
  float: left;
}
.btn-group > .btn-group:not(:first-child):not(:last-child) > .btn {
  border-radius: 0;
}
.btn-group > .btn-group:first-child:not(:last-child) > .btn:last-child,
.btn-group > .btn-group:first-child:not(:last-child) > .dropdown-toggle {
  border-bottom-right-radius: 0;
  border-top-right-radius: 0;
}
.btn-group > .btn-group:last-child:not(:first-child) > .btn:first-child {
  border-bottom-left-radius: 0;
  border-top-left-radius: 0;
}
.btn-group .dropdown-toggle:active,
.btn-group.open .dropdown-toggle {
  outline: 0;
}
.btn-group > .btn + .dropdown-toggle {
  padding-left: 8px;
  padding-right: 8px;
}
.btn-group > .btn-lg + .dropdown-toggle {
  padding-left: 12px;
  padding-right: 12px;
}
.btn-group.open .dropdown-toggle {
  -webkit-box-shadow: inset 0 3px 5px rgba(0, 0, 0, 0.125);
  box-shadow: inset 0 3px 5px rgba(0, 0, 0, 0.125);
}
.btn-group.open .dropdown-toggle.btn-link {
  -webkit-box-shadow: none;
  box-shadow: none;
}
.btn .caret {
  margin-left: 0;
}
.btn-lg .caret {
  border-width: 5px 5px 0;
  border-bottom-width: 0;
}
.dropup .btn-lg .caret {
  border-width: 0 5px 5px;
}
.btn-group-vertical > .btn,
.btn-group-vertical > .btn-group,
.btn-group-vertical > .btn-group > .btn {
  display: block;
  float: none;
  width: 100%;
  max-width: 100%;
}
.btn-group-vertical > .btn-group > .btn {
  float: none;
}
.btn-group-vertical > .btn + .btn,
.btn-group-vertical > .btn + .btn-group,
.btn-group-vertical > .btn-group + .btn,
.btn-group-vertical > .btn-group + .btn-group {
  margin-top: -1px;
  margin-left: 0;
}
.btn-group-vertical > .btn:not(:first-child):not(:last-child) {
  border-radius: 0;
}
.btn-group-vertical > .btn:first-child:not(:last-child) {
  border-top-right-radius: 2px;
  border-top-left-radius: 2px;
  border-bottom-right-radius: 0;
  border-bottom-left-radius: 0;
}
.btn-group-vertical > .btn:last-child:not(:first-child) {
  border-top-right-radius: 0;
  border-top-left-radius: 0;
  border-bottom-right-radius: 2px;
  border-bottom-left-radius: 2px;
}
.btn-group-vertical > .btn-group:not(:first-child):not(:last-child) > .btn {
  border-radius: 0;
}
.btn-group-vertical > .btn-group:first-child:not(:last-child) > .btn:last-child,
.btn-group-vertical > .btn-group:first-child:not(:last-child) > .dropdown-toggle {
  border-bottom-right-radius: 0;
  border-bottom-left-radius: 0;
}
.btn-group-vertical > .btn-group:last-child:not(:first-child) > .btn:first-child {
  border-top-right-radius: 0;
  border-top-left-radius: 0;
}
.btn-group-justified {
  display: table;
  width: 100%;
  table-layout: fixed;
  border-collapse: separate;
}
.btn-group-justified > .btn,
.btn-group-justified > .btn-group {
  float: none;
  display: table-cell;
  width: 1%;
}
.btn-group-justified > .btn-group .btn {
  width: 100%;
}
.btn-group-justified > .btn-group .dropdown-menu {
  left: auto;
}
[data-toggle="buttons"] > .btn input[type="radio"],
[data-toggle="buttons"] > .btn-group > .btn input[type="radio"],
[data-toggle="buttons"] > .btn input[type="checkbox"],
[data-toggle="buttons"] > .btn-group > .btn input[type="checkbox"] {
  position: absolute;
  clip: rect(0, 0, 0, 0);
  pointer-events: none;
}
.input-group {
  position: relative;
  display: table;
  border-collapse: separate;
}
.input-group[class*="col-"] {
  float: none;
  padding-left: 0;
  padding-right: 0;
}
.input-group .form-control {
  position: relative;
  z-index: 2;
  float: left;
  width: 100%;
  margin-bottom: 0;
}
.input-group .form-control:focus {
  z-index: 3;
}
.input-group-lg > .form-control,
.input-group-lg > .input-group-addon,
.input-group-lg > .input-group-btn > .btn {
  height: 45px;
  padding: 10px 16px;
  font-size: 17px;
  line-height: 1.3333333;
  border-radius: 3px;
}
select.input-group-lg > .form-control,
select.input-group-lg > .input-group-addon,
select.input-group-lg > .input-group-btn > .btn {
  height: 45px;
  line-height: 45px;
}
textarea.input-group-lg > .form-control,
textarea.input-group-lg > .input-group-addon,
textarea.input-group-lg > .input-group-btn > .btn,
select[multiple].input-group-lg > .form-control,
select[multiple].input-group-lg > .input-group-addon,
select[multiple].input-group-lg > .input-group-btn > .btn {
  height: auto;
}
.input-group-sm > .form-control,
.input-group-sm > .input-group-addon,
.input-group-sm > .input-group-btn > .btn {
  height: 30px;
  padding: 5px 10px;
  font-size: 12px;
  line-height: 1.5;
  border-radius: 1px;
}
select.input-group-sm > .form-control,
select.input-group-sm > .input-group-addon,
select.input-group-sm > .input-group-btn > .btn {
  height: 30px;
  line-height: 30px;
}
textarea.input-group-sm > .form-control,
textarea.input-group-sm > .input-group-addon,
textarea.input-group-sm > .input-group-btn > .btn,
select[multiple].input-group-sm > .form-control,
select[multiple].input-group-sm > .input-group-addon,
select[multiple].input-group-sm > .input-group-btn > .btn {
  height: auto;
}
.input-group-addon,
.input-group-btn,
.input-group .form-control {
  display: table-cell;
}
.input-group-addon:not(:first-child):not(:last-child),
.input-group-btn:not(:first-child):not(:last-child),
.input-group .form-control:not(:first-child):not(:last-child) {
  border-radius: 0;
}
.input-group-addon,
.input-group-btn {
  width: 1%;
  white-space: nowrap;
  vertical-align: middle;
}
.input-group-addon {
  padding: 6px 12px;
  font-size: 13px;
  font-weight: normal;
  line-height: 1;
  color: #555555;
  text-align: center;
  background-color: #eeeeee;
  border: 1px solid #ccc;
  border-radius: 2px;
}
.input-group-addon.input-sm {
  padding: 5px 10px;
  font-size: 12px;
  border-radius: 1px;
}
.input-group-addon.input-lg {
  padding: 10px 16px;
  font-size: 17px;
  border-radius: 3px;
}
.input-group-addon input[type="radio"],
.input-group-addon input[type="checkbox"] {
  margin-top: 0;
}
.input-group .form-control:first-child,
.input-group-addon:first-child,
.input-group-btn:first-child > .btn,
.input-group-btn:first-child > .btn-group > .btn,
.input-group-btn:first-child > .dropdown-toggle,
.input-group-btn:last-child > .btn:not(:last-child):not(.dropdown-toggle),
.input-group-btn:last-child > .btn-group:not(:last-child) > .btn {
  border-bottom-right-radius: 0;
  border-top-right-radius: 0;
}
.input-group-addon:first-child {
  border-right: 0;
}
.input-group .form-control:last-child,
.input-group-addon:last-child,
.input-group-btn:last-child > .btn,
.input-group-btn:last-child > .btn-group > .btn,
.input-group-btn:last-child > .dropdown-toggle,
.input-group-btn:first-child > .btn:not(:first-child),
.input-group-btn:first-child > .btn-group:not(:first-child) > .btn {
  border-bottom-left-radius: 0;
  border-top-left-radius: 0;
}
.input-group-addon:last-child {
  border-left: 0;
}
.input-group-btn {
  position: relative;
  font-size: 0;
  white-space: nowrap;
}
.input-group-btn > .btn {
  position: relative;
}
.input-group-btn > .btn + .btn {
  margin-left: -1px;
}
.input-group-btn > .btn:hover,
.input-group-btn > .btn:focus,
.input-group-btn > .btn:active {
  z-index: 2;
}
.input-group-btn:first-child > .btn,
.input-group-btn:first-child > .btn-group {
  margin-right: -1px;
}
.input-group-btn:last-child > .btn,
.input-group-btn:last-child > .btn-group {
  z-index: 2;
  margin-left: -1px;
}
.nav {
  margin-bottom: 0;
  padding-left: 0;
  list-style: none;
}
.nav > li {
  position: relative;
  display: block;
}
.nav > li > a {
  position: relative;
  display: block;
  padding: 10px 15px;
}
.nav > li > a:hover,
.nav > li > a:focus {
  text-decoration: none;
  background-color: #eeeeee;
}
.nav > li.disabled > a {
  color: #777777;
}
.nav > li.disabled > a:hover,
.nav > li.disabled > a:focus {
  color: #777777;
  text-decoration: none;
  background-color: transparent;
  cursor: not-allowed;
}
.nav .open > a,
.nav .open > a:hover,
.nav .open > a:focus {
  background-color: #eeeeee;
  border-color: #337ab7;
}
.nav .nav-divider {
  height: 1px;
  margin: 8px 0;
  overflow: hidden;
  background-color: #e5e5e5;
}
.nav > li > a > img {
  max-width: none;
}
.nav-tabs {
  border-bottom: 1px solid #ddd;
}
.nav-tabs > li {
  float: left;
  margin-bottom: -1px;
}
.nav-tabs > li > a {
  margin-right: 2px;
  line-height: 1.42857143;
  border: 1px solid transparent;
  border-radius: 2px 2px 0 0;
}
.nav-tabs > li > a:hover {
  border-color: #eeeeee #eeeeee #ddd;
}
.nav-tabs > li.active > a,
.nav-tabs > li.active > a:hover,
.nav-tabs > li.active > a:focus {
  color: #555555;
  background-color: #fff;
  border: 1px solid #ddd;
  border-bottom-color: transparent;
  cursor: default;
}
.nav-tabs.nav-justified {
  width: 100%;
  border-bottom: 0;
}
.nav-tabs.nav-justified > li {
  float: none;
}
.nav-tabs.nav-justified > li > a {
  text-align: center;
  margin-bottom: 5px;
}
.nav-tabs.nav-justified > .dropdown .dropdown-menu {
  top: auto;
  left: auto;
}
@media (min-width: 768px) {
  .nav-tabs.nav-justified > li {
    display: table-cell;
    width: 1%;
  }
  .nav-tabs.nav-justified > li > a {
    margin-bottom: 0;
  }
}
.nav-tabs.nav-justified > li > a {
  margin-right: 0;
  border-radius: 2px;
}
.nav-tabs.nav-justified > .active > a,
.nav-tabs.nav-justified > .active > a:hover,
.nav-tabs.nav-justified > .active > a:focus {
  border: 1px solid #ddd;
}
@media (min-width: 768px) {
  .nav-tabs.nav-justified > li > a {
    border-bottom: 1px solid #ddd;
    border-radius: 2px 2px 0 0;
  }
  .nav-tabs.nav-justified > .active > a,
  .nav-tabs.nav-justified > .active > a:hover,
  .nav-tabs.nav-justified > .active > a:focus {
    border-bottom-color: #fff;
  }
}
.nav-pills > li {
  float: left;
}
.nav-pills > li > a {
  border-radius: 2px;
}
.nav-pills > li + li {
  margin-left: 2px;
}
.nav-pills > li.active > a,
.nav-pills > li.active > a:hover,
.nav-pills > li.active > a:focus {
  color: #fff;
  background-color: #337ab7;
}
.nav-stacked > li {
  float: none;
}
.nav-stacked > li + li {
  margin-top: 2px;
  margin-left: 0;
}
.nav-justified {
  width: 100%;
}
.nav-justified > li {
  float: none;
}
.nav-justified > li > a {
  text-align: center;
  margin-bottom: 5px;
}
.nav-justified > .dropdown .dropdown-menu {
  top: auto;
  left: auto;
}
@media (min-width: 768px) {
  .nav-justified > li {
    display: table-cell;
    width: 1%;
  }
  .nav-justified > li > a {
    margin-bottom: 0;
  }
}
.nav-tabs-justified {
  border-bottom: 0;
}
.nav-tabs-justified > li > a {
  margin-right: 0;
  border-radius: 2px;
}
.nav-tabs-justified > .active > a,
.nav-tabs-justified > .active > a:hover,
.nav-tabs-justified > .active > a:focus {
  border: 1px solid #ddd;
}
@media (min-width: 768px) {
  .nav-tabs-justified > li > a {
    border-bottom: 1px solid #ddd;
    border-radius: 2px 2px 0 0;
  }
  .nav-tabs-justified > .active > a,
  .nav-tabs-justified > .active > a:hover,
  .nav-tabs-justified > .active > a:focus {
    border-bottom-color: #fff;
  }
}
.tab-content > .tab-pane {
  display: none;
}
.tab-content > .active {
  display: block;
}
.nav-tabs .dropdown-menu {
  margin-top: -1px;
  border-top-right-radius: 0;
  border-top-left-radius: 0;
}
.navbar {
  position: relative;
  min-height: 30px;
  margin-bottom: 18px;
  border: 1px solid transparent;
}
@media (min-width: 541px) {
  .navbar {
    border-radius: 2px;
  }
}
@media (min-width: 541px) {
  .navbar-header {
    float: left;
  }
}
.navbar-collapse {
  overflow-x: visible;
  padding-right: 0px;
  padding-left: 0px;
  border-top: 1px solid transparent;
  box-shadow: inset 0 1px 0 rgba(255, 255, 255, 0.1);
  -webkit-overflow-scrolling: touch;
}
.navbar-collapse.in {
  overflow-y: auto;
}
@media (min-width: 541px) {
  .navbar-collapse {
    width: auto;
    border-top: 0;
    box-shadow: none;
  }
  .navbar-collapse.collapse {
    display: block !important;
    height: auto !important;
    padding-bottom: 0;
    overflow: visible !important;
  }
  .navbar-collapse.in {
    overflow-y: visible;
  }
  .navbar-fixed-top .navbar-collapse,
  .navbar-static-top .navbar-collapse,
  .navbar-fixed-bottom .navbar-collapse {
    padding-left: 0;
    padding-right: 0;
  }
}
.navbar-fixed-top .navbar-collapse,
.navbar-fixed-bottom .navbar-collapse {
  max-height: 340px;
}
@media (max-device-width: 540px) and (orientation: landscape) {
  .navbar-fixed-top .navbar-collapse,
  .navbar-fixed-bottom .navbar-collapse {
    max-height: 200px;
  }
}
.container > .navbar-header,
.container-fluid > .navbar-header,
.container > .navbar-collapse,
.container-fluid > .navbar-collapse {
  margin-right: 0px;
  margin-left: 0px;
}
@media (min-width: 541px) {
  .container > .navbar-header,
  .container-fluid > .navbar-header,
  .container > .navbar-collapse,
  .container-fluid > .navbar-collapse {
    margin-right: 0;
    margin-left: 0;
  }
}
.navbar-static-top {
  z-index: 1000;
  border-width: 0 0 1px;
}
@media (min-width: 541px) {
  .navbar-static-top {
    border-radius: 0;
  }
}
.navbar-fixed-top,
.navbar-fixed-bottom {
  position: fixed;
  right: 0;
  left: 0;
  z-index: 1030;
}
@media (min-width: 541px) {
  .navbar-fixed-top,
  .navbar-fixed-bottom {
    border-radius: 0;
  }
}
.navbar-fixed-top {
  top: 0;
  border-width: 0 0 1px;
}
.navbar-fixed-bottom {
  bottom: 0;
  margin-bottom: 0;
  border-width: 1px 0 0;
}
.navbar-brand {
  float: left;
  padding: 6px 0px;
  font-size: 17px;
  line-height: 18px;
  height: 30px;
}
.navbar-brand:hover,
.navbar-brand:focus {
  text-decoration: none;
}
.navbar-brand > img {
  display: block;
}
@media (min-width: 541px) {
  .navbar > .container .navbar-brand,
  .navbar > .container-fluid .navbar-brand {
    margin-left: 0px;
  }
}
.navbar-toggle {
  position: relative;
  float: right;
  margin-right: 0px;
  padding: 9px 10px;
  margin-top: -2px;
  margin-bottom: -2px;
  background-color: transparent;
  background-image: none;
  border: 1px solid transparent;
  border-radius: 2px;
}
.navbar-toggle:focus {
  outline: 0;
}
.navbar-toggle .icon-bar {
  display: block;
  width: 22px;
  height: 2px;
  border-radius: 1px;
}
.navbar-toggle .icon-bar + .icon-bar {
  margin-top: 4px;
}
@media (min-width: 541px) {
  .navbar-toggle {
    display: none;
  }
}
.navbar-nav {
  margin: 3px 0px;
}
.navbar-nav > li > a {
  padding-top: 10px;
  padding-bottom: 10px;
  line-height: 18px;
}
@media (max-width: 540px) {
  .navbar-nav .open .dropdown-menu {
    position: static;
    float: none;
    width: auto;
    margin-top: 0;
    background-color: transparent;
    border: 0;
    box-shadow: none;
  }
  .navbar-nav .open .dropdown-menu > li > a,
  .navbar-nav .open .dropdown-menu .dropdown-header {
    padding: 5px 15px 5px 25px;
  }
  .navbar-nav .open .dropdown-menu > li > a {
    line-height: 18px;
  }
  .navbar-nav .open .dropdown-menu > li > a:hover,
  .navbar-nav .open .dropdown-menu > li > a:focus {
    background-image: none;
  }
}
@media (min-width: 541px) {
  .navbar-nav {
    float: left;
    margin: 0;
  }
  .navbar-nav > li {
    float: left;
  }
  .navbar-nav > li > a {
    padding-top: 6px;
    padding-bottom: 6px;
  }
}
.navbar-form {
  margin-left: 0px;
  margin-right: 0px;
  padding: 10px 0px;
  border-top: 1px solid transparent;
  border-bottom: 1px solid transparent;
  -webkit-box-shadow: inset 0 1px 0 rgba(255, 255, 255, 0.1), 0 1px 0 rgba(255, 255, 255, 0.1);
  box-shadow: inset 0 1px 0 rgba(255, 255, 255, 0.1), 0 1px 0 rgba(255, 255, 255, 0.1);
  margin-top: -1px;
  margin-bottom: -1px;
}
@media (min-width: 768px) {
  .navbar-form .form-group {
    display: inline-block;
    margin-bottom: 0;
    vertical-align: middle;
  }
  .navbar-form .form-control {
    display: inline-block;
    width: auto;
    vertical-align: middle;
  }
  .navbar-form .form-control-static {
    display: inline-block;
  }
  .navbar-form .input-group {
    display: inline-table;
    vertical-align: middle;
  }
  .navbar-form .input-group .input-group-addon,
  .navbar-form .input-group .input-group-btn,
  .navbar-form .input-group .form-control {
    width: auto;
  }
  .navbar-form .input-group > .form-control {
    width: 100%;
  }
  .navbar-form .control-label {
    margin-bottom: 0;
    vertical-align: middle;
  }
  .navbar-form .radio,
  .navbar-form .checkbox {
    display: inline-block;
    margin-top: 0;
    margin-bottom: 0;
    vertical-align: middle;
  }
  .navbar-form .radio label,
  .navbar-form .checkbox label {
    padding-left: 0;
  }
  .navbar-form .radio input[type="radio"],
  .navbar-form .checkbox input[type="checkbox"] {
    position: relative;
    margin-left: 0;
  }
  .navbar-form .has-feedback .form-control-feedback {
    top: 0;
  }
}
@media (max-width: 540px) {
  .navbar-form .form-group {
    margin-bottom: 5px;
  }
  .navbar-form .form-group:last-child {
    margin-bottom: 0;
  }
}
@media (min-width: 541px) {
  .navbar-form {
    width: auto;
    border: 0;
    margin-left: 0;
    margin-right: 0;
    padding-top: 0;
    padding-bottom: 0;
    -webkit-box-shadow: none;
    box-shadow: none;
  }
}
.navbar-nav > li > .dropdown-menu {
  margin-top: 0;
  border-top-right-radius: 0;
  border-top-left-radius: 0;
}
.navbar-fixed-bottom .navbar-nav > li > .dropdown-menu {
  margin-bottom: 0;
  border-top-right-radius: 2px;
  border-top-left-radius: 2px;
  border-bottom-right-radius: 0;
  border-bottom-left-radius: 0;
}
.navbar-btn {
  margin-top: -1px;
  margin-bottom: -1px;
}
.navbar-btn.btn-sm {
  margin-top: 0px;
  margin-bottom: 0px;
}
.navbar-btn.btn-xs {
  margin-top: 4px;
  margin-bottom: 4px;
}
.navbar-text {
  margin-top: 6px;
  margin-bottom: 6px;
}
@media (min-width: 541px) {
  .navbar-text {
    float: left;
    margin-left: 0px;
    margin-right: 0px;
  }
}
@media (min-width: 541px) {
  .navbar-left {
    float: left !important;
    float: left;
  }
  .navbar-right {
    float: right !important;
    float: right;
    margin-right: 0px;
  }
  .navbar-right ~ .navbar-right {
    margin-right: 0;
  }
}
.navbar-default {
  background-color: #f8f8f8;
  border-color: #e7e7e7;
}
.navbar-default .navbar-brand {
  color: #777;
}
.navbar-default .navbar-brand:hover,
.navbar-default .navbar-brand:focus {
  color: #5e5e5e;
  background-color: transparent;
}
.navbar-default .navbar-text {
  color: #777;
}
.navbar-default .navbar-nav > li > a {
  color: #777;
}
.navbar-default .navbar-nav > li > a:hover,
.navbar-default .navbar-nav > li > a:focus {
  color: #333;
  background-color: transparent;
}
.navbar-default .navbar-nav > .active > a,
.navbar-default .navbar-nav > .active > a:hover,
.navbar-default .navbar-nav > .active > a:focus {
  color: #555;
  background-color: #e7e7e7;
}
.navbar-default .navbar-nav > .disabled > a,
.navbar-default .navbar-nav > .disabled > a:hover,
.navbar-default .navbar-nav > .disabled > a:focus {
  color: #ccc;
  background-color: transparent;
}
.navbar-default .navbar-toggle {
  border-color: #ddd;
}
.navbar-default .navbar-toggle:hover,
.navbar-default .navbar-toggle:focus {
  background-color: #ddd;
}
.navbar-default .navbar-toggle .icon-bar {
  background-color: #888;
}
.navbar-default .navbar-collapse,
.navbar-default .navbar-form {
  border-color: #e7e7e7;
}
.navbar-default .navbar-nav > .open > a,
.navbar-default .navbar-nav > .open > a:hover,
.navbar-default .navbar-nav > .open > a:focus {
  background-color: #e7e7e7;
  color: #555;
}
@media (max-width: 540px) {
  .navbar-default .navbar-nav .open .dropdown-menu > li > a {
    color: #777;
  }
  .navbar-default .navbar-nav .open .dropdown-menu > li > a:hover,
  .navbar-default .navbar-nav .open .dropdown-menu > li > a:focus {
    color: #333;
    background-color: transparent;
  }
  .navbar-default .navbar-nav .open .dropdown-menu > .active > a,
  .navbar-default .navbar-nav .open .dropdown-menu > .active > a:hover,
  .navbar-default .navbar-nav .open .dropdown-menu > .active > a:focus {
    color: #555;
    background-color: #e7e7e7;
  }
  .navbar-default .navbar-nav .open .dropdown-menu > .disabled > a,
  .navbar-default .navbar-nav .open .dropdown-menu > .disabled > a:hover,
  .navbar-default .navbar-nav .open .dropdown-menu > .disabled > a:focus {
    color: #ccc;
    background-color: transparent;
  }
}
.navbar-default .navbar-link {
  color: #777;
}
.navbar-default .navbar-link:hover {
  color: #333;
}
.navbar-default .btn-link {
  color: #777;
}
.navbar-default .btn-link:hover,
.navbar-default .btn-link:focus {
  color: #333;
}
.navbar-default .btn-link[disabled]:hover,
fieldset[disabled] .navbar-default .btn-link:hover,
.navbar-default .btn-link[disabled]:focus,
fieldset[disabled] .navbar-default .btn-link:focus {
  color: #ccc;
}
.navbar-inverse {
  background-color: #222;
  border-color: #080808;
}
.navbar-inverse .navbar-brand {
  color: #9d9d9d;
}
.navbar-inverse .navbar-brand:hover,
.navbar-inverse .navbar-brand:focus {
  color: #fff;
  background-color: transparent;
}
.navbar-inverse .navbar-text {
  color: #9d9d9d;
}
.navbar-inverse .navbar-nav > li > a {
  color: #9d9d9d;
}
.navbar-inverse .navbar-nav > li > a:hover,
.navbar-inverse .navbar-nav > li > a:focus {
  color: #fff;
  background-color: transparent;
}
.navbar-inverse .navbar-nav > .active > a,
.navbar-inverse .navbar-nav > .active > a:hover,
.navbar-inverse .navbar-nav > .active > a:focus {
  color: #fff;
  background-color: #080808;
}
.navbar-inverse .navbar-nav > .disabled > a,
.navbar-inverse .navbar-nav > .disabled > a:hover,
.navbar-inverse .navbar-nav > .disabled > a:focus {
  color: #444;
  background-color: transparent;
}
.navbar-inverse .navbar-toggle {
  border-color: #333;
}
.navbar-inverse .navbar-toggle:hover,
.navbar-inverse .navbar-toggle:focus {
  background-color: #333;
}
.navbar-inverse .navbar-toggle .icon-bar {
  background-color: #fff;
}
.navbar-inverse .navbar-collapse,
.navbar-inverse .navbar-form {
  border-color: #101010;
}
.navbar-inverse .navbar-nav > .open > a,
.navbar-inverse .navbar-nav > .open > a:hover,
.navbar-inverse .navbar-nav > .open > a:focus {
  background-color: #080808;
  color: #fff;
}
@media (max-width: 540px) {
  .navbar-inverse .navbar-nav .open .dropdown-menu > .dropdown-header {
    border-color: #080808;
  }
  .navbar-inverse .navbar-nav .open .dropdown-menu .divider {
    background-color: #080808;
  }
  .navbar-inverse .navbar-nav .open .dropdown-menu > li > a {
    color: #9d9d9d;
  }
  .navbar-inverse .navbar-nav .open .dropdown-menu > li > a:hover,
  .navbar-inverse .navbar-nav .open .dropdown-menu > li > a:focus {
    color: #fff;
    background-color: transparent;
  }
  .navbar-inverse .navbar-nav .open .dropdown-menu > .active > a,
  .navbar-inverse .navbar-nav .open .dropdown-menu > .active > a:hover,
  .navbar-inverse .navbar-nav .open .dropdown-menu > .active > a:focus {
    color: #fff;
    background-color: #080808;
  }
  .navbar-inverse .navbar-nav .open .dropdown-menu > .disabled > a,
  .navbar-inverse .navbar-nav .open .dropdown-menu > .disabled > a:hover,
  .navbar-inverse .navbar-nav .open .dropdown-menu > .disabled > a:focus {
    color: #444;
    background-color: transparent;
  }
}
.navbar-inverse .navbar-link {
  color: #9d9d9d;
}
.navbar-inverse .navbar-link:hover {
  color: #fff;
}
.navbar-inverse .btn-link {
  color: #9d9d9d;
}
.navbar-inverse .btn-link:hover,
.navbar-inverse .btn-link:focus {
  color: #fff;
}
.navbar-inverse .btn-link[disabled]:hover,
fieldset[disabled] .navbar-inverse .btn-link:hover,
.navbar-inverse .btn-link[disabled]:focus,
fieldset[disabled] .navbar-inverse .btn-link:focus {
  color: #444;
}
.breadcrumb {
  padding: 8px 15px;
  margin-bottom: 18px;
  list-style: none;
  background-color: #f5f5f5;
  border-radius: 2px;
}
.breadcrumb > li {
  display: inline-block;
}
.breadcrumb > li + li:before {
  content: "/\00a0";
  padding: 0 5px;
  color: #5e5e5e;
}
.breadcrumb > .active {
  color: #777777;
}
.pagination {
  display: inline-block;
  padding-left: 0;
  margin: 18px 0;
  border-radius: 2px;
}
.pagination > li {
  display: inline;
}
.pagination > li > a,
.pagination > li > span {
  position: relative;
  float: left;
  padding: 6px 12px;
  line-height: 1.42857143;
  text-decoration: none;
  color: #337ab7;
  background-color: #fff;
  border: 1px solid #ddd;
  margin-left: -1px;
}
.pagination > li:first-child > a,
.pagination > li:first-child > span {
  margin-left: 0;
  border-bottom-left-radius: 2px;
  border-top-left-radius: 2px;
}
.pagination > li:last-child > a,
.pagination > li:last-child > span {
  border-bottom-right-radius: 2px;
  border-top-right-radius: 2px;
}
.pagination > li > a:hover,
.pagination > li > span:hover,
.pagination > li > a:focus,
.pagination > li > span:focus {
  z-index: 2;
  color: #23527c;
  background-color: #eeeeee;
  border-color: #ddd;
}
.pagination > .active > a,
.pagination > .active > span,
.pagination > .active > a:hover,
.pagination > .active > span:hover,
.pagination > .active > a:focus,
.pagination > .active > span:focus {
  z-index: 3;
  color: #fff;
  background-color: #337ab7;
  border-color: #337ab7;
  cursor: default;
}
.pagination > .disabled > span,
.pagination > .disabled > span:hover,
.pagination > .disabled > span:focus,
.pagination > .disabled > a,
.pagination > .disabled > a:hover,
.pagination > .disabled > a:focus {
  color: #777777;
  background-color: #fff;
  border-color: #ddd;
  cursor: not-allowed;
}
.pagination-lg > li > a,
.pagination-lg > li > span {
  padding: 10px 16px;
  font-size: 17px;
  line-height: 1.3333333;
}
.pagination-lg > li:first-child > a,
.pagination-lg > li:first-child > span {
  border-bottom-left-radius: 3px;
  border-top-left-radius: 3px;
}
.pagination-lg > li:last-child > a,
.pagination-lg > li:last-child > span {
  border-bottom-right-radius: 3px;
  border-top-right-radius: 3px;
}
.pagination-sm > li > a,
.pagination-sm > li > span {
  padding: 5px 10px;
  font-size: 12px;
  line-height: 1.5;
}
.pagination-sm > li:first-child > a,
.pagination-sm > li:first-child > span {
  border-bottom-left-radius: 1px;
  border-top-left-radius: 1px;
}
.pagination-sm > li:last-child > a,
.pagination-sm > li:last-child > span {
  border-bottom-right-radius: 1px;
  border-top-right-radius: 1px;
}
.pager {
  padding-left: 0;
  margin: 18px 0;
  list-style: none;
  text-align: center;
}
.pager li {
  display: inline;
}
.pager li > a,
.pager li > span {
  display: inline-block;
  padding: 5px 14px;
  background-color: #fff;
  border: 1px solid #ddd;
  border-radius: 15px;
}
.pager li > a:hover,
.pager li > a:focus {
  text-decoration: none;
  background-color: #eeeeee;
}
.pager .next > a,
.pager .next > span {
  float: right;
}
.pager .previous > a,
.pager .previous > span {
  float: left;
}
.pager .disabled > a,
.pager .disabled > a:hover,
.pager .disabled > a:focus,
.pager .disabled > span {
  color: #777777;
  background-color: #fff;
  cursor: not-allowed;
}
.label {
  display: inline;
  padding: .2em .6em .3em;
  font-size: 75%;
  font-weight: bold;
  line-height: 1;
  color: #fff;
  text-align: center;
  white-space: nowrap;
  vertical-align: baseline;
  border-radius: .25em;
}
a.label:hover,
a.label:focus {
  color: #fff;
  text-decoration: none;
  cursor: pointer;
}
.label:empty {
  display: none;
}
.btn .label {
  position: relative;
  top: -1px;
}
.label-default {
  background-color: #777777;
}
.label-default[href]:hover,
.label-default[href]:focus {
  background-color: #5e5e5e;
}
.label-primary {
  background-color: #337ab7;
}
.label-primary[href]:hover,
.label-primary[href]:focus {
  background-color: #286090;
}
.label-success {
  background-color: #5cb85c;
}
.label-success[href]:hover,
.label-success[href]:focus {
  background-color: #449d44;
}
.label-info {
  background-color: #5bc0de;
}
.label-info[href]:hover,
.label-info[href]:focus {
  background-color: #31b0d5;
}
.label-warning {
  background-color: #f0ad4e;
}
.label-warning[href]:hover,
.label-warning[href]:focus {
  background-color: #ec971f;
}
.label-danger {
  background-color: #d9534f;
}
.label-danger[href]:hover,
.label-danger[href]:focus {
  background-color: #c9302c;
}
.badge {
  display: inline-block;
  min-width: 10px;
  padding: 3px 7px;
  font-size: 12px;
  font-weight: bold;
  color: #fff;
  line-height: 1;
  vertical-align: middle;
  white-space: nowrap;
  text-align: center;
  background-color: #777777;
  border-radius: 10px;
}
.badge:empty {
  display: none;
}
.btn .badge {
  position: relative;
  top: -1px;
}
.btn-xs .badge,
.btn-group-xs > .btn .badge {
  top: 0;
  padding: 1px 5px;
}
a.badge:hover,
a.badge:focus {
  color: #fff;
  text-decoration: none;
  cursor: pointer;
}
.list-group-item.active > .badge,
.nav-pills > .active > a > .badge {
  color: #337ab7;
  background-color: #fff;
}
.list-group-item > .badge {
  float: right;
}
.list-group-item > .badge + .badge {
  margin-right: 5px;
}
.nav-pills > li > a > .badge {
  margin-left: 3px;
}
.jumbotron {
  padding-top: 30px;
  padding-bottom: 30px;
  margin-bottom: 30px;
  color: inherit;
  background-color: #eeeeee;
}
.jumbotron h1,
.jumbotron .h1 {
  color: inherit;
}
.jumbotron p {
  margin-bottom: 15px;
  font-size: 20px;
  font-weight: 200;
}
.jumbotron > hr {
  border-top-color: #d5d5d5;
}
.container .jumbotron,
.container-fluid .jumbotron {
  border-radius: 3px;
  padding-left: 0px;
  padding-right: 0px;
}
.jumbotron .container {
  max-width: 100%;
}
@media screen and (min-width: 768px) {
  .jumbotron {
    padding-top: 48px;
    padding-bottom: 48px;
  }
  .container .jumbotron,
  .container-fluid .jumbotron {
    padding-left: 60px;
    padding-right: 60px;
  }
  .jumbotron h1,
  .jumbotron .h1 {
    font-size: 59px;
  }
}
.thumbnail {
  display: block;
  padding: 4px;
  margin-bottom: 18px;
  line-height: 1.42857143;
  background-color: #fff;
  border: 1px solid #ddd;
  border-radius: 2px;
  -webkit-transition: border 0.2s ease-in-out;
  -o-transition: border 0.2s ease-in-out;
  transition: border 0.2s ease-in-out;
}
.thumbnail > img,
.thumbnail a > img {
  margin-left: auto;
  margin-right: auto;
}
a.thumbnail:hover,
a.thumbnail:focus,
a.thumbnail.active {
  border-color: #337ab7;
}
.thumbnail .caption {
  padding: 9px;
  color: #000;
}
.alert {
  padding: 15px;
  margin-bottom: 18px;
  border: 1px solid transparent;
  border-radius: 2px;
}
.alert h4 {
  margin-top: 0;
  color: inherit;
}
.alert .alert-link {
  font-weight: bold;
}
.alert > p,
.alert > ul {
  margin-bottom: 0;
}
.alert > p + p {
  margin-top: 5px;
}
.alert-dismissable,
.alert-dismissible {
  padding-right: 35px;
}
.alert-dismissable .close,
.alert-dismissible .close {
  position: relative;
  top: -2px;
  right: -21px;
  color: inherit;
}
.alert-success {
  background-color: #dff0d8;
  border-color: #d6e9c6;
  color: #3c763d;
}
.alert-success hr {
  border-top-color: #c9e2b3;
}
.alert-success .alert-link {
  color: #2b542c;
}
.alert-info {
  background-color: #d9edf7;
  border-color: #bce8f1;
  color: #31708f;
}
.alert-info hr {
  border-top-color: #a6e1ec;
}
.alert-info .alert-link {
  color: #245269;
}
.alert-warning {
  background-color: #fcf8e3;
  border-color: #faebcc;
  color: #8a6d3b;
}
.alert-warning hr {
  border-top-color: #f7e1b5;
}
.alert-warning .alert-link {
  color: #66512c;
}
.alert-danger {
  background-color: #f2dede;
  border-color: #ebccd1;
  color: #a94442;
}
.alert-danger hr {
  border-top-color: #e4b9c0;
}
.alert-danger .alert-link {
  color: #843534;
}
@-webkit-keyframes progress-bar-stripes {
  from {
    background-position: 40px 0;
  }
  to {
    background-position: 0 0;
  }
}
@keyframes progress-bar-stripes {
  from {
    background-position: 40px 0;
  }
  to {
    background-position: 0 0;
  }
}
.progress {
  overflow: hidden;
  height: 18px;
  margin-bottom: 18px;
  background-color: #f5f5f5;
  border-radius: 2px;
  -webkit-box-shadow: inset 0 1px 2px rgba(0, 0, 0, 0.1);
  box-shadow: inset 0 1px 2px rgba(0, 0, 0, 0.1);
}
.progress-bar {
  float: left;
  width: 0%;
  height: 100%;
  font-size: 12px;
  line-height: 18px;
  color: #fff;
  text-align: center;
  background-color: #337ab7;
  -webkit-box-shadow: inset 0 -1px 0 rgba(0, 0, 0, 0.15);
  box-shadow: inset 0 -1px 0 rgba(0, 0, 0, 0.15);
  -webkit-transition: width 0.6s ease;
  -o-transition: width 0.6s ease;
  transition: width 0.6s ease;
}
.progress-striped .progress-bar,
.progress-bar-striped {
  background-image: -webkit-linear-gradient(45deg, rgba(255, 255, 255, 0.15) 25%, transparent 25%, transparent 50%, rgba(255, 255, 255, 0.15) 50%, rgba(255, 255, 255, 0.15) 75%, transparent 75%, transparent);
  background-image: -o-linear-gradient(45deg, rgba(255, 255, 255, 0.15) 25%, transparent 25%, transparent 50%, rgba(255, 255, 255, 0.15) 50%, rgba(255, 255, 255, 0.15) 75%, transparent 75%, transparent);
  background-image: linear-gradient(45deg, rgba(255, 255, 255, 0.15) 25%, transparent 25%, transparent 50%, rgba(255, 255, 255, 0.15) 50%, rgba(255, 255, 255, 0.15) 75%, transparent 75%, transparent);
  background-size: 40px 40px;
}
.progress.active .progress-bar,
.progress-bar.active {
  -webkit-animation: progress-bar-stripes 2s linear infinite;
  -o-animation: progress-bar-stripes 2s linear infinite;
  animation: progress-bar-stripes 2s linear infinite;
}
.progress-bar-success {
  background-color: #5cb85c;
}
.progress-striped .progress-bar-success {
  background-image: -webkit-linear-gradient(45deg, rgba(255, 255, 255, 0.15) 25%, transparent 25%, transparent 50%, rgba(255, 255, 255, 0.15) 50%, rgba(255, 255, 255, 0.15) 75%, transparent 75%, transparent);
  background-image: -o-linear-gradient(45deg, rgba(255, 255, 255, 0.15) 25%, transparent 25%, transparent 50%, rgba(255, 255, 255, 0.15) 50%, rgba(255, 255, 255, 0.15) 75%, transparent 75%, transparent);
  background-image: linear-gradient(45deg, rgba(255, 255, 255, 0.15) 25%, transparent 25%, transparent 50%, rgba(255, 255, 255, 0.15) 50%, rgba(255, 255, 255, 0.15) 75%, transparent 75%, transparent);
}
.progress-bar-info {
  background-color: #5bc0de;
}
.progress-striped .progress-bar-info {
  background-image: -webkit-linear-gradient(45deg, rgba(255, 255, 255, 0.15) 25%, transparent 25%, transparent 50%, rgba(255, 255, 255, 0.15) 50%, rgba(255, 255, 255, 0.15) 75%, transparent 75%, transparent);
  background-image: -o-linear-gradient(45deg, rgba(255, 255, 255, 0.15) 25%, transparent 25%, transparent 50%, rgba(255, 255, 255, 0.15) 50%, rgba(255, 255, 255, 0.15) 75%, transparent 75%, transparent);
  background-image: linear-gradient(45deg, rgba(255, 255, 255, 0.15) 25%, transparent 25%, transparent 50%, rgba(255, 255, 255, 0.15) 50%, rgba(255, 255, 255, 0.15) 75%, transparent 75%, transparent);
}
.progress-bar-warning {
  background-color: #f0ad4e;
}
.progress-striped .progress-bar-warning {
  background-image: -webkit-linear-gradient(45deg, rgba(255, 255, 255, 0.15) 25%, transparent 25%, transparent 50%, rgba(255, 255, 255, 0.15) 50%, rgba(255, 255, 255, 0.15) 75%, transparent 75%, transparent);
  background-image: -o-linear-gradient(45deg, rgba(255, 255, 255, 0.15) 25%, transparent 25%, transparent 50%, rgba(255, 255, 255, 0.15) 50%, rgba(255, 255, 255, 0.15) 75%, transparent 75%, transparent);
  background-image: linear-gradient(45deg, rgba(255, 255, 255, 0.15) 25%, transparent 25%, transparent 50%, rgba(255, 255, 255, 0.15) 50%, rgba(255, 255, 255, 0.15) 75%, transparent 75%, transparent);
}
.progress-bar-danger {
  background-color: #d9534f;
}
.progress-striped .progress-bar-danger {
  background-image: -webkit-linear-gradient(45deg, rgba(255, 255, 255, 0.15) 25%, transparent 25%, transparent 50%, rgba(255, 255, 255, 0.15) 50%, rgba(255, 255, 255, 0.15) 75%, transparent 75%, transparent);
  background-image: -o-linear-gradient(45deg, rgba(255, 255, 255, 0.15) 25%, transparent 25%, transparent 50%, rgba(255, 255, 255, 0.15) 50%, rgba(255, 255, 255, 0.15) 75%, transparent 75%, transparent);
  background-image: linear-gradient(45deg, rgba(255, 255, 255, 0.15) 25%, transparent 25%, transparent 50%, rgba(255, 255, 255, 0.15) 50%, rgba(255, 255, 255, 0.15) 75%, transparent 75%, transparent);
}
.media {
  margin-top: 15px;
}
.media:first-child {
  margin-top: 0;
}
.media,
.media-body {
  zoom: 1;
  overflow: hidden;
}
.media-body {
  width: 10000px;
}
.media-object {
  display: block;
}
.media-object.img-thumbnail {
  max-width: none;
}
.media-right,
.media > .pull-right {
  padding-left: 10px;
}
.media-left,
.media > .pull-left {
  padding-right: 10px;
}
.media-left,
.media-right,
.media-body {
  display: table-cell;
  vertical-align: top;
}
.media-middle {
  vertical-align: middle;
}
.media-bottom {
  vertical-align: bottom;
}
.media-heading {
  margin-top: 0;
  margin-bottom: 5px;
}
.media-list {
  padding-left: 0;
  list-style: none;
}
.list-group {
  margin-bottom: 20px;
  padding-left: 0;
}
.list-group-item {
  position: relative;
  display: block;
  padding: 10px 15px;
  margin-bottom: -1px;
  background-color: #fff;
  border: 1px solid #ddd;
}
.list-group-item:first-child {
  border-top-right-radius: 2px;
  border-top-left-radius: 2px;
}
.list-group-item:last-child {
  margin-bottom: 0;
  border-bottom-right-radius: 2px;
  border-bottom-left-radius: 2px;
}
a.list-group-item,
button.list-group-item {
  color: #555;
}
a.list-group-item .list-group-item-heading,
button.list-group-item .list-group-item-heading {
  color: #333;
}
a.list-group-item:hover,
button.list-group-item:hover,
a.list-group-item:focus,
button.list-group-item:focus {
  text-decoration: none;
  color: #555;
  background-color: #f5f5f5;
}
button.list-group-item {
  width: 100%;
  text-align: left;
}
.list-group-item.disabled,
.list-group-item.disabled:hover,
.list-group-item.disabled:focus {
  background-color: #eeeeee;
  color: #777777;
  cursor: not-allowed;
}
.list-group-item.disabled .list-group-item-heading,
.list-group-item.disabled:hover .list-group-item-heading,
.list-group-item.disabled:focus .list-group-item-heading {
  color: inherit;
}
.list-group-item.disabled .list-group-item-text,
.list-group-item.disabled:hover .list-group-item-text,
.list-group-item.disabled:focus .list-group-item-text {
  color: #777777;
}
.list-group-item.active,
.list-group-item.active:hover,
.list-group-item.active:focus {
  z-index: 2;
  color: #fff;
  background-color: #337ab7;
  border-color: #337ab7;
}
.list-group-item.active .list-group-item-heading,
.list-group-item.active:hover .list-group-item-heading,
.list-group-item.active:focus .list-group-item-heading,
.list-group-item.active .list-group-item-heading > small,
.list-group-item.active:hover .list-group-item-heading > small,
.list-group-item.active:focus .list-group-item-heading > small,
.list-group-item.active .list-group-item-heading > .small,
.list-group-item.active:hover .list-group-item-heading > .small,
.list-group-item.active:focus .list-group-item-heading > .small {
  color: inherit;
}
.list-group-item.active .list-group-item-text,
.list-group-item.active:hover .list-group-item-text,
.list-group-item.active:focus .list-group-item-text {
  color: #c7ddef;
}
.list-group-item-success {
  color: #3c763d;
  background-color: #dff0d8;
}
a.list-group-item-success,
button.list-group-item-success {
  color: #3c763d;
}
a.list-group-item-success .list-group-item-heading,
button.list-group-item-success .list-group-item-heading {
  color: inherit;
}
a.list-group-item-success:hover,
button.list-group-item-success:hover,
a.list-group-item-success:focus,
button.list-group-item-success:focus {
  color: #3c763d;
  background-color: #d0e9c6;
}
a.list-group-item-success.active,
button.list-group-item-success.active,
a.list-group-item-success.active:hover,
button.list-group-item-success.active:hover,
a.list-group-item-success.active:focus,
button.list-group-item-success.active:focus {
  color: #fff;
  background-color: #3c763d;
  border-color: #3c763d;
}
.list-group-item-info {
  color: #31708f;
  background-color: #d9edf7;
}
a.list-group-item-info,
button.list-group-item-info {
  color: #31708f;
}
a.list-group-item-info .list-group-item-heading,
button.list-group-item-info .list-group-item-heading {
  color: inherit;
}
a.list-group-item-info:hover,
button.list-group-item-info:hover,
a.list-group-item-info:focus,
button.list-group-item-info:focus {
  color: #31708f;
  background-color: #c4e3f3;
}
a.list-group-item-info.active,
button.list-group-item-info.active,
a.list-group-item-info.active:hover,
button.list-group-item-info.active:hover,
a.list-group-item-info.active:focus,
button.list-group-item-info.active:focus {
  color: #fff;
  background-color: #31708f;
  border-color: #31708f;
}
.list-group-item-warning {
  color: #8a6d3b;
  background-color: #fcf8e3;
}
a.list-group-item-warning,
button.list-group-item-warning {
  color: #8a6d3b;
}
a.list-group-item-warning .list-group-item-heading,
button.list-group-item-warning .list-group-item-heading {
  color: inherit;
}
a.list-group-item-warning:hover,
button.list-group-item-warning:hover,
a.list-group-item-warning:focus,
button.list-group-item-warning:focus {
  color: #8a6d3b;
  background-color: #faf2cc;
}
a.list-group-item-warning.active,
button.list-group-item-warning.active,
a.list-group-item-warning.active:hover,
button.list-group-item-warning.active:hover,
a.list-group-item-warning.active:focus,
button.list-group-item-warning.active:focus {
  color: #fff;
  background-color: #8a6d3b;
  border-color: #8a6d3b;
}
.list-group-item-danger {
  color: #a94442;
  background-color: #f2dede;
}
a.list-group-item-danger,
button.list-group-item-danger {
  color: #a94442;
}
a.list-group-item-danger .list-group-item-heading,
button.list-group-item-danger .list-group-item-heading {
  color: inherit;
}
a.list-group-item-danger:hover,
button.list-group-item-danger:hover,
a.list-group-item-danger:focus,
button.list-group-item-danger:focus {
  color: #a94442;
  background-color: #ebcccc;
}
a.list-group-item-danger.active,
button.list-group-item-danger.active,
a.list-group-item-danger.active:hover,
button.list-group-item-danger.active:hover,
a.list-group-item-danger.active:focus,
button.list-group-item-danger.active:focus {
  color: #fff;
  background-color: #a94442;
  border-color: #a94442;
}
.list-group-item-heading {
  margin-top: 0;
  margin-bottom: 5px;
}
.list-group-item-text {
  margin-bottom: 0;
  line-height: 1.3;
}
.panel {
  margin-bottom: 18px;
  background-color: #fff;
  border: 1px solid transparent;
  border-radius: 2px;
  -webkit-box-shadow: 0 1px 1px rgba(0, 0, 0, 0.05);
  box-shadow: 0 1px 1px rgba(0, 0, 0, 0.05);
}
.panel-body {
  padding: 15px;
}
.panel-heading {
  padding: 10px 15px;
  border-bottom: 1px solid transparent;
  border-top-right-radius: 1px;
  border-top-left-radius: 1px;
}
.panel-heading > .dropdown .dropdown-toggle {
  color: inherit;
}
.panel-title {
  margin-top: 0;
  margin-bottom: 0;
  font-size: 15px;
  color: inherit;
}
.panel-title > a,
.panel-title > small,
.panel-title > .small,
.panel-title > small > a,
.panel-title > .small > a {
  color: inherit;
}
.panel-footer {
  padding: 10px 15px;
  background-color: #f5f5f5;
  border-top: 1px solid #ddd;
  border-bottom-right-radius: 1px;
  border-bottom-left-radius: 1px;
}
.panel > .list-group,
.panel > .panel-collapse > .list-group {
  margin-bottom: 0;
}
.panel > .list-group .list-group-item,
.panel > .panel-collapse > .list-group .list-group-item {
  border-width: 1px 0;
  border-radius: 0;
}
.panel > .list-group:first-child .list-group-item:first-child,
.panel > .panel-collapse > .list-group:first-child .list-group-item:first-child {
  border-top: 0;
  border-top-right-radius: 1px;
  border-top-left-radius: 1px;
}
.panel > .list-group:last-child .list-group-item:last-child,
.panel > .panel-collapse > .list-group:last-child .list-group-item:last-child {
  border-bottom: 0;
  border-bottom-right-radius: 1px;
  border-bottom-left-radius: 1px;
}
.panel > .panel-heading + .panel-collapse > .list-group .list-group-item:first-child {
  border-top-right-radius: 0;
  border-top-left-radius: 0;
}
.panel-heading + .list-group .list-group-item:first-child {
  border-top-width: 0;
}
.list-group + .panel-footer {
  border-top-width: 0;
}
.panel > .table,
.panel > .table-responsive > .table,
.panel > .panel-collapse > .table {
  margin-bottom: 0;
}
.panel > .table caption,
.panel > .table-responsive > .table caption,
.panel > .panel-collapse > .table caption {
  padding-left: 15px;
  padding-right: 15px;
}
.panel > .table:first-child,
.panel > .table-responsive:first-child > .table:first-child {
  border-top-right-radius: 1px;
  border-top-left-radius: 1px;
}
.panel > .table:first-child > thead:first-child > tr:first-child,
.panel > .table-responsive:first-child > .table:first-child > thead:first-child > tr:first-child,
.panel > .table:first-child > tbody:first-child > tr:first-child,
.panel > .table-responsive:first-child > .table:first-child > tbody:first-child > tr:first-child {
  border-top-left-radius: 1px;
  border-top-right-radius: 1px;
}
.panel > .table:first-child > thead:first-child > tr:first-child td:first-child,
.panel > .table-responsive:first-child > .table:first-child > thead:first-child > tr:first-child td:first-child,
.panel > .table:first-child > tbody:first-child > tr:first-child td:first-child,
.panel > .table-responsive:first-child > .table:first-child > tbody:first-child > tr:first-child td:first-child,
.panel > .table:first-child > thead:first-child > tr:first-child th:first-child,
.panel > .table-responsive:first-child > .table:first-child > thead:first-child > tr:first-child th:first-child,
.panel > .table:first-child > tbody:first-child > tr:first-child th:first-child,
.panel > .table-responsive:first-child > .table:first-child > tbody:first-child > tr:first-child th:first-child {
  border-top-left-radius: 1px;
}
.panel > .table:first-child > thead:first-child > tr:first-child td:last-child,
.panel > .table-responsive:first-child > .table:first-child > thead:first-child > tr:first-child td:last-child,
.panel > .table:first-child > tbody:first-child > tr:first-child td:last-child,
.panel > .table-responsive:first-child > .table:first-child > tbody:first-child > tr:first-child td:last-child,
.panel > .table:first-child > thead:first-child > tr:first-child th:last-child,
.panel > .table-responsive:first-child > .table:first-child > thead:first-child > tr:first-child th:last-child,
.panel > .table:first-child > tbody:first-child > tr:first-child th:last-child,
.panel > .table-responsive:first-child > .table:first-child > tbody:first-child > tr:first-child th:last-child {
  border-top-right-radius: 1px;
}
.panel > .table:last-child,
.panel > .table-responsive:last-child > .table:last-child {
  border-bottom-right-radius: 1px;
  border-bottom-left-radius: 1px;
}
.panel > .table:last-child > tbody:last-child > tr:last-child,
.panel > .table-responsive:last-child > .table:last-child > tbody:last-child > tr:last-child,
.panel > .table:last-child > tfoot:last-child > tr:last-child,
.panel > .table-responsive:last-child > .table:last-child > tfoot:last-child > tr:last-child {
  border-bottom-left-radius: 1px;
  border-bottom-right-radius: 1px;
}
.panel > .table:last-child > tbody:last-child > tr:last-child td:first-child,
.panel > .table-responsive:last-child > .table:last-child > tbody:last-child > tr:last-child td:first-child,
.panel > .table:last-child > tfoot:last-child > tr:last-child td:first-child,
.panel > .table-responsive:last-child > .table:last-child > tfoot:last-child > tr:last-child td:first-child,
.panel > .table:last-child > tbody:last-child > tr:last-child th:first-child,
.panel > .table-responsive:last-child > .table:last-child > tbody:last-child > tr:last-child th:first-child,
.panel > .table:last-child > tfoot:last-child > tr:last-child th:first-child,
.panel > .table-responsive:last-child > .table:last-child > tfoot:last-child > tr:last-child th:first-child {
  border-bottom-left-radius: 1px;
}
.panel > .table:last-child > tbody:last-child > tr:last-child td:last-child,
.panel > .table-responsive:last-child > .table:last-child > tbody:last-child > tr:last-child td:last-child,
.panel > .table:last-child > tfoot:last-child > tr:last-child td:last-child,
.panel > .table-responsive:last-child > .table:last-child > tfoot:last-child > tr:last-child td:last-child,
.panel > .table:last-child > tbody:last-child > tr:last-child th:last-child,
.panel > .table-responsive:last-child > .table:last-child > tbody:last-child > tr:last-child th:last-child,
.panel > .table:last-child > tfoot:last-child > tr:last-child th:last-child,
.panel > .table-responsive:last-child > .table:last-child > tfoot:last-child > tr:last-child th:last-child {
  border-bottom-right-radius: 1px;
}
.panel > .panel-body + .table,
.panel > .panel-body + .table-responsive,
.panel > .table + .panel-body,
.panel > .table-responsive + .panel-body {
  border-top: 1px solid #ddd;
}
.panel > .table > tbody:first-child > tr:first-child th,
.panel > .table > tbody:first-child > tr:first-child td {
  border-top: 0;
}
.panel > .table-bordered,
.panel > .table-responsive > .table-bordered {
  border: 0;
}
.panel > .table-bordered > thead > tr > th:first-child,
.panel > .table-responsive > .table-bordered > thead > tr > th:first-child,
.panel > .table-bordered > tbody > tr > th:first-child,
.panel > .table-responsive > .table-bordered > tbody > tr > th:first-child,
.panel > .table-bordered > tfoot > tr > th:first-child,
.panel > .table-responsive > .table-bordered > tfoot > tr > th:first-child,
.panel > .table-bordered > thead > tr > td:first-child,
.panel > .table-responsive > .table-bordered > thead > tr > td:first-child,
.panel > .table-bordered > tbody > tr > td:first-child,
.panel > .table-responsive > .table-bordered > tbody > tr > td:first-child,
.panel > .table-bordered > tfoot > tr > td:first-child,
.panel > .table-responsive > .table-bordered > tfoot > tr > td:first-child {
  border-left: 0;
}
.panel > .table-bordered > thead > tr > th:last-child,
.panel > .table-responsive > .table-bordered > thead > tr > th:last-child,
.panel > .table-bordered > tbody > tr > th:last-child,
.panel > .table-responsive > .table-bordered > tbody > tr > th:last-child,
.panel > .table-bordered > tfoot > tr > th:last-child,
.panel > .table-responsive > .table-bordered > tfoot > tr > th:last-child,
.panel > .table-bordered > thead > tr > td:last-child,
.panel > .table-responsive > .table-bordered > thead > tr > td:last-child,
.panel > .table-bordered > tbody > tr > td:last-child,
.panel > .table-responsive > .table-bordered > tbody > tr > td:last-child,
.panel > .table-bordered > tfoot > tr > td:last-child,
.panel > .table-responsive > .table-bordered > tfoot > tr > td:last-child {
  border-right: 0;
}
.panel > .table-bordered > thead > tr:first-child > td,
.panel > .table-responsive > .table-bordered > thead > tr:first-child > td,
.panel > .table-bordered > tbody > tr:first-child > td,
.panel > .table-responsive > .table-bordered > tbody > tr:first-child > td,
.panel > .table-bordered > thead > tr:first-child > th,
.panel > .table-responsive > .table-bordered > thead > tr:first-child > th,
.panel > .table-bordered > tbody > tr:first-child > th,
.panel > .table-responsive > .table-bordered > tbody > tr:first-child > th {
  border-bottom: 0;
}
.panel > .table-bordered > tbody > tr:last-child > td,
.panel > .table-responsive > .table-bordered > tbody > tr:last-child > td,
.panel > .table-bordered > tfoot > tr:last-child > td,
.panel > .table-responsive > .table-bordered > tfoot > tr:last-child > td,
.panel > .table-bordered > tbody > tr:last-child > th,
.panel > .table-responsive > .table-bordered > tbody > tr:last-child > th,
.panel > .table-bordered > tfoot > tr:last-child > th,
.panel > .table-responsive > .table-bordered > tfoot > tr:last-child > th {
  border-bottom: 0;
}
.panel > .table-responsive {
  border: 0;
  margin-bottom: 0;
}
.panel-group {
  margin-bottom: 18px;
}
.panel-group .panel {
  margin-bottom: 0;
  border-radius: 2px;
}
.panel-group .panel + .panel {
  margin-top: 5px;
}
.panel-group .panel-heading {
  border-bottom: 0;
}
.panel-group .panel-heading + .panel-collapse > .panel-body,
.panel-group .panel-heading + .panel-collapse > .list-group {
  border-top: 1px solid #ddd;
}
.panel-group .panel-footer {
  border-top: 0;
}
.panel-group .panel-footer + .panel-collapse .panel-body {
  border-bottom: 1px solid #ddd;
}
.panel-default {
  border-color: #ddd;
}
.panel-default > .panel-heading {
  color: #333333;
  background-color: #f5f5f5;
  border-color: #ddd;
}
.panel-default > .panel-heading + .panel-collapse > .panel-body {
  border-top-color: #ddd;
}
.panel-default > .panel-heading .badge {
  color: #f5f5f5;
  background-color: #333333;
}
.panel-default > .panel-footer + .panel-collapse > .panel-body {
  border-bottom-color: #ddd;
}
.panel-primary {
  border-color: #337ab7;
}
.panel-primary > .panel-heading {
  color: #fff;
  background-color: #337ab7;
  border-color: #337ab7;
}
.panel-primary > .panel-heading + .panel-collapse > .panel-body {
  border-top-color: #337ab7;
}
.panel-primary > .panel-heading .badge {
  color: #337ab7;
  background-color: #fff;
}
.panel-primary > .panel-footer + .panel-collapse > .panel-body {
  border-bottom-color: #337ab7;
}
.panel-success {
  border-color: #d6e9c6;
}
.panel-success > .panel-heading {
  color: #3c763d;
  background-color: #dff0d8;
  border-color: #d6e9c6;
}
.panel-success > .panel-heading + .panel-collapse > .panel-body {
  border-top-color: #d6e9c6;
}
.panel-success > .panel-heading .badge {
  color: #dff0d8;
  background-color: #3c763d;
}
.panel-success > .panel-footer + .panel-collapse > .panel-body {
  border-bottom-color: #d6e9c6;
}
.panel-info {
  border-color: #bce8f1;
}
.panel-info > .panel-heading {
  color: #31708f;
  background-color: #d9edf7;
  border-color: #bce8f1;
}
.panel-info > .panel-heading + .panel-collapse > .panel-body {
  border-top-color: #bce8f1;
}
.panel-info > .panel-heading .badge {
  color: #d9edf7;
  background-color: #31708f;
}
.panel-info > .panel-footer + .panel-collapse > .panel-body {
  border-bottom-color: #bce8f1;
}
.panel-warning {
  border-color: #faebcc;
}
.panel-warning > .panel-heading {
  color: #8a6d3b;
  background-color: #fcf8e3;
  border-color: #faebcc;
}
.panel-warning > .panel-heading + .panel-collapse > .panel-body {
  border-top-color: #faebcc;
}
.panel-warning > .panel-heading .badge {
  color: #fcf8e3;
  background-color: #8a6d3b;
}
.panel-warning > .panel-footer + .panel-collapse > .panel-body {
  border-bottom-color: #faebcc;
}
.panel-danger {
  border-color: #ebccd1;
}
.panel-danger > .panel-heading {
  color: #a94442;
  background-color: #f2dede;
  border-color: #ebccd1;
}
.panel-danger > .panel-heading + .panel-collapse > .panel-body {
  border-top-color: #ebccd1;
}
.panel-danger > .panel-heading .badge {
  color: #f2dede;
  background-color: #a94442;
}
.panel-danger > .panel-footer + .panel-collapse > .panel-body {
  border-bottom-color: #ebccd1;
}
.embed-responsive {
  position: relative;
  display: block;
  height: 0;
  padding: 0;
  overflow: hidden;
}
.embed-responsive .embed-responsive-item,
.embed-responsive iframe,
.embed-responsive embed,
.embed-responsive object,
.embed-responsive video {
  position: absolute;
  top: 0;
  left: 0;
  bottom: 0;
  height: 100%;
  width: 100%;
  border: 0;
}
.embed-responsive-16by9 {
  padding-bottom: 56.25%;
}
.embed-responsive-4by3 {
  padding-bottom: 75%;
}
.well {
  min-height: 20px;
  padding: 19px;
  margin-bottom: 20px;
  background-color: #f5f5f5;
  border: 1px solid #e3e3e3;
  border-radius: 2px;
  -webkit-box-shadow: inset 0 1px 1px rgba(0, 0, 0, 0.05);
  box-shadow: inset 0 1px 1px rgba(0, 0, 0, 0.05);
}
.well blockquote {
  border-color: #ddd;
  border-color: rgba(0, 0, 0, 0.15);
}
.well-lg {
  padding: 24px;
  border-radius: 3px;
}
.well-sm {
  padding: 9px;
  border-radius: 1px;
}
.close {
  float: right;
  font-size: 19.5px;
  font-weight: bold;
  line-height: 1;
  color: #000;
  text-shadow: 0 1px 0 #fff;
  opacity: 0.2;
  filter: alpha(opacity=20);
}
.close:hover,
.close:focus {
  color: #000;
  text-decoration: none;
  cursor: pointer;
  opacity: 0.5;
  filter: alpha(opacity=50);
}
button.close {
  padding: 0;
  cursor: pointer;
  background: transparent;
  border: 0;
  -webkit-appearance: none;
}
.modal-open {
  overflow: hidden;
}
.modal {
  display: none;
  overflow: hidden;
  position: fixed;
  top: 0;
  right: 0;
  bottom: 0;
  left: 0;
  z-index: 1050;
  -webkit-overflow-scrolling: touch;
  outline: 0;
}
.modal.fade .modal-dialog {
  -webkit-transform: translate(0, -25%);
  -ms-transform: translate(0, -25%);
  -o-transform: translate(0, -25%);
  transform: translate(0, -25%);
  -webkit-transition: -webkit-transform 0.3s ease-out;
  -moz-transition: -moz-transform 0.3s ease-out;
  -o-transition: -o-transform 0.3s ease-out;
  transition: transform 0.3s ease-out;
}
.modal.in .modal-dialog {
  -webkit-transform: translate(0, 0);
  -ms-transform: translate(0, 0);
  -o-transform: translate(0, 0);
  transform: translate(0, 0);
}
.modal-open .modal {
  overflow-x: hidden;
  overflow-y: auto;
}
.modal-dialog {
  position: relative;
  width: auto;
  margin: 10px;
}
.modal-content {
  position: relative;
  background-color: #fff;
  border: 1px solid #999;
  border: 1px solid rgba(0, 0, 0, 0.2);
  border-radius: 3px;
  -webkit-box-shadow: 0 3px 9px rgba(0, 0, 0, 0.5);
  box-shadow: 0 3px 9px rgba(0, 0, 0, 0.5);
  background-clip: padding-box;
  outline: 0;
}
.modal-backdrop {
  position: fixed;
  top: 0;
  right: 0;
  bottom: 0;
  left: 0;
  z-index: 1040;
  background-color: #000;
}
.modal-backdrop.fade {
  opacity: 0;
  filter: alpha(opacity=0);
}
.modal-backdrop.in {
  opacity: 0.5;
  filter: alpha(opacity=50);
}
.modal-header {
  padding: 15px;
  border-bottom: 1px solid #e5e5e5;
}
.modal-header .close {
  margin-top: -2px;
}
.modal-title {
  margin: 0;
  line-height: 1.42857143;
}
.modal-body {
  position: relative;
  padding: 15px;
}
.modal-footer {
  padding: 15px;
  text-align: right;
  border-top: 1px solid #e5e5e5;
}
.modal-footer .btn + .btn {
  margin-left: 5px;
  margin-bottom: 0;
}
.modal-footer .btn-group .btn + .btn {
  margin-left: -1px;
}
.modal-footer .btn-block + .btn-block {
  margin-left: 0;
}
.modal-scrollbar-measure {
  position: absolute;
  top: -9999px;
  width: 50px;
  height: 50px;
  overflow: scroll;
}
@media (min-width: 768px) {
  .modal-dialog {
    width: 600px;
    margin: 30px auto;
  }
  .modal-content {
    -webkit-box-shadow: 0 5px 15px rgba(0, 0, 0, 0.5);
    box-shadow: 0 5px 15px rgba(0, 0, 0, 0.5);
  }
  .modal-sm {
    width: 300px;
  }
}
@media (min-width: 992px) {
  .modal-lg {
    width: 900px;
  }
}
.tooltip {
  position: absolute;
  z-index: 1070;
  display: block;
  font-family: "Helvetica Neue", Helvetica, Arial, sans-serif;
  font-style: normal;
  font-weight: normal;
  letter-spacing: normal;
  line-break: auto;
  line-height: 1.42857143;
  text-align: left;
  text-align: start;
  text-decoration: none;
  text-shadow: none;
  text-transform: none;
  white-space: normal;
  word-break: normal;
  word-spacing: normal;
  word-wrap: normal;
  font-size: 12px;
  opacity: 0;
  filter: alpha(opacity=0);
}
.tooltip.in {
  opacity: 0.9;
  filter: alpha(opacity=90);
}
.tooltip.top {
  margin-top: -3px;
  padding: 5px 0;
}
.tooltip.right {
  margin-left: 3px;
  padding: 0 5px;
}
.tooltip.bottom {
  margin-top: 3px;
  padding: 5px 0;
}
.tooltip.left {
  margin-left: -3px;
  padding: 0 5px;
}
.tooltip-inner {
  max-width: 200px;
  padding: 3px 8px;
  color: #fff;
  text-align: center;
  background-color: #000;
  border-radius: 2px;
}
.tooltip-arrow {
  position: absolute;
  width: 0;
  height: 0;
  border-color: transparent;
  border-style: solid;
}
.tooltip.top .tooltip-arrow {
  bottom: 0;
  left: 50%;
  margin-left: -5px;
  border-width: 5px 5px 0;
  border-top-color: #000;
}
.tooltip.top-left .tooltip-arrow {
  bottom: 0;
  right: 5px;
  margin-bottom: -5px;
  border-width: 5px 5px 0;
  border-top-color: #000;
}
.tooltip.top-right .tooltip-arrow {
  bottom: 0;
  left: 5px;
  margin-bottom: -5px;
  border-width: 5px 5px 0;
  border-top-color: #000;
}
.tooltip.right .tooltip-arrow {
  top: 50%;
  left: 0;
  margin-top: -5px;
  border-width: 5px 5px 5px 0;
  border-right-color: #000;
}
.tooltip.left .tooltip-arrow {
  top: 50%;
  right: 0;
  margin-top: -5px;
  border-width: 5px 0 5px 5px;
  border-left-color: #000;
}
.tooltip.bottom .tooltip-arrow {
  top: 0;
  left: 50%;
  margin-left: -5px;
  border-width: 0 5px 5px;
  border-bottom-color: #000;
}
.tooltip.bottom-left .tooltip-arrow {
  top: 0;
  right: 5px;
  margin-top: -5px;
  border-width: 0 5px 5px;
  border-bottom-color: #000;
}
.tooltip.bottom-right .tooltip-arrow {
  top: 0;
  left: 5px;
  margin-top: -5px;
  border-width: 0 5px 5px;
  border-bottom-color: #000;
}
.popover {
  position: absolute;
  top: 0;
  left: 0;
  z-index: 1060;
  display: none;
  max-width: 276px;
  padding: 1px;
  font-family: "Helvetica Neue", Helvetica, Arial, sans-serif;
  font-style: normal;
  font-weight: normal;
  letter-spacing: normal;
  line-break: auto;
  line-height: 1.42857143;
  text-align: left;
  text-align: start;
  text-decoration: none;
  text-shadow: none;
  text-transform: none;
  white-space: normal;
  word-break: normal;
  word-spacing: normal;
  word-wrap: normal;
  font-size: 13px;
  background-color: #fff;
  background-clip: padding-box;
  border: 1px solid #ccc;
  border: 1px solid rgba(0, 0, 0, 0.2);
  border-radius: 3px;
  -webkit-box-shadow: 0 5px 10px rgba(0, 0, 0, 0.2);
  box-shadow: 0 5px 10px rgba(0, 0, 0, 0.2);
}
.popover.top {
  margin-top: -10px;
}
.popover.right {
  margin-left: 10px;
}
.popover.bottom {
  margin-top: 10px;
}
.popover.left {
  margin-left: -10px;
}
.popover-title {
  margin: 0;
  padding: 8px 14px;
  font-size: 13px;
  background-color: #f7f7f7;
  border-bottom: 1px solid #ebebeb;
  border-radius: 2px 2px 0 0;
}
.popover-content {
  padding: 9px 14px;
}
.popover > .arrow,
.popover > .arrow:after {
  position: absolute;
  display: block;
  width: 0;
  height: 0;
  border-color: transparent;
  border-style: solid;
}
.popover > .arrow {
  border-width: 11px;
}
.popover > .arrow:after {
  border-width: 10px;
  content: "";
}
.popover.top > .arrow {
  left: 50%;
  margin-left: -11px;
  border-bottom-width: 0;
  border-top-color: #999999;
  border-top-color: rgba(0, 0, 0, 0.25);
  bottom: -11px;
}
.popover.top > .arrow:after {
  content: " ";
  bottom: 1px;
  margin-left: -10px;
  border-bottom-width: 0;
  border-top-color: #fff;
}
.popover.right > .arrow {
  top: 50%;
  left: -11px;
  margin-top: -11px;
  border-left-width: 0;
  border-right-color: #999999;
  border-right-color: rgba(0, 0, 0, 0.25);
}
.popover.right > .arrow:after {
  content: " ";
  left: 1px;
  bottom: -10px;
  border-left-width: 0;
  border-right-color: #fff;
}
.popover.bottom > .arrow {
  left: 50%;
  margin-left: -11px;
  border-top-width: 0;
  border-bottom-color: #999999;
  border-bottom-color: rgba(0, 0, 0, 0.25);
  top: -11px;
}
.popover.bottom > .arrow:after {
  content: " ";
  top: 1px;
  margin-left: -10px;
  border-top-width: 0;
  border-bottom-color: #fff;
}
.popover.left > .arrow {
  top: 50%;
  right: -11px;
  margin-top: -11px;
  border-right-width: 0;
  border-left-color: #999999;
  border-left-color: rgba(0, 0, 0, 0.25);
}
.popover.left > .arrow:after {
  content: " ";
  right: 1px;
  border-right-width: 0;
  border-left-color: #fff;
  bottom: -10px;
}
.carousel {
  position: relative;
}
.carousel-inner {
  position: relative;
  overflow: hidden;
  width: 100%;
}
.carousel-inner > .item {
  display: none;
  position: relative;
  -webkit-transition: 0.6s ease-in-out left;
  -o-transition: 0.6s ease-in-out left;
  transition: 0.6s ease-in-out left;
}
.carousel-inner > .item > img,
.carousel-inner > .item > a > img {
  line-height: 1;
}
@media all and (transform-3d), (-webkit-transform-3d) {
  .carousel-inner > .item {
    -webkit-transition: -webkit-transform 0.6s ease-in-out;
    -moz-transition: -moz-transform 0.6s ease-in-out;
    -o-transition: -o-transform 0.6s ease-in-out;
    transition: transform 0.6s ease-in-out;
    -webkit-backface-visibility: hidden;
    -moz-backface-visibility: hidden;
    backface-visibility: hidden;
    -webkit-perspective: 1000px;
    -moz-perspective: 1000px;
    perspective: 1000px;
  }
  .carousel-inner > .item.next,
  .carousel-inner > .item.active.right {
    -webkit-transform: translate3d(100%, 0, 0);
    transform: translate3d(100%, 0, 0);
    left: 0;
  }
  .carousel-inner > .item.prev,
  .carousel-inner > .item.active.left {
    -webkit-transform: translate3d(-100%, 0, 0);
    transform: translate3d(-100%, 0, 0);
    left: 0;
  }
  .carousel-inner > .item.next.left,
  .carousel-inner > .item.prev.right,
  .carousel-inner > .item.active {
    -webkit-transform: translate3d(0, 0, 0);
    transform: translate3d(0, 0, 0);
    left: 0;
  }
}
.carousel-inner > .active,
.carousel-inner > .next,
.carousel-inner > .prev {
  display: block;
}
.carousel-inner > .active {
  left: 0;
}
.carousel-inner > .next,
.carousel-inner > .prev {
  position: absolute;
  top: 0;
  width: 100%;
}
.carousel-inner > .next {
  left: 100%;
}
.carousel-inner > .prev {
  left: -100%;
}
.carousel-inner > .next.left,
.carousel-inner > .prev.right {
  left: 0;
}
.carousel-inner > .active.left {
  left: -100%;
}
.carousel-inner > .active.right {
  left: 100%;
}
.carousel-control {
  position: absolute;
  top: 0;
  left: 0;
  bottom: 0;
  width: 15%;
  opacity: 0.5;
  filter: alpha(opacity=50);
  font-size: 20px;
  color: #fff;
  text-align: center;
  text-shadow: 0 1px 2px rgba(0, 0, 0, 0.6);
  background-color: rgba(0, 0, 0, 0);
}
.carousel-control.left {
  background-image: -webkit-linear-gradient(left, rgba(0, 0, 0, 0.5) 0%, rgba(0, 0, 0, 0.0001) 100%);
  background-image: -o-linear-gradient(left, rgba(0, 0, 0, 0.5) 0%, rgba(0, 0, 0, 0.0001) 100%);
  background-image: linear-gradient(to right, rgba(0, 0, 0, 0.5) 0%, rgba(0, 0, 0, 0.0001) 100%);
  background-repeat: repeat-x;
  filter: progid:DXImageTransform.Microsoft.gradient(startColorstr='#80000000', endColorstr='#00000000', GradientType=1);
}
.carousel-control.right {
  left: auto;
  right: 0;
  background-image: -webkit-linear-gradient(left, rgba(0, 0, 0, 0.0001) 0%, rgba(0, 0, 0, 0.5) 100%);
  background-image: -o-linear-gradient(left, rgba(0, 0, 0, 0.0001) 0%, rgba(0, 0, 0, 0.5) 100%);
  background-image: linear-gradient(to right, rgba(0, 0, 0, 0.0001) 0%, rgba(0, 0, 0, 0.5) 100%);
  background-repeat: repeat-x;
  filter: progid:DXImageTransform.Microsoft.gradient(startColorstr='#00000000', endColorstr='#80000000', GradientType=1);
}
.carousel-control:hover,
.carousel-control:focus {
  outline: 0;
  color: #fff;
  text-decoration: none;
  opacity: 0.9;
  filter: alpha(opacity=90);
}
.carousel-control .icon-prev,
.carousel-control .icon-next,
.carousel-control .glyphicon-chevron-left,
.carousel-control .glyphicon-chevron-right {
  position: absolute;
  top: 50%;
  margin-top: -10px;
  z-index: 5;
  display: inline-block;
}
.carousel-control .icon-prev,
.carousel-control .glyphicon-chevron-left {
  left: 50%;
  margin-left: -10px;
}
.carousel-control .icon-next,
.carousel-control .glyphicon-chevron-right {
  right: 50%;
  margin-right: -10px;
}
.carousel-control .icon-prev,
.carousel-control .icon-next {
  width: 20px;
  height: 20px;
  line-height: 1;
  font-family: serif;
}
.carousel-control .icon-prev:before {
  content: '\2039';
}
.carousel-control .icon-next:before {
  content: '\203a';
}
.carousel-indicators {
  position: absolute;
  bottom: 10px;
  left: 50%;
  z-index: 15;
  width: 60%;
  margin-left: -30%;
  padding-left: 0;
  list-style: none;
  text-align: center;
}
.carousel-indicators li {
  display: inline-block;
  width: 10px;
  height: 10px;
  margin: 1px;
  text-indent: -999px;
  border: 1px solid #fff;
  border-radius: 10px;
  cursor: pointer;
  background-color: #000 \9;
  background-color: rgba(0, 0, 0, 0);
}
.carousel-indicators .active {
  margin: 0;
  width: 12px;
  height: 12px;
  background-color: #fff;
}
.carousel-caption {
  position: absolute;
  left: 15%;
  right: 15%;
  bottom: 20px;
  z-index: 10;
  padding-top: 20px;
  padding-bottom: 20px;
  color: #fff;
  text-align: center;
  text-shadow: 0 1px 2px rgba(0, 0, 0, 0.6);
}
.carousel-caption .btn {
  text-shadow: none;
}
@media screen and (min-width: 768px) {
  .carousel-control .glyphicon-chevron-left,
  .carousel-control .glyphicon-chevron-right,
  .carousel-control .icon-prev,
  .carousel-control .icon-next {
    width: 30px;
    height: 30px;
    margin-top: -10px;
    font-size: 30px;
  }
  .carousel-control .glyphicon-chevron-left,
  .carousel-control .icon-prev {
    margin-left: -10px;
  }
  .carousel-control .glyphicon-chevron-right,
  .carousel-control .icon-next {
    margin-right: -10px;
  }
  .carousel-caption {
    left: 20%;
    right: 20%;
    padding-bottom: 30px;
  }
  .carousel-indicators {
    bottom: 20px;
  }
}
.clearfix:before,
.clearfix:after,
.dl-horizontal dd:before,
.dl-horizontal dd:after,
.container:before,
.container:after,
.container-fluid:before,
.container-fluid:after,
.row:before,
.row:after,
.form-horizontal .form-group:before,
.form-horizontal .form-group:after,
.btn-toolbar:before,
.btn-toolbar:after,
.btn-group-vertical > .btn-group:before,
.btn-group-vertical > .btn-group:after,
.nav:before,
.nav:after,
.navbar:before,
.navbar:after,
.navbar-header:before,
.navbar-header:after,
.navbar-collapse:before,
.navbar-collapse:after,
.pager:before,
.pager:after,
.panel-body:before,
.panel-body:after,
.modal-header:before,
.modal-header:after,
.modal-footer:before,
.modal-footer:after,
.item_buttons:before,
.item_buttons:after {
  content: " ";
  display: table;
}
.clearfix:after,
.dl-horizontal dd:after,
.container:after,
.container-fluid:after,
.row:after,
.form-horizontal .form-group:after,
.btn-toolbar:after,
.btn-group-vertical > .btn-group:after,
.nav:after,
.navbar:after,
.navbar-header:after,
.navbar-collapse:after,
.pager:after,
.panel-body:after,
.modal-header:after,
.modal-footer:after,
.item_buttons:after {
  clear: both;
}
.center-block {
  display: block;
  margin-left: auto;
  margin-right: auto;
}
.pull-right {
  float: right !important;
}
.pull-left {
  float: left !important;
}
.hide {
  display: none !important;
}
.show {
  display: block !important;
}
.invisible {
  visibility: hidden;
}
.text-hide {
  font: 0/0 a;
  color: transparent;
  text-shadow: none;
  background-color: transparent;
  border: 0;
}
.hidden {
  display: none !important;
}
.affix {
  position: fixed;
}
@-ms-viewport {
  width: device-width;
}
.visible-xs,
.visible-sm,
.visible-md,
.visible-lg {
  display: none !important;
}
.visible-xs-block,
.visible-xs-inline,
.visible-xs-inline-block,
.visible-sm-block,
.visible-sm-inline,
.visible-sm-inline-block,
.visible-md-block,
.visible-md-inline,
.visible-md-inline-block,
.visible-lg-block,
.visible-lg-inline,
.visible-lg-inline-block {
  display: none !important;
}
@media (max-width: 767px) {
  .visible-xs {
    display: block !important;
  }
  table.visible-xs {
    display: table !important;
  }
  tr.visible-xs {
    display: table-row !important;
  }
  th.visible-xs,
  td.visible-xs {
    display: table-cell !important;
  }
}
@media (max-width: 767px) {
  .visible-xs-block {
    display: block !important;
  }
}
@media (max-width: 767px) {
  .visible-xs-inline {
    display: inline !important;
  }
}
@media (max-width: 767px) {
  .visible-xs-inline-block {
    display: inline-block !important;
  }
}
@media (min-width: 768px) and (max-width: 991px) {
  .visible-sm {
    display: block !important;
  }
  table.visible-sm {
    display: table !important;
  }
  tr.visible-sm {
    display: table-row !important;
  }
  th.visible-sm,
  td.visible-sm {
    display: table-cell !important;
  }
}
@media (min-width: 768px) and (max-width: 991px) {
  .visible-sm-block {
    display: block !important;
  }
}
@media (min-width: 768px) and (max-width: 991px) {
  .visible-sm-inline {
    display: inline !important;
  }
}
@media (min-width: 768px) and (max-width: 991px) {
  .visible-sm-inline-block {
    display: inline-block !important;
  }
}
@media (min-width: 992px) and (max-width: 1199px) {
  .visible-md {
    display: block !important;
  }
  table.visible-md {
    display: table !important;
  }
  tr.visible-md {
    display: table-row !important;
  }
  th.visible-md,
  td.visible-md {
    display: table-cell !important;
  }
}
@media (min-width: 992px) and (max-width: 1199px) {
  .visible-md-block {
    display: block !important;
  }
}
@media (min-width: 992px) and (max-width: 1199px) {
  .visible-md-inline {
    display: inline !important;
  }
}
@media (min-width: 992px) and (max-width: 1199px) {
  .visible-md-inline-block {
    display: inline-block !important;
  }
}
@media (min-width: 1200px) {
  .visible-lg {
    display: block !important;
  }
  table.visible-lg {
    display: table !important;
  }
  tr.visible-lg {
    display: table-row !important;
  }
  th.visible-lg,
  td.visible-lg {
    display: table-cell !important;
  }
}
@media (min-width: 1200px) {
  .visible-lg-block {
    display: block !important;
  }
}
@media (min-width: 1200px) {
  .visible-lg-inline {
    display: inline !important;
  }
}
@media (min-width: 1200px) {
  .visible-lg-inline-block {
    display: inline-block !important;
  }
}
@media (max-width: 767px) {
  .hidden-xs {
    display: none !important;
  }
}
@media (min-width: 768px) and (max-width: 991px) {
  .hidden-sm {
    display: none !important;
  }
}
@media (min-width: 992px) and (max-width: 1199px) {
  .hidden-md {
    display: none !important;
  }
}
@media (min-width: 1200px) {
  .hidden-lg {
    display: none !important;
  }
}
.visible-print {
  display: none !important;
}
@media print {
  .visible-print {
    display: block !important;
  }
  table.visible-print {
    display: table !important;
  }
  tr.visible-print {
    display: table-row !important;
  }
  th.visible-print,
  td.visible-print {
    display: table-cell !important;
  }
}
.visible-print-block {
  display: none !important;
}
@media print {
  .visible-print-block {
    display: block !important;
  }
}
.visible-print-inline {
  display: none !important;
}
@media print {
  .visible-print-inline {
    display: inline !important;
  }
}
.visible-print-inline-block {
  display: none !important;
}
@media print {
  .visible-print-inline-block {
    display: inline-block !important;
  }
}
@media print {
  .hidden-print {
    display: none !important;
  }
}
/*!
*
* Font Awesome
*
*/
/*!
 *  Font Awesome 4.7.0 by @davegandy - http://fontawesome.io - @fontawesome
 *  License - http://fontawesome.io/license (Font: SIL OFL 1.1, CSS: MIT License)
 */
/* FONT PATH
 * -------------------------- */
@font-face {
  font-family: 'FontAwesome';
  src: url('../components/font-awesome/fonts/fontawesome-webfont.eot?v=4.7.0');
  src: url('../components/font-awesome/fonts/fontawesome-webfont.eot?#iefix&v=4.7.0') format('embedded-opentype'), url('../components/font-awesome/fonts/fontawesome-webfont.woff2?v=4.7.0') format('woff2'), url('../components/font-awesome/fonts/fontawesome-webfont.woff?v=4.7.0') format('woff'), url('../components/font-awesome/fonts/fontawesome-webfont.ttf?v=4.7.0') format('truetype'), url('../components/font-awesome/fonts/fontawesome-webfont.svg?v=4.7.0#fontawesomeregular') format('svg');
  font-weight: normal;
  font-style: normal;
}
.fa {
  display: inline-block;
  font: normal normal normal 14px/1 FontAwesome;
  font-size: inherit;
  text-rendering: auto;
  -webkit-font-smoothing: antialiased;
  -moz-osx-font-smoothing: grayscale;
}
/* makes the font 33% larger relative to the icon container */
.fa-lg {
  font-size: 1.33333333em;
  line-height: 0.75em;
  vertical-align: -15%;
}
.fa-2x {
  font-size: 2em;
}
.fa-3x {
  font-size: 3em;
}
.fa-4x {
  font-size: 4em;
}
.fa-5x {
  font-size: 5em;
}
.fa-fw {
  width: 1.28571429em;
  text-align: center;
}
.fa-ul {
  padding-left: 0;
  margin-left: 2.14285714em;
  list-style-type: none;
}
.fa-ul > li {
  position: relative;
}
.fa-li {
  position: absolute;
  left: -2.14285714em;
  width: 2.14285714em;
  top: 0.14285714em;
  text-align: center;
}
.fa-li.fa-lg {
  left: -1.85714286em;
}
.fa-border {
  padding: .2em .25em .15em;
  border: solid 0.08em #eee;
  border-radius: .1em;
}
.fa-pull-left {
  float: left;
}
.fa-pull-right {
  float: right;
}
.fa.fa-pull-left {
  margin-right: .3em;
}
.fa.fa-pull-right {
  margin-left: .3em;
}
/* Deprecated as of 4.4.0 */
.pull-right {
  float: right;
}
.pull-left {
  float: left;
}
.fa.pull-left {
  margin-right: .3em;
}
.fa.pull-right {
  margin-left: .3em;
}
.fa-spin {
  -webkit-animation: fa-spin 2s infinite linear;
  animation: fa-spin 2s infinite linear;
}
.fa-pulse {
  -webkit-animation: fa-spin 1s infinite steps(8);
  animation: fa-spin 1s infinite steps(8);
}
@-webkit-keyframes fa-spin {
  0% {
    -webkit-transform: rotate(0deg);
    transform: rotate(0deg);
  }
  100% {
    -webkit-transform: rotate(359deg);
    transform: rotate(359deg);
  }
}
@keyframes fa-spin {
  0% {
    -webkit-transform: rotate(0deg);
    transform: rotate(0deg);
  }
  100% {
    -webkit-transform: rotate(359deg);
    transform: rotate(359deg);
  }
}
.fa-rotate-90 {
  -ms-filter: "progid:DXImageTransform.Microsoft.BasicImage(rotation=1)";
  -webkit-transform: rotate(90deg);
  -ms-transform: rotate(90deg);
  transform: rotate(90deg);
}
.fa-rotate-180 {
  -ms-filter: "progid:DXImageTransform.Microsoft.BasicImage(rotation=2)";
  -webkit-transform: rotate(180deg);
  -ms-transform: rotate(180deg);
  transform: rotate(180deg);
}
.fa-rotate-270 {
  -ms-filter: "progid:DXImageTransform.Microsoft.BasicImage(rotation=3)";
  -webkit-transform: rotate(270deg);
  -ms-transform: rotate(270deg);
  transform: rotate(270deg);
}
.fa-flip-horizontal {
  -ms-filter: "progid:DXImageTransform.Microsoft.BasicImage(rotation=0, mirror=1)";
  -webkit-transform: scale(-1, 1);
  -ms-transform: scale(-1, 1);
  transform: scale(-1, 1);
}
.fa-flip-vertical {
  -ms-filter: "progid:DXImageTransform.Microsoft.BasicImage(rotation=2, mirror=1)";
  -webkit-transform: scale(1, -1);
  -ms-transform: scale(1, -1);
  transform: scale(1, -1);
}
:root .fa-rotate-90,
:root .fa-rotate-180,
:root .fa-rotate-270,
:root .fa-flip-horizontal,
:root .fa-flip-vertical {
  filter: none;
}
.fa-stack {
  position: relative;
  display: inline-block;
  width: 2em;
  height: 2em;
  line-height: 2em;
  vertical-align: middle;
}
.fa-stack-1x,
.fa-stack-2x {
  position: absolute;
  left: 0;
  width: 100%;
  text-align: center;
}
.fa-stack-1x {
  line-height: inherit;
}
.fa-stack-2x {
  font-size: 2em;
}
.fa-inverse {
  color: #fff;
}
/* Font Awesome uses the Unicode Private Use Area (PUA) to ensure screen
   readers do not read off random characters that represent icons */
.fa-glass:before {
  content: "\f000";
}
.fa-music:before {
  content: "\f001";
}
.fa-search:before {
  content: "\f002";
}
.fa-envelope-o:before {
  content: "\f003";
}
.fa-heart:before {
  content: "\f004";
}
.fa-star:before {
  content: "\f005";
}
.fa-star-o:before {
  content: "\f006";
}
.fa-user:before {
  content: "\f007";
}
.fa-film:before {
  content: "\f008";
}
.fa-th-large:before {
  content: "\f009";
}
.fa-th:before {
  content: "\f00a";
}
.fa-th-list:before {
  content: "\f00b";
}
.fa-check:before {
  content: "\f00c";
}
.fa-remove:before,
.fa-close:before,
.fa-times:before {
  content: "\f00d";
}
.fa-search-plus:before {
  content: "\f00e";
}
.fa-search-minus:before {
  content: "\f010";
}
.fa-power-off:before {
  content: "\f011";
}
.fa-signal:before {
  content: "\f012";
}
.fa-gear:before,
.fa-cog:before {
  content: "\f013";
}
.fa-trash-o:before {
  content: "\f014";
}
.fa-home:before {
  content: "\f015";
}
.fa-file-o:before {
  content: "\f016";
}
.fa-clock-o:before {
  content: "\f017";
}
.fa-road:before {
  content: "\f018";
}
.fa-download:before {
  content: "\f019";
}
.fa-arrow-circle-o-down:before {
  content: "\f01a";
}
.fa-arrow-circle-o-up:before {
  content: "\f01b";
}
.fa-inbox:before {
  content: "\f01c";
}
.fa-play-circle-o:before {
  content: "\f01d";
}
.fa-rotate-right:before,
.fa-repeat:before {
  content: "\f01e";
}
.fa-refresh:before {
  content: "\f021";
}
.fa-list-alt:before {
  content: "\f022";
}
.fa-lock:before {
  content: "\f023";
}
.fa-flag:before {
  content: "\f024";
}
.fa-headphones:before {
  content: "\f025";
}
.fa-volume-off:before {
  content: "\f026";
}
.fa-volume-down:before {
  content: "\f027";
}
.fa-volume-up:before {
  content: "\f028";
}
.fa-qrcode:before {
  content: "\f029";
}
.fa-barcode:before {
  content: "\f02a";
}
.fa-tag:before {
  content: "\f02b";
}
.fa-tags:before {
  content: "\f02c";
}
.fa-book:before {
  content: "\f02d";
}
.fa-bookmark:before {
  content: "\f02e";
}
.fa-print:before {
  content: "\f02f";
}
.fa-camera:before {
  content: "\f030";
}
.fa-font:before {
  content: "\f031";
}
.fa-bold:before {
  content: "\f032";
}
.fa-italic:before {
  content: "\f033";
}
.fa-text-height:before {
  content: "\f034";
}
.fa-text-width:before {
  content: "\f035";
}
.fa-align-left:before {
  content: "\f036";
}
.fa-align-center:before {
  content: "\f037";
}
.fa-align-right:before {
  content: "\f038";
}
.fa-align-justify:before {
  content: "\f039";
}
.fa-list:before {
  content: "\f03a";
}
.fa-dedent:before,
.fa-outdent:before {
  content: "\f03b";
}
.fa-indent:before {
  content: "\f03c";
}
.fa-video-camera:before {
  content: "\f03d";
}
.fa-photo:before,
.fa-image:before,
.fa-picture-o:before {
  content: "\f03e";
}
.fa-pencil:before {
  content: "\f040";
}
.fa-map-marker:before {
  content: "\f041";
}
.fa-adjust:before {
  content: "\f042";
}
.fa-tint:before {
  content: "\f043";
}
.fa-edit:before,
.fa-pencil-square-o:before {
  content: "\f044";
}
.fa-share-square-o:before {
  content: "\f045";
}
.fa-check-square-o:before {
  content: "\f046";
}
.fa-arrows:before {
  content: "\f047";
}
.fa-step-backward:before {
  content: "\f048";
}
.fa-fast-backward:before {
  content: "\f049";
}
.fa-backward:before {
  content: "\f04a";
}
.fa-play:before {
  content: "\f04b";
}
.fa-pause:before {
  content: "\f04c";
}
.fa-stop:before {
  content: "\f04d";
}
.fa-forward:before {
  content: "\f04e";
}
.fa-fast-forward:before {
  content: "\f050";
}
.fa-step-forward:before {
  content: "\f051";
}
.fa-eject:before {
  content: "\f052";
}
.fa-chevron-left:before {
  content: "\f053";
}
.fa-chevron-right:before {
  content: "\f054";
}
.fa-plus-circle:before {
  content: "\f055";
}
.fa-minus-circle:before {
  content: "\f056";
}
.fa-times-circle:before {
  content: "\f057";
}
.fa-check-circle:before {
  content: "\f058";
}
.fa-question-circle:before {
  content: "\f059";
}
.fa-info-circle:before {
  content: "\f05a";
}
.fa-crosshairs:before {
  content: "\f05b";
}
.fa-times-circle-o:before {
  content: "\f05c";
}
.fa-check-circle-o:before {
  content: "\f05d";
}
.fa-ban:before {
  content: "\f05e";
}
.fa-arrow-left:before {
  content: "\f060";
}
.fa-arrow-right:before {
  content: "\f061";
}
.fa-arrow-up:before {
  content: "\f062";
}
.fa-arrow-down:before {
  content: "\f063";
}
.fa-mail-forward:before,
.fa-share:before {
  content: "\f064";
}
.fa-expand:before {
  content: "\f065";
}
.fa-compress:before {
  content: "\f066";
}
.fa-plus:before {
  content: "\f067";
}
.fa-minus:before {
  content: "\f068";
}
.fa-asterisk:before {
  content: "\f069";
}
.fa-exclamation-circle:before {
  content: "\f06a";
}
.fa-gift:before {
  content: "\f06b";
}
.fa-leaf:before {
  content: "\f06c";
}
.fa-fire:before {
  content: "\f06d";
}
.fa-eye:before {
  content: "\f06e";
}
.fa-eye-slash:before {
  content: "\f070";
}
.fa-warning:before,
.fa-exclamation-triangle:before {
  content: "\f071";
}
.fa-plane:before {
  content: "\f072";
}
.fa-calendar:before {
  content: "\f073";
}
.fa-random:before {
  content: "\f074";
}
.fa-comment:before {
  content: "\f075";
}
.fa-magnet:before {
  content: "\f076";
}
.fa-chevron-up:before {
  content: "\f077";
}
.fa-chevron-down:before {
  content: "\f078";
}
.fa-retweet:before {
  content: "\f079";
}
.fa-shopping-cart:before {
  content: "\f07a";
}
.fa-folder:before {
  content: "\f07b";
}
.fa-folder-open:before {
  content: "\f07c";
}
.fa-arrows-v:before {
  content: "\f07d";
}
.fa-arrows-h:before {
  content: "\f07e";
}
.fa-bar-chart-o:before,
.fa-bar-chart:before {
  content: "\f080";
}
.fa-twitter-square:before {
  content: "\f081";
}
.fa-facebook-square:before {
  content: "\f082";
}
.fa-camera-retro:before {
  content: "\f083";
}
.fa-key:before {
  content: "\f084";
}
.fa-gears:before,
.fa-cogs:before {
  content: "\f085";
}
.fa-comments:before {
  content: "\f086";
}
.fa-thumbs-o-up:before {
  content: "\f087";
}
.fa-thumbs-o-down:before {
  content: "\f088";
}
.fa-star-half:before {
  content: "\f089";
}
.fa-heart-o:before {
  content: "\f08a";
}
.fa-sign-out:before {
  content: "\f08b";
}
.fa-linkedin-square:before {
  content: "\f08c";
}
.fa-thumb-tack:before {
  content: "\f08d";
}
.fa-external-link:before {
  content: "\f08e";
}
.fa-sign-in:before {
  content: "\f090";
}
.fa-trophy:before {
  content: "\f091";
}
.fa-github-square:before {
  content: "\f092";
}
.fa-upload:before {
  content: "\f093";
}
.fa-lemon-o:before {
  content: "\f094";
}
.fa-phone:before {
  content: "\f095";
}
.fa-square-o:before {
  content: "\f096";
}
.fa-bookmark-o:before {
  content: "\f097";
}
.fa-phone-square:before {
  content: "\f098";
}
.fa-twitter:before {
  content: "\f099";
}
.fa-facebook-f:before,
.fa-facebook:before {
  content: "\f09a";
}
.fa-github:before {
  content: "\f09b";
}
.fa-unlock:before {
  content: "\f09c";
}
.fa-credit-card:before {
  content: "\f09d";
}
.fa-feed:before,
.fa-rss:before {
  content: "\f09e";
}
.fa-hdd-o:before {
  content: "\f0a0";
}
.fa-bullhorn:before {
  content: "\f0a1";
}
.fa-bell:before {
  content: "\f0f3";
}
.fa-certificate:before {
  content: "\f0a3";
}
.fa-hand-o-right:before {
  content: "\f0a4";
}
.fa-hand-o-left:before {
  content: "\f0a5";
}
.fa-hand-o-up:before {
  content: "\f0a6";
}
.fa-hand-o-down:before {
  content: "\f0a7";
}
.fa-arrow-circle-left:before {
  content: "\f0a8";
}
.fa-arrow-circle-right:before {
  content: "\f0a9";
}
.fa-arrow-circle-up:before {
  content: "\f0aa";
}
.fa-arrow-circle-down:before {
  content: "\f0ab";
}
.fa-globe:before {
  content: "\f0ac";
}
.fa-wrench:before {
  content: "\f0ad";
}
.fa-tasks:before {
  content: "\f0ae";
}
.fa-filter:before {
  content: "\f0b0";
}
.fa-briefcase:before {
  content: "\f0b1";
}
.fa-arrows-alt:before {
  content: "\f0b2";
}
.fa-group:before,
.fa-users:before {
  content: "\f0c0";
}
.fa-chain:before,
.fa-link:before {
  content: "\f0c1";
}
.fa-cloud:before {
  content: "\f0c2";
}
.fa-flask:before {
  content: "\f0c3";
}
.fa-cut:before,
.fa-scissors:before {
  content: "\f0c4";
}
.fa-copy:before,
.fa-files-o:before {
  content: "\f0c5";
}
.fa-paperclip:before {
  content: "\f0c6";
}
.fa-save:before,
.fa-floppy-o:before {
  content: "\f0c7";
}
.fa-square:before {
  content: "\f0c8";
}
.fa-navicon:before,
.fa-reorder:before,
.fa-bars:before {
  content: "\f0c9";
}
.fa-list-ul:before {
  content: "\f0ca";
}
.fa-list-ol:before {
  content: "\f0cb";
}
.fa-strikethrough:before {
  content: "\f0cc";
}
.fa-underline:before {
  content: "\f0cd";
}
.fa-table:before {
  content: "\f0ce";
}
.fa-magic:before {
  content: "\f0d0";
}
.fa-truck:before {
  content: "\f0d1";
}
.fa-pinterest:before {
  content: "\f0d2";
}
.fa-pinterest-square:before {
  content: "\f0d3";
}
.fa-google-plus-square:before {
  content: "\f0d4";
}
.fa-google-plus:before {
  content: "\f0d5";
}
.fa-money:before {
  content: "\f0d6";
}
.fa-caret-down:before {
  content: "\f0d7";
}
.fa-caret-up:before {
  content: "\f0d8";
}
.fa-caret-left:before {
  content: "\f0d9";
}
.fa-caret-right:before {
  content: "\f0da";
}
.fa-columns:before {
  content: "\f0db";
}
.fa-unsorted:before,
.fa-sort:before {
  content: "\f0dc";
}
.fa-sort-down:before,
.fa-sort-desc:before {
  content: "\f0dd";
}
.fa-sort-up:before,
.fa-sort-asc:before {
  content: "\f0de";
}
.fa-envelope:before {
  content: "\f0e0";
}
.fa-linkedin:before {
  content: "\f0e1";
}
.fa-rotate-left:before,
.fa-undo:before {
  content: "\f0e2";
}
.fa-legal:before,
.fa-gavel:before {
  content: "\f0e3";
}
.fa-dashboard:before,
.fa-tachometer:before {
  content: "\f0e4";
}
.fa-comment-o:before {
  content: "\f0e5";
}
.fa-comments-o:before {
  content: "\f0e6";
}
.fa-flash:before,
.fa-bolt:before {
  content: "\f0e7";
}
.fa-sitemap:before {
  content: "\f0e8";
}
.fa-umbrella:before {
  content: "\f0e9";
}
.fa-paste:before,
.fa-clipboard:before {
  content: "\f0ea";
}
.fa-lightbulb-o:before {
  content: "\f0eb";
}
.fa-exchange:before {
  content: "\f0ec";
}
.fa-cloud-download:before {
  content: "\f0ed";
}
.fa-cloud-upload:before {
  content: "\f0ee";
}
.fa-user-md:before {
  content: "\f0f0";
}
.fa-stethoscope:before {
  content: "\f0f1";
}
.fa-suitcase:before {
  content: "\f0f2";
}
.fa-bell-o:before {
  content: "\f0a2";
}
.fa-coffee:before {
  content: "\f0f4";
}
.fa-cutlery:before {
  content: "\f0f5";
}
.fa-file-text-o:before {
  content: "\f0f6";
}
.fa-building-o:before {
  content: "\f0f7";
}
.fa-hospital-o:before {
  content: "\f0f8";
}
.fa-ambulance:before {
  content: "\f0f9";
}
.fa-medkit:before {
  content: "\f0fa";
}
.fa-fighter-jet:before {
  content: "\f0fb";
}
.fa-beer:before {
  content: "\f0fc";
}
.fa-h-square:before {
  content: "\f0fd";
}
.fa-plus-square:before {
  content: "\f0fe";
}
.fa-angle-double-left:before {
  content: "\f100";
}
.fa-angle-double-right:before {
  content: "\f101";
}
.fa-angle-double-up:before {
  content: "\f102";
}
.fa-angle-double-down:before {
  content: "\f103";
}
.fa-angle-left:before {
  content: "\f104";
}
.fa-angle-right:before {
  content: "\f105";
}
.fa-angle-up:before {
  content: "\f106";
}
.fa-angle-down:before {
  content: "\f107";
}
.fa-desktop:before {
  content: "\f108";
}
.fa-laptop:before {
  content: "\f109";
}
.fa-tablet:before {
  content: "\f10a";
}
.fa-mobile-phone:before,
.fa-mobile:before {
  content: "\f10b";
}
.fa-circle-o:before {
  content: "\f10c";
}
.fa-quote-left:before {
  content: "\f10d";
}
.fa-quote-right:before {
  content: "\f10e";
}
.fa-spinner:before {
  content: "\f110";
}
.fa-circle:before {
  content: "\f111";
}
.fa-mail-reply:before,
.fa-reply:before {
  content: "\f112";
}
.fa-github-alt:before {
  content: "\f113";
}
.fa-folder-o:before {
  content: "\f114";
}
.fa-folder-open-o:before {
  content: "\f115";
}
.fa-smile-o:before {
  content: "\f118";
}
.fa-frown-o:before {
  content: "\f119";
}
.fa-meh-o:before {
  content: "\f11a";
}
.fa-gamepad:before {
  content: "\f11b";
}
.fa-keyboard-o:before {
  content: "\f11c";
}
.fa-flag-o:before {
  content: "\f11d";
}
.fa-flag-checkered:before {
  content: "\f11e";
}
.fa-terminal:before {
  content: "\f120";
}
.fa-code:before {
  content: "\f121";
}
.fa-mail-reply-all:before,
.fa-reply-all:before {
  content: "\f122";
}
.fa-star-half-empty:before,
.fa-star-half-full:before,
.fa-star-half-o:before {
  content: "\f123";
}
.fa-location-arrow:before {
  content: "\f124";
}
.fa-crop:before {
  content: "\f125";
}
.fa-code-fork:before {
  content: "\f126";
}
.fa-unlink:before,
.fa-chain-broken:before {
  content: "\f127";
}
.fa-question:before {
  content: "\f128";
}
.fa-info:before {
  content: "\f129";
}
.fa-exclamation:before {
  content: "\f12a";
}
.fa-superscript:before {
  content: "\f12b";
}
.fa-subscript:before {
  content: "\f12c";
}
.fa-eraser:before {
  content: "\f12d";
}
.fa-puzzle-piece:before {
  content: "\f12e";
}
.fa-microphone:before {
  content: "\f130";
}
.fa-microphone-slash:before {
  content: "\f131";
}
.fa-shield:before {
  content: "\f132";
}
.fa-calendar-o:before {
  content: "\f133";
}
.fa-fire-extinguisher:before {
  content: "\f134";
}
.fa-rocket:before {
  content: "\f135";
}
.fa-maxcdn:before {
  content: "\f136";
}
.fa-chevron-circle-left:before {
  content: "\f137";
}
.fa-chevron-circle-right:before {
  content: "\f138";
}
.fa-chevron-circle-up:before {
  content: "\f139";
}
.fa-chevron-circle-down:before {
  content: "\f13a";
}
.fa-html5:before {
  content: "\f13b";
}
.fa-css3:before {
  content: "\f13c";
}
.fa-anchor:before {
  content: "\f13d";
}
.fa-unlock-alt:before {
  content: "\f13e";
}
.fa-bullseye:before {
  content: "\f140";
}
.fa-ellipsis-h:before {
  content: "\f141";
}
.fa-ellipsis-v:before {
  content: "\f142";
}
.fa-rss-square:before {
  content: "\f143";
}
.fa-play-circle:before {
  content: "\f144";
}
.fa-ticket:before {
  content: "\f145";
}
.fa-minus-square:before {
  content: "\f146";
}
.fa-minus-square-o:before {
  content: "\f147";
}
.fa-level-up:before {
  content: "\f148";
}
.fa-level-down:before {
  content: "\f149";
}
.fa-check-square:before {
  content: "\f14a";
}
.fa-pencil-square:before {
  content: "\f14b";
}
.fa-external-link-square:before {
  content: "\f14c";
}
.fa-share-square:before {
  content: "\f14d";
}
.fa-compass:before {
  content: "\f14e";
}
.fa-toggle-down:before,
.fa-caret-square-o-down:before {
  content: "\f150";
}
.fa-toggle-up:before,
.fa-caret-square-o-up:before {
  content: "\f151";
}
.fa-toggle-right:before,
.fa-caret-square-o-right:before {
  content: "\f152";
}
.fa-euro:before,
.fa-eur:before {
  content: "\f153";
}
.fa-gbp:before {
  content: "\f154";
}
.fa-dollar:before,
.fa-usd:before {
  content: "\f155";
}
.fa-rupee:before,
.fa-inr:before {
  content: "\f156";
}
.fa-cny:before,
.fa-rmb:before,
.fa-yen:before,
.fa-jpy:before {
  content: "\f157";
}
.fa-ruble:before,
.fa-rouble:before,
.fa-rub:before {
  content: "\f158";
}
.fa-won:before,
.fa-krw:before {
  content: "\f159";
}
.fa-bitcoin:before,
.fa-btc:before {
  content: "\f15a";
}
.fa-file:before {
  content: "\f15b";
}
.fa-file-text:before {
  content: "\f15c";
}
.fa-sort-alpha-asc:before {
  content: "\f15d";
}
.fa-sort-alpha-desc:before {
  content: "\f15e";
}
.fa-sort-amount-asc:before {
  content: "\f160";
}
.fa-sort-amount-desc:before {
  content: "\f161";
}
.fa-sort-numeric-asc:before {
  content: "\f162";
}
.fa-sort-numeric-desc:before {
  content: "\f163";
}
.fa-thumbs-up:before {
  content: "\f164";
}
.fa-thumbs-down:before {
  content: "\f165";
}
.fa-youtube-square:before {
  content: "\f166";
}
.fa-youtube:before {
  content: "\f167";
}
.fa-xing:before {
  content: "\f168";
}
.fa-xing-square:before {
  content: "\f169";
}
.fa-youtube-play:before {
  content: "\f16a";
}
.fa-dropbox:before {
  content: "\f16b";
}
.fa-stack-overflow:before {
  content: "\f16c";
}
.fa-instagram:before {
  content: "\f16d";
}
.fa-flickr:before {
  content: "\f16e";
}
.fa-adn:before {
  content: "\f170";
}
.fa-bitbucket:before {
  content: "\f171";
}
.fa-bitbucket-square:before {
  content: "\f172";
}
.fa-tumblr:before {
  content: "\f173";
}
.fa-tumblr-square:before {
  content: "\f174";
}
.fa-long-arrow-down:before {
  content: "\f175";
}
.fa-long-arrow-up:before {
  content: "\f176";
}
.fa-long-arrow-left:before {
  content: "\f177";
}
.fa-long-arrow-right:before {
  content: "\f178";
}
.fa-apple:before {
  content: "\f179";
}
.fa-windows:before {
  content: "\f17a";
}
.fa-android:before {
  content: "\f17b";
}
.fa-linux:before {
  content: "\f17c";
}
.fa-dribbble:before {
  content: "\f17d";
}
.fa-skype:before {
  content: "\f17e";
}
.fa-foursquare:before {
  content: "\f180";
}
.fa-trello:before {
  content: "\f181";
}
.fa-female:before {
  content: "\f182";
}
.fa-male:before {
  content: "\f183";
}
.fa-gittip:before,
.fa-gratipay:before {
  content: "\f184";
}
.fa-sun-o:before {
  content: "\f185";
}
.fa-moon-o:before {
  content: "\f186";
}
.fa-archive:before {
  content: "\f187";
}
.fa-bug:before {
  content: "\f188";
}
.fa-vk:before {
  content: "\f189";
}
.fa-weibo:before {
  content: "\f18a";
}
.fa-renren:before {
  content: "\f18b";
}
.fa-pagelines:before {
  content: "\f18c";
}
.fa-stack-exchange:before {
  content: "\f18d";
}
.fa-arrow-circle-o-right:before {
  content: "\f18e";
}
.fa-arrow-circle-o-left:before {
  content: "\f190";
}
.fa-toggle-left:before,
.fa-caret-square-o-left:before {
  content: "\f191";
}
.fa-dot-circle-o:before {
  content: "\f192";
}
.fa-wheelchair:before {
  content: "\f193";
}
.fa-vimeo-square:before {
  content: "\f194";
}
.fa-turkish-lira:before,
.fa-try:before {
  content: "\f195";
}
.fa-plus-square-o:before {
  content: "\f196";
}
.fa-space-shuttle:before {
  content: "\f197";
}
.fa-slack:before {
  content: "\f198";
}
.fa-envelope-square:before {
  content: "\f199";
}
.fa-wordpress:before {
  content: "\f19a";
}
.fa-openid:before {
  content: "\f19b";
}
.fa-institution:before,
.fa-bank:before,
.fa-university:before {
  content: "\f19c";
}
.fa-mortar-board:before,
.fa-graduation-cap:before {
  content: "\f19d";
}
.fa-yahoo:before {
  content: "\f19e";
}
.fa-google:before {
  content: "\f1a0";
}
.fa-reddit:before {
  content: "\f1a1";
}
.fa-reddit-square:before {
  content: "\f1a2";
}
.fa-stumbleupon-circle:before {
  content: "\f1a3";
}
.fa-stumbleupon:before {
  content: "\f1a4";
}
.fa-delicious:before {
  content: "\f1a5";
}
.fa-digg:before {
  content: "\f1a6";
}
.fa-pied-piper-pp:before {
  content: "\f1a7";
}
.fa-pied-piper-alt:before {
  content: "\f1a8";
}
.fa-drupal:before {
  content: "\f1a9";
}
.fa-joomla:before {
  content: "\f1aa";
}
.fa-language:before {
  content: "\f1ab";
}
.fa-fax:before {
  content: "\f1ac";
}
.fa-building:before {
  content: "\f1ad";
}
.fa-child:before {
  content: "\f1ae";
}
.fa-paw:before {
  content: "\f1b0";
}
.fa-spoon:before {
  content: "\f1b1";
}
.fa-cube:before {
  content: "\f1b2";
}
.fa-cubes:before {
  content: "\f1b3";
}
.fa-behance:before {
  content: "\f1b4";
}
.fa-behance-square:before {
  content: "\f1b5";
}
.fa-steam:before {
  content: "\f1b6";
}
.fa-steam-square:before {
  content: "\f1b7";
}
.fa-recycle:before {
  content: "\f1b8";
}
.fa-automobile:before,
.fa-car:before {
  content: "\f1b9";
}
.fa-cab:before,
.fa-taxi:before {
  content: "\f1ba";
}
.fa-tree:before {
  content: "\f1bb";
}
.fa-spotify:before {
  content: "\f1bc";
}
.fa-deviantart:before {
  content: "\f1bd";
}
.fa-soundcloud:before {
  content: "\f1be";
}
.fa-database:before {
  content: "\f1c0";
}
.fa-file-pdf-o:before {
  content: "\f1c1";
}
.fa-file-word-o:before {
  content: "\f1c2";
}
.fa-file-excel-o:before {
  content: "\f1c3";
}
.fa-file-powerpoint-o:before {
  content: "\f1c4";
}
.fa-file-photo-o:before,
.fa-file-picture-o:before,
.fa-file-image-o:before {
  content: "\f1c5";
}
.fa-file-zip-o:before,
.fa-file-archive-o:before {
  content: "\f1c6";
}
.fa-file-sound-o:before,
.fa-file-audio-o:before {
  content: "\f1c7";
}
.fa-file-movie-o:before,
.fa-file-video-o:before {
  content: "\f1c8";
}
.fa-file-code-o:before {
  content: "\f1c9";
}
.fa-vine:before {
  content: "\f1ca";
}
.fa-codepen:before {
  content: "\f1cb";
}
.fa-jsfiddle:before {
  content: "\f1cc";
}
.fa-life-bouy:before,
.fa-life-buoy:before,
.fa-life-saver:before,
.fa-support:before,
.fa-life-ring:before {
  content: "\f1cd";
}
.fa-circle-o-notch:before {
  content: "\f1ce";
}
.fa-ra:before,
.fa-resistance:before,
.fa-rebel:before {
  content: "\f1d0";
}
.fa-ge:before,
.fa-empire:before {
  content: "\f1d1";
}
.fa-git-square:before {
  content: "\f1d2";
}
.fa-git:before {
  content: "\f1d3";
}
.fa-y-combinator-square:before,
.fa-yc-square:before,
.fa-hacker-news:before {
  content: "\f1d4";
}
.fa-tencent-weibo:before {
  content: "\f1d5";
}
.fa-qq:before {
  content: "\f1d6";
}
.fa-wechat:before,
.fa-weixin:before {
  content: "\f1d7";
}
.fa-send:before,
.fa-paper-plane:before {
  content: "\f1d8";
}
.fa-send-o:before,
.fa-paper-plane-o:before {
  content: "\f1d9";
}
.fa-history:before {
  content: "\f1da";
}
.fa-circle-thin:before {
  content: "\f1db";
}
.fa-header:before {
  content: "\f1dc";
}
.fa-paragraph:before {
  content: "\f1dd";
}
.fa-sliders:before {
  content: "\f1de";
}
.fa-share-alt:before {
  content: "\f1e0";
}
.fa-share-alt-square:before {
  content: "\f1e1";
}
.fa-bomb:before {
  content: "\f1e2";
}
.fa-soccer-ball-o:before,
.fa-futbol-o:before {
  content: "\f1e3";
}
.fa-tty:before {
  content: "\f1e4";
}
.fa-binoculars:before {
  content: "\f1e5";
}
.fa-plug:before {
  content: "\f1e6";
}
.fa-slideshare:before {
  content: "\f1e7";
}
.fa-twitch:before {
  content: "\f1e8";
}
.fa-yelp:before {
  content: "\f1e9";
}
.fa-newspaper-o:before {
  content: "\f1ea";
}
.fa-wifi:before {
  content: "\f1eb";
}
.fa-calculator:before {
  content: "\f1ec";
}
.fa-paypal:before {
  content: "\f1ed";
}
.fa-google-wallet:before {
  content: "\f1ee";
}
.fa-cc-visa:before {
  content: "\f1f0";
}
.fa-cc-mastercard:before {
  content: "\f1f1";
}
.fa-cc-discover:before {
  content: "\f1f2";
}
.fa-cc-amex:before {
  content: "\f1f3";
}
.fa-cc-paypal:before {
  content: "\f1f4";
}
.fa-cc-stripe:before {
  content: "\f1f5";
}
.fa-bell-slash:before {
  content: "\f1f6";
}
.fa-bell-slash-o:before {
  content: "\f1f7";
}
.fa-trash:before {
  content: "\f1f8";
}
.fa-copyright:before {
  content: "\f1f9";
}
.fa-at:before {
  content: "\f1fa";
}
.fa-eyedropper:before {
  content: "\f1fb";
}
.fa-paint-brush:before {
  content: "\f1fc";
}
.fa-birthday-cake:before {
  content: "\f1fd";
}
.fa-area-chart:before {
  content: "\f1fe";
}
.fa-pie-chart:before {
  content: "\f200";
}
.fa-line-chart:before {
  content: "\f201";
}
.fa-lastfm:before {
  content: "\f202";
}
.fa-lastfm-square:before {
  content: "\f203";
}
.fa-toggle-off:before {
  content: "\f204";
}
.fa-toggle-on:before {
  content: "\f205";
}
.fa-bicycle:before {
  content: "\f206";
}
.fa-bus:before {
  content: "\f207";
}
.fa-ioxhost:before {
  content: "\f208";
}
.fa-angellist:before {
  content: "\f209";
}
.fa-cc:before {
  content: "\f20a";
}
.fa-shekel:before,
.fa-sheqel:before,
.fa-ils:before {
  content: "\f20b";
}
.fa-meanpath:before {
  content: "\f20c";
}
.fa-buysellads:before {
  content: "\f20d";
}
.fa-connectdevelop:before {
  content: "\f20e";
}
.fa-dashcube:before {
  content: "\f210";
}
.fa-forumbee:before {
  content: "\f211";
}
.fa-leanpub:before {
  content: "\f212";
}
.fa-sellsy:before {
  content: "\f213";
}
.fa-shirtsinbulk:before {
  content: "\f214";
}
.fa-simplybuilt:before {
  content: "\f215";
}
.fa-skyatlas:before {
  content: "\f216";
}
.fa-cart-plus:before {
  content: "\f217";
}
.fa-cart-arrow-down:before {
  content: "\f218";
}
.fa-diamond:before {
  content: "\f219";
}
.fa-ship:before {
  content: "\f21a";
}
.fa-user-secret:before {
  content: "\f21b";
}
.fa-motorcycle:before {
  content: "\f21c";
}
.fa-street-view:before {
  content: "\f21d";
}
.fa-heartbeat:before {
  content: "\f21e";
}
.fa-venus:before {
  content: "\f221";
}
.fa-mars:before {
  content: "\f222";
}
.fa-mercury:before {
  content: "\f223";
}
.fa-intersex:before,
.fa-transgender:before {
  content: "\f224";
}
.fa-transgender-alt:before {
  content: "\f225";
}
.fa-venus-double:before {
  content: "\f226";
}
.fa-mars-double:before {
  content: "\f227";
}
.fa-venus-mars:before {
  content: "\f228";
}
.fa-mars-stroke:before {
  content: "\f229";
}
.fa-mars-stroke-v:before {
  content: "\f22a";
}
.fa-mars-stroke-h:before {
  content: "\f22b";
}
.fa-neuter:before {
  content: "\f22c";
}
.fa-genderless:before {
  content: "\f22d";
}
.fa-facebook-official:before {
  content: "\f230";
}
.fa-pinterest-p:before {
  content: "\f231";
}
.fa-whatsapp:before {
  content: "\f232";
}
.fa-server:before {
  content: "\f233";
}
.fa-user-plus:before {
  content: "\f234";
}
.fa-user-times:before {
  content: "\f235";
}
.fa-hotel:before,
.fa-bed:before {
  content: "\f236";
}
.fa-viacoin:before {
  content: "\f237";
}
.fa-train:before {
  content: "\f238";
}
.fa-subway:before {
  content: "\f239";
}
.fa-medium:before {
  content: "\f23a";
}
.fa-yc:before,
.fa-y-combinator:before {
  content: "\f23b";
}
.fa-optin-monster:before {
  content: "\f23c";
}
.fa-opencart:before {
  content: "\f23d";
}
.fa-expeditedssl:before {
  content: "\f23e";
}
.fa-battery-4:before,
.fa-battery:before,
.fa-battery-full:before {
  content: "\f240";
}
.fa-battery-3:before,
.fa-battery-three-quarters:before {
  content: "\f241";
}
.fa-battery-2:before,
.fa-battery-half:before {
  content: "\f242";
}
.fa-battery-1:before,
.fa-battery-quarter:before {
  content: "\f243";
}
.fa-battery-0:before,
.fa-battery-empty:before {
  content: "\f244";
}
.fa-mouse-pointer:before {
  content: "\f245";
}
.fa-i-cursor:before {
  content: "\f246";
}
.fa-object-group:before {
  content: "\f247";
}
.fa-object-ungroup:before {
  content: "\f248";
}
.fa-sticky-note:before {
  content: "\f249";
}
.fa-sticky-note-o:before {
  content: "\f24a";
}
.fa-cc-jcb:before {
  content: "\f24b";
}
.fa-cc-diners-club:before {
  content: "\f24c";
}
.fa-clone:before {
  content: "\f24d";
}
.fa-balance-scale:before {
  content: "\f24e";
}
.fa-hourglass-o:before {
  content: "\f250";
}
.fa-hourglass-1:before,
.fa-hourglass-start:before {
  content: "\f251";
}
.fa-hourglass-2:before,
.fa-hourglass-half:before {
  content: "\f252";
}
.fa-hourglass-3:before,
.fa-hourglass-end:before {
  content: "\f253";
}
.fa-hourglass:before {
  content: "\f254";
}
.fa-hand-grab-o:before,
.fa-hand-rock-o:before {
  content: "\f255";
}
.fa-hand-stop-o:before,
.fa-hand-paper-o:before {
  content: "\f256";
}
.fa-hand-scissors-o:before {
  content: "\f257";
}
.fa-hand-lizard-o:before {
  content: "\f258";
}
.fa-hand-spock-o:before {
  content: "\f259";
}
.fa-hand-pointer-o:before {
  content: "\f25a";
}
.fa-hand-peace-o:before {
  content: "\f25b";
}
.fa-trademark:before {
  content: "\f25c";
}
.fa-registered:before {
  content: "\f25d";
}
.fa-creative-commons:before {
  content: "\f25e";
}
.fa-gg:before {
  content: "\f260";
}
.fa-gg-circle:before {
  content: "\f261";
}
.fa-tripadvisor:before {
  content: "\f262";
}
.fa-odnoklassniki:before {
  content: "\f263";
}
.fa-odnoklassniki-square:before {
  content: "\f264";
}
.fa-get-pocket:before {
  content: "\f265";
}
.fa-wikipedia-w:before {
  content: "\f266";
}
.fa-safari:before {
  content: "\f267";
}
.fa-chrome:before {
  content: "\f268";
}
.fa-firefox:before {
  content: "\f269";
}
.fa-opera:before {
  content: "\f26a";
}
.fa-internet-explorer:before {
  content: "\f26b";
}
.fa-tv:before,
.fa-television:before {
  content: "\f26c";
}
.fa-contao:before {
  content: "\f26d";
}
.fa-500px:before {
  content: "\f26e";
}
.fa-amazon:before {
  content: "\f270";
}
.fa-calendar-plus-o:before {
  content: "\f271";
}
.fa-calendar-minus-o:before {
  content: "\f272";
}
.fa-calendar-times-o:before {
  content: "\f273";
}
.fa-calendar-check-o:before {
  content: "\f274";
}
.fa-industry:before {
  content: "\f275";
}
.fa-map-pin:before {
  content: "\f276";
}
.fa-map-signs:before {
  content: "\f277";
}
.fa-map-o:before {
  content: "\f278";
}
.fa-map:before {
  content: "\f279";
}
.fa-commenting:before {
  content: "\f27a";
}
.fa-commenting-o:before {
  content: "\f27b";
}
.fa-houzz:before {
  content: "\f27c";
}
.fa-vimeo:before {
  content: "\f27d";
}
.fa-black-tie:before {
  content: "\f27e";
}
.fa-fonticons:before {
  content: "\f280";
}
.fa-reddit-alien:before {
  content: "\f281";
}
.fa-edge:before {
  content: "\f282";
}
.fa-credit-card-alt:before {
  content: "\f283";
}
.fa-codiepie:before {
  content: "\f284";
}
.fa-modx:before {
  content: "\f285";
}
.fa-fort-awesome:before {
  content: "\f286";
}
.fa-usb:before {
  content: "\f287";
}
.fa-product-hunt:before {
  content: "\f288";
}
.fa-mixcloud:before {
  content: "\f289";
}
.fa-scribd:before {
  content: "\f28a";
}
.fa-pause-circle:before {
  content: "\f28b";
}
.fa-pause-circle-o:before {
  content: "\f28c";
}
.fa-stop-circle:before {
  content: "\f28d";
}
.fa-stop-circle-o:before {
  content: "\f28e";
}
.fa-shopping-bag:before {
  content: "\f290";
}
.fa-shopping-basket:before {
  content: "\f291";
}
.fa-hashtag:before {
  content: "\f292";
}
.fa-bluetooth:before {
  content: "\f293";
}
.fa-bluetooth-b:before {
  content: "\f294";
}
.fa-percent:before {
  content: "\f295";
}
.fa-gitlab:before {
  content: "\f296";
}
.fa-wpbeginner:before {
  content: "\f297";
}
.fa-wpforms:before {
  content: "\f298";
}
.fa-envira:before {
  content: "\f299";
}
.fa-universal-access:before {
  content: "\f29a";
}
.fa-wheelchair-alt:before {
  content: "\f29b";
}
.fa-question-circle-o:before {
  content: "\f29c";
}
.fa-blind:before {
  content: "\f29d";
}
.fa-audio-description:before {
  content: "\f29e";
}
.fa-volume-control-phone:before {
  content: "\f2a0";
}
.fa-braille:before {
  content: "\f2a1";
}
.fa-assistive-listening-systems:before {
  content: "\f2a2";
}
.fa-asl-interpreting:before,
.fa-american-sign-language-interpreting:before {
  content: "\f2a3";
}
.fa-deafness:before,
.fa-hard-of-hearing:before,
.fa-deaf:before {
  content: "\f2a4";
}
.fa-glide:before {
  content: "\f2a5";
}
.fa-glide-g:before {
  content: "\f2a6";
}
.fa-signing:before,
.fa-sign-language:before {
  content: "\f2a7";
}
.fa-low-vision:before {
  content: "\f2a8";
}
.fa-viadeo:before {
  content: "\f2a9";
}
.fa-viadeo-square:before {
  content: "\f2aa";
}
.fa-snapchat:before {
  content: "\f2ab";
}
.fa-snapchat-ghost:before {
  content: "\f2ac";
}
.fa-snapchat-square:before {
  content: "\f2ad";
}
.fa-pied-piper:before {
  content: "\f2ae";
}
.fa-first-order:before {
  content: "\f2b0";
}
.fa-yoast:before {
  content: "\f2b1";
}
.fa-themeisle:before {
  content: "\f2b2";
}
.fa-google-plus-circle:before,
.fa-google-plus-official:before {
  content: "\f2b3";
}
.fa-fa:before,
.fa-font-awesome:before {
  content: "\f2b4";
}
.fa-handshake-o:before {
  content: "\f2b5";
}
.fa-envelope-open:before {
  content: "\f2b6";
}
.fa-envelope-open-o:before {
  content: "\f2b7";
}
.fa-linode:before {
  content: "\f2b8";
}
.fa-address-book:before {
  content: "\f2b9";
}
.fa-address-book-o:before {
  content: "\f2ba";
}
.fa-vcard:before,
.fa-address-card:before {
  content: "\f2bb";
}
.fa-vcard-o:before,
.fa-address-card-o:before {
  content: "\f2bc";
}
.fa-user-circle:before {
  content: "\f2bd";
}
.fa-user-circle-o:before {
  content: "\f2be";
}
.fa-user-o:before {
  content: "\f2c0";
}
.fa-id-badge:before {
  content: "\f2c1";
}
.fa-drivers-license:before,
.fa-id-card:before {
  content: "\f2c2";
}
.fa-drivers-license-o:before,
.fa-id-card-o:before {
  content: "\f2c3";
}
.fa-quora:before {
  content: "\f2c4";
}
.fa-free-code-camp:before {
  content: "\f2c5";
}
.fa-telegram:before {
  content: "\f2c6";
}
.fa-thermometer-4:before,
.fa-thermometer:before,
.fa-thermometer-full:before {
  content: "\f2c7";
}
.fa-thermometer-3:before,
.fa-thermometer-three-quarters:before {
  content: "\f2c8";
}
.fa-thermometer-2:before,
.fa-thermometer-half:before {
  content: "\f2c9";
}
.fa-thermometer-1:before,
.fa-thermometer-quarter:before {
  content: "\f2ca";
}
.fa-thermometer-0:before,
.fa-thermometer-empty:before {
  content: "\f2cb";
}
.fa-shower:before {
  content: "\f2cc";
}
.fa-bathtub:before,
.fa-s15:before,
.fa-bath:before {
  content: "\f2cd";
}
.fa-podcast:before {
  content: "\f2ce";
}
.fa-window-maximize:before {
  content: "\f2d0";
}
.fa-window-minimize:before {
  content: "\f2d1";
}
.fa-window-restore:before {
  content: "\f2d2";
}
.fa-times-rectangle:before,
.fa-window-close:before {
  content: "\f2d3";
}
.fa-times-rectangle-o:before,
.fa-window-close-o:before {
  content: "\f2d4";
}
.fa-bandcamp:before {
  content: "\f2d5";
}
.fa-grav:before {
  content: "\f2d6";
}
.fa-etsy:before {
  content: "\f2d7";
}
.fa-imdb:before {
  content: "\f2d8";
}
.fa-ravelry:before {
  content: "\f2d9";
}
.fa-eercast:before {
  content: "\f2da";
}
.fa-microchip:before {
  content: "\f2db";
}
.fa-snowflake-o:before {
  content: "\f2dc";
}
.fa-superpowers:before {
  content: "\f2dd";
}
.fa-wpexplorer:before {
  content: "\f2de";
}
.fa-meetup:before {
  content: "\f2e0";
}
.sr-only {
  position: absolute;
  width: 1px;
  height: 1px;
  padding: 0;
  margin: -1px;
  overflow: hidden;
  clip: rect(0, 0, 0, 0);
  border: 0;
}
.sr-only-focusable:active,
.sr-only-focusable:focus {
  position: static;
  width: auto;
  height: auto;
  margin: 0;
  overflow: visible;
  clip: auto;
}
.sr-only-focusable:active,
.sr-only-focusable:focus {
  position: static;
  width: auto;
  height: auto;
  margin: 0;
  overflow: visible;
  clip: auto;
}
/*!
*
* IPython base
*
*/
.modal.fade .modal-dialog {
  -webkit-transform: translate(0, 0);
  -ms-transform: translate(0, 0);
  -o-transform: translate(0, 0);
  transform: translate(0, 0);
}
code {
  color: #000;
}
pre {
  font-size: inherit;
  line-height: inherit;
}
label {
  font-weight: normal;
}
/* Make the page background atleast 100% the height of the view port */
/* Make the page itself atleast 70% the height of the view port */
.border-box-sizing {
  box-sizing: border-box;
  -moz-box-sizing: border-box;
  -webkit-box-sizing: border-box;
}
.corner-all {
  border-radius: 2px;
}
.no-padding {
  padding: 0px;
}
/* Flexible box model classes */
/* Taken from Alex Russell http://infrequently.org/2009/08/css-3-progress/ */
/* This file is a compatability layer.  It allows the usage of flexible box 
model layouts accross multiple browsers, including older browsers.  The newest,
universal implementation of the flexible box model is used when available (see
`Modern browsers` comments below).  Browsers that are known to implement this 
new spec completely include:

    Firefox 28.0+
    Chrome 29.0+
    Internet Explorer 11+ 
    Opera 17.0+

Browsers not listed, including Safari, are supported via the styling under the
`Old browsers` comments below.
*/
.hbox {
  /* Old browsers */
  display: -webkit-box;
  -webkit-box-orient: horizontal;
  -webkit-box-align: stretch;
  display: -moz-box;
  -moz-box-orient: horizontal;
  -moz-box-align: stretch;
  display: box;
  box-orient: horizontal;
  box-align: stretch;
  /* Modern browsers */
  display: flex;
  flex-direction: row;
  align-items: stretch;
}
.hbox > * {
  /* Old browsers */
  -webkit-box-flex: 0;
  -moz-box-flex: 0;
  box-flex: 0;
  /* Modern browsers */
  flex: none;
}
.vbox {
  /* Old browsers */
  display: -webkit-box;
  -webkit-box-orient: vertical;
  -webkit-box-align: stretch;
  display: -moz-box;
  -moz-box-orient: vertical;
  -moz-box-align: stretch;
  display: box;
  box-orient: vertical;
  box-align: stretch;
  /* Modern browsers */
  display: flex;
  flex-direction: column;
  align-items: stretch;
}
.vbox > * {
  /* Old browsers */
  -webkit-box-flex: 0;
  -moz-box-flex: 0;
  box-flex: 0;
  /* Modern browsers */
  flex: none;
}
.hbox.reverse,
.vbox.reverse,
.reverse {
  /* Old browsers */
  -webkit-box-direction: reverse;
  -moz-box-direction: reverse;
  box-direction: reverse;
  /* Modern browsers */
  flex-direction: row-reverse;
}
.hbox.box-flex0,
.vbox.box-flex0,
.box-flex0 {
  /* Old browsers */
  -webkit-box-flex: 0;
  -moz-box-flex: 0;
  box-flex: 0;
  /* Modern browsers */
  flex: none;
  width: auto;
}
.hbox.box-flex1,
.vbox.box-flex1,
.box-flex1 {
  /* Old browsers */
  -webkit-box-flex: 1;
  -moz-box-flex: 1;
  box-flex: 1;
  /* Modern browsers */
  flex: 1;
}
.hbox.box-flex,
.vbox.box-flex,
.box-flex {
  /* Old browsers */
  /* Old browsers */
  -webkit-box-flex: 1;
  -moz-box-flex: 1;
  box-flex: 1;
  /* Modern browsers */
  flex: 1;
}
.hbox.box-flex2,
.vbox.box-flex2,
.box-flex2 {
  /* Old browsers */
  -webkit-box-flex: 2;
  -moz-box-flex: 2;
  box-flex: 2;
  /* Modern browsers */
  flex: 2;
}
.box-group1 {
  /*  Deprecated */
  -webkit-box-flex-group: 1;
  -moz-box-flex-group: 1;
  box-flex-group: 1;
}
.box-group2 {
  /* Deprecated */
  -webkit-box-flex-group: 2;
  -moz-box-flex-group: 2;
  box-flex-group: 2;
}
.hbox.start,
.vbox.start,
.start {
  /* Old browsers */
  -webkit-box-pack: start;
  -moz-box-pack: start;
  box-pack: start;
  /* Modern browsers */
  justify-content: flex-start;
}
.hbox.end,
.vbox.end,
.end {
  /* Old browsers */
  -webkit-box-pack: end;
  -moz-box-pack: end;
  box-pack: end;
  /* Modern browsers */
  justify-content: flex-end;
}
.hbox.center,
.vbox.center,
.center {
  /* Old browsers */
  -webkit-box-pack: center;
  -moz-box-pack: center;
  box-pack: center;
  /* Modern browsers */
  justify-content: center;
}
.hbox.baseline,
.vbox.baseline,
.baseline {
  /* Old browsers */
  -webkit-box-pack: baseline;
  -moz-box-pack: baseline;
  box-pack: baseline;
  /* Modern browsers */
  justify-content: baseline;
}
.hbox.stretch,
.vbox.stretch,
.stretch {
  /* Old browsers */
  -webkit-box-pack: stretch;
  -moz-box-pack: stretch;
  box-pack: stretch;
  /* Modern browsers */
  justify-content: stretch;
}
.hbox.align-start,
.vbox.align-start,
.align-start {
  /* Old browsers */
  -webkit-box-align: start;
  -moz-box-align: start;
  box-align: start;
  /* Modern browsers */
  align-items: flex-start;
}
.hbox.align-end,
.vbox.align-end,
.align-end {
  /* Old browsers */
  -webkit-box-align: end;
  -moz-box-align: end;
  box-align: end;
  /* Modern browsers */
  align-items: flex-end;
}
.hbox.align-center,
.vbox.align-center,
.align-center {
  /* Old browsers */
  -webkit-box-align: center;
  -moz-box-align: center;
  box-align: center;
  /* Modern browsers */
  align-items: center;
}
.hbox.align-baseline,
.vbox.align-baseline,
.align-baseline {
  /* Old browsers */
  -webkit-box-align: baseline;
  -moz-box-align: baseline;
  box-align: baseline;
  /* Modern browsers */
  align-items: baseline;
}
.hbox.align-stretch,
.vbox.align-stretch,
.align-stretch {
  /* Old browsers */
  -webkit-box-align: stretch;
  -moz-box-align: stretch;
  box-align: stretch;
  /* Modern browsers */
  align-items: stretch;
}
div.error {
  margin: 2em;
  text-align: center;
}
div.error > h1 {
  font-size: 500%;
  line-height: normal;
}
div.error > p {
  font-size: 200%;
  line-height: normal;
}
div.traceback-wrapper {
  text-align: left;
  max-width: 800px;
  margin: auto;
}
div.traceback-wrapper pre.traceback {
  max-height: 600px;
  overflow: auto;
}
/**
 * Primary styles
 *
 * Author: Jupyter Development Team
 */
body {
  background-color: #fff;
  /* This makes sure that the body covers the entire window and needs to
       be in a different element than the display: box in wrapper below */
  position: absolute;
  left: 0px;
  right: 0px;
  top: 0px;
  bottom: 0px;
  overflow: visible;
}
body > #header {
  /* Initially hidden to prevent FLOUC */
  display: none;
  background-color: #fff;
  /* Display over codemirror */
  position: relative;
  z-index: 100;
}
body > #header #header-container {
  display: flex;
  flex-direction: row;
  justify-content: space-between;
  padding: 5px;
  padding-bottom: 5px;
  padding-top: 5px;
  box-sizing: border-box;
  -moz-box-sizing: border-box;
  -webkit-box-sizing: border-box;
}
body > #header .header-bar {
  width: 100%;
  height: 1px;
  background: #e7e7e7;
  margin-bottom: -1px;
}
@media print {
  body > #header {
    display: none !important;
  }
}
#header-spacer {
  width: 100%;
  visibility: hidden;
}
@media print {
  #header-spacer {
    display: none;
  }
}
#ipython_notebook {
  padding-left: 0px;
  padding-top: 1px;
  padding-bottom: 1px;
}
[dir="rtl"] #ipython_notebook {
  margin-right: 10px;
  margin-left: 0;
}
[dir="rtl"] #ipython_notebook.pull-left {
  float: right !important;
  float: right;
}
.flex-spacer {
  flex: 1;
}
#noscript {
  width: auto;
  padding-top: 16px;
  padding-bottom: 16px;
  text-align: center;
  font-size: 22px;
  color: red;
  font-weight: bold;
}
#ipython_notebook img {
  height: 28px;
}
#site {
  width: 100%;
  display: none;
  box-sizing: border-box;
  -moz-box-sizing: border-box;
  -webkit-box-sizing: border-box;
  overflow: auto;
}
@media print {
  #site {
    height: auto !important;
  }
}
/* Smaller buttons */
.ui-button .ui-button-text {
  padding: 0.2em 0.8em;
  font-size: 77%;
}
input.ui-button {
  padding: 0.3em 0.9em;
}
span#kernel_logo_widget {
  margin: 0 10px;
}
span#login_widget {
  float: right;
}
[dir="rtl"] span#login_widget {
  float: left;
}
span#login_widget > .button,
#logout {
  color: #333;
  background-color: #fff;
  border-color: #ccc;
}
span#login_widget > .button:focus,
#logout:focus,
span#login_widget > .button.focus,
#logout.focus {
  color: #333;
  background-color: #e6e6e6;
  border-color: #8c8c8c;
}
span#login_widget > .button:hover,
#logout:hover {
  color: #333;
  background-color: #e6e6e6;
  border-color: #adadad;
}
span#login_widget > .button:active,
#logout:active,
span#login_widget > .button.active,
#logout.active,
.open > .dropdown-togglespan#login_widget > .button,
.open > .dropdown-toggle#logout {
  color: #333;
  background-color: #e6e6e6;
  border-color: #adadad;
}
span#login_widget > .button:active:hover,
#logout:active:hover,
span#login_widget > .button.active:hover,
#logout.active:hover,
.open > .dropdown-togglespan#login_widget > .button:hover,
.open > .dropdown-toggle#logout:hover,
span#login_widget > .button:active:focus,
#logout:active:focus,
span#login_widget > .button.active:focus,
#logout.active:focus,
.open > .dropdown-togglespan#login_widget > .button:focus,
.open > .dropdown-toggle#logout:focus,
span#login_widget > .button:active.focus,
#logout:active.focus,
span#login_widget > .button.active.focus,
#logout.active.focus,
.open > .dropdown-togglespan#login_widget > .button.focus,
.open > .dropdown-toggle#logout.focus {
  color: #333;
  background-color: #d4d4d4;
  border-color: #8c8c8c;
}
span#login_widget > .button:active,
#logout:active,
span#login_widget > .button.active,
#logout.active,
.open > .dropdown-togglespan#login_widget > .button,
.open > .dropdown-toggle#logout {
  background-image: none;
}
span#login_widget > .button.disabled:hover,
#logout.disabled:hover,
span#login_widget > .button[disabled]:hover,
#logout[disabled]:hover,
fieldset[disabled] span#login_widget > .button:hover,
fieldset[disabled] #logout:hover,
span#login_widget > .button.disabled:focus,
#logout.disabled:focus,
span#login_widget > .button[disabled]:focus,
#logout[disabled]:focus,
fieldset[disabled] span#login_widget > .button:focus,
fieldset[disabled] #logout:focus,
span#login_widget > .button.disabled.focus,
#logout.disabled.focus,
span#login_widget > .button[disabled].focus,
#logout[disabled].focus,
fieldset[disabled] span#login_widget > .button.focus,
fieldset[disabled] #logout.focus {
  background-color: #fff;
  border-color: #ccc;
}
span#login_widget > .button .badge,
#logout .badge {
  color: #fff;
  background-color: #333;
}
.nav-header {
  text-transform: none;
}
#header > span {
  margin-top: 10px;
}
.modal_stretch .modal-dialog {
  /* Old browsers */
  display: -webkit-box;
  -webkit-box-orient: vertical;
  -webkit-box-align: stretch;
  display: -moz-box;
  -moz-box-orient: vertical;
  -moz-box-align: stretch;
  display: box;
  box-orient: vertical;
  box-align: stretch;
  /* Modern browsers */
  display: flex;
  flex-direction: column;
  align-items: stretch;
  min-height: 80vh;
}
.modal_stretch .modal-dialog .modal-body {
  max-height: calc(100vh - 200px);
  overflow: auto;
  flex: 1;
}
.modal-header {
  cursor: move;
}
@media (min-width: 768px) {
  .modal .modal-dialog {
    width: 700px;
  }
}
@media (min-width: 768px) {
  select.form-control {
    margin-left: 12px;
    margin-right: 12px;
  }
}
/*!
*
* IPython auth
*
*/
.center-nav {
  display: inline-block;
  margin-bottom: -4px;
}
[dir="rtl"] .center-nav form.pull-left {
  float: right !important;
  float: right;
}
[dir="rtl"] .center-nav .navbar-text {
  float: right;
}
[dir="rtl"] .navbar-inner {
  text-align: right;
}
[dir="rtl"] div.text-left {
  text-align: right;
}
/*!
*
* IPython tree view
*
*/
/* We need an invisible input field on top of the sentense*/
/* "Drag file onto the list ..." */
.alternate_upload {
  background-color: none;
  display: inline;
}
.alternate_upload.form {
  padding: 0;
  margin: 0;
}
.alternate_upload input.fileinput {
  position: absolute;
  display: block;
  width: 100%;
  height: 100%;
  overflow: hidden;
  cursor: pointer;
  opacity: 0;
  z-index: 2;
}
.alternate_upload .btn-xs > input.fileinput {
  margin: -1px -5px;
}
.alternate_upload .btn-upload {
  position: relative;
  height: 22px;
}
::-webkit-file-upload-button {
  cursor: pointer;
}
/**
 * Primary styles
 *
 * Author: Jupyter Development Team
 */
ul#tabs {
  margin-bottom: 4px;
}
ul#tabs a {
  padding-top: 6px;
  padding-bottom: 4px;
}
[dir="rtl"] ul#tabs.nav-tabs > li {
  float: right;
}
[dir="rtl"] ul#tabs.nav.nav-tabs {
  padding-right: 0;
}
ul.breadcrumb a:focus,
ul.breadcrumb a:hover {
  text-decoration: none;
}
ul.breadcrumb i.icon-home {
  font-size: 16px;
  margin-right: 4px;
}
ul.breadcrumb span {
  color: #5e5e5e;
}
.list_toolbar {
  padding: 4px 0 4px 0;
  vertical-align: middle;
}
.list_toolbar .tree-buttons {
  padding-top: 1px;
}
[dir="rtl"] .list_toolbar .tree-buttons .pull-right {
  float: left !important;
  float: left;
}
[dir="rtl"] .list_toolbar .col-sm-4,
[dir="rtl"] .list_toolbar .col-sm-8 {
  float: right;
}
.dynamic-buttons {
  padding-top: 3px;
  display: inline-block;
}
.list_toolbar [class*="span"] {
  min-height: 24px;
}
.list_header {
  font-weight: bold;
  background-color: #EEE;
}
.list_placeholder {
  font-weight: bold;
  padding-top: 4px;
  padding-bottom: 4px;
  padding-left: 7px;
  padding-right: 7px;
}
.list_container {
  margin-top: 4px;
  margin-bottom: 20px;
  border: 1px solid #ddd;
  border-radius: 2px;
}
.list_container > div {
  border-bottom: 1px solid #ddd;
}
.list_container > div:hover .list-item {
  background-color: red;
}
.list_container > div:last-child {
  border: none;
}
.list_item:hover .list_item {
  background-color: #ddd;
}
.list_item a {
  text-decoration: none;
}
.list_item:hover {
  background-color: #fafafa;
}
.list_header > div,
.list_item > div {
  padding-top: 4px;
  padding-bottom: 4px;
  padding-left: 7px;
  padding-right: 7px;
  line-height: 22px;
}
.list_header > div input,
.list_item > div input {
  margin-right: 7px;
  margin-left: 14px;
  vertical-align: text-bottom;
  line-height: 22px;
  position: relative;
  top: -1px;
}
.list_header > div .item_link,
.list_item > div .item_link {
  margin-left: -1px;
  vertical-align: baseline;
  line-height: 22px;
}
[dir="rtl"] .list_item > div input {
  margin-right: 0;
}
.new-file input[type=checkbox] {
  visibility: hidden;
}
.item_name {
  line-height: 22px;
  height: 24px;
}
.item_icon {
  font-size: 14px;
  color: #5e5e5e;
  margin-right: 7px;
  margin-left: 7px;
  line-height: 22px;
  vertical-align: baseline;
}
.item_modified {
  margin-right: 7px;
  margin-left: 7px;
}
[dir="rtl"] .item_modified.pull-right {
  float: left !important;
  float: left;
}
.item_buttons {
  line-height: 1em;
  margin-left: -5px;
}
.item_buttons .btn,
.item_buttons .btn-group,
.item_buttons .input-group {
  float: left;
}
.item_buttons > .btn,
.item_buttons > .btn-group,
.item_buttons > .input-group {
  margin-left: 5px;
}
.item_buttons .btn {
  min-width: 13ex;
}
.item_buttons .running-indicator {
  padding-top: 4px;
  color: #5cb85c;
}
.item_buttons .kernel-name {
  padding-top: 4px;
  color: #5bc0de;
  margin-right: 7px;
  float: left;
}
[dir="rtl"] .item_buttons.pull-right {
  float: left !important;
  float: left;
}
[dir="rtl"] .item_buttons .kernel-name {
  margin-left: 7px;
  float: right;
}
.toolbar_info {
  height: 24px;
  line-height: 24px;
}
.list_item input:not([type=checkbox]) {
  padding-top: 3px;
  padding-bottom: 3px;
  height: 22px;
  line-height: 14px;
  margin: 0px;
}
.highlight_text {
  color: blue;
}
#project_name {
  display: inline-block;
  padding-left: 7px;
  margin-left: -2px;
}
#project_name > .breadcrumb {
  padding: 0px;
  margin-bottom: 0px;
  background-color: transparent;
  font-weight: bold;
}
.sort_button {
  display: inline-block;
  padding-left: 7px;
}
[dir="rtl"] .sort_button.pull-right {
  float: left !important;
  float: left;
}
#tree-selector {
  padding-right: 0px;
}
#button-select-all {
  min-width: 50px;
}
[dir="rtl"] #button-select-all.btn {
  float: right ;
}
#select-all {
  margin-left: 7px;
  margin-right: 2px;
  margin-top: 2px;
  height: 16px;
}
[dir="rtl"] #select-all.pull-left {
  float: right !important;
  float: right;
}
.menu_icon {
  margin-right: 2px;
}
.tab-content .row {
  margin-left: 0px;
  margin-right: 0px;
}
.folder_icon:before {
  display: inline-block;
  font: normal normal normal 14px/1 FontAwesome;
  font-size: inherit;
  text-rendering: auto;
  -webkit-font-smoothing: antialiased;
  -moz-osx-font-smoothing: grayscale;
  content: "\f114";
}
.folder_icon:before.fa-pull-left {
  margin-right: .3em;
}
.folder_icon:before.fa-pull-right {
  margin-left: .3em;
}
.folder_icon:before.pull-left {
  margin-right: .3em;
}
.folder_icon:before.pull-right {
  margin-left: .3em;
}
.notebook_icon:before {
  display: inline-block;
  font: normal normal normal 14px/1 FontAwesome;
  font-size: inherit;
  text-rendering: auto;
  -webkit-font-smoothing: antialiased;
  -moz-osx-font-smoothing: grayscale;
  content: "\f02d";
  position: relative;
  top: -1px;
}
.notebook_icon:before.fa-pull-left {
  margin-right: .3em;
}
.notebook_icon:before.fa-pull-right {
  margin-left: .3em;
}
.notebook_icon:before.pull-left {
  margin-right: .3em;
}
.notebook_icon:before.pull-right {
  margin-left: .3em;
}
.running_notebook_icon:before {
  display: inline-block;
  font: normal normal normal 14px/1 FontAwesome;
  font-size: inherit;
  text-rendering: auto;
  -webkit-font-smoothing: antialiased;
  -moz-osx-font-smoothing: grayscale;
  content: "\f02d";
  position: relative;
  top: -1px;
  color: #5cb85c;
}
.running_notebook_icon:before.fa-pull-left {
  margin-right: .3em;
}
.running_notebook_icon:before.fa-pull-right {
  margin-left: .3em;
}
.running_notebook_icon:before.pull-left {
  margin-right: .3em;
}
.running_notebook_icon:before.pull-right {
  margin-left: .3em;
}
.file_icon:before {
  display: inline-block;
  font: normal normal normal 14px/1 FontAwesome;
  font-size: inherit;
  text-rendering: auto;
  -webkit-font-smoothing: antialiased;
  -moz-osx-font-smoothing: grayscale;
  content: "\f016";
  position: relative;
  top: -2px;
}
.file_icon:before.fa-pull-left {
  margin-right: .3em;
}
.file_icon:before.fa-pull-right {
  margin-left: .3em;
}
.file_icon:before.pull-left {
  margin-right: .3em;
}
.file_icon:before.pull-right {
  margin-left: .3em;
}
#notebook_toolbar .pull-right {
  padding-top: 0px;
  margin-right: -1px;
}
ul#new-menu {
  left: auto;
  right: 0;
}
#new-menu .dropdown-header {
  font-size: 10px;
  border-bottom: 1px solid #e5e5e5;
  padding: 0 0 3px;
  margin: -3px 20px 0;
}
.kernel-menu-icon {
  padding-right: 12px;
  width: 24px;
  content: "\f096";
}
.kernel-menu-icon:before {
  content: "\f096";
}
.kernel-menu-icon-current:before {
  content: "\f00c";
}
#tab_content {
  padding-top: 20px;
}
#running .panel-group .panel {
  margin-top: 3px;
  margin-bottom: 1em;
}
#running .panel-group .panel .panel-heading {
  background-color: #EEE;
  padding-top: 4px;
  padding-bottom: 4px;
  padding-left: 7px;
  padding-right: 7px;
  line-height: 22px;
}
#running .panel-group .panel .panel-heading a:focus,
#running .panel-group .panel .panel-heading a:hover {
  text-decoration: none;
}
#running .panel-group .panel .panel-body {
  padding: 0px;
}
#running .panel-group .panel .panel-body .list_container {
  margin-top: 0px;
  margin-bottom: 0px;
  border: 0px;
  border-radius: 0px;
}
#running .panel-group .panel .panel-body .list_container .list_item {
  border-bottom: 1px solid #ddd;
}
#running .panel-group .panel .panel-body .list_container .list_item:last-child {
  border-bottom: 0px;
}
.delete-button {
  display: none;
}
.duplicate-button {
  display: none;
}
.rename-button {
  display: none;
}
.move-button {
  display: none;
}
.download-button {
  display: none;
}
.shutdown-button {
  display: none;
}
.dynamic-instructions {
  display: inline-block;
  padding-top: 4px;
}
/*!
*
* IPython text editor webapp
*
*/
.selected-keymap i.fa {
  padding: 0px 5px;
}
.selected-keymap i.fa:before {
  content: "\f00c";
}
#mode-menu {
  overflow: auto;
  max-height: 20em;
}
.edit_app #header {
  -webkit-box-shadow: 0px 0px 12px 1px rgba(87, 87, 87, 0.2);
  box-shadow: 0px 0px 12px 1px rgba(87, 87, 87, 0.2);
}
.edit_app #menubar .navbar {
  /* Use a negative 1 bottom margin, so the border overlaps the border of the
    header */
  margin-bottom: -1px;
}
.dirty-indicator {
  display: inline-block;
  font: normal normal normal 14px/1 FontAwesome;
  font-size: inherit;
  text-rendering: auto;
  -webkit-font-smoothing: antialiased;
  -moz-osx-font-smoothing: grayscale;
  width: 20px;
}
.dirty-indicator.fa-pull-left {
  margin-right: .3em;
}
.dirty-indicator.fa-pull-right {
  margin-left: .3em;
}
.dirty-indicator.pull-left {
  margin-right: .3em;
}
.dirty-indicator.pull-right {
  margin-left: .3em;
}
.dirty-indicator-dirty {
  display: inline-block;
  font: normal normal normal 14px/1 FontAwesome;
  font-size: inherit;
  text-rendering: auto;
  -webkit-font-smoothing: antialiased;
  -moz-osx-font-smoothing: grayscale;
  width: 20px;
}
.dirty-indicator-dirty.fa-pull-left {
  margin-right: .3em;
}
.dirty-indicator-dirty.fa-pull-right {
  margin-left: .3em;
}
.dirty-indicator-dirty.pull-left {
  margin-right: .3em;
}
.dirty-indicator-dirty.pull-right {
  margin-left: .3em;
}
.dirty-indicator-clean {
  display: inline-block;
  font: normal normal normal 14px/1 FontAwesome;
  font-size: inherit;
  text-rendering: auto;
  -webkit-font-smoothing: antialiased;
  -moz-osx-font-smoothing: grayscale;
  width: 20px;
}
.dirty-indicator-clean.fa-pull-left {
  margin-right: .3em;
}
.dirty-indicator-clean.fa-pull-right {
  margin-left: .3em;
}
.dirty-indicator-clean.pull-left {
  margin-right: .3em;
}
.dirty-indicator-clean.pull-right {
  margin-left: .3em;
}
.dirty-indicator-clean:before {
  display: inline-block;
  font: normal normal normal 14px/1 FontAwesome;
  font-size: inherit;
  text-rendering: auto;
  -webkit-font-smoothing: antialiased;
  -moz-osx-font-smoothing: grayscale;
  content: "\f00c";
}
.dirty-indicator-clean:before.fa-pull-left {
  margin-right: .3em;
}
.dirty-indicator-clean:before.fa-pull-right {
  margin-left: .3em;
}
.dirty-indicator-clean:before.pull-left {
  margin-right: .3em;
}
.dirty-indicator-clean:before.pull-right {
  margin-left: .3em;
}
#filename {
  font-size: 16pt;
  display: table;
  padding: 0px 5px;
}
#current-mode {
  padding-left: 5px;
  padding-right: 5px;
}
#texteditor-backdrop {
  padding-top: 20px;
  padding-bottom: 20px;
}
@media not print {
  #texteditor-backdrop {
    background-color: #EEE;
  }
}
@media print {
  #texteditor-backdrop #texteditor-container .CodeMirror-gutter,
  #texteditor-backdrop #texteditor-container .CodeMirror-gutters {
    background-color: #fff;
  }
}
@media not print {
  #texteditor-backdrop #texteditor-container .CodeMirror-gutter,
  #texteditor-backdrop #texteditor-container .CodeMirror-gutters {
    background-color: #fff;
  }
}
@media not print {
  #texteditor-backdrop #texteditor-container {
    padding: 0px;
    background-color: #fff;
    -webkit-box-shadow: 0px 0px 12px 1px rgba(87, 87, 87, 0.2);
    box-shadow: 0px 0px 12px 1px rgba(87, 87, 87, 0.2);
  }
}
.CodeMirror-dialog {
  background-color: #fff;
}
/*!
*
* IPython notebook
*
*/
/* CSS font colors for translated ANSI escape sequences */
/* The color values are a mix of
   http://www.xcolors.net/dl/baskerville-ivorylight and
   http://www.xcolors.net/dl/euphrasia */
.ansi-black-fg {
  color: #3E424D;
}
.ansi-black-bg {
  background-color: #3E424D;
}
.ansi-black-intense-fg {
  color: #282C36;
}
.ansi-black-intense-bg {
  background-color: #282C36;
}
.ansi-red-fg {
  color: #E75C58;
}
.ansi-red-bg {
  background-color: #E75C58;
}
.ansi-red-intense-fg {
  color: #B22B31;
}
.ansi-red-intense-bg {
  background-color: #B22B31;
}
.ansi-green-fg {
  color: #00A250;
}
.ansi-green-bg {
  background-color: #00A250;
}
.ansi-green-intense-fg {
  color: #007427;
}
.ansi-green-intense-bg {
  background-color: #007427;
}
.ansi-yellow-fg {
  color: #DDB62B;
}
.ansi-yellow-bg {
  background-color: #DDB62B;
}
.ansi-yellow-intense-fg {
  color: #B27D12;
}
.ansi-yellow-intense-bg {
  background-color: #B27D12;
}
.ansi-blue-fg {
  color: #208FFB;
}
.ansi-blue-bg {
  background-color: #208FFB;
}
.ansi-blue-intense-fg {
  color: #0065CA;
}
.ansi-blue-intense-bg {
  background-color: #0065CA;
}
.ansi-magenta-fg {
  color: #D160C4;
}
.ansi-magenta-bg {
  background-color: #D160C4;
}
.ansi-magenta-intense-fg {
  color: #A03196;
}
.ansi-magenta-intense-bg {
  background-color: #A03196;
}
.ansi-cyan-fg {
  color: #60C6C8;
}
.ansi-cyan-bg {
  background-color: #60C6C8;
}
.ansi-cyan-intense-fg {
  color: #258F8F;
}
.ansi-cyan-intense-bg {
  background-color: #258F8F;
}
.ansi-white-fg {
  color: #C5C1B4;
}
.ansi-white-bg {
  background-color: #C5C1B4;
}
.ansi-white-intense-fg {
  color: #A1A6B2;
}
.ansi-white-intense-bg {
  background-color: #A1A6B2;
}
.ansi-default-inverse-fg {
  color: #FFFFFF;
}
.ansi-default-inverse-bg {
  background-color: #000000;
}
.ansi-bold {
  font-weight: bold;
}
.ansi-underline {
  text-decoration: underline;
}
/* The following styles are deprecated an will be removed in a future version */
.ansibold {
  font-weight: bold;
}
.ansi-inverse {
  outline: 0.5px dotted;
}
/* use dark versions for foreground, to improve visibility */
.ansiblack {
  color: black;
}
.ansired {
  color: darkred;
}
.ansigreen {
  color: darkgreen;
}
.ansiyellow {
  color: #c4a000;
}
.ansiblue {
  color: darkblue;
}
.ansipurple {
  color: darkviolet;
}
.ansicyan {
  color: steelblue;
}
.ansigray {
  color: gray;
}
/* and light for background, for the same reason */
.ansibgblack {
  background-color: black;
}
.ansibgred {
  background-color: red;
}
.ansibggreen {
  background-color: green;
}
.ansibgyellow {
  background-color: yellow;
}
.ansibgblue {
  background-color: blue;
}
.ansibgpurple {
  background-color: magenta;
}
.ansibgcyan {
  background-color: cyan;
}
.ansibggray {
  background-color: gray;
}
div.cell {
  /* Old browsers */
  display: -webkit-box;
  -webkit-box-orient: vertical;
  -webkit-box-align: stretch;
  display: -moz-box;
  -moz-box-orient: vertical;
  -moz-box-align: stretch;
  display: box;
  box-orient: vertical;
  box-align: stretch;
  /* Modern browsers */
  display: flex;
  flex-direction: column;
  align-items: stretch;
  border-radius: 2px;
  box-sizing: border-box;
  -moz-box-sizing: border-box;
  -webkit-box-sizing: border-box;
  border-width: 1px;
  border-style: solid;
  border-color: transparent;
  width: 100%;
  padding: 5px;
  /* This acts as a spacer between cells, that is outside the border */
  margin: 0px;
  outline: none;
  position: relative;
  overflow: visible;
}
div.cell:before {
  position: absolute;
  display: block;
  top: -1px;
  left: -1px;
  width: 5px;
  height: calc(100% +  2px);
  content: '';
  background: transparent;
}
div.cell.jupyter-soft-selected {
  border-left-color: #E3F2FD;
  border-left-width: 1px;
  padding-left: 5px;
  border-right-color: #E3F2FD;
  border-right-width: 1px;
  background: #E3F2FD;
}
@media print {
  div.cell.jupyter-soft-selected {
    border-color: transparent;
  }
}
div.cell.selected,
div.cell.selected.jupyter-soft-selected {
  border-color: #ababab;
}
div.cell.selected:before,
div.cell.selected.jupyter-soft-selected:before {
  position: absolute;
  display: block;
  top: -1px;
  left: -1px;
  width: 5px;
  height: calc(100% +  2px);
  content: '';
  background: #42A5F5;
}
@media print {
  div.cell.selected,
  div.cell.selected.jupyter-soft-selected {
    border-color: transparent;
  }
}
.edit_mode div.cell.selected {
  border-color: #66BB6A;
}
.edit_mode div.cell.selected:before {
  position: absolute;
  display: block;
  top: -1px;
  left: -1px;
  width: 5px;
  height: calc(100% +  2px);
  content: '';
  background: #66BB6A;
}
@media print {
  .edit_mode div.cell.selected {
    border-color: transparent;
  }
}
.prompt {
  /* This needs to be wide enough for 3 digit prompt numbers: In[100]: */
  min-width: 14ex;
  /* This padding is tuned to match the padding on the CodeMirror editor. */
  padding: 0.4em;
  margin: 0px;
  font-family: monospace;
  text-align: right;
  /* This has to match that of the the CodeMirror class line-height below */
  line-height: 1.21429em;
  /* Don't highlight prompt number selection */
  -webkit-touch-callout: none;
  -webkit-user-select: none;
  -khtml-user-select: none;
  -moz-user-select: none;
  -ms-user-select: none;
  user-select: none;
  /* Use default cursor */
  cursor: default;
}
@media (max-width: 540px) {
  .prompt {
    text-align: left;
  }
}
div.inner_cell {
  min-width: 0;
  /* Old browsers */
  display: -webkit-box;
  -webkit-box-orient: vertical;
  -webkit-box-align: stretch;
  display: -moz-box;
  -moz-box-orient: vertical;
  -moz-box-align: stretch;
  display: box;
  box-orient: vertical;
  box-align: stretch;
  /* Modern browsers */
  display: flex;
  flex-direction: column;
  align-items: stretch;
  /* Old browsers */
  -webkit-box-flex: 1;
  -moz-box-flex: 1;
  box-flex: 1;
  /* Modern browsers */
  flex: 1;
}
/* input_area and input_prompt must match in top border and margin for alignment */
div.input_area {
  border: 1px solid #cfcfcf;
  border-radius: 2px;
  background: #f7f7f7;
  line-height: 1.21429em;
}
/* This is needed so that empty prompt areas can collapse to zero height when there
   is no content in the output_subarea and the prompt. The main purpose of this is
   to make sure that empty JavaScript output_subareas have no height. */
div.prompt:empty {
  padding-top: 0;
  padding-bottom: 0;
}
div.unrecognized_cell {
  padding: 5px 5px 5px 0px;
  /* Old browsers */
  display: -webkit-box;
  -webkit-box-orient: horizontal;
  -webkit-box-align: stretch;
  display: -moz-box;
  -moz-box-orient: horizontal;
  -moz-box-align: stretch;
  display: box;
  box-orient: horizontal;
  box-align: stretch;
  /* Modern browsers */
  display: flex;
  flex-direction: row;
  align-items: stretch;
}
div.unrecognized_cell .inner_cell {
  border-radius: 2px;
  padding: 5px;
  font-weight: bold;
  color: red;
  border: 1px solid #cfcfcf;
  background: #eaeaea;
}
div.unrecognized_cell .inner_cell a {
  color: inherit;
  text-decoration: none;
}
div.unrecognized_cell .inner_cell a:hover {
  color: inherit;
  text-decoration: none;
}
@media (max-width: 540px) {
  div.unrecognized_cell > div.prompt {
    display: none;
  }
}
div.code_cell {
  /* avoid page breaking on code cells when printing */
}
@media print {
  div.code_cell {
    page-break-inside: avoid;
  }
}
/* any special styling for code cells that are currently running goes here */
div.input {
  page-break-inside: avoid;
  /* Old browsers */
  display: -webkit-box;
  -webkit-box-orient: horizontal;
  -webkit-box-align: stretch;
  display: -moz-box;
  -moz-box-orient: horizontal;
  -moz-box-align: stretch;
  display: box;
  box-orient: horizontal;
  box-align: stretch;
  /* Modern browsers */
  display: flex;
  flex-direction: row;
  align-items: stretch;
}
@media (max-width: 540px) {
  div.input {
    /* Old browsers */
    display: -webkit-box;
    -webkit-box-orient: vertical;
    -webkit-box-align: stretch;
    display: -moz-box;
    -moz-box-orient: vertical;
    -moz-box-align: stretch;
    display: box;
    box-orient: vertical;
    box-align: stretch;
    /* Modern browsers */
    display: flex;
    flex-direction: column;
    align-items: stretch;
  }
}
/* input_area and input_prompt must match in top border and margin for alignment */
div.input_prompt {
  color: #303F9F;
  border-top: 1px solid transparent;
}
div.input_area > div.highlight {
  margin: 0.4em;
  border: none;
  padding: 0px;
  background-color: transparent;
}
div.input_area > div.highlight > pre {
  margin: 0px;
  border: none;
  padding: 0px;
  background-color: transparent;
}
/* The following gets added to the <head> if it is detected that the user has a
 * monospace font with inconsistent normal/bold/italic height.  See
 * notebookmain.js.  Such fonts will have keywords vertically offset with
 * respect to the rest of the text.  The user should select a better font.
 * See: https://github.com/ipython/ipython/issues/1503
 *
 * .CodeMirror span {
 *      vertical-align: bottom;
 * }
 */
.CodeMirror {
  line-height: 1.21429em;
  /* Changed from 1em to our global default */
  font-size: 14px;
  height: auto;
  /* Changed to auto to autogrow */
  background: none;
  /* Changed from white to allow our bg to show through */
}
.CodeMirror-scroll {
  /*  The CodeMirror docs are a bit fuzzy on if overflow-y should be hidden or visible.*/
  /*  We have found that if it is visible, vertical scrollbars appear with font size changes.*/
  overflow-y: hidden;
  overflow-x: auto;
}
.CodeMirror-lines {
  /* In CM2, this used to be 0.4em, but in CM3 it went to 4px. We need the em value because */
  /* we have set a different line-height and want this to scale with that. */
  /* Note that this should set vertical padding only, since CodeMirror assumes
       that horizontal padding will be set on CodeMirror pre */
  padding: 0.4em 0;
}
.CodeMirror-linenumber {
  padding: 0 8px 0 4px;
}
.CodeMirror-gutters {
  border-bottom-left-radius: 2px;
  border-top-left-radius: 2px;
}
.CodeMirror pre {
  /* In CM3 this went to 4px from 0 in CM2. This sets horizontal padding only,
    use .CodeMirror-lines for vertical */
  padding: 0 0.4em;
  border: 0;
  border-radius: 0;
}
.CodeMirror-cursor {
  border-left: 1.4px solid black;
}
@media screen and (min-width: 2138px) and (max-width: 4319px) {
  .CodeMirror-cursor {
    border-left: 2px solid black;
  }
}
@media screen and (min-width: 4320px) {
  .CodeMirror-cursor {
    border-left: 4px solid black;
  }
}
/*

Original style from softwaremaniacs.org (c) Ivan Sagalaev <Maniac@SoftwareManiacs.Org>
Adapted from GitHub theme

*/
.highlight-base {
  color: #000;
}
.highlight-variable {
  color: #000;
}
.highlight-variable-2 {
  color: #1a1a1a;
}
.highlight-variable-3 {
  color: #333333;
}
.highlight-string {
  color: #BA2121;
}
.highlight-comment {
  color: #408080;
  font-style: italic;
}
.highlight-number {
  color: #080;
}
.highlight-atom {
  color: #88F;
}
.highlight-keyword {
  color: #008000;
  font-weight: bold;
}
.highlight-builtin {
  color: #008000;
}
.highlight-error {
  color: #f00;
}
.highlight-operator {
  color: #AA22FF;
  font-weight: bold;
}
.highlight-meta {
  color: #AA22FF;
}
/* previously not defined, copying from default codemirror */
.highlight-def {
  color: #00f;
}
.highlight-string-2 {
  color: #f50;
}
.highlight-qualifier {
  color: #555;
}
.highlight-bracket {
  color: #997;
}
.highlight-tag {
  color: #170;
}
.highlight-attribute {
  color: #00c;
}
.highlight-header {
  color: blue;
}
.highlight-quote {
  color: #090;
}
.highlight-link {
  color: #00c;
}
/* apply the same style to codemirror */
.cm-s-ipython span.cm-keyword {
  color: #008000;
  font-weight: bold;
}
.cm-s-ipython span.cm-atom {
  color: #88F;
}
.cm-s-ipython span.cm-number {
  color: #080;
}
.cm-s-ipython span.cm-def {
  color: #00f;
}
.cm-s-ipython span.cm-variable {
  color: #000;
}
.cm-s-ipython span.cm-operator {
  color: #AA22FF;
  font-weight: bold;
}
.cm-s-ipython span.cm-variable-2 {
  color: #1a1a1a;
}
.cm-s-ipython span.cm-variable-3 {
  color: #333333;
}
.cm-s-ipython span.cm-comment {
  color: #408080;
  font-style: italic;
}
.cm-s-ipython span.cm-string {
  color: #BA2121;
}
.cm-s-ipython span.cm-string-2 {
  color: #f50;
}
.cm-s-ipython span.cm-meta {
  color: #AA22FF;
}
.cm-s-ipython span.cm-qualifier {
  color: #555;
}
.cm-s-ipython span.cm-builtin {
  color: #008000;
}
.cm-s-ipython span.cm-bracket {
  color: #997;
}
.cm-s-ipython span.cm-tag {
  color: #170;
}
.cm-s-ipython span.cm-attribute {
  color: #00c;
}
.cm-s-ipython span.cm-header {
  color: blue;
}
.cm-s-ipython span.cm-quote {
  color: #090;
}
.cm-s-ipython span.cm-link {
  color: #00c;
}
.cm-s-ipython span.cm-error {
  color: #f00;
}
.cm-s-ipython span.cm-tab {
  background: url(data:image/png;base64,iVBORw0KGgoAAAANSUhEUgAAADAAAAAMCAYAAAAkuj5RAAAAAXNSR0IArs4c6QAAAGFJREFUSMft1LsRQFAQheHPowAKoACx3IgEKtaEHujDjORSgWTH/ZOdnZOcM/sgk/kFFWY0qV8foQwS4MKBCS3qR6ixBJvElOobYAtivseIE120FaowJPN75GMu8j/LfMwNjh4HUpwg4LUAAAAASUVORK5CYII=);
  background-position: right;
  background-repeat: no-repeat;
}
div.output_wrapper {
  /* this position must be relative to enable descendents to be absolute within it */
  position: relative;
  /* Old browsers */
  display: -webkit-box;
  -webkit-box-orient: vertical;
  -webkit-box-align: stretch;
  display: -moz-box;
  -moz-box-orient: vertical;
  -moz-box-align: stretch;
  display: box;
  box-orient: vertical;
  box-align: stretch;
  /* Modern browsers */
  display: flex;
  flex-direction: column;
  align-items: stretch;
  z-index: 1;
}
/* class for the output area when it should be height-limited */
div.output_scroll {
  /* ideally, this would be max-height, but FF barfs all over that */
  height: 24em;
  /* FF needs this *and the wrapper* to specify full width, or it will shrinkwrap */
  width: 100%;
  overflow: auto;
  border-radius: 2px;
  -webkit-box-shadow: inset 0 2px 8px rgba(0, 0, 0, 0.8);
  box-shadow: inset 0 2px 8px rgba(0, 0, 0, 0.8);
  display: block;
}
/* output div while it is collapsed */
div.output_collapsed {
  margin: 0px;
  padding: 0px;
  /* Old browsers */
  display: -webkit-box;
  -webkit-box-orient: vertical;
  -webkit-box-align: stretch;
  display: -moz-box;
  -moz-box-orient: vertical;
  -moz-box-align: stretch;
  display: box;
  box-orient: vertical;
  box-align: stretch;
  /* Modern browsers */
  display: flex;
  flex-direction: column;
  align-items: stretch;
}
div.out_prompt_overlay {
  height: 100%;
  padding: 0px 0.4em;
  position: absolute;
  border-radius: 2px;
}
div.out_prompt_overlay:hover {
  /* use inner shadow to get border that is computed the same on WebKit/FF */
  -webkit-box-shadow: inset 0 0 1px #000;
  box-shadow: inset 0 0 1px #000;
  background: rgba(240, 240, 240, 0.5);
}
div.output_prompt {
  color: #D84315;
}
/* This class is the outer container of all output sections. */
div.output_area {
  padding: 0px;
  page-break-inside: avoid;
  /* Old browsers */
  display: -webkit-box;
  -webkit-box-orient: horizontal;
  -webkit-box-align: stretch;
  display: -moz-box;
  -moz-box-orient: horizontal;
  -moz-box-align: stretch;
  display: box;
  box-orient: horizontal;
  box-align: stretch;
  /* Modern browsers */
  display: flex;
  flex-direction: row;
  align-items: stretch;
}
div.output_area .MathJax_Display {
  text-align: left !important;
}
div.output_area .rendered_html table {
  margin-left: 0;
  margin-right: 0;
}
div.output_area .rendered_html img {
  margin-left: 0;
  margin-right: 0;
}
div.output_area img,
div.output_area svg {
  max-width: 100%;
  height: auto;
}
div.output_area img.unconfined,
div.output_area svg.unconfined {
  max-width: none;
}
div.output_area .mglyph > img {
  max-width: none;
}
/* This is needed to protect the pre formating from global settings such
   as that of bootstrap */
.output {
  /* Old browsers */
  display: -webkit-box;
  -webkit-box-orient: vertical;
  -webkit-box-align: stretch;
  display: -moz-box;
  -moz-box-orient: vertical;
  -moz-box-align: stretch;
  display: box;
  box-orient: vertical;
  box-align: stretch;
  /* Modern browsers */
  display: flex;
  flex-direction: column;
  align-items: stretch;
}
@media (max-width: 540px) {
  div.output_area {
    /* Old browsers */
    display: -webkit-box;
    -webkit-box-orient: vertical;
    -webkit-box-align: stretch;
    display: -moz-box;
    -moz-box-orient: vertical;
    -moz-box-align: stretch;
    display: box;
    box-orient: vertical;
    box-align: stretch;
    /* Modern browsers */
    display: flex;
    flex-direction: column;
    align-items: stretch;
  }
}
div.output_area pre {
  margin: 0;
  padding: 1px 0 1px 0;
  border: 0;
  vertical-align: baseline;
  color: black;
  background-color: transparent;
  border-radius: 0;
}
/* This class is for the output subarea inside the output_area and after
   the prompt div. */
div.output_subarea {
  overflow-x: auto;
  padding: 0.4em;
  /* Old browsers */
  -webkit-box-flex: 1;
  -moz-box-flex: 1;
  box-flex: 1;
  /* Modern browsers */
  flex: 1;
  max-width: calc(100% - 14ex);
}
div.output_scroll div.output_subarea {
  overflow-x: visible;
}
/* The rest of the output_* classes are for special styling of the different
   output types */
/* all text output has this class: */
div.output_text {
  text-align: left;
  color: #000;
  /* This has to match that of the the CodeMirror class line-height below */
  line-height: 1.21429em;
}
/* stdout/stderr are 'text' as well as 'stream', but execute_result/error are *not* streams */
div.output_stderr {
  background: #fdd;
  /* very light red background for stderr */
}
div.output_latex {
  text-align: left;
}
/* Empty output_javascript divs should have no height */
div.output_javascript:empty {
  padding: 0;
}
.js-error {
  color: darkred;
}
/* raw_input styles */
div.raw_input_container {
  line-height: 1.21429em;
  padding-top: 5px;
}
pre.raw_input_prompt {
  /* nothing needed here. */
}
input.raw_input {
  font-family: monospace;
  font-size: inherit;
  color: inherit;
  width: auto;
  /* make sure input baseline aligns with prompt */
  vertical-align: baseline;
  /* padding + margin = 0.5em between prompt and cursor */
  padding: 0em 0.25em;
  margin: 0em 0.25em;
}
input.raw_input:focus {
  box-shadow: none;
}
p.p-space {
  margin-bottom: 10px;
}
div.output_unrecognized {
  padding: 5px;
  font-weight: bold;
  color: red;
}
div.output_unrecognized a {
  color: inherit;
  text-decoration: none;
}
div.output_unrecognized a:hover {
  color: inherit;
  text-decoration: none;
}
.rendered_html {
  color: #000;
  /* any extras will just be numbers: */
}
.rendered_html em {
  font-style: italic;
}
.rendered_html strong {
  font-weight: bold;
}
.rendered_html u {
  text-decoration: underline;
}
.rendered_html :link {
  text-decoration: underline;
}
.rendered_html :visited {
  text-decoration: underline;
}
.rendered_html h1 {
  font-size: 185.7%;
  margin: 1.08em 0 0 0;
  font-weight: bold;
  line-height: 1.0;
}
.rendered_html h2 {
  font-size: 157.1%;
  margin: 1.27em 0 0 0;
  font-weight: bold;
  line-height: 1.0;
}
.rendered_html h3 {
  font-size: 128.6%;
  margin: 1.55em 0 0 0;
  font-weight: bold;
  line-height: 1.0;
}
.rendered_html h4 {
  font-size: 100%;
  margin: 2em 0 0 0;
  font-weight: bold;
  line-height: 1.0;
}
.rendered_html h5 {
  font-size: 100%;
  margin: 2em 0 0 0;
  font-weight: bold;
  line-height: 1.0;
  font-style: italic;
}
.rendered_html h6 {
  font-size: 100%;
  margin: 2em 0 0 0;
  font-weight: bold;
  line-height: 1.0;
  font-style: italic;
}
.rendered_html h1:first-child {
  margin-top: 0.538em;
}
.rendered_html h2:first-child {
  margin-top: 0.636em;
}
.rendered_html h3:first-child {
  margin-top: 0.777em;
}
.rendered_html h4:first-child {
  margin-top: 1em;
}
.rendered_html h5:first-child {
  margin-top: 1em;
}
.rendered_html h6:first-child {
  margin-top: 1em;
}
.rendered_html ul:not(.list-inline),
.rendered_html ol:not(.list-inline) {
  padding-left: 2em;
}
.rendered_html ul {
  list-style: disc;
}
.rendered_html ul ul {
  list-style: square;
  margin-top: 0;
}
.rendered_html ul ul ul {
  list-style: circle;
}
.rendered_html ol {
  list-style: decimal;
}
.rendered_html ol ol {
  list-style: upper-alpha;
  margin-top: 0;
}
.rendered_html ol ol ol {
  list-style: lower-alpha;
}
.rendered_html ol ol ol ol {
  list-style: lower-roman;
}
.rendered_html ol ol ol ol ol {
  list-style: decimal;
}
.rendered_html * + ul {
  margin-top: 1em;
}
.rendered_html * + ol {
  margin-top: 1em;
}
.rendered_html hr {
  color: black;
  background-color: black;
}
.rendered_html pre {
  margin: 1em 2em;
  padding: 0px;
  background-color: #fff;
}
.rendered_html code {
  background-color: #eff0f1;
}
.rendered_html p code {
  padding: 1px 5px;
}
.rendered_html pre code {
  background-color: #fff;
}
.rendered_html pre,
.rendered_html code {
  border: 0;
  color: #000;
  font-size: 100%;
}
.rendered_html blockquote {
  margin: 1em 2em;
}
.rendered_html table {
  margin-left: auto;
  margin-right: auto;
  border: none;
  border-collapse: collapse;
  border-spacing: 0;
  color: black;
  font-size: 12px;
  table-layout: fixed;
}
.rendered_html thead {
  border-bottom: 1px solid black;
  vertical-align: bottom;
}
.rendered_html tr,
.rendered_html th,
.rendered_html td {
  text-align: right;
  vertical-align: middle;
  padding: 0.5em 0.5em;
  line-height: normal;
  white-space: normal;
  max-width: none;
  border: none;
}
.rendered_html th {
  font-weight: bold;
}
.rendered_html tbody tr:nth-child(odd) {
  background: #f5f5f5;
}
.rendered_html tbody tr:hover {
  background: rgba(66, 165, 245, 0.2);
}
.rendered_html * + table {
  margin-top: 1em;
}
.rendered_html p {
  text-align: left;
}
.rendered_html * + p {
  margin-top: 1em;
}
.rendered_html img {
  display: block;
  margin-left: auto;
  margin-right: auto;
}
.rendered_html * + img {
  margin-top: 1em;
}
.rendered_html img,
.rendered_html svg {
  max-width: 100%;
  height: auto;
}
.rendered_html img.unconfined,
.rendered_html svg.unconfined {
  max-width: none;
}
.rendered_html .alert {
  margin-bottom: initial;
}
.rendered_html * + .alert {
  margin-top: 1em;
}
[dir="rtl"] .rendered_html p {
  text-align: right;
}
div.text_cell {
  /* Old browsers */
  display: -webkit-box;
  -webkit-box-orient: horizontal;
  -webkit-box-align: stretch;
  display: -moz-box;
  -moz-box-orient: horizontal;
  -moz-box-align: stretch;
  display: box;
  box-orient: horizontal;
  box-align: stretch;
  /* Modern browsers */
  display: flex;
  flex-direction: row;
  align-items: stretch;
}
@media (max-width: 540px) {
  div.text_cell > div.prompt {
    display: none;
  }
}
div.text_cell_render {
  /*font-family: "Helvetica Neue", Arial, Helvetica, Geneva, sans-serif;*/
  outline: none;
  resize: none;
  width: inherit;
  border-style: none;
  padding: 0.5em 0.5em 0.5em 0.4em;
  color: #000;
  box-sizing: border-box;
  -moz-box-sizing: border-box;
  -webkit-box-sizing: border-box;
}
a.anchor-link:link {
  text-decoration: none;
  padding: 0px 20px;
  visibility: hidden;
}
h1:hover .anchor-link,
h2:hover .anchor-link,
h3:hover .anchor-link,
h4:hover .anchor-link,
h5:hover .anchor-link,
h6:hover .anchor-link {
  visibility: visible;
}
.text_cell.rendered .input_area {
  display: none;
}
.text_cell.rendered .rendered_html {
  overflow-x: auto;
  overflow-y: hidden;
}
.text_cell.rendered .rendered_html tr,
.text_cell.rendered .rendered_html th,
.text_cell.rendered .rendered_html td {
  max-width: none;
}
.text_cell.unrendered .text_cell_render {
  display: none;
}
.text_cell .dropzone .input_area {
  border: 2px dashed #bababa;
  margin: -1px;
}
.cm-header-1,
.cm-header-2,
.cm-header-3,
.cm-header-4,
.cm-header-5,
.cm-header-6 {
  font-weight: bold;
  font-family: "Helvetica Neue", Helvetica, Arial, sans-serif;
}
.cm-header-1 {
  font-size: 185.7%;
}
.cm-header-2 {
  font-size: 157.1%;
}
.cm-header-3 {
  font-size: 128.6%;
}
.cm-header-4 {
  font-size: 110%;
}
.cm-header-5 {
  font-size: 100%;
  font-style: italic;
}
.cm-header-6 {
  font-size: 100%;
  font-style: italic;
}
/*!
*
* IPython notebook webapp
*
*/
@media (max-width: 767px) {
  .notebook_app {
    padding-left: 0px;
    padding-right: 0px;
  }
}
#ipython-main-app {
  box-sizing: border-box;
  -moz-box-sizing: border-box;
  -webkit-box-sizing: border-box;
  height: 100%;
}
div#notebook_panel {
  margin: 0px;
  padding: 0px;
  box-sizing: border-box;
  -moz-box-sizing: border-box;
  -webkit-box-sizing: border-box;
  height: 100%;
}
div#notebook {
  font-size: 14px;
  line-height: 20px;
  overflow-y: hidden;
  overflow-x: auto;
  width: 100%;
  /* This spaces the page away from the edge of the notebook area */
  padding-top: 20px;
  margin: 0px;
  outline: none;
  box-sizing: border-box;
  -moz-box-sizing: border-box;
  -webkit-box-sizing: border-box;
  min-height: 100%;
}
@media not print {
  #notebook-container {
    padding: 15px;
    background-color: #fff;
    min-height: 0;
    -webkit-box-shadow: 0px 0px 12px 1px rgba(87, 87, 87, 0.2);
    box-shadow: 0px 0px 12px 1px rgba(87, 87, 87, 0.2);
  }
}
@media print {
  #notebook-container {
    width: 100%;
  }
}
div.ui-widget-content {
  border: 1px solid #ababab;
  outline: none;
}
pre.dialog {
  background-color: #f7f7f7;
  border: 1px solid #ddd;
  border-radius: 2px;
  padding: 0.4em;
  padding-left: 2em;
}
p.dialog {
  padding: 0.2em;
}
/* Word-wrap output correctly.  This is the CSS3 spelling, though Firefox seems
   to not honor it correctly.  Webkit browsers (Chrome, rekonq, Safari) do.
 */
pre,
code,
kbd,
samp {
  white-space: pre-wrap;
}
#fonttest {
  font-family: monospace;
}
p {
  margin-bottom: 0;
}
.end_space {
  min-height: 100px;
  transition: height .2s ease;
}
.notebook_app > #header {
  -webkit-box-shadow: 0px 0px 12px 1px rgba(87, 87, 87, 0.2);
  box-shadow: 0px 0px 12px 1px rgba(87, 87, 87, 0.2);
}
@media not print {
  .notebook_app {
    background-color: #EEE;
  }
}
kbd {
  border-style: solid;
  border-width: 1px;
  box-shadow: none;
  margin: 2px;
  padding-left: 2px;
  padding-right: 2px;
  padding-top: 1px;
  padding-bottom: 1px;
}
.jupyter-keybindings {
  padding: 1px;
  line-height: 24px;
  border-bottom: 1px solid gray;
}
.jupyter-keybindings input {
  margin: 0;
  padding: 0;
  border: none;
}
.jupyter-keybindings i {
  padding: 6px;
}
.well code {
  background-color: #ffffff;
  border-color: #ababab;
  border-width: 1px;
  border-style: solid;
  padding: 2px;
  padding-top: 1px;
  padding-bottom: 1px;
}
/* CSS for the cell toolbar */
.celltoolbar {
  border: thin solid #CFCFCF;
  border-bottom: none;
  background: #EEE;
  border-radius: 2px 2px 0px 0px;
  width: 100%;
  height: 29px;
  padding-right: 4px;
  /* Old browsers */
  display: -webkit-box;
  -webkit-box-orient: horizontal;
  -webkit-box-align: stretch;
  display: -moz-box;
  -moz-box-orient: horizontal;
  -moz-box-align: stretch;
  display: box;
  box-orient: horizontal;
  box-align: stretch;
  /* Modern browsers */
  display: flex;
  flex-direction: row;
  align-items: stretch;
  /* Old browsers */
  -webkit-box-pack: end;
  -moz-box-pack: end;
  box-pack: end;
  /* Modern browsers */
  justify-content: flex-end;
  display: -webkit-flex;
}
@media print {
  .celltoolbar {
    display: none;
  }
}
.ctb_hideshow {
  display: none;
  vertical-align: bottom;
}
/* ctb_show is added to the ctb_hideshow div to show the cell toolbar.
   Cell toolbars are only shown when the ctb_global_show class is also set.
*/
.ctb_global_show .ctb_show.ctb_hideshow {
  display: block;
}
.ctb_global_show .ctb_show + .input_area,
.ctb_global_show .ctb_show + div.text_cell_input,
.ctb_global_show .ctb_show ~ div.text_cell_render {
  border-top-right-radius: 0px;
  border-top-left-radius: 0px;
}
.ctb_global_show .ctb_show ~ div.text_cell_render {
  border: 1px solid #cfcfcf;
}
.celltoolbar {
  font-size: 87%;
  padding-top: 3px;
}
.celltoolbar select {
  display: block;
  width: 100%;
  height: 32px;
  padding: 6px 12px;
  font-size: 13px;
  line-height: 1.42857143;
  color: #555555;
  background-color: #fff;
  background-image: none;
  border: 1px solid #ccc;
  border-radius: 2px;
  -webkit-box-shadow: inset 0 1px 1px rgba(0, 0, 0, 0.075);
  box-shadow: inset 0 1px 1px rgba(0, 0, 0, 0.075);
  -webkit-transition: border-color ease-in-out .15s, box-shadow ease-in-out .15s;
  -o-transition: border-color ease-in-out .15s, box-shadow ease-in-out .15s;
  transition: border-color ease-in-out .15s, box-shadow ease-in-out .15s;
  height: 30px;
  padding: 5px 10px;
  font-size: 12px;
  line-height: 1.5;
  border-radius: 1px;
  width: inherit;
  font-size: inherit;
  height: 22px;
  padding: 0px;
  display: inline-block;
}
.celltoolbar select:focus {
  border-color: #66afe9;
  outline: 0;
  -webkit-box-shadow: inset 0 1px 1px rgba(0,0,0,.075), 0 0 8px rgba(102, 175, 233, 0.6);
  box-shadow: inset 0 1px 1px rgba(0,0,0,.075), 0 0 8px rgba(102, 175, 233, 0.6);
}
.celltoolbar select::-moz-placeholder {
  color: #999;
  opacity: 1;
}
.celltoolbar select:-ms-input-placeholder {
  color: #999;
}
.celltoolbar select::-webkit-input-placeholder {
  color: #999;
}
.celltoolbar select::-ms-expand {
  border: 0;
  background-color: transparent;
}
.celltoolbar select[disabled],
.celltoolbar select[readonly],
fieldset[disabled] .celltoolbar select {
  background-color: #eeeeee;
  opacity: 1;
}
.celltoolbar select[disabled],
fieldset[disabled] .celltoolbar select {
  cursor: not-allowed;
}
textarea.celltoolbar select {
  height: auto;
}
select.celltoolbar select {
  height: 30px;
  line-height: 30px;
}
textarea.celltoolbar select,
select[multiple].celltoolbar select {
  height: auto;
}
.celltoolbar label {
  margin-left: 5px;
  margin-right: 5px;
}
.tags_button_container {
  width: 100%;
  display: flex;
}
.tag-container {
  display: flex;
  flex-direction: row;
  flex-grow: 1;
  overflow: hidden;
  position: relative;
}
.tag-container > * {
  margin: 0 4px;
}
.remove-tag-btn {
  margin-left: 4px;
}
.tags-input {
  display: flex;
}
.cell-tag:last-child:after {
  content: "";
  position: absolute;
  right: 0;
  width: 40px;
  height: 100%;
  /* Fade to background color of cell toolbar */
  background: linear-gradient(to right, rgba(0, 0, 0, 0), #EEE);
}
.tags-input > * {
  margin-left: 4px;
}
.cell-tag,
.tags-input input,
.tags-input button {
  display: block;
  width: 100%;
  height: 32px;
  padding: 6px 12px;
  font-size: 13px;
  line-height: 1.42857143;
  color: #555555;
  background-color: #fff;
  background-image: none;
  border: 1px solid #ccc;
  border-radius: 2px;
  -webkit-box-shadow: inset 0 1px 1px rgba(0, 0, 0, 0.075);
  box-shadow: inset 0 1px 1px rgba(0, 0, 0, 0.075);
  -webkit-transition: border-color ease-in-out .15s, box-shadow ease-in-out .15s;
  -o-transition: border-color ease-in-out .15s, box-shadow ease-in-out .15s;
  transition: border-color ease-in-out .15s, box-shadow ease-in-out .15s;
  height: 30px;
  padding: 5px 10px;
  font-size: 12px;
  line-height: 1.5;
  border-radius: 1px;
  box-shadow: none;
  width: inherit;
  font-size: inherit;
  height: 22px;
  line-height: 22px;
  padding: 0px 4px;
  display: inline-block;
}
.cell-tag:focus,
.tags-input input:focus,
.tags-input button:focus {
  border-color: #66afe9;
  outline: 0;
  -webkit-box-shadow: inset 0 1px 1px rgba(0,0,0,.075), 0 0 8px rgba(102, 175, 233, 0.6);
  box-shadow: inset 0 1px 1px rgba(0,0,0,.075), 0 0 8px rgba(102, 175, 233, 0.6);
}
.cell-tag::-moz-placeholder,
.tags-input input::-moz-placeholder,
.tags-input button::-moz-placeholder {
  color: #999;
  opacity: 1;
}
.cell-tag:-ms-input-placeholder,
.tags-input input:-ms-input-placeholder,
.tags-input button:-ms-input-placeholder {
  color: #999;
}
.cell-tag::-webkit-input-placeholder,
.tags-input input::-webkit-input-placeholder,
.tags-input button::-webkit-input-placeholder {
  color: #999;
}
.cell-tag::-ms-expand,
.tags-input input::-ms-expand,
.tags-input button::-ms-expand {
  border: 0;
  background-color: transparent;
}
.cell-tag[disabled],
.tags-input input[disabled],
.tags-input button[disabled],
.cell-tag[readonly],
.tags-input input[readonly],
.tags-input button[readonly],
fieldset[disabled] .cell-tag,
fieldset[disabled] .tags-input input,
fieldset[disabled] .tags-input button {
  background-color: #eeeeee;
  opacity: 1;
}
.cell-tag[disabled],
.tags-input input[disabled],
.tags-input button[disabled],
fieldset[disabled] .cell-tag,
fieldset[disabled] .tags-input input,
fieldset[disabled] .tags-input button {
  cursor: not-allowed;
}
textarea.cell-tag,
textarea.tags-input input,
textarea.tags-input button {
  height: auto;
}
select.cell-tag,
select.tags-input input,
select.tags-input button {
  height: 30px;
  line-height: 30px;
}
textarea.cell-tag,
textarea.tags-input input,
textarea.tags-input button,
select[multiple].cell-tag,
select[multiple].tags-input input,
select[multiple].tags-input button {
  height: auto;
}
.cell-tag,
.tags-input button {
  padding: 0px 4px;
}
.cell-tag {
  background-color: #fff;
  white-space: nowrap;
}
.tags-input input[type=text]:focus {
  outline: none;
  box-shadow: none;
  border-color: #ccc;
}
.completions {
  position: absolute;
  z-index: 110;
  overflow: hidden;
  border: 1px solid #ababab;
  border-radius: 2px;
  -webkit-box-shadow: 0px 6px 10px -1px #adadad;
  box-shadow: 0px 6px 10px -1px #adadad;
  line-height: 1;
}
.completions select {
  background: white;
  outline: none;
  border: none;
  padding: 0px;
  margin: 0px;
  overflow: auto;
  font-family: monospace;
  font-size: 110%;
  color: #000;
  width: auto;
}
.completions select option.context {
  color: #286090;
}
#kernel_logo_widget .current_kernel_logo {
  display: none;
  margin-top: -1px;
  margin-bottom: -1px;
  width: 32px;
  height: 32px;
}
[dir="rtl"] #kernel_logo_widget {
  float: left !important;
  float: left;
}
.modal .modal-body .move-path {
  display: flex;
  flex-direction: row;
  justify-content: space;
  align-items: center;
}
.modal .modal-body .move-path .server-root {
  padding-right: 20px;
}
.modal .modal-body .move-path .path-input {
  flex: 1;
}
#menubar {
  box-sizing: border-box;
  -moz-box-sizing: border-box;
  -webkit-box-sizing: border-box;
  margin-top: 1px;
}
#menubar .navbar {
  border-top: 1px;
  border-radius: 0px 0px 2px 2px;
  margin-bottom: 0px;
}
#menubar .navbar-toggle {
  float: left;
  padding-top: 7px;
  padding-bottom: 7px;
  border: none;
}
#menubar .navbar-collapse {
  clear: left;
}
[dir="rtl"] #menubar .navbar-toggle {
  float: right;
}
[dir="rtl"] #menubar .navbar-collapse {
  clear: right;
}
[dir="rtl"] #menubar .navbar-nav {
  float: right;
}
[dir="rtl"] #menubar .nav {
  padding-right: 0px;
}
[dir="rtl"] #menubar .navbar-nav > li {
  float: right;
}
[dir="rtl"] #menubar .navbar-right {
  float: left !important;
}
[dir="rtl"] ul.dropdown-menu {
  text-align: right;
  left: auto;
}
[dir="rtl"] ul#new-menu.dropdown-menu {
  right: auto;
  left: 0;
}
.nav-wrapper {
  border-bottom: 1px solid #e7e7e7;
}
i.menu-icon {
  padding-top: 4px;
}
[dir="rtl"] i.menu-icon.pull-right {
  float: left !important;
  float: left;
}
ul#help_menu li a {
  overflow: hidden;
  padding-right: 2.2em;
}
ul#help_menu li a i {
  margin-right: -1.2em;
}
[dir="rtl"] ul#help_menu li a {
  padding-left: 2.2em;
}
[dir="rtl"] ul#help_menu li a i {
  margin-right: 0;
  margin-left: -1.2em;
}
[dir="rtl"] ul#help_menu li a i.pull-right {
  float: left !important;
  float: left;
}
.dropdown-submenu {
  position: relative;
}
.dropdown-submenu > .dropdown-menu {
  top: 0;
  left: 100%;
  margin-top: -6px;
  margin-left: -1px;
}
[dir="rtl"] .dropdown-submenu > .dropdown-menu {
  right: 100%;
  margin-right: -1px;
}
.dropdown-submenu:hover > .dropdown-menu {
  display: block;
}
.dropdown-submenu > a:after {
  display: inline-block;
  font: normal normal normal 14px/1 FontAwesome;
  font-size: inherit;
  text-rendering: auto;
  -webkit-font-smoothing: antialiased;
  -moz-osx-font-smoothing: grayscale;
  display: block;
  content: "\f0da";
  float: right;
  color: #333333;
  margin-top: 2px;
  margin-right: -10px;
}
.dropdown-submenu > a:after.fa-pull-left {
  margin-right: .3em;
}
.dropdown-submenu > a:after.fa-pull-right {
  margin-left: .3em;
}
.dropdown-submenu > a:after.pull-left {
  margin-right: .3em;
}
.dropdown-submenu > a:after.pull-right {
  margin-left: .3em;
}
[dir="rtl"] .dropdown-submenu > a:after {
  float: left;
  content: "\f0d9";
  margin-right: 0;
  margin-left: -10px;
}
.dropdown-submenu:hover > a:after {
  color: #262626;
}
.dropdown-submenu.pull-left {
  float: none;
}
.dropdown-submenu.pull-left > .dropdown-menu {
  left: -100%;
  margin-left: 10px;
}
#notification_area {
  float: right !important;
  float: right;
  z-index: 10;
}
[dir="rtl"] #notification_area {
  float: left !important;
  float: left;
}
.indicator_area {
  float: right !important;
  float: right;
  color: #777;
  margin-left: 5px;
  margin-right: 5px;
  width: 11px;
  z-index: 10;
  text-align: center;
  width: auto;
}
[dir="rtl"] .indicator_area {
  float: left !important;
  float: left;
}
#kernel_indicator {
  float: right !important;
  float: right;
  color: #777;
  margin-left: 5px;
  margin-right: 5px;
  width: 11px;
  z-index: 10;
  text-align: center;
  width: auto;
  border-left: 1px solid;
}
#kernel_indicator .kernel_indicator_name {
  padding-left: 5px;
  padding-right: 5px;
}
[dir="rtl"] #kernel_indicator {
  float: left !important;
  float: left;
  border-left: 0;
  border-right: 1px solid;
}
#modal_indicator {
  float: right !important;
  float: right;
  color: #777;
  margin-left: 5px;
  margin-right: 5px;
  width: 11px;
  z-index: 10;
  text-align: center;
  width: auto;
}
[dir="rtl"] #modal_indicator {
  float: left !important;
  float: left;
}
#readonly-indicator {
  float: right !important;
  float: right;
  color: #777;
  margin-left: 5px;
  margin-right: 5px;
  width: 11px;
  z-index: 10;
  text-align: center;
  width: auto;
  margin-top: 2px;
  margin-bottom: 0px;
  margin-left: 0px;
  margin-right: 0px;
  display: none;
}
.modal_indicator:before {
  width: 1.28571429em;
  text-align: center;
}
.edit_mode .modal_indicator:before {
  display: inline-block;
  font: normal normal normal 14px/1 FontAwesome;
  font-size: inherit;
  text-rendering: auto;
  -webkit-font-smoothing: antialiased;
  -moz-osx-font-smoothing: grayscale;
  content: "\f040";
}
.edit_mode .modal_indicator:before.fa-pull-left {
  margin-right: .3em;
}
.edit_mode .modal_indicator:before.fa-pull-right {
  margin-left: .3em;
}
.edit_mode .modal_indicator:before.pull-left {
  margin-right: .3em;
}
.edit_mode .modal_indicator:before.pull-right {
  margin-left: .3em;
}
.command_mode .modal_indicator:before {
  display: inline-block;
  font: normal normal normal 14px/1 FontAwesome;
  font-size: inherit;
  text-rendering: auto;
  -webkit-font-smoothing: antialiased;
  -moz-osx-font-smoothing: grayscale;
  content: ' ';
}
.command_mode .modal_indicator:before.fa-pull-left {
  margin-right: .3em;
}
.command_mode .modal_indicator:before.fa-pull-right {
  margin-left: .3em;
}
.command_mode .modal_indicator:before.pull-left {
  margin-right: .3em;
}
.command_mode .modal_indicator:before.pull-right {
  margin-left: .3em;
}
.kernel_idle_icon:before {
  display: inline-block;
  font: normal normal normal 14px/1 FontAwesome;
  font-size: inherit;
  text-rendering: auto;
  -webkit-font-smoothing: antialiased;
  -moz-osx-font-smoothing: grayscale;
  content: "\f10c";
}
.kernel_idle_icon:before.fa-pull-left {
  margin-right: .3em;
}
.kernel_idle_icon:before.fa-pull-right {
  margin-left: .3em;
}
.kernel_idle_icon:before.pull-left {
  margin-right: .3em;
}
.kernel_idle_icon:before.pull-right {
  margin-left: .3em;
}
.kernel_busy_icon:before {
  display: inline-block;
  font: normal normal normal 14px/1 FontAwesome;
  font-size: inherit;
  text-rendering: auto;
  -webkit-font-smoothing: antialiased;
  -moz-osx-font-smoothing: grayscale;
  content: "\f111";
}
.kernel_busy_icon:before.fa-pull-left {
  margin-right: .3em;
}
.kernel_busy_icon:before.fa-pull-right {
  margin-left: .3em;
}
.kernel_busy_icon:before.pull-left {
  margin-right: .3em;
}
.kernel_busy_icon:before.pull-right {
  margin-left: .3em;
}
.kernel_dead_icon:before {
  display: inline-block;
  font: normal normal normal 14px/1 FontAwesome;
  font-size: inherit;
  text-rendering: auto;
  -webkit-font-smoothing: antialiased;
  -moz-osx-font-smoothing: grayscale;
  content: "\f1e2";
}
.kernel_dead_icon:before.fa-pull-left {
  margin-right: .3em;
}
.kernel_dead_icon:before.fa-pull-right {
  margin-left: .3em;
}
.kernel_dead_icon:before.pull-left {
  margin-right: .3em;
}
.kernel_dead_icon:before.pull-right {
  margin-left: .3em;
}
.kernel_disconnected_icon:before {
  display: inline-block;
  font: normal normal normal 14px/1 FontAwesome;
  font-size: inherit;
  text-rendering: auto;
  -webkit-font-smoothing: antialiased;
  -moz-osx-font-smoothing: grayscale;
  content: "\f127";
}
.kernel_disconnected_icon:before.fa-pull-left {
  margin-right: .3em;
}
.kernel_disconnected_icon:before.fa-pull-right {
  margin-left: .3em;
}
.kernel_disconnected_icon:before.pull-left {
  margin-right: .3em;
}
.kernel_disconnected_icon:before.pull-right {
  margin-left: .3em;
}
.notification_widget {
  color: #777;
  z-index: 10;
  background: rgba(240, 240, 240, 0.5);
  margin-right: 4px;
  color: #333;
  background-color: #fff;
  border-color: #ccc;
}
.notification_widget:focus,
.notification_widget.focus {
  color: #333;
  background-color: #e6e6e6;
  border-color: #8c8c8c;
}
.notification_widget:hover {
  color: #333;
  background-color: #e6e6e6;
  border-color: #adadad;
}
.notification_widget:active,
.notification_widget.active,
.open > .dropdown-toggle.notification_widget {
  color: #333;
  background-color: #e6e6e6;
  border-color: #adadad;
}
.notification_widget:active:hover,
.notification_widget.active:hover,
.open > .dropdown-toggle.notification_widget:hover,
.notification_widget:active:focus,
.notification_widget.active:focus,
.open > .dropdown-toggle.notification_widget:focus,
.notification_widget:active.focus,
.notification_widget.active.focus,
.open > .dropdown-toggle.notification_widget.focus {
  color: #333;
  background-color: #d4d4d4;
  border-color: #8c8c8c;
}
.notification_widget:active,
.notification_widget.active,
.open > .dropdown-toggle.notification_widget {
  background-image: none;
}
.notification_widget.disabled:hover,
.notification_widget[disabled]:hover,
fieldset[disabled] .notification_widget:hover,
.notification_widget.disabled:focus,
.notification_widget[disabled]:focus,
fieldset[disabled] .notification_widget:focus,
.notification_widget.disabled.focus,
.notification_widget[disabled].focus,
fieldset[disabled] .notification_widget.focus {
  background-color: #fff;
  border-color: #ccc;
}
.notification_widget .badge {
  color: #fff;
  background-color: #333;
}
.notification_widget.warning {
  color: #fff;
  background-color: #f0ad4e;
  border-color: #eea236;
}
.notification_widget.warning:focus,
.notification_widget.warning.focus {
  color: #fff;
  background-color: #ec971f;
  border-color: #985f0d;
}
.notification_widget.warning:hover {
  color: #fff;
  background-color: #ec971f;
  border-color: #d58512;
}
.notification_widget.warning:active,
.notification_widget.warning.active,
.open > .dropdown-toggle.notification_widget.warning {
  color: #fff;
  background-color: #ec971f;
  border-color: #d58512;
}
.notification_widget.warning:active:hover,
.notification_widget.warning.active:hover,
.open > .dropdown-toggle.notification_widget.warning:hover,
.notification_widget.warning:active:focus,
.notification_widget.warning.active:focus,
.open > .dropdown-toggle.notification_widget.warning:focus,
.notification_widget.warning:active.focus,
.notification_widget.warning.active.focus,
.open > .dropdown-toggle.notification_widget.warning.focus {
  color: #fff;
  background-color: #d58512;
  border-color: #985f0d;
}
.notification_widget.warning:active,
.notification_widget.warning.active,
.open > .dropdown-toggle.notification_widget.warning {
  background-image: none;
}
.notification_widget.warning.disabled:hover,
.notification_widget.warning[disabled]:hover,
fieldset[disabled] .notification_widget.warning:hover,
.notification_widget.warning.disabled:focus,
.notification_widget.warning[disabled]:focus,
fieldset[disabled] .notification_widget.warning:focus,
.notification_widget.warning.disabled.focus,
.notification_widget.warning[disabled].focus,
fieldset[disabled] .notification_widget.warning.focus {
  background-color: #f0ad4e;
  border-color: #eea236;
}
.notification_widget.warning .badge {
  color: #f0ad4e;
  background-color: #fff;
}
.notification_widget.success {
  color: #fff;
  background-color: #5cb85c;
  border-color: #4cae4c;
}
.notification_widget.success:focus,
.notification_widget.success.focus {
  color: #fff;
  background-color: #449d44;
  border-color: #255625;
}
.notification_widget.success:hover {
  color: #fff;
  background-color: #449d44;
  border-color: #398439;
}
.notification_widget.success:active,
.notification_widget.success.active,
.open > .dropdown-toggle.notification_widget.success {
  color: #fff;
  background-color: #449d44;
  border-color: #398439;
}
.notification_widget.success:active:hover,
.notification_widget.success.active:hover,
.open > .dropdown-toggle.notification_widget.success:hover,
.notification_widget.success:active:focus,
.notification_widget.success.active:focus,
.open > .dropdown-toggle.notification_widget.success:focus,
.notification_widget.success:active.focus,
.notification_widget.success.active.focus,
.open > .dropdown-toggle.notification_widget.success.focus {
  color: #fff;
  background-color: #398439;
  border-color: #255625;
}
.notification_widget.success:active,
.notification_widget.success.active,
.open > .dropdown-toggle.notification_widget.success {
  background-image: none;
}
.notification_widget.success.disabled:hover,
.notification_widget.success[disabled]:hover,
fieldset[disabled] .notification_widget.success:hover,
.notification_widget.success.disabled:focus,
.notification_widget.success[disabled]:focus,
fieldset[disabled] .notification_widget.success:focus,
.notification_widget.success.disabled.focus,
.notification_widget.success[disabled].focus,
fieldset[disabled] .notification_widget.success.focus {
  background-color: #5cb85c;
  border-color: #4cae4c;
}
.notification_widget.success .badge {
  color: #5cb85c;
  background-color: #fff;
}
.notification_widget.info {
  color: #fff;
  background-color: #5bc0de;
  border-color: #46b8da;
}
.notification_widget.info:focus,
.notification_widget.info.focus {
  color: #fff;
  background-color: #31b0d5;
  border-color: #1b6d85;
}
.notification_widget.info:hover {
  color: #fff;
  background-color: #31b0d5;
  border-color: #269abc;
}
.notification_widget.info:active,
.notification_widget.info.active,
.open > .dropdown-toggle.notification_widget.info {
  color: #fff;
  background-color: #31b0d5;
  border-color: #269abc;
}
.notification_widget.info:active:hover,
.notification_widget.info.active:hover,
.open > .dropdown-toggle.notification_widget.info:hover,
.notification_widget.info:active:focus,
.notification_widget.info.active:focus,
.open > .dropdown-toggle.notification_widget.info:focus,
.notification_widget.info:active.focus,
.notification_widget.info.active.focus,
.open > .dropdown-toggle.notification_widget.info.focus {
  color: #fff;
  background-color: #269abc;
  border-color: #1b6d85;
}
.notification_widget.info:active,
.notification_widget.info.active,
.open > .dropdown-toggle.notification_widget.info {
  background-image: none;
}
.notification_widget.info.disabled:hover,
.notification_widget.info[disabled]:hover,
fieldset[disabled] .notification_widget.info:hover,
.notification_widget.info.disabled:focus,
.notification_widget.info[disabled]:focus,
fieldset[disabled] .notification_widget.info:focus,
.notification_widget.info.disabled.focus,
.notification_widget.info[disabled].focus,
fieldset[disabled] .notification_widget.info.focus {
  background-color: #5bc0de;
  border-color: #46b8da;
}
.notification_widget.info .badge {
  color: #5bc0de;
  background-color: #fff;
}
.notification_widget.danger {
  color: #fff;
  background-color: #d9534f;
  border-color: #d43f3a;
}
.notification_widget.danger:focus,
.notification_widget.danger.focus {
  color: #fff;
  background-color: #c9302c;
  border-color: #761c19;
}
.notification_widget.danger:hover {
  color: #fff;
  background-color: #c9302c;
  border-color: #ac2925;
}
.notification_widget.danger:active,
.notification_widget.danger.active,
.open > .dropdown-toggle.notification_widget.danger {
  color: #fff;
  background-color: #c9302c;
  border-color: #ac2925;
}
.notification_widget.danger:active:hover,
.notification_widget.danger.active:hover,
.open > .dropdown-toggle.notification_widget.danger:hover,
.notification_widget.danger:active:focus,
.notification_widget.danger.active:focus,
.open > .dropdown-toggle.notification_widget.danger:focus,
.notification_widget.danger:active.focus,
.notification_widget.danger.active.focus,
.open > .dropdown-toggle.notification_widget.danger.focus {
  color: #fff;
  background-color: #ac2925;
  border-color: #761c19;
}
.notification_widget.danger:active,
.notification_widget.danger.active,
.open > .dropdown-toggle.notification_widget.danger {
  background-image: none;
}
.notification_widget.danger.disabled:hover,
.notification_widget.danger[disabled]:hover,
fieldset[disabled] .notification_widget.danger:hover,
.notification_widget.danger.disabled:focus,
.notification_widget.danger[disabled]:focus,
fieldset[disabled] .notification_widget.danger:focus,
.notification_widget.danger.disabled.focus,
.notification_widget.danger[disabled].focus,
fieldset[disabled] .notification_widget.danger.focus {
  background-color: #d9534f;
  border-color: #d43f3a;
}
.notification_widget.danger .badge {
  color: #d9534f;
  background-color: #fff;
}
div#pager {
  background-color: #fff;
  font-size: 14px;
  line-height: 20px;
  overflow: hidden;
  display: none;
  position: fixed;
  bottom: 0px;
  width: 100%;
  max-height: 50%;
  padding-top: 8px;
  -webkit-box-shadow: 0px 0px 12px 1px rgba(87, 87, 87, 0.2);
  box-shadow: 0px 0px 12px 1px rgba(87, 87, 87, 0.2);
  /* Display over codemirror */
  z-index: 100;
  /* Hack which prevents jquery ui resizable from changing top. */
  top: auto !important;
}
div#pager pre {
  line-height: 1.21429em;
  color: #000;
  background-color: #f7f7f7;
  padding: 0.4em;
}
div#pager #pager-button-area {
  position: absolute;
  top: 8px;
  right: 20px;
}
div#pager #pager-contents {
  position: relative;
  overflow: auto;
  width: 100%;
  height: 100%;
}
div#pager #pager-contents #pager-container {
  position: relative;
  padding: 15px 0px;
  box-sizing: border-box;
  -moz-box-sizing: border-box;
  -webkit-box-sizing: border-box;
}
div#pager .ui-resizable-handle {
  top: 0px;
  height: 8px;
  background: #f7f7f7;
  border-top: 1px solid #cfcfcf;
  border-bottom: 1px solid #cfcfcf;
  /* This injects handle bars (a short, wide = symbol) for 
        the resize handle. */
}
div#pager .ui-resizable-handle::after {
  content: '';
  top: 2px;
  left: 50%;
  height: 3px;
  width: 30px;
  margin-left: -15px;
  position: absolute;
  border-top: 1px solid #cfcfcf;
}
.quickhelp {
  /* Old browsers */
  display: -webkit-box;
  -webkit-box-orient: horizontal;
  -webkit-box-align: stretch;
  display: -moz-box;
  -moz-box-orient: horizontal;
  -moz-box-align: stretch;
  display: box;
  box-orient: horizontal;
  box-align: stretch;
  /* Modern browsers */
  display: flex;
  flex-direction: row;
  align-items: stretch;
  line-height: 1.8em;
}
.shortcut_key {
  display: inline-block;
  width: 21ex;
  text-align: right;
  font-family: monospace;
}
.shortcut_descr {
  display: inline-block;
  /* Old browsers */
  -webkit-box-flex: 1;
  -moz-box-flex: 1;
  box-flex: 1;
  /* Modern browsers */
  flex: 1;
}
span.save_widget {
  height: 30px;
  margin-top: 4px;
  display: flex;
  justify-content: flex-start;
  align-items: baseline;
  width: 50%;
  flex: 1;
}
span.save_widget span.filename {
  height: 100%;
  line-height: 1em;
  margin-left: 16px;
  border: none;
  font-size: 146.5%;
  text-overflow: ellipsis;
  overflow: hidden;
  white-space: nowrap;
  border-radius: 2px;
}
span.save_widget span.filename:hover {
  background-color: #e6e6e6;
}
[dir="rtl"] span.save_widget.pull-left {
  float: right !important;
  float: right;
}
[dir="rtl"] span.save_widget span.filename {
  margin-left: 0;
  margin-right: 16px;
}
span.checkpoint_status,
span.autosave_status {
  font-size: small;
  white-space: nowrap;
  padding: 0 5px;
}
@media (max-width: 767px) {
  span.save_widget {
    font-size: small;
    padding: 0 0 0 5px;
  }
  span.checkpoint_status,
  span.autosave_status {
    display: none;
  }
}
@media (min-width: 768px) and (max-width: 991px) {
  span.checkpoint_status {
    display: none;
  }
  span.autosave_status {
    font-size: x-small;
  }
}
.toolbar {
  padding: 0px;
  margin-left: -5px;
  margin-top: 2px;
  margin-bottom: 5px;
  box-sizing: border-box;
  -moz-box-sizing: border-box;
  -webkit-box-sizing: border-box;
}
.toolbar select,
.toolbar label {
  width: auto;
  vertical-align: middle;
  margin-right: 2px;
  margin-bottom: 0px;
  display: inline;
  font-size: 92%;
  margin-left: 0.3em;
  margin-right: 0.3em;
  padding: 0px;
  padding-top: 3px;
}
.toolbar .btn {
  padding: 2px 8px;
}
.toolbar .btn-group {
  margin-top: 0px;
  margin-left: 5px;
}
.toolbar-btn-label {
  margin-left: 6px;
}
#maintoolbar {
  margin-bottom: -3px;
  margin-top: -8px;
  border: 0px;
  min-height: 27px;
  margin-left: 0px;
  padding-top: 11px;
  padding-bottom: 3px;
}
#maintoolbar .navbar-text {
  float: none;
  vertical-align: middle;
  text-align: right;
  margin-left: 5px;
  margin-right: 0px;
  margin-top: 0px;
}
.select-xs {
  height: 24px;
}
[dir="rtl"] .btn-group > .btn,
.btn-group-vertical > .btn {
  float: right;
}
.pulse,
.dropdown-menu > li > a.pulse,
li.pulse > a.dropdown-toggle,
li.pulse.open > a.dropdown-toggle {
  background-color: #F37626;
  color: white;
}
/**
 * Primary styles
 *
 * Author: Jupyter Development Team
 */
/** WARNING IF YOU ARE EDITTING THIS FILE, if this is a .css file, It has a lot
 * of chance of beeing generated from the ../less/[samename].less file, you can
 * try to get back the less file by reverting somme commit in history
 **/
/*
 * We'll try to get something pretty, so we
 * have some strange css to have the scroll bar on
 * the left with fix button on the top right of the tooltip
 */
@-moz-keyframes fadeOut {
  from {
    opacity: 1;
  }
  to {
    opacity: 0;
  }
}
@-webkit-keyframes fadeOut {
  from {
    opacity: 1;
  }
  to {
    opacity: 0;
  }
}
@-moz-keyframes fadeIn {
  from {
    opacity: 0;
  }
  to {
    opacity: 1;
  }
}
@-webkit-keyframes fadeIn {
  from {
    opacity: 0;
  }
  to {
    opacity: 1;
  }
}
/*properties of tooltip after "expand"*/
.bigtooltip {
  overflow: auto;
  height: 200px;
  -webkit-transition-property: height;
  -webkit-transition-duration: 500ms;
  -moz-transition-property: height;
  -moz-transition-duration: 500ms;
  transition-property: height;
  transition-duration: 500ms;
}
/*properties of tooltip before "expand"*/
.smalltooltip {
  -webkit-transition-property: height;
  -webkit-transition-duration: 500ms;
  -moz-transition-property: height;
  -moz-transition-duration: 500ms;
  transition-property: height;
  transition-duration: 500ms;
  text-overflow: ellipsis;
  overflow: hidden;
  height: 80px;
}
.tooltipbuttons {
  position: absolute;
  padding-right: 15px;
  top: 0px;
  right: 0px;
}
.tooltiptext {
  /*avoid the button to overlap on some docstring*/
  padding-right: 30px;
}
.ipython_tooltip {
  max-width: 700px;
  /*fade-in animation when inserted*/
  -webkit-animation: fadeOut 400ms;
  -moz-animation: fadeOut 400ms;
  animation: fadeOut 400ms;
  -webkit-animation: fadeIn 400ms;
  -moz-animation: fadeIn 400ms;
  animation: fadeIn 400ms;
  vertical-align: middle;
  background-color: #f7f7f7;
  overflow: visible;
  border: #ababab 1px solid;
  outline: none;
  padding: 3px;
  margin: 0px;
  padding-left: 7px;
  font-family: monospace;
  min-height: 50px;
  -moz-box-shadow: 0px 6px 10px -1px #adadad;
  -webkit-box-shadow: 0px 6px 10px -1px #adadad;
  box-shadow: 0px 6px 10px -1px #adadad;
  border-radius: 2px;
  position: absolute;
  z-index: 1000;
}
.ipython_tooltip a {
  float: right;
}
.ipython_tooltip .tooltiptext pre {
  border: 0;
  border-radius: 0;
  font-size: 100%;
  background-color: #f7f7f7;
}
.pretooltiparrow {
  left: 0px;
  margin: 0px;
  top: -16px;
  width: 40px;
  height: 16px;
  overflow: hidden;
  position: absolute;
}
.pretooltiparrow:before {
  background-color: #f7f7f7;
  border: 1px #ababab solid;
  z-index: 11;
  content: "";
  position: absolute;
  left: 15px;
  top: 10px;
  width: 25px;
  height: 25px;
  -webkit-transform: rotate(45deg);
  -moz-transform: rotate(45deg);
  -ms-transform: rotate(45deg);
  -o-transform: rotate(45deg);
}
ul.typeahead-list i {
  margin-left: -10px;
  width: 18px;
}
[dir="rtl"] ul.typeahead-list i {
  margin-left: 0;
  margin-right: -10px;
}
ul.typeahead-list {
  max-height: 80vh;
  overflow: auto;
}
ul.typeahead-list > li > a {
  /** Firefox bug **/
  /* see https://github.com/jupyter/notebook/issues/559 */
  white-space: normal;
}
ul.typeahead-list  > li > a.pull-right {
  float: left !important;
  float: left;
}
[dir="rtl"] .typeahead-list {
  text-align: right;
}
.cmd-palette .modal-body {
  padding: 7px;
}
.cmd-palette form {
  background: white;
}
.cmd-palette input {
  outline: none;
}
.no-shortcut {
  min-width: 20px;
  color: transparent;
}
[dir="rtl"] .no-shortcut.pull-right {
  float: left !important;
  float: left;
}
[dir="rtl"] .command-shortcut.pull-right {
  float: left !important;
  float: left;
}
.command-shortcut:before {
  content: "(command mode)";
  padding-right: 3px;
  color: #777777;
}
.edit-shortcut:before {
  content: "(edit)";
  padding-right: 3px;
  color: #777777;
}
[dir="rtl"] .edit-shortcut.pull-right {
  float: left !important;
  float: left;
}
#find-and-replace #replace-preview .match,
#find-and-replace #replace-preview .insert {
  background-color: #BBDEFB;
  border-color: #90CAF9;
  border-style: solid;
  border-width: 1px;
  border-radius: 0px;
}
[dir="ltr"] #find-and-replace .input-group-btn + .form-control {
  border-left: none;
}
[dir="rtl"] #find-and-replace .input-group-btn + .form-control {
  border-right: none;
}
#find-and-replace #replace-preview .replace .match {
  background-color: #FFCDD2;
  border-color: #EF9A9A;
  border-radius: 0px;
}
#find-and-replace #replace-preview .replace .insert {
  background-color: #C8E6C9;
  border-color: #A5D6A7;
  border-radius: 0px;
}
#find-and-replace #replace-preview {
  max-height: 60vh;
  overflow: auto;
}
#find-and-replace #replace-preview pre {
  padding: 5px 10px;
}
.terminal-app {
  background: #EEE;
}
.terminal-app #header {
  background: #fff;
  -webkit-box-shadow: 0px 0px 12px 1px rgba(87, 87, 87, 0.2);
  box-shadow: 0px 0px 12px 1px rgba(87, 87, 87, 0.2);
}
.terminal-app .terminal {
  width: 100%;
  float: left;
  font-family: monospace;
  color: white;
  background: black;
  padding: 0.4em;
  border-radius: 2px;
  -webkit-box-shadow: 0px 0px 12px 1px rgba(87, 87, 87, 0.4);
  box-shadow: 0px 0px 12px 1px rgba(87, 87, 87, 0.4);
}
.terminal-app .terminal,
.terminal-app .terminal dummy-screen {
  line-height: 1em;
  font-size: 14px;
}
.terminal-app .terminal .xterm-rows {
  padding: 10px;
}
.terminal-app .terminal-cursor {
  color: black;
  background: white;
}
.terminal-app #terminado-container {
  margin-top: 20px;
}
/*# sourceMappingURL=style.min.css.map */
    </style>
<style type="text/css">
    .highlight .hll { background-color: #ffffcc }
.highlight  { background: #f8f8f8; }
.highlight .c { color: #408080; font-style: italic } /* Comment */
.highlight .err { border: 1px solid #FF0000 } /* Error */
.highlight .k { color: #008000; font-weight: bold } /* Keyword */
.highlight .o { color: #666666 } /* Operator */
.highlight .ch { color: #408080; font-style: italic } /* Comment.Hashbang */
.highlight .cm { color: #408080; font-style: italic } /* Comment.Multiline */
.highlight .cp { color: #BC7A00 } /* Comment.Preproc */
.highlight .cpf { color: #408080; font-style: italic } /* Comment.PreprocFile */
.highlight .c1 { color: #408080; font-style: italic } /* Comment.Single */
.highlight .cs { color: #408080; font-style: italic } /* Comment.Special */
.highlight .gd { color: #A00000 } /* Generic.Deleted */
.highlight .ge { font-style: italic } /* Generic.Emph */
.highlight .gr { color: #FF0000 } /* Generic.Error */
.highlight .gh { color: #000080; font-weight: bold } /* Generic.Heading */
.highlight .gi { color: #00A000 } /* Generic.Inserted */
.highlight .go { color: #888888 } /* Generic.Output */
.highlight .gp { color: #000080; font-weight: bold } /* Generic.Prompt */
.highlight .gs { font-weight: bold } /* Generic.Strong */
.highlight .gu { color: #800080; font-weight: bold } /* Generic.Subheading */
.highlight .gt { color: #0044DD } /* Generic.Traceback */
.highlight .kc { color: #008000; font-weight: bold } /* Keyword.Constant */
.highlight .kd { color: #008000; font-weight: bold } /* Keyword.Declaration */
.highlight .kn { color: #008000; font-weight: bold } /* Keyword.Namespace */
.highlight .kp { color: #008000 } /* Keyword.Pseudo */
.highlight .kr { color: #008000; font-weight: bold } /* Keyword.Reserved */
.highlight .kt { color: #B00040 } /* Keyword.Type */
.highlight .m { color: #666666 } /* Literal.Number */
.highlight .s { color: #BA2121 } /* Literal.String */
.highlight .na { color: #7D9029 } /* Name.Attribute */
.highlight .nb { color: #008000 } /* Name.Builtin */
.highlight .nc { color: #0000FF; font-weight: bold } /* Name.Class */
.highlight .no { color: #880000 } /* Name.Constant */
.highlight .nd { color: #AA22FF } /* Name.Decorator */
.highlight .ni { color: #999999; font-weight: bold } /* Name.Entity */
.highlight .ne { color: #D2413A; font-weight: bold } /* Name.Exception */
.highlight .nf { color: #0000FF } /* Name.Function */
.highlight .nl { color: #A0A000 } /* Name.Label */
.highlight .nn { color: #0000FF; font-weight: bold } /* Name.Namespace */
.highlight .nt { color: #008000; font-weight: bold } /* Name.Tag */
.highlight .nv { color: #19177C } /* Name.Variable */
.highlight .ow { color: #AA22FF; font-weight: bold } /* Operator.Word */
.highlight .w { color: #bbbbbb } /* Text.Whitespace */
.highlight .mb { color: #666666 } /* Literal.Number.Bin */
.highlight .mf { color: #666666 } /* Literal.Number.Float */
.highlight .mh { color: #666666 } /* Literal.Number.Hex */
.highlight .mi { color: #666666 } /* Literal.Number.Integer */
.highlight .mo { color: #666666 } /* Literal.Number.Oct */
.highlight .sa { color: #BA2121 } /* Literal.String.Affix */
.highlight .sb { color: #BA2121 } /* Literal.String.Backtick */
.highlight .sc { color: #BA2121 } /* Literal.String.Char */
.highlight .dl { color: #BA2121 } /* Literal.String.Delimiter */
.highlight .sd { color: #BA2121; font-style: italic } /* Literal.String.Doc */
.highlight .s2 { color: #BA2121 } /* Literal.String.Double */
.highlight .se { color: #BB6622; font-weight: bold } /* Literal.String.Escape */
.highlight .sh { color: #BA2121 } /* Literal.String.Heredoc */
.highlight .si { color: #BB6688; font-weight: bold } /* Literal.String.Interpol */
.highlight .sx { color: #008000 } /* Literal.String.Other */
.highlight .sr { color: #BB6688 } /* Literal.String.Regex */
.highlight .s1 { color: #BA2121 } /* Literal.String.Single */
.highlight .ss { color: #19177C } /* Literal.String.Symbol */
.highlight .bp { color: #008000 } /* Name.Builtin.Pseudo */
.highlight .fm { color: #0000FF } /* Name.Function.Magic */
.highlight .vc { color: #19177C } /* Name.Variable.Class */
.highlight .vg { color: #19177C } /* Name.Variable.Global */
.highlight .vi { color: #19177C } /* Name.Variable.Instance */
.highlight .vm { color: #19177C } /* Name.Variable.Magic */
.highlight .il { color: #666666 } /* Literal.Number.Integer.Long */
    </style>
<style type="text/css">
    
/* Temporary definitions which will become obsolete with Notebook release 5.0 */
.ansi-black-fg { color: #3E424D; }
.ansi-black-bg { background-color: #3E424D; }
.ansi-black-intense-fg { color: #282C36; }
.ansi-black-intense-bg { background-color: #282C36; }
.ansi-red-fg { color: #E75C58; }
.ansi-red-bg { background-color: #E75C58; }
.ansi-red-intense-fg { color: #B22B31; }
.ansi-red-intense-bg { background-color: #B22B31; }
.ansi-green-fg { color: #00A250; }
.ansi-green-bg { background-color: #00A250; }
.ansi-green-intense-fg { color: #007427; }
.ansi-green-intense-bg { background-color: #007427; }
.ansi-yellow-fg { color: #DDB62B; }
.ansi-yellow-bg { background-color: #DDB62B; }
.ansi-yellow-intense-fg { color: #B27D12; }
.ansi-yellow-intense-bg { background-color: #B27D12; }
.ansi-blue-fg { color: #208FFB; }
.ansi-blue-bg { background-color: #208FFB; }
.ansi-blue-intense-fg { color: #0065CA; }
.ansi-blue-intense-bg { background-color: #0065CA; }
.ansi-magenta-fg { color: #D160C4; }
.ansi-magenta-bg { background-color: #D160C4; }
.ansi-magenta-intense-fg { color: #A03196; }
.ansi-magenta-intense-bg { background-color: #A03196; }
.ansi-cyan-fg { color: #60C6C8; }
.ansi-cyan-bg { background-color: #60C6C8; }
.ansi-cyan-intense-fg { color: #258F8F; }
.ansi-cyan-intense-bg { background-color: #258F8F; }
.ansi-white-fg { color: #C5C1B4; }
.ansi-white-bg { background-color: #C5C1B4; }
.ansi-white-intense-fg { color: #A1A6B2; }
.ansi-white-intense-bg { background-color: #A1A6B2; }

.ansi-bold { font-weight: bold; }

    </style>


<style type="text/css">
/* Overrides of notebook CSS for static HTML export */
body {
  overflow: visible;
  padding: 8px;
}

div#notebook {
  overflow: visible;
  border-top: none;
}@media print {
  div.cell {
    display: block;
    page-break-inside: avoid;
  } 
  div.output_wrapper { 
    display: block;
    page-break-inside: avoid; 
  }
  div.output { 
    display: block;
    page-break-inside: avoid; 
  }
}
</style>

<!-- Custom stylesheet, it must be in the same directory as the html file -->
<link rel="stylesheet" href="custom.css">

<!-- Loading mathjax macro -->
<!-- Load mathjax -->
    <script src="https://cdnjs.cloudflare.com/ajax/libs/mathjax/2.7.5/latest.js?config=TeX-AMS_HTML"></script>
    <!-- MathJax configuration -->
    <script type="text/x-mathjax-config">
    MathJax.Hub.Config({
        tex2jax: {
            inlineMath: [ ['$','$'], ["\\(","\\)"] ],
            displayMath: [ ['$$','$$'], ["\\[","\\]"] ],
            processEscapes: true,
            processEnvironments: true
        },
        // Center justify equations in code and markdown cells. Elsewhere
        // we use CSS to left justify single line equations in code cells.
        displayAlign: 'center',
        "HTML-CSS": {
            styles: {'.MathJax_Display': {"margin": 0}},
            linebreaks: { automatic: true }
        }
    });
    </script>
    <!-- End of mathjax configuration --></head>
<body>
  <div tabindex="-1" id="notebook" class="border-box-sizing">
    <div class="container" id="notebook-container">

<div class="cell border-box-sizing text_cell rendered"><div class="prompt input_prompt">
</div><div class="inner_cell">
<div class="text_cell_render border-box-sizing rendered_html">
<p><center>
<img src="https://habrastorage.org/webt/jq/gc/r5/jqgcr5azmatev6zvgufn8xftehy.png"></p>
<h2 id="II-Escuela-de-Verano-en-F&#237;sica-Computacional">II Escuela de Verano en F&#237;sica Computacional<a class="anchor-link" href="#II-Escuela-de-Verano-en-F&#237;sica-Computacional">&#182;</a></h2><p>Autor: <a href="https://github.com/jecs89">Josimar Chire</a>.
Institución: Research4Tech
Correo: jecs89@gmail.com</p>
<p>Este material está sujeto a los términos y condiciones de la licencia <a href="https://creativecommons.org/licenses/by-nc-sa/4.0/">Creative Commons CC BY-NC-SA 4.0</a>. Se permite el uso gratuito para cualquier propósito no comercial.</p>

</div>
</div>
</div>
<div class="cell border-box-sizing text_cell rendered"><div class="prompt input_prompt">
</div><div class="inner_cell">
<div class="text_cell_render border-box-sizing rendered_html">
<h1><center> Sesión 1. Inteligencia Artificial aplicada a Física</h1>
<p><img align="center" src="https://img.freepik.com/vector-gratis/tecnologia-digital-enfrenta-inteligencia-artificial_1017-21770.jpg"  width=65% /></p>
<h2 id="Outline">Outline<a class="anchor-link" href="#Outline">&#182;</a></h2><ol>
<li><a href="#1.-Funciones">Computación Evolutiva para Optimización Monobjetivo sin restricciones</a></li>
<li><a href="#2.-Imagenes">Procesamiento de Imágenes</a></li>
<li><a href="#3.-Estrellas">Machine Learning aplicado a Detección de estrellas</a></li>
</ol>

</div>
</div>
</div>
<div class="cell border-box-sizing text_cell rendered"><div class="prompt input_prompt">
</div><div class="inner_cell">
<div class="text_cell_render border-box-sizing rendered_html">
<h2 id="1.-Funciones">1. Funciones<a class="anchor-link" href="#1.-Funciones">&#182;</a></h2><p>Computación evolutiva es una área de Inteligencia Artificial, son algoritmos inspirados en la evolución biológica para resolver problemas de optimización.</p>

</div>
</div>
</div>
<div class="cell border-box-sizing text_cell rendered"><div class="prompt input_prompt">
</div><div class="inner_cell">
<div class="text_cell_render border-box-sizing rendered_html">
<p><img align="center" src="https://lh6.googleusercontent.com/na4CKBbtZukfpjhS-ThB-YgAMqoPRMQASTDSo6norGJnWmHRMFMgPGuoc84xeFoPmhXWhd7KnsGyfFD8Bs7A5VYP5IiqGHakE7wJ3cr0efQhhNBVvue8YFM3OZMZVEAlOiIOt_TP"  width=25% /> Source image: <a href="https://blog.floydhub.com/introduction-to-genetic-algorithms/">https://blog.floydhub.com/introduction-to-genetic-algorithms/</a></p>

</div>
</div>
</div>
<div class="cell border-box-sizing code_cell rendered">
<div class="input">
<div class="prompt input_prompt">In&nbsp;[1]:</div>
<div class="inner_cell">
    <div class="input_area">
<div class=" highlight hl-ipython3"><pre><span></span><span class="c1">##Función objetivo</span>
<span class="kn">import</span> <span class="nn">numpy</span> <span class="k">as</span> <span class="nn">np</span>
<span class="kn">import</span> <span class="nn">matplotlib.pyplot</span> <span class="k">as</span> <span class="nn">plt</span>
<span class="kn">import</span> <span class="nn">random</span>

<span class="k">def</span> <span class="nf">fun_obj</span><span class="p">(</span><span class="n">X</span><span class="p">):</span>
  <span class="n">fun_list</span> <span class="o">=</span> <span class="p">[]</span>
  <span class="k">for</span> <span class="n">i</span> <span class="ow">in</span> <span class="nb">range</span><span class="p">(</span><span class="n">X</span><span class="o">.</span><span class="n">shape</span><span class="p">[</span><span class="mi">0</span><span class="p">]):</span>
    <span class="nb">sum</span> <span class="o">=</span> <span class="mi">0</span>
    <span class="k">for</span> <span class="n">j</span> <span class="ow">in</span> <span class="nb">range</span><span class="p">(</span><span class="n">X</span><span class="o">.</span><span class="n">shape</span><span class="p">[</span><span class="mi">1</span><span class="p">]):</span>
      <span class="nb">sum</span> <span class="o">+=</span> <span class="n">X</span><span class="p">[</span><span class="n">i</span><span class="p">,</span><span class="n">j</span><span class="p">]</span><span class="o">*</span><span class="n">X</span><span class="p">[</span><span class="n">i</span><span class="p">,</span><span class="n">j</span><span class="p">]</span><span class="o">*</span><span class="n">X</span><span class="p">[</span><span class="n">i</span><span class="p">,</span><span class="n">j</span><span class="p">]</span>
    <span class="n">fun_list</span><span class="o">.</span><span class="n">append</span><span class="p">(</span><span class="nb">sum</span><span class="p">)</span>
  <span class="k">return</span> <span class="n">fun_list</span>
</pre></div>

    </div>
</div>
</div>

</div>
<div class="cell border-box-sizing code_cell rendered">
<div class="input">
<div class="prompt input_prompt">In&nbsp;[2]:</div>
<div class="inner_cell">
    <div class="input_area">
<div class=" highlight hl-ipython3"><pre><span></span><span class="c1">##Gráfico x^2</span>
<span class="n">x</span> <span class="o">=</span> <span class="n">np</span><span class="o">.</span><span class="n">arange</span><span class="p">(</span><span class="o">-</span><span class="mi">1</span><span class="p">,</span><span class="mf">1.00001</span><span class="p">,</span><span class="mf">0.1</span><span class="p">)</span><span class="c1">### A &lt;= x &lt; B</span>
<span class="n">y</span> <span class="o">=</span> <span class="n">x</span><span class="o">**</span><span class="mi">3</span>
<span class="n">plt</span><span class="o">.</span><span class="n">plot</span><span class="p">(</span><span class="n">x</span><span class="p">,</span><span class="n">y</span><span class="p">)</span>
<span class="c1"># plt.scatter(population, fun_obj(population))</span>
<span class="n">plt</span><span class="o">.</span><span class="n">show</span><span class="p">()</span>
</pre></div>

    </div>
</div>
</div>

<div class="output_wrapper">
<div class="output">


<div class="output_area">

    <div class="prompt"></div>




<div class="output_png output_subarea ">
<img src="data:image/png;base64,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
"
>
</div>

</div>

</div>
</div>

</div>
<div class="cell border-box-sizing code_cell rendered">
<div class="input">
<div class="prompt input_prompt">In&nbsp;[3]:</div>
<div class="inner_cell">
    <div class="input_area">
<div class=" highlight hl-ipython3"><pre><span></span><span class="c1">##Generación de población inicial</span>
<span class="n">pop_size</span> <span class="o">=</span> <span class="mi">10</span>
<span class="n">D</span> <span class="o">=</span> <span class="mi">1</span>
<span class="n">population</span> <span class="o">=</span> <span class="n">np</span><span class="o">.</span><span class="n">zeros</span><span class="p">([</span><span class="n">pop_size</span><span class="p">,</span> <span class="n">D</span><span class="p">])</span>
<span class="nb">print</span><span class="p">(</span><span class="n">population</span><span class="o">.</span><span class="n">T</span><span class="p">)</span>

<span class="k">for</span> <span class="n">i</span> <span class="ow">in</span> <span class="nb">range</span><span class="p">(</span><span class="n">population</span><span class="o">.</span><span class="n">shape</span><span class="p">[</span><span class="mi">0</span><span class="p">]):</span>
  <span class="k">for</span> <span class="n">j</span> <span class="ow">in</span> <span class="nb">range</span><span class="p">(</span><span class="n">population</span><span class="o">.</span><span class="n">shape</span><span class="p">[</span><span class="mi">1</span><span class="p">]):</span>
    <span class="n">population</span><span class="p">[</span><span class="n">i</span><span class="p">,</span><span class="n">j</span><span class="p">]</span> <span class="o">=</span> <span class="n">random</span><span class="o">.</span><span class="n">random</span><span class="p">()</span>
<span class="nb">print</span><span class="p">(</span><span class="n">population</span><span class="o">.</span><span class="n">T</span><span class="p">)</span>

<span class="n">x</span> <span class="o">=</span> <span class="n">np</span><span class="o">.</span><span class="n">arange</span><span class="p">(</span><span class="o">-</span><span class="mi">1</span><span class="p">,</span><span class="mf">1.00001</span><span class="p">,</span><span class="mf">0.1</span><span class="p">)</span>
<span class="n">y</span> <span class="o">=</span> <span class="n">x</span><span class="o">**</span><span class="mi">3</span>
<span class="n">plt</span><span class="o">.</span><span class="n">plot</span><span class="p">(</span><span class="n">x</span><span class="p">,</span><span class="n">y</span><span class="p">)</span>
<span class="n">plt</span><span class="o">.</span><span class="n">scatter</span><span class="p">(</span><span class="n">population</span><span class="p">,</span> <span class="n">fun_obj</span><span class="p">(</span><span class="n">population</span><span class="p">),</span> <span class="n">c</span><span class="o">=</span><span class="s1">&#39;r&#39;</span><span class="p">)</span>
<span class="n">population_0</span> <span class="o">=</span> <span class="n">np</span><span class="o">.</span><span class="n">copy</span><span class="p">(</span><span class="n">population</span><span class="p">)</span>
<span class="n">plt</span><span class="o">.</span><span class="n">show</span><span class="p">()</span>
</pre></div>

    </div>
</div>
</div>

<div class="output_wrapper">
<div class="output">


<div class="output_area">

    <div class="prompt"></div>


<div class="output_subarea output_stream output_stdout output_text">
<pre>[[0. 0. 0. 0. 0. 0. 0. 0. 0. 0.]]
[[0.7086728  0.77913435 0.19340349 0.80649789 0.49856261 0.77935072
  0.87169629 0.23318941 0.67277337 0.12265616]]
</pre>
</div>
</div>

<div class="output_area">

    <div class="prompt"></div>




<div class="output_png output_subarea ">
<img src="data:image/png;base64,iVBORw0KGgoAAAANSUhEUgAAAYIAAAD4CAYAAADhNOGaAAAABHNCSVQICAgIfAhkiAAAAAlwSFlzAAALEgAACxIB0t1+/AAAADh0RVh0U29mdHdhcmUAbWF0cGxvdGxpYiB2ZXJzaW9uMy4yLjIsIGh0dHA6Ly9tYXRwbG90bGliLm9yZy+WH4yJAAAgAElEQVR4nO3deXxU5b3H8c+PhIQdEllkDwoqIAoao629WtfiBrS1iitupW7dvLZqqbV1qVpvr22vtpWqBa071kopVlGx1laUUFlkj2xJ2CIhgGRPfvePOeAQEiDMZE6S+b5fr3nNOc/znHN+nAznN2eZ5zF3R0REklebsAMQEZFwKRGIiCQ5JQIRkSSnRCAikuSUCEREklxq2AEcjO7du3tWVlbYYYiItCjz5s371N171C1vkYkgKyuL3NzcsMMQEWlRzGxtfeW6NCQikuSUCEREkpwSgYhIklMiEBFJckoEIiJJLi6JwMyeNLPNZvZxA/VmZr8xszwzW2hmx0XVTTCzlcFrQjziERGRAxevM4IpwOh91J8DDAleE4HfAZhZJnAXcCKQA9xlZhlxiklERA5AXBKBu78LFO+jyVjgKY+YA3Qzs97AV4BZ7l7s7luBWew7oYiIJKXNO8q5d8YSSkor477uRN0j6AvkR80XBGUNle/FzCaaWa6Z5RYVFTVZoCIizdH/vrGCqe+vYWtpVdzX3WJuFrv7ZHfPdvfsHj32+oW0iEirtWT9dl7IzefKL2QxqHvHuK8/UYmgEOgfNd8vKGuoXEREAHfnnhlL6Na+Ld85fUiTbCNRiWA6cGXw9NBJwDZ33wC8DpxtZhnBTeKzgzIREQFmLdnE+6u28P2zjqBrh7ZNso24dDpnZs8BXwa6m1kBkSeB2gK4+++BmcC5QB5QClwd1BWb2T3A3GBVd7v7vm46i4gkjcrqWn4+cymDe3bi0pwBTbaduCQCd79kP/UO3NRA3ZPAk/GIQ0SkNXnq/TWs2VLKlKtPIDWl6S7gtJibxSIiyaR4ZyW/fmslpx7Rgy8f2bNJt6VEICLSDD08awWllTX8+LyhTb4tJQIRkWZmxaYdPPvhOi47cQBDenVu8u0pEYiINDP3/m0pHdNS+N6ZRyRke0oEIiLNyOzlm3l3RRHfOWMImR3TErJNJQIRkWaiqqaWe2csYVD3jlz5hayEbVeJQESkmXj2g3V8UrSTH507lLTUxB2elQhERJqBbaVVPPzmCk4efAhnDm3ax0XrUiIQEWkGfv3WSraXVfHj84ZhZgndthKBiEjIPin6jKfeX8PFJwxgaO8uCd++EoGISMjun7mUdm1TuOWsxDwuWpcSgYhIiN5b+SlvLt3MTacNpkfn9FBiUCIQEQlJTa1z79+W0D+zPVefnBVaHEoEIiIheWFuPss27uCOc4bSrm1KaHEoEYiIhGB7eRW/fGM5OVmZnHP0oaHGEpfxCEREpHEenZ1HcWklU85P/OOidcXljMDMRpvZcjPLM7Pb66l/2MzmB68VZlYSVVcTVTc9HvGIiDRn67aU8sf31vD14/oxol/XsMOJ/YzAzFKAR4GzgAJgrplNd/clu9q4+/ej2n8bGBW1ijJ3HxlrHCIiLcX9ry0lNcX4wVeODDsUID5nBDlAnruvcvdK4Hlg7D7aXwI8F4ftioi0OHNWbeG1jzdyw6mH06tLu7DDAeKTCPoC+VHzBUHZXsxsIDAIeDuquJ2Z5ZrZHDMb19BGzGxi0C63qKgoDmGLiCRWTa1zz4wl9Onajm+ecljY4eyW6KeGxgPT3L0mqmygu2cDlwK/MrPD61vQ3Se7e7a7Z/fo0SMRsYqIxNW0efksXr+d2845KtTHReuKRyIoBPpHzfcLyuoznjqXhdy9MHhfBbzDnvcPRERahfziUu6ZsZScrEzGHNsn7HD2EI9EMBcYYmaDzCyNyMF+r6d/zOwoIAN4P6osw8zSg+nuwMnAkrrLioi0ZNU1tXz/hfkY8MuLjg39cdG6Yn5qyN2rzexm4HUgBXjS3Reb2d1ArrvvSgrjgefd3aMWHwo8Zma1RJLSA9FPG4mItAa/fecTctdu5dfjR9I/s0PY4ewlLj8oc/eZwMw6ZT+pM//Tepb7NzAiHjGIiDRHH63byq/fWsnYkX0YO7Le52hCpy4mRESawjPP8NngI/nefdM4dMen3F25NOyIGqQuJkRE4u2ZZ2DiRH526jfJ79qL55/7EV2fXA0pDpddFnZ0e9EZgYhIvE2axMz+o3jpmLO4cc5L5BQshtJSmDQp7MjqpUQgIhJnG4p3csdXbubY9Sv47r+inphfty68oPZBiUBEJI5qa53//vodVKWk8qsZ/0Pb2qjfzw4YEF5g+6BEICISR4+/t4p/9zqSu/45hUFb139e0aED3HdfeIHtgxKBiEicfFy4jYdeX87o4Ydy0XcvgYEDwSzyPnlys7xRDHpqSEQkLsoqa/ju8x+R2TGN+782Aut4PFzePA/8dSkRiIjEwc9nLuWTop386doTyeiYFnY4jaJLQyIiMXpr6SaenrOWb/7XIL40pHvY4TSaEoGISAyKdlTww2kLGdq7C7c2kxHHGkuXhkREDpK784NpC/isoprnxo8kPbX5jDHQGDojEBE5SE+9v5Z3lhcx6byhHNGrc9jhHDQlAhGRxnjmGcjKYkWPLH7+5484rXMVV5w0MOyoYqJEICJyoILO5CoKCvnOBbfSqaKUXzx8I/bss2FHFhMlAhGRAzVpEpSW8tApE1jWcxAPzfwVPbZsaLadyR2ouCQCMxttZsvNLM/Mbq+n/iozKzKz+cHruqi6CWa2MnhNiEc8IiJNYt063ht4LI/nfJUr/jOD01fl7i5vyWJ+asjMUoBHgbOAAmCumU2vZ8jJF9z95jrLZgJ3AdmAA/OCZbfGGpeISLx9Mjyb75z2PQZ/uo4fzf7j5xXNtDO5AxWPM4IcIM/dV7l7JfA8MPYAl/0KMMvdi4OD/yxgdBxiEhGJjxtvhNRUNnbuzpVfuoE27jz+8j20r66I1DfjzuQOVDwSQV8gP2q+ICir6+tmttDMpplZ/0Yui5lNNLNcM8stKiqKQ9giIvtx443wu9+xLbUdEy76GdvadWLKS3eRVbW9RXQmd6AS9YOyvwLPuXuFmX0LmAqc3pgVuPtkYDJAdna2xz9EEZE6Jk+mLDWday/8Casz+jLlpbs4etMnkJICtbVhRxc38TgjKAT6R833C8p2c/ct7h6cR/E4cPyBLisiEpYqh5vH3sa8vkP51Yz/4YvrFkYqamr2vWALE49EMBcYYmaDzCwNGA9Mj25gZr2jZscAS4Pp14GzzSzDzDKAs4MyEZFQuTt3nPMd3hqcwz1v/I5zl//r88qUltmVRENivjTk7tVmdjORA3gK8KS7Lzazu4Fcd58OfMfMxgDVQDFwVbBssZndQySZANzt7sWxxiQiEqsH/r6MaUefwffee4bL57+2Z+XEieEE1UTico/A3WcCM+uU/SRq+g7gjgaWfRJ4Mh5xiIjEwx/eXcVj/1jFFScN5Lvbu8GclMjloJSUSBL47W/DDjGu1PuoiEiUl+cVcN/MpZw3ojc/HTMcG/fbVnfgr0tdTIiIBGYv28wPX17IyYMP4X8vPpaUNhZ2SAmhRCAiAsxbu5UbnpnH0N6deeyK7BY7tsDBUCIQkaS3YtMOrpkyl0O7tGPK1Tl0Sk+uq+ZKBCKS1ApLyrjyiQ9JS23D09eeSPdO6WGHlHBKBCKSfILBZYo7duPKO55l52dlPHVNDv0zO4QdWSiUCEQkuQSDy+xcv4lrvn4n+R0zefylnzL07b+GHVlolAhEJLlMmkRleSU3jLuDhYcO4ZFXH+TEvHktfnCZWCgRiEhSqSoo5Nbzvse7hx3Pz19/lLPzPohUtPDBZWKRXLfGRSSpFe+s5MYrfsGcXkfww3emMH7hG59XtvDBZWKhMwIRad2CG8MremQx9rbn+E/Pw3n4jf/jxg+mfd6mFQwuEwslAhFpvYIbw2+m9uKrlz9EOW144aU7+epJh0UGlWlFg8vEQpeGRKTV8kmT+P2Ic/jFqRM4euMnTH7lXnrv2AIzt8GaNWGH12woEYhIq1ReVcPtIy7kL8NP4/yl7/LQzF9/Ps5wEt8Yro8SgYi0Opu3l/PNp+exYPhp3PruU9z0/ovs0X1cEt8Yrk9c7hGY2WgzW25meWZ2ez31t5jZkmDw+rfMbGBUXY2ZzQ9e0+suKyLSGAsLSrjgkfdYuWkHvx+wk5sXzNgzCST5jeH6xHxGYGYpwKPAWUABMNfMprv7kqhmHwHZ7l5qZjcAvwAuDurK3H1krHGIiExfsJ4fvLSA7p3SefmGLzK0dxfoWhX5sdi6dZEzgfvuS+obw/WJx6WhHCDP3VcBmNnzwFhgdyJw99lR7ecAl8dhuyIiANTWOv87awWPzM4jJyuT311+HIfs6jzusst04N+PeFwa6gvkR80XBGUNuRaIHgC0nZnlmtkcMxvX0EJmNjFol1tUVBRbxCLSauysqOb6P83jkdl5jD+hP3+67sTPk4AckITeLDazy4Fs4NSo4oHuXmhmhwFvm9kid/+k7rLuPhmYDJCdne0JCVhEmrX84lK++VQuKzbt4K4LhnHVF7MwS45RxeIpHomgEOgfNd8vKNuDmZ0JTAJOdfeKXeXuXhi8rzKzd4BRwF6JQEQk2gertnDDM/+huqaWqdfk8F9DeoQdUosVj0tDc4EhZjbIzNKA8cAeT/+Y2SjgMWCMu2+OKs8ws/RgujtwMlH3FkRE6tpZUc0Dry3jssc/oFuHtvzlppOVBGIU8xmBu1eb2c3A60AK8KS7Lzazu4Fcd58OPAR0Al4KTtvWufsYYCjwmJnVEklKD9R52khEBAB3Z/qC9fx85lI2ba/gwuP7cef5w+javm3YobV45t7yLrdnZ2d7bm5u2GGISIIs3bCdu6Yv5sPVxYzo25WfjR3OcQMywg6rxTGzee6eXbdcvywWkWarpLSS/521gj/NWUvX9m25/2sjuCi7PyltdEM4npQIRKTZqal1XszN5xd/X8a2siouP2kgt5x1BN06pIUdWqukRCAizcp/1m3lrlcXs6hwGzlZmfx0zHCG9ekSdlitmhKBiDQLRTsqePDvy5g2r4BeXdL59fiRjDm2j34XkABKBCKSeM88s7v/n6qBWUz93i/4dXFnyqtruP7Uw7n59MF0StfhKVG0p0UksYJRwygt5d8DjuGuM77Fyg3tObVTGT+5+UwO79Ep7AiTjhKBiCRU+U9+ysxBJ/LcsaOZ2384/Us28oeX7+bMqk3Yj9eEHV5SUiIQkYRYtnE7z32wjlcuuJft7ToxqLiQSW8/wRX/mUG7mqrI+MESCiUCEWkypZXVzFiwgWc/XMf8/BLSUtpwzsaljP/3nzkpf5FGDWsmlAhEJO4+LtzGcx+u49X56/msoprBPTtx5/nD+NqovmT8pRj+WqdfSY0aFiolAhGJix3lVUxfsJ7nP8xnUeE20lPbcN4xvbk0ZwDHD8z4/DHQXYPEaNSwZkN9DYnIQXN35ueX8PyH+fx14XpKK2s46tDOXJIzgHEj+9K1gzqEa07U15CIxMzd+aRoJ3PXFPPh6sirsKSMDmkpXHBMHy45cQDH9uuqH4G1MEoEItKgmlpn6Ybtuw/6c9cUs2VnJQDdO6WRMyiTm08fzPnH9KZzO337b6mUCERkt4rqGhYWbNt94P/P2q3sqKgGoF9Ge049sgc5WZnkDMpkUPeO+ubfSigRiLRkUV017HHTtaHyKDvKqygsKSO/uIyFBSV8sLqY+fklVFbXAjCkZyfGjOxDzqBMTsjKpE+39mH8CyUB4pIIzGw08GsiI5Q97u4P1KlPB54Cjge2ABe7+5qg7g7gWqAG+I67vx6PmERarAM4iO9uF3TVAMDatZH5f/0LnzqV7TVGQY8sCtJ6UfDoXyhc346CXgMp2FpGYUkZ28qqdq8qpY0xvE8XrjxpICcEB/7MjuryOVnEnAjMLAV4FDgLKADmmtn0OkNOXgtsdffBZjYeeBC42MyGERnjeDjQB3jTzI5w95pY4xJpkeoc3GvXrqPspm+zs8oou2AsOytqKK2sprSyhtLfvUjpoBPZ2bYdO9M6sLHzIRR07UVBeU8KJ/6RHekd91h1h40V9E3ZSb+M9hw/MIO+Ge3pl9Gevt3aM6RXZ3XylsTi8ZfPAfLcfRWAmT0PjGXPQejHAj8NpqcBj1jk4uJY4Hl3rwBWm1lesL734xCXCDW1TllVDaUV1eysjDqIVn5eVla5qy5SVllTizvUulPrAE5tbWTeCd5973ev086D5Xe91waPatd6pJ3zeb07VNc65Yt2svOK31DWNp2dbdtTltYu8g9ZBix7Z89/3Jcm7jHbqaKUfts20W/bZk5at4i+24uC+U303V5ERvkOrLa2aXe4tEjxSAR9gfyo+QLgxIbaBIPdbwMOCcrn1Fm2b30bMbOJwESAAfopetKrqXU2bS+nsKSMgq2lFBSXBdOfX/YoraymvKpxB74OaSm0TWlDShsjMhpi5L2NGbaPd6NuWWS56PlIm6hlgrKUNm1o0wbam9Fz8zo6VpbRoao88qos3z3d8fHH6JCWQoe01Mj7uAvouHYV7avK6Ri0M4CUFKip56R64MBYd7u0Ui3mXNDdJwOTIfKDspDDkSZWXVPLhm3luw/sBVtLKdwaOdAXlJSyoaSc6to9PwbdO6XTL6M9w/p0IaND290HzI5pqbRPS6Fjegrt26bSMT2l3rp2qSm0CXss3Hsujlzrr2vgQDiu355lP7hxz3sEEOmqYcIEmDp173J14SANiEciKAT6R833C8rqa1NgZqlAVyI3jQ9kWUkC28urmLdmKx8GP1RaWFBCVc2eB/peXdLpl9GBUf0zuOCY9vTL6LDHde52bVNCij6O7ruv/oN7fQfxfXXVcPLJ6sJBDljMXUwEB/YVwBlEDuJzgUvdfXFUm5uAEe5+fXCz+GvufpGZDQeeJXJfoA/wFjBkfzeL1cVEy1e0o2KPX6cu3bgdd0htY4zo15UTsjI5vEdH+nbrQL+M9vTu1o701FZwoD8QB/rUkEgjNVkXE8E1/5uB14k8Pvqkuy82s7uBXHefDjwBPB3cDC4m8qQQQbsXidxYrgZu0hNDrY+7U7C1bPcvUz9cXcyqT3cC0K5tG44bkMF3zxhCTlYmowZk0D4tSQ74DbnsMh34JaHU6Zw0iaIdFbyxZOPub/wbtpUD0KVd6u4fKOUMyuTovl1pm9Im5GhFkoM6nZMmV1vr/DPvU57/cB2zlmyiutbp2TmdnEGZu19H9Owc/g1ZEdmDEoHEbNP2cl6cm88LufkUbC0jo0Nbrj45i29k92dIz07qj0akmVMikINSU+v8Y8Vmnv0gn9nLN1NT65w8+BBuG30UZw/vlTw3dkVaASUCaZTCkjJenJvPi7n5bNhWTvdO6Uw85TAuzu5PVveO+1+BiDQ7SgSyX1U1tby9bDPPf7iOd1YUAXDKkB7cdcEwzhjaSzd7RVo4JQJp0MZt5Tw9Zw0v5RaweUcFvbqk8+3TBvON7P70z+wQdngiEidKBLKXiuoaHv/nah55O4+K6hpOO7Inl+QM4MtH9iBV3/5FWh0lAtnD28s2cfdfl7BmSylfGd6LSecOY8Ah+vYv0popEQgAaz7dyd0zlvD2ss0c3qMjT1+bw38N6RF2WCKSAEoESa60sppHZ+fxh3dXk5bahknnDmXCF7NIS9UlIJFkoUSQpNydGQs38POZS9mwrZyvjerL7eccRc8u7cIOTUQSTIkgCS3fuIO7pn/MnFXFDOvdhf+7ZBTZWZlhhyUiIVEiSCLbyqp4eNYKnp6zls7tUrl33NFckjOAFPX9I5LUlAiSQG2tM21eAQ/+fRnFpZVcmjOAW88+koyOaWGHJiLNgBJBK7eoYBs/fvVjFuSXkD0wg6ljcji6b9ewwxKRZkSJoBV7cW4+k/6yiG4d0nj44mMZN7KvegIVkb3ElAjMLBN4AcgC1gAXufvWOm1GAr8DugA1wH3u/kJQNwU4FdgWNL/K3efHEpNEBn6//7VlPPHear40uDuPXnocXTu0DTssEWmmYn1Y/HbgLXcfQmS84dvraVMKXOnuw4HRwK/MrFtU/Q/cfWTwUhKI0bayKq6ZmssT763mqi9mMeXqE5QERGSfYr00NBb4cjA9FXgHuC26gbuviJpeb2abgR5ASYzbljpWFX3GdU/lkl9cygNfG8H4nAFhhyQiLUCsZwS93H1DML0R6LWvxmaWA6QBn0QV32dmC83sYTNL38eyE80s18xyi4qKYgy79Xl3RRHjHv0XJaVV/OnaE5UEROSA7TcRmNmbZvZxPa+x0e3c3QHfx3p6A08DV7t7bVB8B3AUcAKQSZ2ziTrrn+zu2e6e3aOH+sDZxd158r3VXPXHD+nTrT2v3nQyJx52SNhhiUgLst9LQ+5+ZkN1ZrbJzHq7+4bgQL+5gXZdgL8Bk9x9TtS6d51NVJjZH4FbGxV9kqusruXOv3zMC7n5nDWsF7+6eCQd0/UgmIg0TqyXhqYDE4LpCcCrdRuYWRrwCvCUu0+rU9c7eDdgHPBxjPEkjU8/q+Cyx+fwQm4+N582mMcuP15JQEQOSqxHjgeAF83sWmAtcBGAmWUD17v7dUHZKcAhZnZVsNyux0SfMbMegAHzgetjjCcpLN2wneum5vLpZxX85pJRjDm2T9ghiUgLZpFL+y1Ldna25+bmhh1GKP7+8UZueXE+ndul8ocrszmmX7f9LyQiApjZPHfPrluuawkthLvzyNt5/HLWCo7t343JVxxPL3UZLSJxoETQApRV1vCDaQuYsXAD40b24YGvH0O7tilhhyUirYQSQTO3rayKK574gEWF27ht9FFcf+ph6i9IROJKiaAZK6+q4bqpc1m6YTuPXX48Zw8/NOyQRKQVUiJopqprarn52Y/IXbuV/7tklJKAiDQZjVDeDLk7P3plEW8u3cTPxgzn/GP0eKiINB0lgmboodeX82JuAd85fTBXfiEr7HBEpJVTImhmnnhvNb995xMuPXEA3z/riLDDEZEkoETQjPzlo0LumbGEc44+lHvGHq2ng0QkIZQImol3lm/m1pcWcNJhmTx88UhS2igJiEhiKBE0Ax+t28oNf/oPR/TqzB+uzNaPxUQkoZQIQpa3eQdXT5lLj87pTLnmBDq307CSIpJYSgQhWl9SxpVPfEhqmzY8fW0OPTur7yARSTwlgpCUlFYy4ckP2VFezdRrTmDgIR3DDklEkpR+WRyC0spqrpkyl7XFpUy9OofhfbqGHZKIJLGYzgjMLNPMZpnZyuA9o4F2NWY2P3hNjyofZGYfmFmemb0QjGbWqlXV1HLjM/9hfn4Jvxk/ki8crvGFRSRcsV4auh14y92HAG8F8/Upc/eRwWtMVPmDwMPuPhjYClwbYzzNWm2tc9u0hbyzvIh7x41g9NG9ww5JRCTmRDAWmBpMTyUy7vABCcYpPh3YNY5xo5Zvie5/bSl//qiQ/z7rCC49cUDY4YiIALEngl7uviGY3gj0aqBdOzPLNbM5ZrbrYH8IUOLu1cF8AdC3oQ2Z2cRgHblFRUUxhp14j/3jE/7wz9VM+MJAbj59cNjhiIjstt+bxWb2JlBfH8iTomfc3c2soQGQB7p7oZkdBrxtZouAbY0J1N0nA5MhMmZxY5YN2+uLN3L/a8s4/5je3HXBcHUdISLNyn4Tgbuf2VCdmW0ys97uvsHMegObG1hHYfC+yszeAUYBLwPdzCw1OCvoBxQexL+hWdu0vZzbXl7I0X278MuLjqWNuo4QkWYm1ktD04EJwfQE4NW6Dcwsw8zSg+nuwMnAEnd3YDZw4b6Wb8lqa51bX1pAeVUNv7p4FOmp6jpCRJqfWBPBA8BZZrYSODOYx8yyzezxoM1QINfMFhA58D/g7kuCutuAW8wsj8g9gydijKdZefJfq/nnyk+58/xhDO7ZKexwRETqFdMPytx9C3BGPeW5wHXB9L+BEQ0svwrIiSWG5mrJ+u384u/LOXNoLy7N0RNCItJ8qYuJJlBeVcP3XviIrh3a8uDXR+jmsIg0a+piogk88NoyVmz6jClXn8AhndLDDkdEZJ90RhBns5dvZsq/13D1yVl8+cieYYcjIrJfSgRx9OlnFfzgpYUc2aszt40+KuxwREQOiC4NxYl7pB+h7eVV/Om6HI0yJiIths4I4uSZD9bx1rLN3D76KI46tEvY4YiIHDAlgjjI27yDe/+2hFOO6MFVX8wKOxwRkUZRIohRZXUt331+Ph3SUvmfC49RFxIi0uLoHkGMfjlrOYvXb2fyFcfTs4vGHBaRlkdnBDH4d96nTH53FZeeOICzh9fXQauISPOnRHCQSkorueXFBQw6pCM/Pm9o2OGIiBw0XRo6CO7Oj15ZxKefVfDKjSfTIU27UURaLp0RHIRp8wqYuWgj/332kYzo1zXscEREYqJE0Ehrt+zkp9MXc+KgTCaecljY4YiIxEyJoBGqaiKPiqa0MR6+eCQpelRURFoBXdxuhP97O4/5+SU8cuko+nRrH3Y4IiJxEdMZgZllmtksM1sZvGfU0+Y0M5sf9So3s3FB3RQzWx1VNzKWeJrSvLVbeeTtlXztuL6cf0yfsMMREYmbWC8N3Q685e5DgLeC+T24+2x3H+nuI4HTgVLgjagmP9hV7+7zY4ynSdTUOj959WMO7dKOn40ZHnY4IiJxFWsiGAtMDaanAuP20/5C4DV3L41xuwn18rwCFq/fzu3nDqVzu7ZhhyMiElexJoJe7r4hmN4I9NpP+/HAc3XK7jOzhWb2sJk1OJyXmU00s1wzyy0qKooh5Mb5rKKah95YznEDunHBMb0Ttl0RkUTZbyIwszfN7ON6XmOj27m7A76P9fQmMoj961HFdwBHAScAmcBtDS3v7pPdPdvds3v06LG/sOPmd+/kUbSjgjvPH6axh0WkVdrvU0PufmZDdWa2ycx6u/uG4EC/eR+rugh4xd2rota962yiwsz+CNx6gHEnRMHWUv7wz9WMG9mHUQP2ug8uItIqxHppaDowIZieALy6j7aXUOeyUJA8sMhX7XHAxzHGE1cP/qhibb4AAAlpSURBVH05bQx+qGEnRaQVizURPACcZWYrgTODecws28we39XIzLKA/sA/6iz/jJktAhYB3YF7Y4wnbuatLeavC9Yz8ZTD9ZsBEWnVYvpBmbtvAc6opzwXuC5qfg3Qt552p8ey/aZSW+vcPWMpvbqkc/2p6kZCRFo3dTFRj1cXFLIgv4QffuUo9SwqIq2eEkEdpZXVPPjaco7p15WvjtrrJEZEpNVRIqhj8rur2Li9nDvPH6bxh0UkKSgRRNmwrYzH/rGK80b05oSszLDDERFJCCWCKA/9fTk17tx+jh4XFZHkoUQQWJBfwp8/KuTaLw2if2aHsMMREUkYJQIiYxDfM2MJ3Tulc+OXDw87HBGRhFIiAP62aAO5a7dy69lHqHdREUk6SZ8IyqtquH/mMob27sI3svuHHY6ISMIlfSJ44r3VFJaUcef5QzUGsYgkpaROBJt3lPPb2XmcNawXXzy8e9jhiIiEIqkTwS9fX0FlTS0/Ondo2KGIiIQmaRPB4vXbeHFePhO+kMWg7h3DDkdEJDRJmQh2PS7arX1bvn3GkLDDEREJVVImgjeWbGLOqmJuOesIurbX46IiktySLhFUVNfw85lLGdKzE5fkDAg7HBGR0MWUCMzsG2a22MxqzSx7H+1Gm9lyM8szs9ujygeZ2QdB+QtmlhZLPAfiqX+vZe2WUn58/jBSU5IuD4qI7CXWI+HHwNeAdxtqYGYpwKPAOcAw4BIzGxZUPwg87O6Dga3AtTHGs09bPqvgN2+t5LQje3DqET2aclMiIi1GTInA3Ze6+/L9NMsB8tx9lbtXAs8DY4MB608HpgXtphIZwL7JPPzmCkqraph0nh4XFRHZJRHXRvoC+VHzBUHZIUCJu1fXKa+XmU00s1wzyy0qKjqoQPpndOBbpxzG4J6dD2p5EZHWaL8D8prZm8Ch9VRNcvdX4x9S/dx9MjAZIDs72w9mHd86VT2LiojUtd9E4O5nxriNQiC6N7d+QdkWoJuZpQZnBbvKRUQkgRJxaWguMCR4QigNGA9Md3cHZgMXBu0mAAk7wxARkYhYHx/9qpkVAF8A/mZmrwflfcxsJkDwbf9m4HVgKfCiuy8OVnEbcIuZ5RG5Z/BELPGIiEjjWeSLecuSnZ3tubm5YYchItKimNk8d9/rN1/6RZWISJJTIhARSXJKBCIiSU6JQEQkybXIm8VmVgSsPcjFuwOfxjGceFFcjaO4GkdxNU5rjWugu+/V0VqLTASxMLPc+u6ah01xNY7iahzF1TjJFpcuDYmIJDklAhGRJJeMiWBy2AE0QHE1juJqHMXVOEkVV9LdIxARkT0l4xmBiIhEUSIQEUlyrTIRmNk3zGyxmdWaWYOPWpnZaDNbbmZ5ZnZ7VPkgM/sgKH8h6D47HnFlmtksM1sZvGfU0+Y0M5sf9So3s3FB3RQzWx1VNzJRcQXtaqK2PT2qPMz9NdLM3g/+3gvN7OKourjur4Y+L1H16cG/Py/YH1lRdXcE5cvN7CuxxHEQcd1iZkuC/fOWmQ2Mqqv3b5qguK4ys6Ko7V8XVTch+LuvNLMJCY7r4aiYVphZSVRdk+wvM3vSzDab2ccN1JuZ/SaIeaGZHRdVF/u+cvdW9wKGAkcC7wDZDbRJAT4BDgPSgAXAsKDuRWB8MP174IY4xfUL4PZg+nbgwf20zwSKgQ7B/BTgwibYXwcUF/BZA+Wh7S/gCGBIMN0H2AB0i/f+2tfnJarNjcDvg+nxwAvB9LCgfTowKFhPSgLjOi3qM3TDrrj29TdNUFxXAY/Us2wmsCp4zwimMxIVV5323waeTMD+OgU4Dvi4gfpzgdcAA04CPojnvmqVZwTuvtTdl++nWQ6Q5+6r3L0SeB4Ya2YGnA5MC9pNBcbFKbSxwfoOdL0XAq+5e2mctt+Qxsa1W9j7y91XuPvKYHo9sBnY65eTcVDv52Uf8U4Dzgj2z1jgeXevcPfVQF6wvoTE5e6zoz5Dc4iMBtjUDmR/NeQrwCx3L3b3rcAsYHRIcV0CPBenbTfI3d8l8qWvIWOBpzxiDpHRHXsTp33VKhPBAeoL5EfNFwRlhwAlHhlQJ7o8Hnq5+4ZgeiPQaz/tx7P3h/C+4NTwYTNLT3Bc7cws18zm7LpcRTPaX2aWQ+Rb3idRxfHaXw19XuptE+yPbUT2z4Es25RxRbuWyDfLXer7myYyrq8Hf59pZrZrSNtmsb+CS2iDgLejiptqf+1PQ3HHZV/td8zi5srM3gQOradqkruHNuTlvuKKnnF3N7MGn90Nsv0IIiO77XIHkQNiGpHniW8D7k5gXAPdvdDMDgPeNrNFRA52By3O++tpYIK71wbFB72/WiMzuxzIBk6NKt7rb+run9S/hrj7K/Ccu1eY2beInE2dnqBtH4jxwDR3r4kqC3N/NZkWmwjc/cwYV1EI9I+a7xeUbSFy2pUafKvbVR5zXGa2ycx6u/uG4MC1eR+rugh4xd2rota969txhZn9Ebg1kXG5e2HwvsrM3gFGAS8T8v4ysy7A34h8CZgTte6D3l/1aOjzUl+bAjNLBboS+TwdyLJNGRdmdiaR5Hqqu1fsKm/gbxqPA9t+43L3LVGzjxO5J7Rr2S/XWfadOMR0QHFFGQ/cFF3QhPtrfxqKOy77KpkvDc0FhljkiZc0In/06R65AzObyPV5gAlAvM4wpgfrO5D17nVtMjgY7rouPw6o9wmDpojLzDJ2XVoxs+7AycCSsPdX8Ld7hcj102l16uK5v+r9vOwj3guBt4P9Mx0Yb5GnigYBQ4APY4ilUXGZ2SjgMWCMu2+OKq/3b5rAuHpHzY4hMqY5RM6Czw7iywDOZs8z4yaNK4jtKCI3X9+PKmvK/bU/04Erg6eHTgK2BV904rOvmuIOeNgv4KtErpVVAJuA14PyPsDMqHbnAiuIZPRJUeWHEfmPmge8BKTHKa5DgLeAlcCbQGZQng08HtUui0imb1Nn+beBRUQOaH8COiUqLuCLwbYXBO/XNof9BVwOVAHzo14jm2J/1fd5IXKpaUww3S749+cF++OwqGUnBcstB86J8+d9f3G9Gfw/2LV/pu/vb5qguO4HFgfbnw0cFbXsNcF+zAOuTmRcwfxPgQfqLNdk+4vIl74NwWe5gMi9nOuB64N6Ax4NYl5E1NOQ8dhX6mJCRCTJJfOlIRERQYlARCTpKRGIiCQ5JQIRkSSnRCAikuSUCEREkpwSgYhIkvt/obZJMa1GxtgAAAAASUVORK5CYII=
"
>
</div>

</div>

</div>
</div>

</div>
<div class="cell border-box-sizing code_cell rendered">
<div class="input">
<div class="prompt input_prompt">In&nbsp;[4]:</div>
<div class="inner_cell">
    <div class="input_area">
<div class=" highlight hl-ipython3"><pre><span></span><span class="c1">##Algoritmo roulette wheel </span>
<span class="n">fitness</span> <span class="o">=</span> <span class="n">np</span><span class="o">.</span><span class="n">array</span><span class="p">(</span><span class="n">fun_obj</span><span class="p">(</span><span class="n">population</span><span class="p">))</span>
<span class="n">fitness_norm</span> <span class="o">=</span> <span class="n">fitness</span><span class="o">/</span><span class="n">fitness</span><span class="o">.</span><span class="n">sum</span><span class="p">()</span>
<span class="nb">print</span><span class="p">(</span><span class="n">fitness_norm</span><span class="p">)</span>

<span class="n">fitness_acum</span> <span class="o">=</span> <span class="n">np</span><span class="o">.</span><span class="n">zeros</span><span class="p">(</span><span class="n">fitness</span><span class="o">.</span><span class="n">shape</span><span class="p">)</span>
<span class="n">fitness_acum</span><span class="p">[</span><span class="mi">0</span><span class="p">]</span> <span class="o">=</span> <span class="n">fitness_norm</span><span class="p">[</span><span class="mi">0</span><span class="p">]</span>
<span class="k">for</span> <span class="n">i</span> <span class="ow">in</span> <span class="nb">range</span><span class="p">(</span><span class="mi">1</span><span class="p">,</span> <span class="n">fitness_norm</span><span class="o">.</span><span class="n">shape</span><span class="p">[</span><span class="mi">0</span><span class="p">]):</span>
  <span class="n">fitness_acum</span><span class="p">[</span><span class="n">i</span><span class="p">]</span> <span class="o">=</span> <span class="n">fitness_acum</span><span class="p">[</span><span class="n">i</span><span class="o">-</span><span class="mi">1</span><span class="p">]</span> <span class="o">+</span> <span class="n">fitness_norm</span><span class="p">[</span><span class="n">i</span><span class="p">]</span>
<span class="nb">print</span><span class="p">(</span><span class="n">fitness_acum</span><span class="p">)</span>

<span class="k">def</span> <span class="nf">selection_idx</span><span class="p">(</span><span class="n">fitness_acum</span><span class="p">):</span>
  <span class="n">coin1</span> <span class="o">=</span> <span class="n">random</span><span class="o">.</span><span class="n">random</span><span class="p">()</span>
  <span class="n">idx1</span> <span class="o">=</span> <span class="o">-</span><span class="mi">1</span>
  <span class="k">if</span> <span class="n">coin1</span> <span class="o">&lt;</span> <span class="n">fitness_acum</span><span class="p">[</span><span class="mi">0</span><span class="p">]:</span>
    <span class="n">idx1</span> <span class="o">=</span> <span class="mi">0</span>
  <span class="c1"># if coin2 &lt; fitness_acum[0]:</span>
  <span class="c1">#   idx2 = 0</span>
  <span class="k">for</span> <span class="n">i</span> <span class="ow">in</span> <span class="nb">range</span><span class="p">(</span><span class="nb">len</span><span class="p">(</span><span class="n">fitness_acum</span><span class="p">)</span><span class="o">-</span><span class="mi">1</span><span class="p">):</span>
    <span class="k">if</span> <span class="n">fitness_acum</span><span class="p">[</span><span class="n">i</span><span class="p">]</span> <span class="o">&lt;=</span> <span class="n">coin1</span> <span class="o">&lt;</span> <span class="n">fitness_acum</span><span class="p">[</span><span class="n">i</span><span class="o">+</span><span class="mi">1</span><span class="p">]:</span>
      <span class="n">idx1</span> <span class="o">=</span> <span class="n">i</span>
  <span class="c1"># print(idx1)</span>
  <span class="k">return</span> <span class="n">idx1</span>
<span class="c1"># coin1 = selection_idx(fitness_acum)</span>
<span class="c1"># coin2 = selection_idx(fitness_acum)</span>
<span class="c1"># print(coin1, coin2)</span>
<span class="c1">##</span>

<span class="c1">##Generar población</span>
<span class="k">def</span> <span class="nf">generate_population</span><span class="p">(</span><span class="n">population</span><span class="p">,</span> <span class="n">fitness_acum</span><span class="p">,</span> <span class="n">prob_cross</span><span class="p">,</span> <span class="n">prob_mut</span><span class="p">):</span>
  <span class="n">new_population</span> <span class="o">=</span> <span class="p">[]</span>
  <span class="k">for</span> <span class="n">i</span> <span class="ow">in</span> <span class="nb">range</span><span class="p">(</span><span class="n">population</span><span class="o">.</span><span class="n">shape</span><span class="p">[</span><span class="mi">0</span><span class="p">]):</span>
    <span class="c1">##crossover</span>
    <span class="n">coin_cross</span> <span class="o">=</span> <span class="n">random</span><span class="o">.</span><span class="n">random</span><span class="p">()</span>
    <span class="k">if</span> <span class="n">coin_cross</span> <span class="o">&lt;=</span> <span class="n">prob_cross</span><span class="p">:</span>
      
      <span class="n">idx1</span> <span class="o">=</span> <span class="n">selection_idx</span><span class="p">(</span><span class="n">fitness_acum</span><span class="p">)</span>
      <span class="n">idx2</span> <span class="o">=</span> <span class="n">selection_idx</span><span class="p">(</span><span class="n">fitness_acum</span><span class="p">)</span>
      <span class="c1"># print(idx1, idx2)</span>
      <span class="n">individual</span> <span class="o">=</span> <span class="p">[]</span>
      <span class="k">for</span> <span class="n">j</span> <span class="ow">in</span> <span class="nb">range</span><span class="p">(</span><span class="n">population</span><span class="o">.</span><span class="n">shape</span><span class="p">[</span><span class="mi">1</span><span class="p">]):</span>
        <span class="n">individual</span><span class="o">.</span><span class="n">append</span><span class="p">(</span> <span class="p">(</span><span class="n">population</span><span class="p">[</span><span class="n">idx1</span><span class="p">][</span><span class="n">j</span><span class="p">]</span> <span class="o">+</span> <span class="n">population</span><span class="p">[</span><span class="n">idx2</span><span class="p">][</span><span class="n">j</span><span class="p">])</span> <span class="o">/</span> <span class="mi">2</span> <span class="p">)</span>

    <span class="c1">##mutation</span>
    <span class="n">idx3</span> <span class="o">=</span> <span class="n">random</span><span class="o">.</span><span class="n">randrange</span><span class="p">(</span><span class="mi">0</span><span class="p">,</span> <span class="n">pop_size</span><span class="p">)</span>
    <span class="c1"># print(&#39;coin1: &#39;, idx3)</span>
    <span class="n">inc</span> <span class="o">=</span> <span class="mf">0.01</span>
    <span class="n">individual</span> <span class="o">=</span> <span class="n">population</span><span class="p">[</span><span class="n">idx3</span><span class="p">]</span>
    <span class="k">for</span> <span class="n">j</span> <span class="ow">in</span> <span class="nb">range</span><span class="p">(</span><span class="nb">len</span><span class="p">(</span> <span class="n">individual</span> <span class="p">)):</span>
      <span class="n">coin</span> <span class="o">=</span> <span class="n">random</span><span class="o">.</span><span class="n">random</span><span class="p">()</span>
      <span class="k">if</span> <span class="n">coin</span> <span class="o">&lt;</span> <span class="mf">0.5</span><span class="p">:</span>
        <span class="n">individual</span><span class="p">[</span><span class="n">j</span><span class="p">]</span> <span class="o">+=</span> <span class="n">inc</span>
      <span class="k">else</span><span class="p">:</span>
        <span class="n">individual</span><span class="p">[</span><span class="n">j</span><span class="p">]</span> <span class="o">-=</span> <span class="n">inc</span>
    <span class="n">new_population</span><span class="o">.</span><span class="n">append</span><span class="p">(</span><span class="n">np</span><span class="o">.</span><span class="n">array</span><span class="p">(</span><span class="n">individual</span><span class="p">))</span>
  <span class="k">return</span> <span class="n">new_population</span>

<span class="c1">##Prueba</span>
<span class="n">prob_cross</span> <span class="o">=</span> <span class="mf">0.5</span>
<span class="n">prob_mut</span> <span class="o">=</span> <span class="mf">0.01</span>
<span class="n">new_population</span> <span class="o">=</span> <span class="n">np</span><span class="o">.</span><span class="n">array</span><span class="p">(</span><span class="n">generate_population</span><span class="p">(</span><span class="n">population</span><span class="p">,</span> <span class="n">fitness_acum</span><span class="p">,</span> <span class="n">prob_cross</span><span class="p">,</span> <span class="n">prob_mut</span><span class="p">))</span>
<span class="nb">print</span><span class="p">(</span><span class="n">new_population</span><span class="o">.</span><span class="n">T</span><span class="p">)</span>
</pre></div>

    </div>
</div>
</div>

<div class="output_wrapper">
<div class="output">


<div class="output_area">

    <div class="prompt"></div>


<div class="output_subarea output_stream output_stdout output_text">
<pre>[0.12108225 0.16090896 0.00246114 0.17846493 0.04216016 0.16104305
 0.22534025 0.0043139  0.10359757 0.00062779]
[0.12108225 0.28199121 0.28445235 0.46291728 0.50507744 0.6661205
 0.89146075 0.89577465 0.99937221 1.        ]
[[0.76935072 0.18340349 0.66277337 0.88169629 0.67277337 0.78913435
  0.87169629 0.75935072 0.24318941 0.86169629]]
</pre>
</div>
</div>

</div>
</div>

</div>
<div class="cell border-box-sizing code_cell rendered">
<div class="input">
<div class="prompt input_prompt">In&nbsp;[5]:</div>
<div class="inner_cell">
    <div class="input_area">
<div class=" highlight hl-ipython3"><pre><span></span><span class="c1">##Comparación resultados de prueba</span>
<span class="n">x</span> <span class="o">=</span> <span class="n">np</span><span class="o">.</span><span class="n">arange</span><span class="p">(</span><span class="o">-</span><span class="mi">1</span><span class="p">,</span><span class="mf">1.00001</span><span class="p">,</span><span class="mf">0.1</span><span class="p">)</span>
<span class="n">y</span> <span class="o">=</span> <span class="n">x</span><span class="o">**</span><span class="mi">3</span>
<span class="n">plt</span><span class="o">.</span><span class="n">plot</span><span class="p">(</span><span class="n">x</span><span class="p">,</span><span class="n">y</span><span class="p">)</span>
<span class="n">plt</span><span class="o">.</span><span class="n">scatter</span><span class="p">(</span><span class="n">population</span><span class="p">,</span> <span class="n">fun_obj</span><span class="p">(</span><span class="n">population</span><span class="p">),</span> <span class="n">c</span><span class="o">=</span><span class="s1">&#39;r&#39;</span><span class="p">)</span>
<span class="n">plt</span><span class="o">.</span><span class="n">scatter</span><span class="p">(</span><span class="n">new_population</span><span class="p">,</span> <span class="n">fun_obj</span><span class="p">(</span><span class="n">new_population</span><span class="p">),</span> <span class="n">c</span><span class="o">=</span><span class="s1">&#39;b&#39;</span><span class="p">)</span>
<span class="n">plt</span><span class="o">.</span><span class="n">show</span><span class="p">()</span>
</pre></div>

    </div>
</div>
</div>

<div class="output_wrapper">
<div class="output">


<div class="output_area">

    <div class="prompt"></div>




<div class="output_png output_subarea ">
<img src="data:image/png;base64,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
"
>
</div>

</div>

</div>
</div>

</div>
<div class="cell border-box-sizing code_cell rendered">
<div class="input">
<div class="prompt input_prompt">In&nbsp;[6]:</div>
<div class="inner_cell">
    <div class="input_area">
<div class=" highlight hl-ipython3"><pre><span></span><span class="c1">##Ejecución algoritmo</span>
<span class="n">generations</span> <span class="o">=</span> <span class="mi">100</span>
<span class="k">for</span> <span class="n">i</span> <span class="ow">in</span> <span class="nb">range</span><span class="p">(</span><span class="n">generations</span><span class="p">):</span>
  <span class="n">new_population</span> <span class="o">=</span> <span class="n">np</span><span class="o">.</span><span class="n">array</span><span class="p">(</span><span class="n">generate_population</span><span class="p">(</span><span class="n">population</span><span class="p">,</span> <span class="n">fitness_acum</span><span class="p">,</span> <span class="n">prob_cross</span><span class="p">,</span> <span class="n">prob_mut</span><span class="p">))</span>
  <span class="n">population</span> <span class="o">=</span> <span class="n">np</span><span class="o">.</span><span class="n">copy</span><span class="p">(</span><span class="n">new_population</span><span class="p">)</span>
<span class="nb">print</span><span class="p">(</span><span class="n">population</span><span class="o">.</span><span class="n">T</span><span class="p">)</span>
</pre></div>

    </div>
</div>
</div>

<div class="output_wrapper">
<div class="output">


<div class="output_area">

    <div class="prompt"></div>


<div class="output_subarea output_stream output_stdout output_text">
<pre>[[0.06265616 0.06265616 0.07265616 0.07265616 0.06265616 0.07265616
  0.07265616 0.08265616 0.06265616 0.05265616]]
</pre>
</div>
</div>

</div>
</div>

</div>
<div class="cell border-box-sizing code_cell rendered">
<div class="input">
<div class="prompt input_prompt">In&nbsp;[7]:</div>
<div class="inner_cell">
    <div class="input_area">
<div class=" highlight hl-ipython3"><pre><span></span><span class="c1">##P(t-1), P(t) </span>
<span class="c1">##Elitismo, tomas el mejor individuo de P(t-1) y lo insertas en P(t)</span>
</pre></div>

    </div>
</div>
</div>

</div>
<div class="cell border-box-sizing code_cell rendered">
<div class="input">
<div class="prompt input_prompt">In&nbsp;[8]:</div>
<div class="inner_cell">
    <div class="input_area">
<div class=" highlight hl-ipython3"><pre><span></span><span class="c1">##Resultados de población inicial y final.</span>
<span class="n">x</span> <span class="o">=</span> <span class="n">np</span><span class="o">.</span><span class="n">arange</span><span class="p">(</span><span class="o">-</span><span class="mi">1</span><span class="p">,</span><span class="mf">1.00001</span><span class="p">,</span><span class="mf">0.1</span><span class="p">)</span>
<span class="n">y</span> <span class="o">=</span> <span class="n">x</span><span class="o">**</span><span class="mi">3</span>
<span class="n">plt</span><span class="o">.</span><span class="n">plot</span><span class="p">(</span><span class="n">x</span><span class="p">,</span><span class="n">y</span><span class="p">)</span>
<span class="n">plt</span><span class="o">.</span><span class="n">scatter</span><span class="p">(</span><span class="n">population</span><span class="p">,</span> <span class="n">fun_obj</span><span class="p">(</span><span class="n">population</span><span class="p">),</span> <span class="n">c</span><span class="o">=</span><span class="s1">&#39;b&#39;</span><span class="p">,</span> <span class="n">marker</span><span class="o">=</span> <span class="s1">&#39;x&#39;</span><span class="p">)</span>
<span class="c1"># plt.scatter(new_population, fun_obj(new_population), c=&#39;r&#39;, marker= &#39;*&#39;)</span>
<span class="n">plt</span><span class="o">.</span><span class="n">scatter</span><span class="p">(</span><span class="n">population_0</span><span class="p">,</span> <span class="n">fun_obj</span><span class="p">(</span><span class="n">population_0</span><span class="p">),</span> <span class="n">c</span><span class="o">=</span><span class="s1">&#39;r&#39;</span><span class="p">,</span> <span class="n">marker</span><span class="o">=</span> <span class="s1">&#39;x&#39;</span><span class="p">)</span>
<span class="n">plt</span><span class="o">.</span><span class="n">show</span><span class="p">()</span>
</pre></div>

    </div>
</div>
</div>

<div class="output_wrapper">
<div class="output">


<div class="output_area">

    <div class="prompt"></div>




<div class="output_png output_subarea ">
<img src="data:image/png;base64,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
"
>
</div>

</div>

</div>
</div>

</div>
<div class="cell border-box-sizing text_cell rendered"><div class="prompt input_prompt">
</div><div class="inner_cell">
<div class="text_cell_render border-box-sizing rendered_html">
<h2 id="2.-Imagenes">2. Imagenes<a class="anchor-link" href="#2.-Imagenes">&#182;</a></h2>
</div>
</div>
</div>
<div class="cell border-box-sizing text_cell rendered"><div class="prompt input_prompt">
</div><div class="inner_cell">
<div class="text_cell_render border-box-sizing rendered_html">
<p><img src='https://news.harvard.edu/wp-content/uploads/2020/03/F1.large-2-1200x800.jpg'/></p>

</div>
</div>
</div>
<div class="cell border-box-sizing code_cell rendered">
<div class="input">
<div class="prompt input_prompt">In&nbsp;[9]:</div>
<div class="inner_cell">
    <div class="input_area">
<div class=" highlight hl-ipython3"><pre><span></span><span class="o">!</span>wget https://media.metrolatam.com/2018/01/26/fw11.jpg
</pre></div>

    </div>
</div>
</div>

<div class="output_wrapper">
<div class="output">


<div class="output_area">

    <div class="prompt"></div>


<div class="output_subarea output_stream output_stdout output_text">
<pre>--2021-04-07 15:44:32--  https://media.metrolatam.com/2018/01/26/fw11.jpg
Resolving media.metrolatam.com (media.metrolatam.com)... 104.19.178.30, 104.19.177.30, 2606:4700::6813:b21e, ...
Connecting to media.metrolatam.com (media.metrolatam.com)|104.19.178.30|:443... connected.
HTTP request sent, awaiting response... 200 OK
Length: 51758 (51K) [image/jpeg]
Saving to: ‘fw11.jpg’

fw11.jpg            100%[===================&gt;]  50.54K  --.-KB/s    in 0.02s   

2021-04-07 15:44:32 (3.28 MB/s) - ‘fw11.jpg’ saved [51758/51758]

</pre>
</div>
</div>

</div>
</div>

</div>
<div class="cell border-box-sizing code_cell rendered">
<div class="input">
<div class="prompt input_prompt">In&nbsp;[10]:</div>
<div class="inner_cell">
    <div class="input_area">
<div class=" highlight hl-ipython3"><pre><span></span><span class="c1">###https://opencv-python-tutroals.readthedocs.io/en/latest/py_tutorials/py_imgproc/py_transforms/py_fourier_transform/py_fourier_transform.html</span>

<span class="kn">import</span> <span class="nn">cv2</span> <span class="c1">#imageio</span>
<span class="kn">import</span> <span class="nn">numpy</span> <span class="k">as</span> <span class="nn">np</span>
<span class="kn">from</span> <span class="nn">matplotlib</span> <span class="k">import</span> <span class="n">pyplot</span> <span class="k">as</span> <span class="n">plt</span>

<span class="n">img</span> <span class="o">=</span> <span class="n">cv2</span><span class="o">.</span><span class="n">imread</span><span class="p">(</span><span class="s1">&#39;fw11.jpg&#39;</span><span class="p">,</span><span class="mi">0</span><span class="p">)</span>
<span class="n">f</span> <span class="o">=</span> <span class="n">np</span><span class="o">.</span><span class="n">fft</span><span class="o">.</span><span class="n">fft2</span><span class="p">(</span><span class="n">img</span><span class="p">)</span>
<span class="n">fshift</span> <span class="o">=</span> <span class="n">np</span><span class="o">.</span><span class="n">fft</span><span class="o">.</span><span class="n">fftshift</span><span class="p">(</span><span class="n">f</span><span class="p">)</span>
<span class="n">magnitude_spectrum</span> <span class="o">=</span> <span class="mi">20</span><span class="o">*</span><span class="n">np</span><span class="o">.</span><span class="n">log</span><span class="p">(</span><span class="n">np</span><span class="o">.</span><span class="n">abs</span><span class="p">(</span><span class="n">fshift</span><span class="p">))</span>

<span class="n">fig</span> <span class="o">=</span> <span class="n">plt</span><span class="o">.</span><span class="n">figure</span><span class="p">(</span><span class="n">figsize</span><span class="o">=</span><span class="p">(</span><span class="mi">10</span><span class="p">,</span><span class="mi">5</span><span class="p">))</span>
<span class="n">plt</span><span class="o">.</span><span class="n">subplot</span><span class="p">(</span><span class="mi">121</span><span class="p">),</span><span class="n">plt</span><span class="o">.</span><span class="n">imshow</span><span class="p">(</span><span class="n">img</span><span class="p">,</span> <span class="n">cmap</span> <span class="o">=</span> <span class="s1">&#39;gray&#39;</span><span class="p">)</span>
<span class="n">plt</span><span class="o">.</span><span class="n">title</span><span class="p">(</span><span class="s1">&#39;Input Image&#39;</span><span class="p">),</span> <span class="n">plt</span><span class="o">.</span><span class="n">xticks</span><span class="p">([]),</span> <span class="n">plt</span><span class="o">.</span><span class="n">yticks</span><span class="p">([])</span>
<span class="n">plt</span><span class="o">.</span><span class="n">subplot</span><span class="p">(</span><span class="mi">122</span><span class="p">),</span><span class="n">plt</span><span class="o">.</span><span class="n">imshow</span><span class="p">(</span><span class="n">magnitude_spectrum</span><span class="p">,</span> <span class="n">cmap</span> <span class="o">=</span> <span class="s1">&#39;gray&#39;</span><span class="p">)</span>
<span class="n">plt</span><span class="o">.</span><span class="n">title</span><span class="p">(</span><span class="s1">&#39;Magnitude Spectrum&#39;</span><span class="p">),</span> <span class="n">plt</span><span class="o">.</span><span class="n">xticks</span><span class="p">([]),</span> <span class="n">plt</span><span class="o">.</span><span class="n">yticks</span><span class="p">([])</span>
<span class="n">plt</span><span class="o">.</span><span class="n">show</span><span class="p">()</span>
</pre></div>

    </div>
</div>
</div>

<div class="output_wrapper">
<div class="output">


<div class="output_area">

    <div class="prompt"></div>




<div class="output_png output_subarea ">
<img src="data:image/png;base64,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
"
>
</div>

</div>

</div>
</div>

</div>
<div class="cell border-box-sizing code_cell rendered">
<div class="input">
<div class="prompt input_prompt">In&nbsp;[11]:</div>
<div class="inner_cell">
    <div class="input_area">
<div class=" highlight hl-ipython3"><pre><span></span><span class="n">rows</span><span class="p">,</span> <span class="n">cols</span> <span class="o">=</span> <span class="n">img</span><span class="o">.</span><span class="n">shape</span>
<span class="n">crow</span><span class="p">,</span><span class="n">ccol</span> <span class="o">=</span> <span class="nb">int</span><span class="p">(</span><span class="n">rows</span><span class="o">/</span><span class="mi">2</span><span class="p">)</span> <span class="p">,</span> <span class="nb">int</span><span class="p">(</span><span class="n">cols</span><span class="o">/</span><span class="mi">2</span><span class="p">)</span>
<span class="n">fshift</span><span class="p">[</span><span class="n">crow</span><span class="o">-</span><span class="mi">30</span><span class="p">:</span><span class="n">crow</span><span class="o">+</span><span class="mi">30</span><span class="p">,</span> <span class="n">ccol</span><span class="o">-</span><span class="mi">30</span><span class="p">:</span><span class="n">ccol</span><span class="o">+</span><span class="mi">30</span><span class="p">]</span> <span class="o">=</span> <span class="mi">0</span>
<span class="n">f_ishift</span> <span class="o">=</span> <span class="n">np</span><span class="o">.</span><span class="n">fft</span><span class="o">.</span><span class="n">ifftshift</span><span class="p">(</span><span class="n">fshift</span><span class="p">)</span>
<span class="n">img_back</span> <span class="o">=</span> <span class="n">np</span><span class="o">.</span><span class="n">fft</span><span class="o">.</span><span class="n">ifft2</span><span class="p">(</span><span class="n">f_ishift</span><span class="p">)</span>
<span class="n">img_back</span> <span class="o">=</span> <span class="n">np</span><span class="o">.</span><span class="n">abs</span><span class="p">(</span><span class="n">img_back</span><span class="p">)</span>

<span class="n">fig</span> <span class="o">=</span> <span class="n">plt</span><span class="o">.</span><span class="n">figure</span><span class="p">(</span><span class="n">figsize</span><span class="o">=</span><span class="p">(</span><span class="mi">15</span><span class="p">,</span><span class="mi">7</span><span class="p">))</span>
<span class="n">plt</span><span class="o">.</span><span class="n">subplot</span><span class="p">(</span><span class="mi">131</span><span class="p">),</span><span class="n">plt</span><span class="o">.</span><span class="n">imshow</span><span class="p">(</span><span class="n">img</span><span class="p">,</span> <span class="n">cmap</span> <span class="o">=</span> <span class="s1">&#39;gray&#39;</span><span class="p">)</span>
<span class="n">plt</span><span class="o">.</span><span class="n">title</span><span class="p">(</span><span class="s1">&#39;Input Image&#39;</span><span class="p">),</span> <span class="n">plt</span><span class="o">.</span><span class="n">xticks</span><span class="p">([]),</span> <span class="n">plt</span><span class="o">.</span><span class="n">yticks</span><span class="p">([])</span>
<span class="n">plt</span><span class="o">.</span><span class="n">subplot</span><span class="p">(</span><span class="mi">132</span><span class="p">),</span><span class="n">plt</span><span class="o">.</span><span class="n">imshow</span><span class="p">(</span><span class="n">img_back</span><span class="p">,</span> <span class="n">cmap</span> <span class="o">=</span> <span class="s1">&#39;gray&#39;</span><span class="p">)</span>
<span class="n">plt</span><span class="o">.</span><span class="n">title</span><span class="p">(</span><span class="s1">&#39;Image after HPF&#39;</span><span class="p">),</span> <span class="n">plt</span><span class="o">.</span><span class="n">xticks</span><span class="p">([]),</span> <span class="n">plt</span><span class="o">.</span><span class="n">yticks</span><span class="p">([])</span>
<span class="n">plt</span><span class="o">.</span><span class="n">subplot</span><span class="p">(</span><span class="mi">133</span><span class="p">),</span><span class="n">plt</span><span class="o">.</span><span class="n">imshow</span><span class="p">(</span><span class="n">img_back</span><span class="p">)</span>
<span class="n">plt</span><span class="o">.</span><span class="n">title</span><span class="p">(</span><span class="s1">&#39;Result in JET&#39;</span><span class="p">),</span> <span class="n">plt</span><span class="o">.</span><span class="n">xticks</span><span class="p">([]),</span> <span class="n">plt</span><span class="o">.</span><span class="n">yticks</span><span class="p">([])</span>
<span class="n">plt</span><span class="o">.</span><span class="n">show</span><span class="p">()</span>
</pre></div>

    </div>
</div>
</div>

<div class="output_wrapper">
<div class="output">


<div class="output_area">

    <div class="prompt"></div>




<div class="output_png output_subarea ">
<img src="data:image/png;base64,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
"
>
</div>

</div>

</div>
</div>

</div>
<div class="cell border-box-sizing text_cell rendered"><div class="prompt input_prompt">
</div><div class="inner_cell">
<div class="text_cell_render border-box-sizing rendered_html">
<h2 id="3.-Estrellas">3. Estrellas<a class="anchor-link" href="#3.-Estrellas">&#182;</a></h2>
</div>
</div>
</div>
<div class="cell border-box-sizing code_cell rendered">
<div class="input">
<div class="prompt input_prompt">In&nbsp;[12]:</div>
<div class="inner_cell">
    <div class="input_area">
<div class=" highlight hl-ipython3"><pre><span></span><span class="c1">###https://arxiv.org/abs/2005.01208</span>
<span class="kn">import</span> <span class="nn">pandas</span> <span class="k">as</span> <span class="nn">pd</span>
<span class="kn">import</span> <span class="nn">numpy</span> <span class="k">as</span> <span class="nn">np</span>
<span class="kn">import</span> <span class="nn">matplotlib.pyplot</span> <span class="k">as</span> <span class="nn">plt</span>

<span class="kn">from</span> <span class="nn">sklearn.metrics</span> <span class="k">import</span> <span class="n">classification_report</span>
<span class="kn">from</span> <span class="nn">sklearn.model_selection</span> <span class="k">import</span> <span class="n">cross_val_score</span><span class="p">,</span> <span class="n">train_test_split</span>
<span class="kn">from</span> <span class="nn">sklearn.preprocessing</span> <span class="k">import</span> <span class="n">MinMaxScaler</span><span class="p">,</span><span class="n">StandardScaler</span>

<span class="kn">from</span> <span class="nn">sklearn.naive_bayes</span> <span class="k">import</span> <span class="n">GaussianNB</span>
<span class="kn">from</span> <span class="nn">sklearn.linear_model</span> <span class="k">import</span> <span class="n">LogisticRegression</span>
<span class="kn">from</span> <span class="nn">sklearn.tree</span> <span class="k">import</span> <span class="n">DecisionTreeClassifier</span>
<span class="kn">from</span> <span class="nn">sklearn.neural_network</span> <span class="k">import</span> <span class="n">MLPClassifier</span>
<span class="kn">from</span> <span class="nn">sklearn.ensemble</span> <span class="k">import</span> <span class="n">RandomForestClassifier</span>
<span class="kn">from</span> <span class="nn">sklearn.metrics</span> <span class="k">import</span> <span class="n">accuracy_score</span>

<span class="kn">import</span> <span class="nn">warnings</span>
<span class="n">warnings</span><span class="o">.</span><span class="n">filterwarnings</span><span class="p">(</span><span class="s2">&quot;ignore&quot;</span><span class="p">)</span>
</pre></div>

    </div>
</div>
</div>

</div>
<div class="cell border-box-sizing code_cell rendered">
<div class="input">
<div class="prompt input_prompt">In&nbsp;[13]:</div>
<div class="inner_cell">
    <div class="input_area">
<div class=" highlight hl-ipython3"><pre><span></span><span class="n">classifiers</span> <span class="o">=</span> <span class="p">[</span>
    
    <span class="p">(</span><span class="s2">&quot;Gausssian-NB&quot;</span><span class="p">,</span> <span class="n">GaussianNB</span><span class="p">()),</span>
    <span class="p">(</span><span class="s2">&quot;Logistic-Regression&quot;</span><span class="p">,</span> <span class="n">LogisticRegression</span><span class="p">()),</span>
    <span class="p">(</span><span class="s2">&quot;Decision-Tree&quot;</span><span class="p">,</span> <span class="n">DecisionTreeClassifier</span><span class="p">(</span><span class="n">criterion</span><span class="o">=</span><span class="s1">&#39;gini&#39;</span><span class="p">,</span> <span class="n">max_depth</span><span class="o">=</span><span class="mi">7</span><span class="p">)),</span>
    <span class="c1">#why not use parameter</span>
    <span class="p">(</span><span class="s2">&quot;MLPClassifier&quot;</span><span class="p">,</span> <span class="n">MLPClassifier</span><span class="p">(</span><span class="n">alpha</span><span class="o">=</span><span class="mi">1</span><span class="p">,</span> <span class="n">max_iter</span><span class="o">=</span><span class="mi">200</span><span class="p">)),</span> 
    <span class="c1">#MLPClassifier(hidden_layer_sizes=(100, 100), max_iter=200)</span>
    <span class="p">(</span><span class="s2">&quot;RF&quot;</span><span class="p">,</span> <span class="n">RandomForestClassifier</span><span class="p">(</span><span class="n">n_estimators</span><span class="o">=</span><span class="mi">10</span><span class="p">,</span> <span class="n">max_depth</span><span class="o">=</span><span class="mi">2</span><span class="p">,</span> <span class="n">random_state</span><span class="o">=</span><span class="mi">0</span><span class="p">)),</span>
   
<span class="p">]</span>

<span class="n">new_columns</span> <span class="o">=</span> <span class="p">[</span><span class="s1">&#39;mean_integrated_profile&#39;</span><span class="p">,</span> <span class="s1">&#39;std_integrated_profile&#39;</span><span class="p">,</span>
               <span class="s1">&#39;excess_kurtosis_integrated_profile&#39;</span><span class="p">,</span> <span class="s1">&#39;skewness_integrated_profile&#39;</span><span class="p">,</span>
               <span class="s1">&#39;mean_dm-snr_curve&#39;</span><span class="p">,</span> <span class="s1">&#39;std_dm-snr_curve&#39;</span><span class="p">,</span>
               <span class="s1">&#39;excess_kurtosis_dm-snr_curve&#39;</span><span class="p">,</span> <span class="s1">&#39;skewness_dm-snr_curve&#39;</span><span class="p">,</span>
               <span class="s1">&#39;target_class&#39;</span><span class="p">]</span>
</pre></div>

    </div>
</div>
</div>

</div>
<div class="cell border-box-sizing code_cell rendered">
<div class="input">
<div class="prompt input_prompt">In&nbsp;[15]:</div>
<div class="inner_cell">
    <div class="input_area">
<div class=" highlight hl-ipython3"><pre><span></span><span class="n">dataset_src</span> <span class="o">=</span> <span class="n">pd</span><span class="o">.</span><span class="n">read_csv</span><span class="p">(</span><span class="s1">&#39;pulsar_stars.csv&#39;</span><span class="p">)</span>
<span class="n">dataset_src</span><span class="o">.</span><span class="n">columns</span> <span class="o">=</span> <span class="n">new_columns</span>
<span class="n">dataset_src</span> <span class="o">=</span> <span class="n">dataset_src</span><span class="p">[[</span><span class="s1">&#39;skewness_integrated_profile&#39;</span><span class="p">,</span> <span class="s1">&#39;excess_kurtosis_integrated_profile&#39;</span><span class="p">,</span> <span class="s1">&#39;std_dm-snr_curve&#39;</span><span class="p">,</span> <span class="s1">&#39;mean_dm-snr_curve&#39;</span><span class="p">,</span><span class="s1">&#39;skewness_dm-snr_curve&#39;</span><span class="p">,</span> <span class="s1">&#39;excess_kurtosis_dm-snr_curve&#39;</span><span class="p">,</span> <span class="s1">&#39;target_class&#39;</span><span class="p">]]</span>
<span class="c1"># dataset_src.head()</span>
</pre></div>

    </div>
</div>
</div>

</div>
<div class="cell border-box-sizing code_cell rendered">
<div class="input">
<div class="prompt input_prompt">In&nbsp;[16]:</div>
<div class="inner_cell">
    <div class="input_area">
<div class=" highlight hl-ipython3"><pre><span></span><span class="n">dataset_src</span><span class="p">[</span><span class="s1">&#39;target_class&#39;</span><span class="p">]</span><span class="o">.</span><span class="n">value_counts</span><span class="p">()</span>
</pre></div>

    </div>
</div>
</div>

<div class="output_wrapper">
<div class="output">


<div class="output_area">

    <div class="prompt output_prompt">Out[16]:</div>




<div class="output_text output_subarea output_execute_result">
<pre>0    16259
1     1639
Name: target_class, dtype: int64</pre>
</div>

</div>

</div>
</div>

</div>
<div class="cell border-box-sizing code_cell rendered">
<div class="input">
<div class="prompt input_prompt">In&nbsp;[17]:</div>
<div class="inner_cell">
    <div class="input_area">
<div class=" highlight hl-ipython3"><pre><span></span><span class="n">v_dataset</span> <span class="o">=</span> <span class="p">[]</span>
<span class="n">v_dataset</span><span class="o">.</span><span class="n">append</span><span class="p">(</span><span class="n">dataset_src</span><span class="p">)</span>
</pre></div>

    </div>
</div>
</div>

</div>
<div class="cell border-box-sizing code_cell rendered">
<div class="input">
<div class="prompt input_prompt">In&nbsp;[18]:</div>
<div class="inner_cell">
    <div class="input_area">
<div class=" highlight hl-ipython3"><pre><span></span><span class="n">v_report</span> <span class="o">=</span> <span class="p">[]</span>
<span class="k">for</span> <span class="n">v</span> <span class="ow">in</span> <span class="nb">range</span><span class="p">(</span><span class="nb">len</span><span class="p">(</span><span class="n">v_dataset</span><span class="p">)):</span>
    <span class="c1"># Scaling ONLY predictor values between 0 - 1</span>
    <span class="n">dataset_src</span> <span class="o">=</span> <span class="n">v_dataset</span><span class="p">[</span><span class="n">v</span><span class="p">]</span>
    <span class="nb">print</span><span class="p">(</span><span class="n">dataset_src</span><span class="o">.</span><span class="n">shape</span><span class="p">)</span>
    
    <span class="n">features</span> <span class="o">=</span> <span class="n">dataset_src</span><span class="o">.</span><span class="n">columns</span><span class="o">.</span><span class="n">tolist</span><span class="p">()</span>
    <span class="n">scaler</span> <span class="o">=</span> <span class="n">MinMaxScaler</span><span class="p">(</span><span class="n">feature_range</span><span class="o">=</span><span class="p">(</span><span class="mi">0</span><span class="p">,</span> <span class="mi">1</span><span class="p">))</span>
    <span class="n">dataset_src</span><span class="p">[</span><span class="n">features</span><span class="p">[:</span><span class="o">-</span><span class="mi">1</span><span class="p">]]</span> <span class="o">=</span> <span class="n">scaler</span><span class="o">.</span><span class="n">fit_transform</span><span class="p">(</span><span class="n">dataset_src</span><span class="o">.</span><span class="n">drop</span><span class="p">([</span><span class="s1">&#39;target_class&#39;</span><span class="p">],</span> <span class="n">axis</span><span class="o">=</span><span class="mi">1</span><span class="p">))</span>

    <span class="n">train</span><span class="p">,</span> <span class="n">test</span> <span class="o">=</span> <span class="n">train_test_split</span><span class="p">(</span><span class="n">dataset_src</span><span class="p">,</span> <span class="n">test_size</span><span class="o">=.</span><span class="mi">2</span><span class="p">,</span> <span class="n">random_state</span><span class="o">=</span><span class="mi">123</span><span class="p">)</span>

    <span class="n">X_train</span> <span class="o">=</span> <span class="n">train</span><span class="o">.</span><span class="n">drop</span><span class="p">([</span><span class="s1">&#39;target_class&#39;</span><span class="p">],</span> <span class="n">axis</span><span class="o">=</span><span class="mi">1</span><span class="p">)</span>
    <span class="n">y_train</span> <span class="o">=</span> <span class="n">train</span><span class="p">[</span><span class="s1">&#39;target_class&#39;</span><span class="p">]</span>

    <span class="n">X_test</span> <span class="o">=</span> <span class="n">test</span><span class="o">.</span><span class="n">drop</span><span class="p">([</span><span class="s1">&#39;target_class&#39;</span><span class="p">],</span> <span class="n">axis</span><span class="o">=</span><span class="mi">1</span><span class="p">)</span>
    <span class="n">y_test</span> <span class="o">=</span> <span class="n">test</span><span class="p">[</span><span class="s1">&#39;target_class&#39;</span><span class="p">]</span>

    <span class="k">for</span> <span class="n">name</span><span class="p">,</span> <span class="n">clf</span> <span class="ow">in</span> <span class="n">classifiers</span><span class="p">:</span>
        <span class="nb">print</span><span class="p">(</span><span class="n">name</span><span class="p">,</span> <span class="n">end</span> <span class="o">=</span> <span class="s1">&#39; &#39;</span><span class="p">)</span>
        <span class="n">clf</span><span class="o">.</span><span class="n">fit</span><span class="p">(</span><span class="n">X_train</span><span class="p">,</span> <span class="n">y_train</span><span class="p">)</span>
        <span class="n">y_pred</span> <span class="o">=</span> <span class="n">clf</span><span class="o">.</span><span class="n">predict</span><span class="p">(</span><span class="n">X_test</span><span class="p">)</span>

<span class="c1">#         print(type(classification_report(y_test, y_pred)))</span>
        <span class="n">v_report</span><span class="o">.</span><span class="n">append</span><span class="p">([</span> <span class="n">name</span> <span class="p">,</span> <span class="n">classification_report</span><span class="p">(</span><span class="n">y_test</span><span class="p">,</span> <span class="n">y_pred</span><span class="p">)])</span>

        <span class="n">X</span> <span class="o">=</span> <span class="n">train</span><span class="o">.</span><span class="n">drop</span><span class="p">([</span><span class="s1">&#39;target_class&#39;</span><span class="p">],</span> <span class="n">axis</span><span class="o">=</span><span class="mi">1</span><span class="p">)</span>
        <span class="n">y</span> <span class="o">=</span> <span class="n">train</span><span class="p">[</span><span class="s1">&#39;target_class&#39;</span><span class="p">]</span>
        <span class="n">scores</span> <span class="o">=</span> <span class="n">cross_val_score</span><span class="p">(</span><span class="n">clf</span><span class="p">,</span> <span class="n">X</span><span class="p">,</span> <span class="n">y</span><span class="p">,</span> <span class="n">cv</span><span class="o">=</span><span class="mi">10</span><span class="p">,</span> <span class="n">scoring</span><span class="o">=</span><span class="s1">&#39;accuracy&#39;</span><span class="p">)</span>
        <span class="nb">print</span><span class="p">(</span><span class="s1">&#39;Accuracy: </span><span class="si">%0.2f</span><span class="s1"> (+/- </span><span class="si">%0.2f</span><span class="s1">)&#39;</span> <span class="o">%</span> <span class="p">(</span><span class="n">scores</span><span class="o">.</span><span class="n">mean</span><span class="p">(),</span> <span class="n">scores</span><span class="o">.</span><span class="n">std</span><span class="p">()</span> <span class="o">*</span> <span class="mi">2</span><span class="p">))</span>
</pre></div>

    </div>
</div>
</div>

<div class="output_wrapper">
<div class="output">


<div class="output_area">

    <div class="prompt"></div>


<div class="output_subarea output_stream output_stdout output_text">
<pre>(17898, 7)
Gausssian-NB Accuracy: 0.94 (+/- 0.02)
Logistic-Regression Accuracy: 0.97 (+/- 0.01)
Decision-Tree Accuracy: 0.98 (+/- 0.01)
MLPClassifier Accuracy: 0.96 (+/- 0.01)
RF Accuracy: 0.98 (+/- 0.01)
</pre>
</div>
</div>

</div>
</div>

</div>
<div class="cell border-box-sizing code_cell rendered">
<div class="input">
<div class="prompt input_prompt">In&nbsp;[19]:</div>
<div class="inner_cell">
    <div class="input_area">
<div class=" highlight hl-ipython3"><pre><span></span><span class="k">for</span> <span class="n">i</span> <span class="ow">in</span> <span class="n">v_report</span><span class="p">:</span>
    <span class="nb">print</span><span class="p">(</span><span class="n">i</span><span class="p">[</span><span class="mi">0</span><span class="p">])</span>
    <span class="nb">print</span><span class="p">(</span><span class="n">i</span><span class="p">[</span><span class="mi">1</span><span class="p">])</span>
</pre></div>

    </div>
</div>
</div>

<div class="output_wrapper">
<div class="output">


<div class="output_area">

    <div class="prompt"></div>


<div class="output_subarea output_stream output_stdout output_text">
<pre>Gausssian-NB
              precision    recall  f1-score   support

           0       0.98      0.94      0.96      3232
           1       0.60      0.81      0.69       348

    accuracy                           0.93      3580
   macro avg       0.79      0.88      0.83      3580
weighted avg       0.94      0.93      0.93      3580

Logistic-Regression
              precision    recall  f1-score   support

           0       0.97      1.00      0.98      3232
           1       0.95      0.70      0.81       348

    accuracy                           0.97      3580
   macro avg       0.96      0.85      0.89      3580
weighted avg       0.97      0.97      0.97      3580

Decision-Tree
              precision    recall  f1-score   support

           0       0.98      0.99      0.98      3232
           1       0.87      0.84      0.86       348

    accuracy                           0.97      3580
   macro avg       0.93      0.91      0.92      3580
weighted avg       0.97      0.97      0.97      3580

MLPClassifier
              precision    recall  f1-score   support

           0       0.96      1.00      0.98      3232
           1       0.97      0.60      0.74       348

    accuracy                           0.96      3580
   macro avg       0.96      0.80      0.86      3580
weighted avg       0.96      0.96      0.95      3580

RF
              precision    recall  f1-score   support

           0       0.97      0.99      0.98      3232
           1       0.92      0.75      0.83       348

    accuracy                           0.97      3580
   macro avg       0.95      0.87      0.91      3580
weighted avg       0.97      0.97      0.97      3580

</pre>
</div>
</div>

</div>
</div>

</div>
<div class="cell border-box-sizing code_cell rendered">
<div class="input">
<div class="prompt input_prompt">In&nbsp;[20]:</div>
<div class="inner_cell">
    <div class="input_area">
<div class=" highlight hl-ipython3"><pre><span></span><span class="kn">from</span> <span class="nn">sklearn.decomposition</span> <span class="k">import</span> <span class="n">PCA</span>
<span class="kn">from</span> <span class="nn">mpl_toolkits</span> <span class="k">import</span> <span class="n">mplot3d</span>

<span class="c1"># n_samples = 1000</span>

<span class="n">pca_dataset</span> <span class="o">=</span> <span class="p">[]</span>

<span class="k">for</span> <span class="n">v</span> <span class="ow">in</span> <span class="n">v_dataset</span><span class="p">:</span>
    <span class="n">dataset_src</span> <span class="o">=</span> <span class="n">v</span>
    <span class="n">pca</span> <span class="o">=</span> <span class="n">PCA</span><span class="p">(</span><span class="n">n_components</span><span class="o">=</span><span class="mi">3</span><span class="p">)</span>
    <span class="n">principalComponents</span> <span class="o">=</span> <span class="n">pca</span><span class="o">.</span><span class="n">fit_transform</span><span class="p">(</span><span class="n">dataset_src</span><span class="o">.</span><span class="n">values</span><span class="p">[:,</span><span class="mi">0</span><span class="p">:</span><span class="mi">7</span><span class="p">])</span>
    <span class="n">principalDf</span> <span class="o">=</span> <span class="n">pd</span><span class="o">.</span><span class="n">DataFrame</span><span class="p">(</span><span class="n">data</span> <span class="o">=</span> <span class="n">principalComponents</span>
                 <span class="p">,</span> <span class="n">columns</span> <span class="o">=</span> <span class="p">[</span><span class="s1">&#39;principal component 1&#39;</span><span class="p">,</span> <span class="s1">&#39;principal component 2&#39;</span><span class="p">,</span>  <span class="s1">&#39;principal component 3&#39;</span><span class="p">])</span>
    <span class="n">pca_dataset</span><span class="o">.</span><span class="n">append</span><span class="p">(</span><span class="n">principalDf</span><span class="p">)</span>
    <span class="n">fig</span> <span class="o">=</span> <span class="n">plt</span><span class="o">.</span><span class="n">figure</span><span class="p">(</span><span class="n">figsize</span> <span class="o">=</span> <span class="p">(</span><span class="mi">8</span><span class="p">,</span><span class="mi">8</span><span class="p">))</span>
    <span class="n">ax</span> <span class="o">=</span> <span class="n">fig</span><span class="o">.</span><span class="n">add_subplot</span><span class="p">(</span><span class="mi">111</span><span class="p">,</span> <span class="n">projection</span><span class="o">=</span><span class="s1">&#39;3d&#39;</span><span class="p">)</span> 
    <span class="n">ax</span><span class="o">.</span><span class="n">set_xlabel</span><span class="p">(</span><span class="s1">&#39;Principal Component 1&#39;</span><span class="p">,</span> <span class="n">fontsize</span> <span class="o">=</span> <span class="mi">15</span><span class="p">)</span>
    <span class="n">ax</span><span class="o">.</span><span class="n">set_ylabel</span><span class="p">(</span><span class="s1">&#39;Principal Component 2&#39;</span><span class="p">,</span> <span class="n">fontsize</span> <span class="o">=</span> <span class="mi">15</span><span class="p">)</span>
    <span class="n">ax</span><span class="o">.</span><span class="n">set_zlabel</span><span class="p">(</span><span class="s1">&#39;Principal Component 2&#39;</span><span class="p">,</span> <span class="n">fontsize</span> <span class="o">=</span> <span class="mi">15</span><span class="p">)</span>
    <span class="n">ax</span><span class="o">.</span><span class="n">set_title</span><span class="p">(</span><span class="s1">&#39;2 component PCA&#39;</span><span class="p">,</span> <span class="n">fontsize</span> <span class="o">=</span> <span class="mi">20</span><span class="p">)</span>
    <span class="k">for</span> <span class="n">n</span> <span class="ow">in</span> <span class="nb">range</span><span class="p">(</span><span class="n">dataset_src</span><span class="o">.</span><span class="n">shape</span><span class="p">[</span><span class="mi">0</span><span class="p">]):</span>
        <span class="k">if</span><span class="p">(</span><span class="n">dataset_src</span><span class="o">.</span><span class="n">values</span><span class="p">[</span><span class="n">n</span><span class="p">,</span><span class="mi">6</span><span class="p">]</span> <span class="o">==</span> <span class="mi">0</span><span class="p">):</span>
            <span class="n">ax</span><span class="o">.</span><span class="n">scatter</span><span class="p">(</span><span class="n">principalDf</span><span class="o">.</span><span class="n">loc</span><span class="p">[</span><span class="n">n</span><span class="p">,</span><span class="s1">&#39;principal component 1&#39;</span><span class="p">],</span><span class="n">principalDf</span><span class="o">.</span><span class="n">loc</span><span class="p">[</span><span class="n">n</span><span class="p">,</span><span class="s1">&#39;principal component 2&#39;</span><span class="p">],</span><span class="n">principalDf</span><span class="o">.</span><span class="n">loc</span><span class="p">[</span><span class="n">n</span><span class="p">,</span><span class="s1">&#39;principal component 3&#39;</span><span class="p">],</span> <span class="n">c</span><span class="o">=</span><span class="s1">&#39;r&#39;</span><span class="p">)</span>
        <span class="k">elif</span><span class="p">(</span><span class="n">dataset_src</span><span class="o">.</span><span class="n">values</span><span class="p">[</span><span class="n">n</span><span class="p">,</span><span class="mi">6</span><span class="p">]</span> <span class="o">==</span> <span class="mi">1</span><span class="p">):</span>
            <span class="n">ax</span><span class="o">.</span><span class="n">scatter</span><span class="p">(</span><span class="n">principalDf</span><span class="o">.</span><span class="n">loc</span><span class="p">[</span><span class="n">n</span><span class="p">,</span><span class="s1">&#39;principal component 1&#39;</span><span class="p">],</span><span class="n">principalDf</span><span class="o">.</span><span class="n">loc</span><span class="p">[</span><span class="n">n</span><span class="p">,</span><span class="s1">&#39;principal component 2&#39;</span><span class="p">],</span><span class="n">principalDf</span><span class="o">.</span><span class="n">loc</span><span class="p">[</span><span class="n">n</span><span class="p">,</span><span class="s1">&#39;principal component 3&#39;</span><span class="p">],</span> <span class="n">c</span><span class="o">=</span><span class="s1">&#39;b&#39;</span><span class="p">)</span>
    <span class="n">ax</span><span class="o">.</span><span class="n">grid</span><span class="p">()</span>    
</pre></div>

    </div>
</div>
</div>

<div class="output_wrapper">
<div class="output">


<div class="output_area">

    <div class="prompt"></div>




<div class="output_png output_subarea ">
<img src="data:image/png;base64,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
"
>
</div>

</div>

</div>
</div>

</div>
<div class="cell border-box-sizing text_cell rendered"><div class="prompt input_prompt">
</div><div class="inner_cell">
<div class="text_cell_render border-box-sizing rendered_html">
<h2 id="5.-Recursos-&#250;tiles">5. Recursos &#250;tiles<a class="anchor-link" href="#5.-Recursos-&#250;tiles">&#182;</a></h2><ul>
<li><a href="https://towardsdatascience.com/how-do-you-combine-machine-learning-and-physics-based-modeling-3a3545d58ab9">How do you teach physics to machine learning models?</a></li>
<li><a href="https://www.youtube.com/watch?v=pkJkHB_c3nA">AI for physics &amp; physics for AI</a></li>
<li><a href="https://www.youtube.com/watch?v=Y-B-Ra0B1ik">AI workshop – from hype to real world applications</a></li>
</ul>
<h2 id="Donaciones/Donations">Donaciones/Donations<a class="anchor-link" href="#Donaciones/Donations">&#182;</a></h2><p><br></p>
<center>
Si la información de esta notebook te ayudó. <br>
Puedes donar una vez en el siguiente enlace (Ko-Fi):

<br>

*Click en la imagen.*

<a href="https://ko-fi.com/research4tech">
<img src="https://habrastorage.org/webt/8r/ml/xf/8rmlxfpdzukegpxa62cxlfvgkqe.png" width=20% />

</center>
</div>
</div>
</div>
    </div>
  </div>
</body>

 


</html>
