{
  "nbformat": 4,
  "nbformat_minor": 0,
  "metadata": {
    "colab": {
      "name": "Session0.ipynb",
      "provenance": [],
      "collapsed_sections": []
    },
    "kernelspec": {
      "name": "python3",
      "display_name": "Python 3"
    },
    "language_info": {
      "name": "python"
    }
  },
  "cells": [
    {
      "cell_type": "code",
      "source": [
        "##author: jecs89\n",
        "##date: 23-05-2022\n",
        "##topics: variables, if statements, lists and loops (for)"
      ],
      "metadata": {
        "id": "pBcedBEnJ9R9"
      },
      "execution_count": null,
      "outputs": []
    },
    {
      "cell_type": "markdown",
      "source": [
        "<h1> Sesión 0 </h1>\n",
        "Introducción a variables, condicionales, listas y ciclos"
      ],
      "metadata": {
        "id": "8mpc-Z3BKAQ3"
      }
    },
    {
      "cell_type": "code",
      "execution_count": null,
      "metadata": {
        "id": "ZvNax3shIxA6"
      },
      "outputs": [],
      "source": [
        "ciudad = 'Guayaquil'\n",
        "poblacion = 13000000\n",
        "peso = 55.3\n",
        "eresdequito = True"
      ]
    },
    {
      "cell_type": "code",
      "source": [
        "print( ciudad, poblacion, peso, eresdequito )"
      ],
      "metadata": {
        "colab": {
          "base_uri": "https://localhost:8080/"
        },
        "id": "nZdhKFUXJ3Ua",
        "outputId": "40cc0f32-9c7d-4180-c609-0533f30b1e13"
      },
      "execution_count": null,
      "outputs": [
        {
          "output_type": "stream",
          "name": "stdout",
          "text": [
            "Guayaquil 13000000 55.3 True\n"
          ]
        }
      ]
    },
    {
      "cell_type": "code",
      "source": [
        "print( type(ciudad), type(poblacion), type(peso), type(eresdequito) )"
      ],
      "metadata": {
        "colab": {
          "base_uri": "https://localhost:8080/"
        },
        "id": "jMsbWCaSKCIH",
        "outputId": "ca1ffe9a-e0cc-4986-b931-79d43dedc283"
      },
      "execution_count": null,
      "outputs": [
        {
          "output_type": "stream",
          "name": "stdout",
          "text": [
            "<class 'str'> <class 'int'> <class 'float'> <class 'bool'>\n"
          ]
        }
      ]
    },
    {
      "cell_type": "code",
      "source": [
        "lista = []\n",
        "print(lista)"
      ],
      "metadata": {
        "colab": {
          "base_uri": "https://localhost:8080/"
        },
        "id": "289QG_CjKUdI",
        "outputId": "0c4dee1d-2f41-4bbb-cdaa-aa96ebcecf01"
      },
      "execution_count": null,
      "outputs": [
        {
          "output_type": "stream",
          "name": "stdout",
          "text": [
            "[]\n"
          ]
        }
      ]
    },
    {
      "cell_type": "code",
      "source": [
        "lista = [ciudad, poblacion, peso, eresdequito]\n",
        "print(lista)"
      ],
      "metadata": {
        "colab": {
          "base_uri": "https://localhost:8080/"
        },
        "id": "zJAWGnTCK1zk",
        "outputId": "e5c40b42-98a2-4f87-efa8-c2fe5b2a462a"
      },
      "execution_count": null,
      "outputs": [
        {
          "output_type": "stream",
          "name": "stdout",
          "text": [
            "['Guayaquil', 13000000, 55.3, True]\n"
          ]
        }
      ]
    },
    {
      "cell_type": "code",
      "source": [
        "poblacion = 30000001"
      ],
      "metadata": {
        "id": "nUjkZedVL8x-"
      },
      "execution_count": null,
      "outputs": []
    },
    {
      "cell_type": "code",
      "source": [
        "#si población es mayor a 10 millones y menor a 30 millones, mediana, si es menor a 10 millones => pequeña, y si es mayor a 30 millones => grande\n",
        "if poblacion >= 30000000:\n",
        "  print('Grande')\n",
        "elif 30000000 > poblacion > 10000000:\n",
        "  print('Mediana')\n",
        "elif poblacion <= 10000000:\n",
        "  print('Pequeña')"
      ],
      "metadata": {
        "colab": {
          "base_uri": "https://localhost:8080/"
        },
        "id": "pfY6-5OGK7Lr",
        "outputId": "660ac40f-ab61-4abe-ca69-fd54036f0de2"
      },
      "execution_count": null,
      "outputs": [
        {
          "output_type": "stream",
          "name": "stdout",
          "text": [
            "Grande\n"
          ]
        }
      ]
    },
    {
      "cell_type": "code",
      "source": [
        "1 + 5 * 3 - 8 * (2 + 1) - 5"
      ],
      "metadata": {
        "colab": {
          "base_uri": "https://localhost:8080/"
        },
        "id": "J8Lo-mOJLZhP",
        "outputId": "cae38259-287a-467d-957d-ca984c272667"
      },
      "execution_count": null,
      "outputs": [
        {
          "output_type": "execute_result",
          "data": {
            "text/plain": [
              "-13"
            ]
          },
          "metadata": {},
          "execution_count": 21
        }
      ]
    },
    {
      "cell_type": "code",
      "source": [
        "v1 = 0\n",
        "v2 = 2\n",
        "v3 = 3\n",
        "v4 = 4\n",
        "v5 = 6"
      ],
      "metadata": {
        "id": "5489t-2fMi_O"
      },
      "execution_count": null,
      "outputs": []
    },
    {
      "cell_type": "code",
      "source": [
        "votos = []\n",
        "for i in range(100):\n",
        "  votos.append( int(i/10) )"
      ],
      "metadata": {
        "id": "_g_1UCjMNhmK"
      },
      "execution_count": null,
      "outputs": []
    },
    {
      "cell_type": "code",
      "source": [
        "int(5/100)"
      ],
      "metadata": {
        "colab": {
          "base_uri": "https://localhost:8080/"
        },
        "id": "ajkKSG4QOCSR",
        "outputId": "3b515e3e-f118-4a8b-b6a5-60e16aaa6973"
      },
      "execution_count": null,
      "outputs": [
        {
          "output_type": "execute_result",
          "data": {
            "text/plain": [
              "0"
            ]
          },
          "metadata": {},
          "execution_count": 28
        }
      ]
    },
    {
      "cell_type": "code",
      "source": [
        "numeros = []\n",
        "\n",
        "for i in range(1000):\n",
        "  numeros.append( i )"
      ],
      "metadata": {
        "id": "EzzMniEzOD7H"
      },
      "execution_count": null,
      "outputs": []
    },
    {
      "cell_type": "code",
      "source": [
        "#estadísticos descriptivos\n",
        "#medidas de tendencia central\n",
        "minimo = 1000000000\n",
        "print(minimo)\n",
        "for numero in numeros:\n",
        "  if minimo > numero:\n",
        "    minimo = numero\n",
        "print(minimo)"
      ],
      "metadata": {
        "colab": {
          "base_uri": "https://localhost:8080/"
        },
        "id": "HICJAp-GO2v9",
        "outputId": "3fa8759a-3dd1-49d9-c647-f1ddf90fe43f"
      },
      "execution_count": null,
      "outputs": [
        {
          "output_type": "stream",
          "name": "stdout",
          "text": [
            "0\n",
            "999\n"
          ]
        }
      ]
    },
    {
      "cell_type": "code",
      "source": [
        "acumulador = 0\n",
        "for numero in numeros:\n",
        "  acumulador = acumulador + numero\n",
        "\n",
        "print(acumulador/len(numeros))"
      ],
      "metadata": {
        "colab": {
          "base_uri": "https://localhost:8080/"
        },
        "id": "8D63lZ6dO3u8",
        "outputId": "7ceeb570-3e11-4a8c-8fee-2c7334da0091"
      },
      "execution_count": null,
      "outputs": [
        {
          "output_type": "stream",
          "name": "stdout",
          "text": [
            "499.5\n"
          ]
        }
      ]
    },
    {
      "cell_type": "code",
      "source": [
        "len(numeros)"
      ],
      "metadata": {
        "colab": {
          "base_uri": "https://localhost:8080/"
        },
        "id": "xJkQJQdxQHsa",
        "outputId": "a547e4cc-753c-42d5-e673-56b7ce2290e2"
      },
      "execution_count": null,
      "outputs": [
        {
          "output_type": "execute_result",
          "data": {
            "text/plain": [
              "1000"
            ]
          },
          "metadata": {},
          "execution_count": 40
        }
      ]
    },
    {
      "cell_type": "code",
      "source": [
        "(numeros[499]+numeros[500])/2"
      ],
      "metadata": {
        "colab": {
          "base_uri": "https://localhost:8080/"
        },
        "id": "A24JSJLlQki7",
        "outputId": "8dcad6c2-1bde-4aad-8c8b-7f05c26abfac"
      },
      "execution_count": null,
      "outputs": [
        {
          "output_type": "execute_result",
          "data": {
            "text/plain": [
              "499.5"
            ]
          },
          "metadata": {},
          "execution_count": 41
        }
      ]
    },
    {
      "cell_type": "code",
      "source": [
        "numeros[0]"
      ],
      "metadata": {
        "colab": {
          "base_uri": "https://localhost:8080/"
        },
        "id": "IQexGR-qQpNw",
        "outputId": "005007dd-40c7-4f77-f438-8f0bda6cf579"
      },
      "execution_count": null,
      "outputs": [
        {
          "output_type": "execute_result",
          "data": {
            "text/plain": [
              "0"
            ]
          },
          "metadata": {},
          "execution_count": 42
        }
      ]
    },
    {
      "cell_type": "code",
      "source": [
        ""
      ],
      "metadata": {
        "id": "qm2PFJt9QvPD"
      },
      "execution_count": null,
      "outputs": []
    }
  ]
}