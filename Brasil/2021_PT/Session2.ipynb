{
  "nbformat": 4,
  "nbformat_minor": 0,
  "metadata": {
    "colab": {
      "name": "Untitled2.ipynb",
      "provenance": [],
      "collapsed_sections": []
    },
    "kernelspec": {
      "name": "python3",
      "display_name": "Python 3"
    },
    "language_info": {
      "name": "python"
    }
  },
  "cells": [
    {
      "cell_type": "markdown",
      "metadata": {
        "id": "_Cfq6xNDXhlw"
      },
      "source": [
        "<center>\n",
        "<img src=\"https://www.techrepublic.com/a/hub/i/r/2021/06/03/1130ef3e-48cf-4d60-8b86-ca6a6d9bf51f/resize/1200x/526f97f4e170b0a301a7e2a494c727b0/python-code-developer-programming.jpg\" width=\"700\" height=\"200\" />>\n",
        "    \n",
        "##  Workshop Python 2021-I ( 18 Agosto )\n",
        "\n",
        "Autor: [Josimar Chire](https://github.com/jecs89).\\\n",
        "Institución: Research4Tech\\\n",
        "Correo: jecs89@gmail.com\n",
        "    \n",
        "Este material está sujeto a los términos y condiciones de la licencia [Creative Commons CC BY-NC-SA 4.0](https://creativecommons.org/licenses/by-nc-sa/4.0/). Se permite el uso gratuito para cualquier propósito no comercial.\n",
        "    "
      ]
    },
    {
      "cell_type": "markdown",
      "metadata": {
        "id": "Hqk5FgPiXm3u"
      },
      "source": [
        "# <center> Matrices\n"
      ]
    },
    {
      "cell_type": "code",
      "metadata": {
        "id": "-qa-jZs8XmDK"
      },
      "source": [
        "import random\n",
        "import numpy as np\n",
        "\n",
        "#https://numpy.org/doc/stable/reference/random/generated/numpy.random.randint.html\n",
        "#random.randint(low, high=None, size=None ... )"
      ],
      "execution_count": 4,
      "outputs": []
    },
    {
      "cell_type": "code",
      "metadata": {
        "colab": {
          "base_uri": "https://localhost:8080/"
        },
        "id": "posTMexIZl2z",
        "outputId": "10e4e57e-e0b4-41e1-888e-d4136705087c"
      },
      "source": [
        "rows = 1000\n",
        "cols = 1000\n",
        "matrix = np.random.randint(0,100,(rows, cols))\n",
        "print(matrix)"
      ],
      "execution_count": 48,
      "outputs": [
        {
          "output_type": "stream",
          "text": [
            "[[97 58 72 53 99 10 59  7 99 11]\n",
            " [58 43 88 13 36 54 39 72 65 90]\n",
            " [42 76 42 29 60 97 84 96 92 58]\n",
            " [12 74 14 26 48 88 33 70 61 66]\n",
            " [28 32 95 48 69 38 15 32 62  7]\n",
            " [ 0 23 26  9  6 36 69 68 50 92]\n",
            " [99 98 82 52 65 61 99 85 29 52]\n",
            " [73 78 21 59 62  4 39 23 88 51]\n",
            " [78 19 75 95 18  6 80 72 83 33]\n",
            " [45 95 69 58 46 18 26 25 50 50]]\n"
          ],
          "name": "stdout"
        }
      ]
    },
    {
      "cell_type": "code",
      "metadata": {
        "colab": {
          "base_uri": "https://localhost:8080/"
        },
        "id": "SMdnmxe4ZwpY",
        "outputId": "bea879cb-e6ef-49bd-b653-12c64f02a399"
      },
      "source": [
        "##Acumular a soma das posicoes (i,j) sejam impares\n",
        "acum = 0\n",
        "acum1 = 0\n",
        "for i in range( 0, matrix.shape[0] ):\n",
        "  for j in range( 0, matrix.shape[1] ):\n",
        "    if (i+j) % 2 != 0:\n",
        "      acum = acum + matrix[i,j]\n",
        "    else:\n",
        "      acum1 = acum1 + matrix[i,j]\n",
        "print(acum, acum1)"
      ],
      "execution_count": 15,
      "outputs": [
        {
          "output_type": "stream",
          "text": [
            "3029 2189\n"
          ],
          "name": "stdout"
        }
      ]
    },
    {
      "cell_type": "code",
      "metadata": {
        "colab": {
          "base_uri": "https://localhost:8080/"
        },
        "id": "cnQfYR77q6Hs",
        "outputId": "ed6de5b3-de2a-4672-b889-03cdd35e55f2"
      },
      "source": [
        "##Soma diagonal\n",
        "lista = []\n",
        "for i in range( 0, matrix.shape[0] ):\n",
        "  for j in range( 0, matrix.shape[1] ):\n",
        "    if i == j :\n",
        "      # print(matrix[i,j], end=', ')\n",
        "      lista.append(matrix[i,j])\n",
        "print(lista)\n",
        "print(np.array(lista).sum())"
      ],
      "execution_count": 19,
      "outputs": [
        {
          "output_type": "stream",
          "text": [
            "[37, 77, 42, 5, 9, 2, 16, 67, 77, 8]\n",
            "340\n"
          ],
          "name": "stdout"
        }
      ]
    },
    {
      "cell_type": "code",
      "metadata": {
        "id": "v9AAqPAQrBFA"
      },
      "source": [
        "##Triangular Superior\n",
        "for i in range( 0, matrix.shape[0] ):\n",
        "  for j in range( 0, matrix.shape[1] ):\n",
        "    if i > j:\n",
        "      matrix[i,j] = 0"
      ],
      "execution_count": 21,
      "outputs": []
    },
    {
      "cell_type": "code",
      "metadata": {
        "id": "542Fv0ZYtP_X"
      },
      "source": [
        "matrix2 = np.zeros(matrix.shape)"
      ],
      "execution_count": 23,
      "outputs": []
    },
    {
      "cell_type": "code",
      "metadata": {
        "id": "ngdGXDLGuPPG"
      },
      "source": [
        "for i in range( 0, matrix.shape[0] ):\n",
        "  for j in range( 0, matrix.shape[1] ):\n",
        "    if i <= j:\n",
        "      matrix2[i,j] = matrix[i,j]"
      ],
      "execution_count": 24,
      "outputs": []
    },
    {
      "cell_type": "code",
      "metadata": {
        "id": "MBxjxov3uia_"
      },
      "source": [
        "Song_msg = 'Aqui encontrei o origem do covid-19'"
      ],
      "execution_count": 35,
      "outputs": []
    },
    {
      "cell_type": "code",
      "metadata": {
        "id": "BWeVM98IujLb"
      },
      "source": [
        "# ord('A')\n",
        "# chr(65)"
      ],
      "execution_count": 31,
      "outputs": []
    },
    {
      "cell_type": "code",
      "metadata": {
        "colab": {
          "base_uri": "https://localhost:8080/"
        },
        "id": "5lbg9E1xv0QL",
        "outputId": "072c4626-e104-4dd5-a00c-f5f5bf27abf5"
      },
      "source": [
        "difizil = 3037\n",
        "for i in range(len(Song_msg)):\n",
        "  # print(Song_msg[i])\n",
        "  print( chr( ord(Song_msg[i])*ord(Song_msg[i]) % difizil), end='' )"
      ],
      "execution_count": 42,
      "outputs": [
        {
          "output_type": "stream",
          "text": [
            "Ҥɭ؅ݺЀт஭ʲ­஭Ԝ͐тݺЀ­Ѐ­͐ݺךт૒Ѐ͹­Ѐʲ­۰ݺ͹ߩॡÔ"
          ],
          "name": "stdout"
        }
      ]
    },
    {
      "cell_type": "code",
      "metadata": {
        "colab": {
          "base_uri": "https://localhost:8080/"
        },
        "id": "1SfVyUpuwQlq",
        "outputId": "54296df6-28a1-4fc6-9cc5-fe83f7e78920"
      },
      "source": [
        "Cripto = 'Ҥɭ؅ݺЀт஭ʲ­஭Ԝ͐тݺЀ­Ѐ­͐ݺךт૒Ѐ͹­Ѐʲ­۰ݺ͹ߩॡÔ'\n",
        "for k in range(0,100):\n",
        "  for i in range(len(Song_msg)):\n",
        "    # print(Song_msg[i])\n",
        "    print( chr(ord(Cripto[i]) - k), end='' )\n",
        "  # print()"
      ],
      "execution_count": 44,
      "outputs": [
        {
          "output_type": "stream",
          "text": [
            "Ҥɭ؅ݺЀт஭ʲ­஭Ԝ͐тݺЀ­Ѐ­͐ݺךт૒Ѐ͹­Ѐʲ­۰ݺ͹ߩॡÔңɬ؄ݹϿс஬ʱ¬஬ԛ͏сݹϿ¬Ͽ¬͏ݹיс૑Ͽ͸¬Ͽʱ¬ۯݹ͸ߨॠÓҢɫ؃ݸϾр஫ʰ«஫Ԛ͎рݸϾ«Ͼ«͎ݸטрૐϾͷ«Ͼʰ«ۮݸͷߧय़Òҡɪ؂ݷϽпபʯªபԙ͍пݷϽªϽª͍ݷחп૏ϽͶªϽʯªۭݷͶߦफ़ÑҠɩ؁ݶϼоனʮ©னԘ͌оݶϼ©ϼ©͌ݶזо૎ϼ͵©ϼʮ©۬ݶ͵ߥढ़Ðҟɨ؀ݵϻнநʭ¨நԗ͋нݵϻ¨ϻ¨͋ݵוн્ϻʹ¨ϻʭ¨۫ݵʹߤड़ÏҞɧ׿ݴϺм஧ʬ§஧Ԗ͊мݴϺ§Ϻ§͊ݴהмૌϺͳ§Ϻʬ§۪ݴͳߣज़Îҝɦ׾ݳϹл஦ʫ¦஦ԕ͉лݳϹ¦Ϲ¦͉ݳדлોϹͲ¦Ϲʫ¦۩ݳͲߢग़ÍҜɥ׽ݲϸк஥ʪ¥஥Ԕ͈кݲϸ¥ϸ¥͈ݲגк૊ϸͱ¥ϸʪ¥ۨݲͱߡख़Ìқɤ׼ݱϷйதʩ¤தԓ͇йݱϷ¤Ϸ¤͇ݱבйૉϷͰ¤Ϸʩ¤ۧݱͰߠक़ËҚɣ׻ݰ϶иணʨ£ணԒ͆иݰ϶£϶£͆ݰאиૈ϶ͯ£϶ʨ£ۦݰͯߟॗÊҙɢ׺ݯϵз஢ʧ¢஢ԑͅзݯϵ¢ϵ¢ͅݯ׏зેϵͮ¢ϵʧ¢ۥݯͮߞॖÉҘɡ׹ݮϴж஡ʦ¡஡Ԑ̈́жݮϴ¡ϴ¡̈́ݮ׎ж૆ϴͭ¡ϴʦ¡ۤݮͭߝॕÈҗɠ׸ݭϳе஠ʥ ஠ԏ̓еݭϳ ϳ ̓ݭ׍еૅϳͬ ϳʥ ۣݭͬߜ॔ÇҖɟ׷ݬϲдடʤடԎ͂дݬϲϲ͂ݬ׌дૄϲͫϲʤۢݬͫߛ॓Æҕɞ׶ݫϱгஞʣஞԍ́гݫϱϱ́ݫ׋гૃϱͪϱʣۡݫͪߚ॒ÅҔɝ׵ݪϰв஝ʢ஝Ԍ̀вݪϰϰ̀ݪ׊вૂϰͩϰʢ۠ݪͩߙ॑Äғɜ״ݩϯбஜʡஜԋ̿бݩϯϯ̿ݩ׉бુϯͨϯʡ۟ݩͨߘॐÃҒɛ׳ݨϮа஛ʠ஛Ԋ̾аݨϮϮ̾ݨ׈аીϮͧϮʠ۞ݨͧߗॏÂґɚײݧϭЯசʟசԉ̽Яݧϭϭ̽ݧׇЯિϭͦϭʟ۝ݧͦߖॎÁҐəױݦϬЮஙʞஙԈ̼ЮݦϬϬ̼ݦ׆ЮાϬͥϬʞۜݦͥߕ्ÀҏɘװݥϫЭ஘ʝ஘ԇ̻Эݥϫϫ̻ݥׅЭઽϫͤϫʝۛݥͤߔौ¿ҎɗׯݤϪЬ஗ʜ஗Ԇ̺ЬݤϪϪ̺ݤׄЬ઼ϪͣϪʜۚݤͣߓो¾ҍɖ׮ݣϩЫ஖ʛ஖ԅ̹Ыݣϩϩ̹ݣ׃Ы઻ϩ͢ϩʛۙݣ͢ߒॊ½Ҍɕ׭ݢϨЪகʚகԄ̸ЪݢϨϨ̸ݢׂЪ઺Ϩ͡Ϩʚۘݢ͡ߑॉ¼ҋɔ׬ݡϧЩஔʙஔԃ̷Щݡϧϧ̷ݡׁЩહϧ͠ϧʙۗݡ͠ߐै»Ҋɓ׫ݠϦШஓʘஓԂ̶ШݠϦϦ̶ݠ׀ШસϦ͟Ϧʘۖݠ͟ߏेº҉ɒתݟϥЧஒʗஒԁ̵Чݟϥϥ̵ݟֿЧષϥ͞ϥʗەݟ͞ߎॆ¹҈ɑשݞϤЦ஑ʖ஑Ԁ̴ЦݞϤϤ̴ݞ־ЦશϤ͝Ϥʖ۔ݞ͝ߍॅ¸҇ɐרݝϣХஐʕஐӿ̳Хݝϣϣ̳ݝֽХવϣ͜ϣʕۓݝ͜ߌॄ·҆ɏקݜϢФஏʔஏӾ̲ФݜϢϢ̲ݜּФ઴Ϣ͛Ϣʔےݜ͛ߋृ¶҅ɎצݛϡУஎʓஎӽ̱Уݛϡϡ̱ݛֻУળϡ͚ϡʓۑݛ͚ߊूµ҄ɍץݚϠТ஍ʒ஍Ӽ̰ТݚϠϠ̰ݚֺТલϠ͙Ϡʒېݚ͙߉ु´҃ɌפݙϟС஌ʑ஌ӻ̯Сݙϟϟ̯ݙֹС઱ϟ͘ϟʑۏݙ͘߈ी³҂ɋףݘϞР஋ʐ஋Ӻ̮РݘϞϞ̮ݘָРરϞ͗Ϟʐێݘ͗߇ि²ҁɊעݗϝПஊʏஊӹ̭Пݗϝϝ̭ݗַПયϝ͖ϝʏۍݗ͖߆ा±ҀɉסݖϜОஉʎஉӸ̬ОݖϜϜ̬ݖֶОમϜ͕Ϝʎیݖ͕߅ऽ°ѿɈנݕϛНஈʍஈӷ̫Нݕϛϛ̫ݕֵНભϛ͔ϛʍۋݕ͔߄़¯ѾɇןݔϚМஇʌஇӶ̪МݔϚϚ̪ݔִМબϚ͓Ϛʌۊݔ͓߃ऻ®ѽɆמݓϙЛஆʋஆӵ̩Лݓϙϙ̩ݓֳЛફϙ͒ϙʋۉݓ͒߂ऺ­ѼɅםݒϘКஅʊஅӴ̨КݒϘϘ̨ݒֲКપϘ͑Ϙʊۈݒ͑߁ह¬ѻɄלݑϗЙ஄ʉ஄ӳ̧Йݑϗϗ̧ݑֱЙ઩ϗ͐ϗʉۇݑ͐߀स«ѺɃכݐϖИஃʈஃӲ̦Иݐϖϖ̦ݐְИનϖ͏ϖʈۆݐ͏޿षªѹɂךݏϕЗஂʇஂӱ̥Зݏϕϕ̥ݏ֯Зધϕ͎ϕʇۅݏ͎޾श©ѸɁיݎϔЖ஁ʆ஁Ӱ̤Жݎϔϔ̤ݎ֮Жદϔ͍ϔʆۄݎ͍޽व¨ѷɀטݍϓЕ஀ʅ஀ӯ̣Еݍϓϓ̣ݍ֭Еથϓ͌ϓʅۃݍ͌޼ऴ§Ѷȿח݌ϒД୿ʄ୿Ӯ̢Д݌ϒϒ̢݌֬Дતϒ͋ϒʄۂ݌͋޻ळ¦ѵȾז݋ϑГ୾ʃ~୾ӭ̡Г݋ϑ~ϑ~̡݋֫Гણϑ͊~ϑʃ~ہ݋͊޺ल¥ѴȽו݊ϐВ୽ʂ}୽Ӭ̠В݊ϐ}ϐ}̠֪݊Вઢϐ͉}ϐʂ}ۀ͉݊޹ऱ¤ѳȼה݉ϏБ୼ʁ|୼ӫ̟Б݉Ϗ|Ϗ|̟݉֩БડϏ͈|Ϗʁ|ڿ͈݉޸र£ѲȻד݈ώА୻ʀ{୻Ӫ̞А݈ώ{ώ{̞݈֨Аઠώ͇{ώʀ{ھ݈͇޷य¢ѱȺג݇ύЏ୺ɿz୺ө̝Џ݇ύzύz̝֧݇Џટύ͆zύɿzڽ݇͆޶म¡Ѱȹב݆όЎ୹ɾy୹Ө̜Ў݆όyόy̜݆֦Ўઞόͅyόɾyڼ݆ͅ޵भ ѯȸא݅ϋЍ୸ɽx୸ӧ̛Ѝ݅ϋxϋx̛֥݅Ѝઝϋ̈́xϋɽxڻ݅̈́޴बѮȷ׏݄ϊЌ୷ɼw୷Ӧ̚Ќ݄ϊwϊw݄֤̚Ќજϊ̓wϊɼwں݄̓޳फѭȶ׎݃ωЋ୶ɻv୶ӥ̙Ћ݃ωvωv̙֣݃Ћછῶvωɻvڹ݃͂޲पѬȵ׍݂ψЊ୵ɺu୵Ӥ̘Њ݂ψuψu̘݂֢Њચψ́uψɺuڸ݂́ޱऩѫȴ׌݁χЉ୴ɹt୴ӣ̗Љ݁χtχt̗݁֡Љઙχ̀tχɹtڷ݁̀ްनѪȳ׋݀φЈ୳ɸs୳Ӣ̖Ј݀φsφs̖݀֠Јઘφ̿sφɸsڶ݀̿ޯधѩȲ׊ܿυЇ୲ɷr୲ӡ̕Їܿυrυrܿ֟̕Їગυ̾rυɷrڵܿ̾ޮदѨȱ׉ܾτІୱɶqୱӠ̔Іܾτqτqܾ̔֞Іખτ̽qτɶqڴܾ̽ޭथѧȰ׈ܽσЅ୰ɵp୰ӟ̓Ѕܽσpσp̓ܽ֝Ѕકσ̼pσɵpڳ̼ܽެतѦȯׇܼςЄ୯ɴo୯Ӟ̒Єܼςoςoܼ̒֜Єઔς̻oςɴoڲܼ̻ޫणѥȮ׆ܻρЃ୮ɳn୮ӝ̑Ѓܻρnρnܻ֛̑Ѓઓρ̺nρɳnڱܻ̺ުढѤȭׅܺπЂ୭ɲm୭Ӝ̐Ђܺπmπm֚̐ܺЂ઒π̹mπɲmڰ̹ܺީडѣȬܹׄοЁ୬ɱl୬ӛ̏Ёܹοlοlܹ̏֙Ёઑο̸lοɱlگ̸ܹިठѢȫ׃ܸξЀ୫ɰk୫Ӛ̎Ѐܸξkξkܸ̎֘Ѐઐξ̷kξɰkڮ̷ܸާटѡȪׂܷνϿ୪ɯj୪ә̍Ͽܷνjνjܷ̍֗Ͽએν̶jνɯjڭ̶ܷަञѠȩׁܶμϾ୩ɮi୩Ә̌Ͼܶμiμǐ֖ܶϾ઎μ̵iμɮiڬ̵ܶޥझџȨ׀ܵλϽ୨ɭh୨ӗ̋Ͻܵλhλh̋ܵ֕Ͻઍλ̴hλɭhګ̴ܵޤजўȧֿܴκϼ୧ɬg୧Ӗ̊ϼܴκgκgܴ̊֔ϼઌκ̳gκɬgڪܴ̳ޣछѝȦ־ܳιϻ୦ɫf୦ӕ̉ϻܳιfιf̉ܳ֓ϻઋι̲fιɫfک̲ܳޢचќȥֽܲθϺ୥ɪe୥Ӕ̈Ϻܲθeθëܲ֒Ϻઊθ̱eθɪeڨ̱ܲޡङћȤּܱηϹ୤ɩd୤ӓ̇Ϲܱηdηḋܱ֑Ϲઉη̰dηɩdڧܱ̰ޠघњȣֻܰζϸୣɨcୣӒ̆ϸܰζcζc̆ܰ֐ϸઈζ̯cζɨcڦ̯ܰޟगљȢֺܯεϷୢɧbୢӑ̅Ϸܯεbεb̅ܯ֏Ϸઇε̮bεɧbڥܯ̮ޞखјȡֹܮδ϶ୡɦaୡӐ̄϶ܮδaδāܮ֎϶આδ̭aδɦaڤܮ̭ޝकїȠָܭγϵୠɥ`ୠӏ̃ϵܭγ`γ`̃ܭ֍ϵઅγ̬`γɥ`ڣܭ̬ޜऔіȟַܬβϴୟɤ_ୟӎ̂ϴܬβ_β_̂ܬ֌ϴ઄β̫_βɤ_ڢܬ̫ޛओѕȞֶܫαϳ୞ɣ^୞Ӎ́ϳܫα^α^́ܫ֋ϳઃα̪^αɣ^ڡܫ̪ޚऒєȝֵܪΰϲଢ଼ɢ]ଢ଼ӌ̀ϲܪΰ]ΰ]̀ܪ֊ϲંΰ̩]ΰɢ]ڠܪ̩ޙऑѓȜִܩίϱଡ଼ɡ\\ଡ଼Ӌ˿ϱܩί\\ί\\˿ܩ։ϱઁί̨\\ίɡ\\ڟܩ̨ޘऐђțֳܨήϰ୛ɠ[୛ӊ˾ϰܨή[ή[˾ܨֈϰ઀ή̧[ήɠ[ڞܨ̧ޗएёȚֲܧέϯ୚ɟZ୚Ӊ˽ϯܧέZέZ˽ܧևϯ੿έ̦ZέɟZڝܧ̦ޖऎѐșֱܦάϮ୙ɞY୙ӈ˼ϮܦάYάY˼ܦֆϮ੾ά̥YάɞYڜܦ̥ޕऍяȘְܥΫϭ୘ɝX୘Ӈ˻ϭܥΫXΫX˻ܥօϭ੽Ϋ̤XΫɝXڛܥ̤ޔऌюȗ֯ܤΪϬୗɜWୗӆ˺ϬܤΪWΪW˺ܤքϬ੼Ϊ̣WΪɜWښܤ̣ޓऋ~эȖ֮ܣΩϫୖɛVୖӅ˹ϫܣΩVΩV˹ܣփϫ੻Ω̢VΩɛVڙܣ̢ޒऊ}ьȕ֭ܢΨϪ୕ɚU୕ӄ˸ϪܢΨUΨU˸ܢւϪ੺Ψ̡UΨɚUژܢ̡ޑउ|ыȔ֬ܡΧϩ୔əT୔Ӄ˷ϩܡΧTΧT˷ܡցϩ੹Χ̠TΧəTڗܡ̠ސई{ъȓ֫ܠΦϨ୓ɘS୓ӂ˶ϨܠΦSΦS˶ܠրϨ੸Φ̟SΦɘSږܠ̟ޏइzщȒ֪ܟΥϧ୒ɗR୒Ӂ˵ϧܟΥRΥR˵ܟտϧ੷Υ̞RΥɗRڕܟ̞ގआyшȑ֩ܞΤϦ୑ɖQ୑Ӏ˴ϦܞΤQΤQ˴ܞվϦ੶Τ̝QΤɖQڔܞ̝ލअxчȐ֨ܝΣϥ୐ɕP୐ҿ˳ϥܝΣPΣP˳ܝսϥੵΣ̜PΣɕPړܝ̜ތऄwцȏ֧ܜ΢Ϥ୏ɔO୏Ҿ˲Ϥܜ΢O΢O˲ܜռϤੴ΢̛O΢ɔOڒܜ̛ދःvхȎ֦ܛΡϣ୎ɓN୎ҽ˱ϣܛΡNΡN˱ܛջϣੳΡ̚NΡɓNڑܛ̚ފंuфȍ֥ܚΠϢ୍ɒM୍Ҽ˰ϢܚΠMΠM˰ܚպϢੲΠ̙MΠɒMڐܚ̙މँtуȌ֤ܙΟϡୌɑLୌһ˯ϡܙΟLΟL˯ܙչϡੱΟ̘LΟɑLڏܙ̘ވऀsтȋ֣ܘΞϠୋɐKୋҺˮϠܘΞKΞKˮܘոϠੰΞ̗KΞɐKڎܘ̗އࣿrсȊ֢ܗΝϟ୊ɏJ୊ҹ˭ϟܗΝJΝJ˭ܗշϟ੯Ν̖JΝɏJڍܗ̖ކࣾq"
          ],
          "name": "stdout"
        }
      ]
    },
    {
      "cell_type": "code",
      "metadata": {
        "id": "DoCz-ouOwmEB"
      },
      "source": [
        "matrix1 = np.zeros(matrix.shape)\n",
        "for i in range( 0, matrix.shape[0] ):\n",
        "  for j in range( 0, matrix.shape[1] ):\n",
        "    matrix1[i,j] = matrix[j,i]"
      ],
      "execution_count": 54,
      "outputs": []
    },
    {
      "cell_type": "code",
      "metadata": {
        "colab": {
          "base_uri": "https://localhost:8080/"
        },
        "id": "bDIj10j6zKYC",
        "outputId": "ed4a13dc-5155-440f-dea9-54e94746ca69"
      },
      "source": [
        "matrix1"
      ],
      "execution_count": 55,
      "outputs": [
        {
          "output_type": "execute_result",
          "data": {
            "text/plain": [
              "array([[97., 58., 42., 12., 28.,  0., 99., 73., 78., 45.],\n",
              "       [58., 43., 76., 74., 32., 23., 98., 78., 19., 95.],\n",
              "       [72., 88., 42., 14., 95., 26., 82., 21., 75., 69.],\n",
              "       [53., 13., 29., 26., 48.,  9., 52., 59., 95., 58.],\n",
              "       [99., 36., 60., 48., 69.,  6., 65., 62., 18., 46.],\n",
              "       [10., 54., 97., 88., 38., 36., 61.,  4.,  6., 18.],\n",
              "       [59., 39., 84., 33., 15., 69., 99., 39., 80., 26.],\n",
              "       [ 7., 72., 96., 70., 32., 68., 85., 23., 72., 25.],\n",
              "       [99., 65., 92., 61., 62., 50., 29., 88., 83., 50.],\n",
              "       [11., 90., 58., 66.,  7., 92., 52., 51., 33., 50.]])"
            ]
          },
          "metadata": {},
          "execution_count": 55
        }
      ]
    },
    {
      "cell_type": "code",
      "metadata": {
        "colab": {
          "base_uri": "https://localhost:8080/"
        },
        "id": "H-fFcKo60QVr",
        "outputId": "5b9df15f-6733-46b4-a5c9-fc995ec77d0a"
      },
      "source": [
        "matrix"
      ],
      "execution_count": 56,
      "outputs": [
        {
          "output_type": "execute_result",
          "data": {
            "text/plain": [
              "array([[97, 58, 72, 53, 99, 10, 59,  7, 99, 11],\n",
              "       [58, 43, 88, 13, 36, 54, 39, 72, 65, 90],\n",
              "       [42, 76, 42, 29, 60, 97, 84, 96, 92, 58],\n",
              "       [12, 74, 14, 26, 48, 88, 33, 70, 61, 66],\n",
              "       [28, 32, 95, 48, 69, 38, 15, 32, 62,  7],\n",
              "       [ 0, 23, 26,  9,  6, 36, 69, 68, 50, 92],\n",
              "       [99, 98, 82, 52, 65, 61, 99, 85, 29, 52],\n",
              "       [73, 78, 21, 59, 62,  4, 39, 23, 88, 51],\n",
              "       [78, 19, 75, 95, 18,  6, 80, 72, 83, 33],\n",
              "       [45, 95, 69, 58, 46, 18, 26, 25, 50, 50]])"
            ]
          },
          "metadata": {},
          "execution_count": 56
        }
      ]
    },
    {
      "cell_type": "code",
      "metadata": {
        "id": "QFb1zWNJ0R7l"
      },
      "source": [
        "# 0,0 0,1 0,2 ... 0,N-1\n",
        "# 1,0         ... 1,N-1\n",
        "# .\n",
        "# .\n",
        "# .\n",
        "# M-1,0       .... M-1,N-1"
      ],
      "execution_count": 57,
      "outputs": []
    },
    {
      "cell_type": "code",
      "metadata": {
        "colab": {
          "base_uri": "https://localhost:8080/"
        },
        "id": "58J32UxI0_al",
        "outputId": "e4b0de74-4c5c-46bc-f9bc-d0b5af98af82"
      },
      "source": [
        "A = 9\n",
        "print(A)\n",
        "B = 5\n",
        "print(B)\n",
        "C = A\n",
        "print(C)"
      ],
      "execution_count": 61,
      "outputs": [
        {
          "output_type": "stream",
          "text": [
            "9\n",
            "5\n",
            "9\n"
          ],
          "name": "stdout"
        }
      ]
    },
    {
      "cell_type": "code",
      "metadata": {
        "id": "xTUPhffa1KY7"
      },
      "source": [
        "A = 15"
      ],
      "execution_count": 62,
      "outputs": []
    },
    {
      "cell_type": "code",
      "metadata": {
        "colab": {
          "base_uri": "https://localhost:8080/"
        },
        "id": "h9okyHpV1vUv",
        "outputId": "e6179f7f-eebf-48d6-af0d-7578f36dc9b8"
      },
      "source": [
        "print(C)"
      ],
      "execution_count": 63,
      "outputs": [
        {
          "output_type": "stream",
          "text": [
            "9\n"
          ],
          "name": "stdout"
        }
      ]
    },
    {
      "cell_type": "code",
      "metadata": {
        "colab": {
          "base_uri": "https://localhost:8080/"
        },
        "id": "DEHIwLLj2sUt",
        "outputId": "9f068cb3-c2d1-4220-d672-9c0d799b8f37"
      },
      "source": [
        "rows = 1000\n",
        "cols = 1000\n",
        "matrix = np.random.randint(200,255,(rows, cols))\n",
        "print(matrix)"
      ],
      "execution_count": 79,
      "outputs": [
        {
          "output_type": "stream",
          "text": [
            "[[240 228 227 ... 252 237 203]\n",
            " [226 218 217 ... 251 244 223]\n",
            " [216 225 248 ... 208 220 254]\n",
            " ...\n",
            " [254 205 200 ... 248 215 253]\n",
            " [221 253 235 ... 228 207 217]\n",
            " [212 239 203 ... 254 226 230]]\n"
          ],
          "name": "stdout"
        }
      ]
    },
    {
      "cell_type": "code",
      "metadata": {
        "colab": {
          "base_uri": "https://localhost:8080/",
          "height": 286
        },
        "id": "h0mWhOuw1zK_",
        "outputId": "5a78e901-01ed-40ee-aa45-98e67f9aedce"
      },
      "source": [
        "import matplotlib.pyplot as plt\n",
        "plt.imshow(matrix, cmap='gray', vmin=0, vmax=255)"
      ],
      "execution_count": 80,
      "outputs": [
        {
          "output_type": "execute_result",
          "data": {
            "text/plain": [
              "<matplotlib.image.AxesImage at 0x7f58fcb3cd50>"
            ]
          },
          "metadata": {},
          "execution_count": 80
        },
        {
          "output_type": "display_data",
          "data": {
            "image/png": "[encoded data removed]",
            "text/plain": [
              "<Figure size 432x288 with 1 Axes>"
            ]
          },
          "metadata": {
            "needs_background": "light"
          }
        }
      ]
    },
    {
      "cell_type": "code",
      "metadata": {
        "id": "PhN6WrMy2mBz"
      },
      "source": [
        ""
      ],
      "execution_count": null,
      "outputs": []
    }
  ]
}