{
  "nbformat": 4,
  "nbformat_minor": 0,
  "metadata": {
    "colab": {
      "provenance": []
    },
    "kernelspec": {
      "name": "python3",
      "display_name": "Python 3"
    },
    "language_info": {
      "name": "python"
    }
  },
  "cells": [
    {
      "cell_type": "markdown",
      "source": [
        "# Aula de Python 0\n",
        "## Data: 20 Junho 2023\n",
        "### Creator: [jecs89](https://github.com/jecs89/), clic to check Github repo\n",
        "### Temas:\n",
        "*   Variáveis\n",
        "*   Uso de print, type\n",
        "*   Uso de list\n",
        "*   Condicional ( if/else)\n",
        "*   Lista ( len, append)\n",
        "*   Loops ( for, while)\n",
        "*   Acumuladores, contadores\n",
        "*   Uso de operador % ( resto)"
      ],
      "metadata": {
        "id": "hQ1A93-r9P6y"
      }
    },
    {
      "cell_type": "code",
      "execution_count": 6,
      "metadata": {
        "id": "_X0ZCAjPxaB0"
      },
      "outputs": [],
      "source": [
        "letra = 'a'\n",
        "enteiro = 245\n",
        "decimal = 245.66666\n",
        "temCasa = True\n",
        "nome = 'daniel'"
      ]
    },
    {
      "cell_type": "code",
      "source": [
        "print( letra, enteiro, decimal, temCasa, nome )"
      ],
      "metadata": {
        "colab": {
          "base_uri": "https://localhost:8080/"
        },
        "id": "oH05pWQAyTfq",
        "outputId": "f7627f5d-bd08-4b20-8e3f-4fc997a07e0d"
      },
      "execution_count": 2,
      "outputs": [
        {
          "output_type": "stream",
          "name": "stdout",
          "text": [
            "a 245 245.66666 True daniel\n"
          ]
        }
      ]
    },
    {
      "cell_type": "code",
      "source": [
        "print( type( letra ), type(enteiro), type(decimal), type(temCasa), type(nome) )"
      ],
      "metadata": {
        "colab": {
          "base_uri": "https://localhost:8080/"
        },
        "id": "24wJhpv-yYmN",
        "outputId": "1fe55b21-645e-4530-e027-5a731ff38498"
      },
      "execution_count": 4,
      "outputs": [
        {
          "output_type": "stream",
          "name": "stdout",
          "text": [
            "<class 'str'> <class 'int'> <class 'float'> <class 'bool'> <class 'str'>\n"
          ]
        }
      ]
    },
    {
      "cell_type": "code",
      "source": [
        "print( type(letra)=='str', type(letra) == type('str') )"
      ],
      "metadata": {
        "colab": {
          "base_uri": "https://localhost:8080/"
        },
        "id": "7pIW0n16yeaG",
        "outputId": "f0a55eab-f025-4121-91e7-f8c2096a0291"
      },
      "execution_count": 14,
      "outputs": [
        {
          "output_type": "stream",
          "name": "stdout",
          "text": [
            "False True\n"
          ]
        }
      ]
    },
    {
      "cell_type": "code",
      "source": [
        "cambio_dolar = 5.000001\n",
        "if (cambio_dolar  > 5) and (cambio_dolar < 10):\n",
        "  print('Dolar alto')\n",
        "else:\n",
        "  print('Comprar dolar' )"
      ],
      "metadata": {
        "colab": {
          "base_uri": "https://localhost:8080/"
        },
        "id": "Iki3o0JuzIna",
        "outputId": "0af211be-0aeb-4004-f361-f0e6cccffda3"
      },
      "execution_count": 26,
      "outputs": [
        {
          "output_type": "stream",
          "name": "stdout",
          "text": [
            "Dolar alto\n"
          ]
        }
      ]
    },
    {
      "cell_type": "code",
      "source": [
        "if (cambio_dolar  > 5) and (cambio_dolar < 10):\n",
        "  print('Dolar alto')\n",
        "elif (cambio_dolar < 3) :\n",
        "  print('Faz algo')\n",
        "# else:\n",
        "#   print('Comprar dolar' )"
      ],
      "metadata": {
        "colab": {
          "base_uri": "https://localhost:8080/"
        },
        "id": "0yLQz8EMzaCk",
        "outputId": "f26f563a-bf61-4bf7-94c2-0b9170c06af7"
      },
      "execution_count": 27,
      "outputs": [
        {
          "output_type": "stream",
          "name": "stdout",
          "text": [
            "Dolar alto\n"
          ]
        }
      ]
    },
    {
      "cell_type": "code",
      "source": [
        "ceps = [ 48, 31, 111 ]\n",
        "print( ceps, type(ceps) )"
      ],
      "metadata": {
        "colab": {
          "base_uri": "https://localhost:8080/"
        },
        "id": "Holmaz-H06DX",
        "outputId": "63fdaebe-ac9f-4c7f-a317-6316dc70899c"
      },
      "execution_count": 31,
      "outputs": [
        {
          "output_type": "stream",
          "name": "stdout",
          "text": [
            "[48, 31, 111] <class 'list'>\n"
          ]
        }
      ]
    },
    {
      "cell_type": "code",
      "source": [
        "caixa = [ letra, enteiro, decimal, temCasa, ceps ]\n",
        "print( caixa, type(caixa) )"
      ],
      "metadata": {
        "colab": {
          "base_uri": "https://localhost:8080/"
        },
        "id": "-tUJRFQh1Cwx",
        "outputId": "b2393c2d-6227-47d8-ea86-bbf228f7df39"
      },
      "execution_count": 33,
      "outputs": [
        {
          "output_type": "stream",
          "name": "stdout",
          "text": [
            "['a', 245, 245.66666, True, [48, 31, 111]] <class 'list'>\n"
          ]
        }
      ]
    },
    {
      "cell_type": "code",
      "source": [
        "print( len( caixa ) )"
      ],
      "metadata": {
        "colab": {
          "base_uri": "https://localhost:8080/"
        },
        "id": "Q7zg09hJ1Tc6",
        "outputId": "7f6146b1-ece7-4561-89d1-cb1e5799e752"
      },
      "execution_count": 34,
      "outputs": [
        {
          "output_type": "stream",
          "name": "stdout",
          "text": [
            "5\n"
          ]
        }
      ]
    },
    {
      "cell_type": "code",
      "source": [
        "if len(caixa) > 5:\n",
        "  print('A capacidade foi excedida')\n",
        "else:\n",
        "  print('...')"
      ],
      "metadata": {
        "colab": {
          "base_uri": "https://localhost:8080/"
        },
        "id": "6zFnLiK21eBE",
        "outputId": "588a310c-62dd-4ef5-890d-756154a4fa6d"
      },
      "execution_count": 36,
      "outputs": [
        {
          "output_type": "stream",
          "name": "stdout",
          "text": [
            "...\n"
          ]
        }
      ]
    },
    {
      "cell_type": "code",
      "source": [
        "len( letra )"
      ],
      "metadata": {
        "colab": {
          "base_uri": "https://localhost:8080/"
        },
        "id": "xBSDVuRA1oCd",
        "outputId": "b43cf4e9-f8b6-4924-8c7d-644ee6578fc6"
      },
      "execution_count": 37,
      "outputs": [
        {
          "output_type": "execute_result",
          "data": {
            "text/plain": [
              "1"
            ]
          },
          "metadata": {},
          "execution_count": 37
        }
      ]
    },
    {
      "cell_type": "code",
      "source": [
        "list_odd = []\n",
        "for i in range(0, 20): # 0 <= i < 20\n",
        "  if i % 2 == 0:\n",
        "    print( i, end=',' )\n",
        "    list_odd.append( i )\n",
        "print( '\\n', list_odd )"
      ],
      "metadata": {
        "colab": {
          "base_uri": "https://localhost:8080/"
        },
        "id": "RL6hqHcw11nG",
        "outputId": "054e4806-7087-4978-b0d6-e698b3a96092"
      },
      "execution_count": 54,
      "outputs": [
        {
          "output_type": "stream",
          "name": "stdout",
          "text": [
            "0,2,4,6,8,10,12,14,16,18,\n",
            " [0, 2, 4, 6, 8, 10, 12, 14, 16, 18]\n"
          ]
        }
      ]
    },
    {
      "cell_type": "code",
      "source": [
        "type( int(4) / int(2) )"
      ],
      "metadata": {
        "colab": {
          "base_uri": "https://localhost:8080/"
        },
        "id": "eTRdblpj1-3A",
        "outputId": "43e7948a-5a31-44af-854b-31673b81c2d3"
      },
      "execution_count": 47,
      "outputs": [
        {
          "output_type": "execute_result",
          "data": {
            "text/plain": [
              "float"
            ]
          },
          "metadata": {},
          "execution_count": 47
        }
      ]
    },
    {
      "cell_type": "code",
      "source": [
        "str( 4 ), str(3.5)"
      ],
      "metadata": {
        "colab": {
          "base_uri": "https://localhost:8080/"
        },
        "id": "2UI4EpRP2mot",
        "outputId": "4eea369a-cad2-4920-87f9-1d00e7e1201f"
      },
      "execution_count": 49,
      "outputs": [
        {
          "output_type": "execute_result",
          "data": {
            "text/plain": [
              "('4', '3.5')"
            ]
          },
          "metadata": {},
          "execution_count": 49
        }
      ]
    },
    {
      "cell_type": "code",
      "source": [
        "numero_base = 30\n",
        "lista_divisores = []\n",
        "for i in range(1, 30):\n",
        "  if 30 % i == 0:\n",
        "    lista_divisores.append( i )\n",
        "\n",
        "print(lista_divisores, sum(lista_divisores) )"
      ],
      "metadata": {
        "colab": {
          "base_uri": "https://localhost:8080/"
        },
        "id": "oQMOXY4A3BFX",
        "outputId": "0cee36da-9640-421e-c5c3-64db2fb90fa6"
      },
      "execution_count": 57,
      "outputs": [
        {
          "output_type": "stream",
          "name": "stdout",
          "text": [
            "[1, 2, 3, 5, 6, 10, 15] 42\n"
          ]
        }
      ]
    },
    {
      "cell_type": "code",
      "source": [
        "for j in range(1, 100):\n",
        "\n",
        "  numero_base = j\n",
        "  lista_divisores = []\n",
        "  for i in range(1, j):\n",
        "    if numero_base % i == 0:\n",
        "      lista_divisores.append( i )\n",
        "\n",
        "  # print(j, lista_divisores, sum(lista_divisores) )\n",
        "  if numero_base == sum(lista_divisores):\n",
        "    print(j, 'perfeito')"
      ],
      "metadata": {
        "colab": {
          "base_uri": "https://localhost:8080/",
          "height": 309
        },
        "id": "M2ZcSrln4bbW",
        "outputId": "7b2537af-e790-4f1e-d5ff-1ba19d1ada27"
      },
      "execution_count": 63,
      "outputs": [
        {
          "output_type": "stream",
          "name": "stdout",
          "text": [
            "6 perfeito\n",
            "28 perfeito\n",
            "496 perfeito\n",
            "8128 perfeito\n"
          ]
        },
        {
          "output_type": "error",
          "ename": "KeyboardInterrupt",
          "evalue": "ignored",
          "traceback": [
            "\u001b[0;31m---------------------------------------------------------------------------\u001b[0m",
            "\u001b[0;31mKeyboardInterrupt\u001b[0m                         Traceback (most recent call last)",
            "\u001b[0;32m<ipython-input-63-ec2a7bbf882d>\u001b[0m in \u001b[0;36m<cell line: 1>\u001b[0;34m()\u001b[0m\n\u001b[1;32m      4\u001b[0m   \u001b[0mlista_divisores\u001b[0m \u001b[0;34m=\u001b[0m \u001b[0;34m[\u001b[0m\u001b[0;34m]\u001b[0m\u001b[0;34m\u001b[0m\u001b[0;34m\u001b[0m\u001b[0m\n\u001b[1;32m      5\u001b[0m   \u001b[0;32mfor\u001b[0m \u001b[0mi\u001b[0m \u001b[0;32min\u001b[0m \u001b[0mrange\u001b[0m\u001b[0;34m(\u001b[0m\u001b[0;36m1\u001b[0m\u001b[0;34m,\u001b[0m \u001b[0mj\u001b[0m\u001b[0;34m)\u001b[0m\u001b[0;34m:\u001b[0m\u001b[0;34m\u001b[0m\u001b[0;34m\u001b[0m\u001b[0m\n\u001b[0;32m----> 6\u001b[0;31m     \u001b[0;32mif\u001b[0m \u001b[0mnumero_base\u001b[0m \u001b[0;34m%\u001b[0m \u001b[0mi\u001b[0m \u001b[0;34m==\u001b[0m \u001b[0;36m0\u001b[0m\u001b[0;34m:\u001b[0m\u001b[0;34m\u001b[0m\u001b[0;34m\u001b[0m\u001b[0m\n\u001b[0m\u001b[1;32m      7\u001b[0m       \u001b[0mlista_divisores\u001b[0m\u001b[0;34m.\u001b[0m\u001b[0mappend\u001b[0m\u001b[0;34m(\u001b[0m \u001b[0mi\u001b[0m \u001b[0;34m)\u001b[0m\u001b[0;34m\u001b[0m\u001b[0;34m\u001b[0m\u001b[0m\n\u001b[1;32m      8\u001b[0m \u001b[0;34m\u001b[0m\u001b[0m\n",
            "\u001b[0;31mKeyboardInterrupt\u001b[0m: "
          ]
        }
      ]
    },
    {
      "cell_type": "code",
      "source": [
        "for element in caixa:\n",
        "  print( element )"
      ],
      "metadata": {
        "colab": {
          "base_uri": "https://localhost:8080/"
        },
        "id": "qHEDtzBk44HJ",
        "outputId": "3622c391-68e6-41ba-ba61-0f47af162fb9"
      },
      "execution_count": 66,
      "outputs": [
        {
          "output_type": "stream",
          "name": "stdout",
          "text": [
            "a\n",
            "245\n",
            "245.66666\n",
            "True\n",
            "[48, 31, 111]\n"
          ]
        }
      ]
    },
    {
      "cell_type": "code",
      "source": [
        "list(range(1,10))"
      ],
      "metadata": {
        "colab": {
          "base_uri": "https://localhost:8080/"
        },
        "id": "MxI-YXMX59-l",
        "outputId": "395d132c-3915-448b-b38b-fb89f69824fa"
      },
      "execution_count": 68,
      "outputs": [
        {
          "output_type": "execute_result",
          "data": {
            "text/plain": [
              "[1, 2, 3, 4, 5, 6, 7, 8, 9]"
            ]
          },
          "metadata": {},
          "execution_count": 68
        }
      ]
    },
    {
      "cell_type": "code",
      "source": [
        "count = 0\n",
        "i = 0\n",
        "while count < 10:\n",
        "  if i%2 == 0:\n",
        "    print('Alguma coisa')\n",
        "    count = count + 1\n",
        "  i = i+1\n",
        "print(count, i)"
      ],
      "metadata": {
        "colab": {
          "base_uri": "https://localhost:8080/"
        },
        "id": "7Qtx1ij06eWd",
        "outputId": "9c28910e-6aec-4110-94a9-3c81e33b4b82"
      },
      "execution_count": 70,
      "outputs": [
        {
          "output_type": "stream",
          "name": "stdout",
          "text": [
            "Alguma coisa\n",
            "Alguma coisa\n",
            "Alguma coisa\n",
            "Alguma coisa\n",
            "Alguma coisa\n",
            "Alguma coisa\n",
            "Alguma coisa\n",
            "Alguma coisa\n",
            "Alguma coisa\n",
            "Alguma coisa\n",
            "10 19\n"
          ]
        }
      ]
    },
    {
      "cell_type": "code",
      "source": [
        "def es_numero_perfeito( j ):\n",
        "  numero_base = j\n",
        "  lista_divisores = []\n",
        "  for i in range(1, int(j)):\n",
        "    if numero_base % i == 0:\n",
        "      lista_divisores.append( i )\n",
        "\n",
        "  # print(j, lista_divisores, sum(lista_divisores) )\n",
        "  if numero_base == sum(lista_divisores):\n",
        "    print(j, 'perfeito', end=' ... ')"
      ],
      "metadata": {
        "id": "GY0_2IOM69a8"
      },
      "execution_count": 79,
      "outputs": []
    },
    {
      "cell_type": "code",
      "source": [
        "es_numero_perfeito( 28 )"
      ],
      "metadata": {
        "colab": {
          "base_uri": "https://localhost:8080/"
        },
        "id": "fJ6GYhVn7W8E",
        "outputId": "2dd9cc1d-7f1f-4d97-ea40-6235d8fb1b55"
      },
      "execution_count": 83,
      "outputs": [
        {
          "output_type": "stream",
          "name": "stdout",
          "text": [
            "28 perfeito ... "
          ]
        }
      ]
    },
    {
      "cell_type": "code",
      "source": [
        "str( 100 ), ord('a'), chr(97)"
      ],
      "metadata": {
        "colab": {
          "base_uri": "https://localhost:8080/"
        },
        "id": "8LiMTau89f8C",
        "outputId": "050db186-a6a9-431c-c4de-f45d2ddda408"
      },
      "execution_count": 88,
      "outputs": [
        {
          "output_type": "execute_result",
          "data": {
            "text/plain": [
              "('100', 97, 'a')"
            ]
          },
          "metadata": {},
          "execution_count": 88
        }
      ]
    },
    {
      "cell_type": "code",
      "source": [
        "###Atividade\n",
        "#Voce foi contratado por uma empresa dedicada a criptografia, e eles pedem para voce\n",
        "#criar uma funcao que retorne os primeiros 10 numeros primos, e sua somatoria,\n",
        "#e validar se ela é primo"
      ],
      "metadata": {
        "id": "Q-2b0M-h7Zws"
      },
      "execution_count": null,
      "outputs": []
    }
  ]
}